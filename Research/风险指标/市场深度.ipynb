{
 "cells": [
  {
   "cell_type": "code",
   "execution_count": 1,
   "metadata": {},
   "outputs": [],
   "source": [
    "import pandas as pd\n",
    "import matplotlib.pyplot as plt\n",
    "from WindPy import w\n",
    "%matplotlib inline"
   ]
  },
  {
   "cell_type": "code",
   "execution_count": 2,
   "metadata": {},
   "outputs": [
    {
     "name": "stdout",
     "output_type": "stream",
     "text": [
      "Welcome to use Wind Quant API for Python (WindPy)!\n",
      "\n",
      "COPYRIGHT (C) 2017 WIND INFORMATION CO., LTD. ALL RIGHTS RESERVED.\n",
      "IN NO CIRCUMSTANCE SHALL WIND BE RESPONSIBLE FOR ANY DAMAGES OR LOSSES CAUSED BY USING WIND QUANT API FOR Python.\n"
     ]
    },
    {
     "data": {
      "text/plain": [
       ".ErrorCode=0\n",
       ".Data=[OK!]"
      ]
     },
     "execution_count": 2,
     "metadata": {},
     "output_type": "execute_result"
    }
   ],
   "source": [
    "w.start()"
   ]
  },
  {
   "cell_type": "code",
   "execution_count": 3,
   "metadata": {},
   "outputs": [],
   "source": [
    "data = w.wsd('881001.WI', 'close', '2010-01-01', '2019-03-19')"
   ]
  },
  {
   "cell_type": "code",
   "execution_count": 4,
   "metadata": {},
   "outputs": [],
   "source": [
    "pdf = pd.DataFrame(data.Data[0], columns=['881001.WI'], index=data.Times)\n",
    "pdf.index = pd.to_datetime(pdf.index)"
   ]
  },
  {
   "cell_type": "code",
   "execution_count": 5,
   "metadata": {},
   "outputs": [],
   "source": [
    "st_li = pd.read_excel('D:/workspace/zjsxzy_in_js/website/everyday-update/data/amihud_liquidity.xlsx')"
   ]
  },
  {
   "cell_type": "code",
   "execution_count": 9,
   "metadata": {},
   "outputs": [
    {
     "data": {
      "text/html": [
       "<div>\n",
       "<style scoped>\n",
       "    .dataframe tbody tr th:only-of-type {\n",
       "        vertical-align: middle;\n",
       "    }\n",
       "\n",
       "    .dataframe tbody tr th {\n",
       "        vertical-align: top;\n",
       "    }\n",
       "\n",
       "    .dataframe thead th {\n",
       "        text-align: right;\n",
       "    }\n",
       "</style>\n",
       "<table border=\"1\" class=\"dataframe\">\n",
       "  <thead>\n",
       "    <tr style=\"text-align: right;\">\n",
       "      <th></th>\n",
       "      <th>sz50_amihud</th>\n",
       "      <th>sz50_corwin and schultz</th>\n",
       "      <th>sz50_wu</th>\n",
       "      <th>sz_roll</th>\n",
       "      <th>wdqa_amihud</th>\n",
       "      <th>wdqa_wu</th>\n",
       "      <th>wdqa_corwin and schultz</th>\n",
       "      <th>wdqa_roll</th>\n",
       "      <th>hs300_amihud</th>\n",
       "      <th>hs300_wu</th>\n",
       "      <th>...</th>\n",
       "      <th>zz800_roll</th>\n",
       "      <th>zxb_amihud</th>\n",
       "      <th>zxb_wu</th>\n",
       "      <th>zxb_corwin and schultz</th>\n",
       "      <th>zxb_roll</th>\n",
       "      <th>cyb_amihud</th>\n",
       "      <th>cyb_wu</th>\n",
       "      <th>cyb_corwin and schultz</th>\n",
       "      <th>cyb_roll</th>\n",
       "      <th>z</th>\n",
       "    </tr>\n",
       "  </thead>\n",
       "  <tbody>\n",
       "    <tr>\n",
       "      <th>2010-01-04</th>\n",
       "      <td>NaN</td>\n",
       "      <td>NaN</td>\n",
       "      <td>NaN</td>\n",
       "      <td>NaN</td>\n",
       "      <td>NaN</td>\n",
       "      <td>NaN</td>\n",
       "      <td>NaN</td>\n",
       "      <td>NaN</td>\n",
       "      <td>NaN</td>\n",
       "      <td>NaN</td>\n",
       "      <td>...</td>\n",
       "      <td>NaN</td>\n",
       "      <td>NaN</td>\n",
       "      <td>NaN</td>\n",
       "      <td>NaN</td>\n",
       "      <td>NaN</td>\n",
       "      <td>NaN</td>\n",
       "      <td>NaN</td>\n",
       "      <td>NaN</td>\n",
       "      <td>NaN</td>\n",
       "      <td>NaN</td>\n",
       "    </tr>\n",
       "    <tr>\n",
       "      <th>2010-01-05</th>\n",
       "      <td>0.001898</td>\n",
       "      <td>0.005385</td>\n",
       "      <td>0.959819</td>\n",
       "      <td>NaN</td>\n",
       "      <td>0.005953</td>\n",
       "      <td>0.463989</td>\n",
       "      <td>0.002104</td>\n",
       "      <td>NaN</td>\n",
       "      <td>0.007168</td>\n",
       "      <td>0.673340</td>\n",
       "      <td>...</td>\n",
       "      <td>NaN</td>\n",
       "      <td>0.032020</td>\n",
       "      <td>0.219753</td>\n",
       "      <td>0.004059</td>\n",
       "      <td>NaN</td>\n",
       "      <td>0.026698</td>\n",
       "      <td>0.542847</td>\n",
       "      <td>0.003378</td>\n",
       "      <td>NaN</td>\n",
       "      <td>NaN</td>\n",
       "    </tr>\n",
       "    <tr>\n",
       "      <th>2010-01-06</th>\n",
       "      <td>0.002193</td>\n",
       "      <td>0.008765</td>\n",
       "      <td>0.917434</td>\n",
       "      <td>NaN</td>\n",
       "      <td>0.005170</td>\n",
       "      <td>0.385900</td>\n",
       "      <td>0.001064</td>\n",
       "      <td>NaN</td>\n",
       "      <td>0.005690</td>\n",
       "      <td>0.603124</td>\n",
       "      <td>...</td>\n",
       "      <td>NaN</td>\n",
       "      <td>0.055633</td>\n",
       "      <td>0.369212</td>\n",
       "      <td>0.007448</td>\n",
       "      <td>NaN</td>\n",
       "      <td>0.013317</td>\n",
       "      <td>0.479921</td>\n",
       "      <td>0.003749</td>\n",
       "      <td>NaN</td>\n",
       "      <td>NaN</td>\n",
       "    </tr>\n",
       "    <tr>\n",
       "      <th>2010-01-07</th>\n",
       "      <td>0.003208</td>\n",
       "      <td>0.010504</td>\n",
       "      <td>1.334364</td>\n",
       "      <td>NaN</td>\n",
       "      <td>0.010233</td>\n",
       "      <td>0.766992</td>\n",
       "      <td>0.005848</td>\n",
       "      <td>NaN</td>\n",
       "      <td>0.008834</td>\n",
       "      <td>0.974189</td>\n",
       "      <td>...</td>\n",
       "      <td>NaN</td>\n",
       "      <td>0.060979</td>\n",
       "      <td>0.396245</td>\n",
       "      <td>0.019613</td>\n",
       "      <td>NaN</td>\n",
       "      <td>0.026294</td>\n",
       "      <td>0.807358</td>\n",
       "      <td>0.001301</td>\n",
       "      <td>NaN</td>\n",
       "      <td>NaN</td>\n",
       "    </tr>\n",
       "    <tr>\n",
       "      <th>2010-01-08</th>\n",
       "      <td>0.001882</td>\n",
       "      <td>0.005411</td>\n",
       "      <td>0.784162</td>\n",
       "      <td>NaN</td>\n",
       "      <td>0.007606</td>\n",
       "      <td>0.543209</td>\n",
       "      <td>0.000344</td>\n",
       "      <td>NaN</td>\n",
       "      <td>0.005580</td>\n",
       "      <td>0.632860</td>\n",
       "      <td>...</td>\n",
       "      <td>NaN</td>\n",
       "      <td>0.058611</td>\n",
       "      <td>0.427211</td>\n",
       "      <td>0.030784</td>\n",
       "      <td>NaN</td>\n",
       "      <td>0.017996</td>\n",
       "      <td>0.498507</td>\n",
       "      <td>0.006615</td>\n",
       "      <td>NaN</td>\n",
       "      <td>NaN</td>\n",
       "    </tr>\n",
       "  </tbody>\n",
       "</table>\n",
       "<p>5 rows × 29 columns</p>\n",
       "</div>"
      ],
      "text/plain": [
       "            sz50_amihud  sz50_corwin and schultz   sz50_wu  sz_roll  \\\n",
       "2010-01-04          NaN                      NaN       NaN      NaN   \n",
       "2010-01-05     0.001898                 0.005385  0.959819      NaN   \n",
       "2010-01-06     0.002193                 0.008765  0.917434      NaN   \n",
       "2010-01-07     0.003208                 0.010504  1.334364      NaN   \n",
       "2010-01-08     0.001882                 0.005411  0.784162      NaN   \n",
       "\n",
       "            wdqa_amihud   wdqa_wu  wdqa_corwin and schultz  wdqa_roll  \\\n",
       "2010-01-04          NaN       NaN                      NaN        NaN   \n",
       "2010-01-05     0.005953  0.463989                 0.002104        NaN   \n",
       "2010-01-06     0.005170  0.385900                 0.001064        NaN   \n",
       "2010-01-07     0.010233  0.766992                 0.005848        NaN   \n",
       "2010-01-08     0.007606  0.543209                 0.000344        NaN   \n",
       "\n",
       "            hs300_amihud  hs300_wu ...  zz800_roll  zxb_amihud    zxb_wu  \\\n",
       "2010-01-04           NaN       NaN ...         NaN         NaN       NaN   \n",
       "2010-01-05      0.007168  0.673340 ...         NaN    0.032020  0.219753   \n",
       "2010-01-06      0.005690  0.603124 ...         NaN    0.055633  0.369212   \n",
       "2010-01-07      0.008834  0.974189 ...         NaN    0.060979  0.396245   \n",
       "2010-01-08      0.005580  0.632860 ...         NaN    0.058611  0.427211   \n",
       "\n",
       "            zxb_corwin and schultz  zxb_roll  cyb_amihud    cyb_wu  \\\n",
       "2010-01-04                     NaN       NaN         NaN       NaN   \n",
       "2010-01-05                0.004059       NaN    0.026698  0.542847   \n",
       "2010-01-06                0.007448       NaN    0.013317  0.479921   \n",
       "2010-01-07                0.019613       NaN    0.026294  0.807358   \n",
       "2010-01-08                0.030784       NaN    0.017996  0.498507   \n",
       "\n",
       "            cyb_corwin and schultz  cyb_roll   z  \n",
       "2010-01-04                     NaN       NaN NaN  \n",
       "2010-01-05                0.003378       NaN NaN  \n",
       "2010-01-06                0.003749       NaN NaN  \n",
       "2010-01-07                0.001301       NaN NaN  \n",
       "2010-01-08                0.006615       NaN NaN  \n",
       "\n",
       "[5 rows x 29 columns]"
      ]
     },
     "execution_count": 9,
     "metadata": {},
     "output_type": "execute_result"
    }
   ],
   "source": [
    "st_li.head()"
   ]
  },
  {
   "cell_type": "code",
   "execution_count": 10,
   "metadata": {},
   "outputs": [],
   "source": [
    "st_li['z'] = st_li['wdqa_amihud'].rolling(243).apply(lambda x: (x[-1] - x.mean()) / x.std())"
   ]
  },
  {
   "cell_type": "code",
   "execution_count": 14,
   "metadata": {},
   "outputs": [
    {
     "data": {
      "image/png": "[encoded data removed]",
      "text/plain": [
       "<Figure size 1008x288 with 2 Axes>"
      ]
     },
     "metadata": {},
     "output_type": "display_data"
    }
   ],
   "source": [
    "fig = plt.figure(figsize=(14, 4))\n",
    "ax = fig.add_subplot(1, 1, 1)\n",
    "ax.bar(st_li.index, st_li['wdqa_amihud'].abs(), color='red', width=5)\n",
    "axx = ax.twinx()\n",
    "axx.plot(pdf.index, pdf['881001.WI'], label=u'万得全A', color='blue')\n",
    "axx.legend(loc='upper right', fontsize=20)\n",
    "ax.xaxis.set_tick_params(labelsize=20)\n",
    "ax.yaxis.set_tick_params(labelsize=20)\n",
    "axx.yaxis.set_tick_params(labelsize=20)"
   ]
  },
  {
   "cell_type": "code",
   "execution_count": null,
   "metadata": {},
   "outputs": [],
   "source": []
  }
 ],
 "metadata": {
  "kernelspec": {
   "display_name": "Python 2",
   "language": "python",
   "name": "python2"
  },
  "language_info": {
   "codemirror_mode": {
    "name": "ipython",
    "version": 2
   },
   "file_extension": ".py",
   "mimetype": "text/x-python",
   "name": "python",
   "nbconvert_exporter": "python",
   "pygments_lexer": "ipython2",
   "version": "2.7.14"
  }
 },
 "nbformat": 4,
 "nbformat_minor": 2
}
