{
 "cells": [
  {
   "cell_type": "code",
   "execution_count": 1,
   "metadata": {
    "collapsed": true
   },
   "outputs": [],
   "source": [
    "import pandas as pd\n",
    "import datetime\n",
    "from WindPy import w\n",
    "import matplotlib.pyplot as plt\n",
    "%matplotlib inline"
   ]
  },
  {
   "cell_type": "code",
   "execution_count": 2,
   "metadata": {
    "collapsed": true
   },
   "outputs": [],
   "source": [
    "DATA_DIR = 'C:/Users/jgtzsx01/Documents/workspace/zjsxzy_in_js/website/derivative/data/'\n",
    "OPTION_DIR = 'D:/Data/derivatives/options/'"
   ]
  },
  {
   "cell_type": "code",
   "execution_count": 33,
   "metadata": {
    "collapsed": true
   },
   "outputs": [],
   "source": [
    "df = pd.read_excel('%s/option list.xlsx'%(DATA_DIR), skiprows=6)"
   ]
  },
  {
   "cell_type": "code",
   "execution_count": 34,
   "metadata": {
    "collapsed": false
   },
   "outputs": [
    {
     "data": {
      "text/html": [
       "<div>\n",
       "<table border=\"1\" class=\"dataframe\">\n",
       "  <thead>\n",
       "    <tr style=\"text-align: right;\">\n",
       "      <th></th>\n",
       "      <th>标的代码</th>\n",
       "      <th>标的名称</th>\n",
       "      <th>期权品种</th>\n",
       "      <th>期权代码</th>\n",
       "      <th>期权名称</th>\n",
       "      <th>行权类型</th>\n",
       "      <th>行权价</th>\n",
       "      <th>期权交割月份</th>\n",
       "      <th>期权类型</th>\n",
       "      <th>起始交易日期</th>\n",
       "      <th>最后交易日期</th>\n",
       "      <th>剩余存续期（天）</th>\n",
       "      <th>结算方式</th>\n",
       "      <th>合约乘数</th>\n",
       "    </tr>\n",
       "  </thead>\n",
       "  <tbody>\n",
       "    <tr>\n",
       "      <th>0</th>\n",
       "      <td>510050.SH</td>\n",
       "      <td>华夏上证50ETF</td>\n",
       "      <td>510050OP.SH</td>\n",
       "      <td>10000885.SH</td>\n",
       "      <td>50ETF购9月2.20</td>\n",
       "      <td>欧式</td>\n",
       "      <td>2.20</td>\n",
       "      <td>201709</td>\n",
       "      <td>认购</td>\n",
       "      <td>2017-04-20</td>\n",
       "      <td>2017-09-27</td>\n",
       "      <td>1</td>\n",
       "      <td>实物资产</td>\n",
       "      <td>10000</td>\n",
       "    </tr>\n",
       "    <tr>\n",
       "      <th>1</th>\n",
       "      <td>510050.SH</td>\n",
       "      <td>华夏上证50ETF</td>\n",
       "      <td>510050OP.SH</td>\n",
       "      <td>10000843.SH</td>\n",
       "      <td>50ETF购9月2.25</td>\n",
       "      <td>欧式</td>\n",
       "      <td>2.25</td>\n",
       "      <td>201709</td>\n",
       "      <td>认购</td>\n",
       "      <td>2017-01-26</td>\n",
       "      <td>2017-09-27</td>\n",
       "      <td>1</td>\n",
       "      <td>实物资产</td>\n",
       "      <td>10000</td>\n",
       "    </tr>\n",
       "    <tr>\n",
       "      <th>2</th>\n",
       "      <td>510050.SH</td>\n",
       "      <td>华夏上证50ETF</td>\n",
       "      <td>510050OP.SH</td>\n",
       "      <td>10000844.SH</td>\n",
       "      <td>50ETF购9月2.30</td>\n",
       "      <td>欧式</td>\n",
       "      <td>2.30</td>\n",
       "      <td>201709</td>\n",
       "      <td>认购</td>\n",
       "      <td>2017-01-26</td>\n",
       "      <td>2017-09-27</td>\n",
       "      <td>1</td>\n",
       "      <td>实物资产</td>\n",
       "      <td>10000</td>\n",
       "    </tr>\n",
       "    <tr>\n",
       "      <th>3</th>\n",
       "      <td>510050.SH</td>\n",
       "      <td>华夏上证50ETF</td>\n",
       "      <td>510050OP.SH</td>\n",
       "      <td>10000845.SH</td>\n",
       "      <td>50ETF购9月2.35</td>\n",
       "      <td>欧式</td>\n",
       "      <td>2.35</td>\n",
       "      <td>201709</td>\n",
       "      <td>认购</td>\n",
       "      <td>2017-01-26</td>\n",
       "      <td>2017-09-27</td>\n",
       "      <td>1</td>\n",
       "      <td>实物资产</td>\n",
       "      <td>10000</td>\n",
       "    </tr>\n",
       "    <tr>\n",
       "      <th>4</th>\n",
       "      <td>510050.SH</td>\n",
       "      <td>华夏上证50ETF</td>\n",
       "      <td>510050OP.SH</td>\n",
       "      <td>10000846.SH</td>\n",
       "      <td>50ETF购9月2.40</td>\n",
       "      <td>欧式</td>\n",
       "      <td>2.40</td>\n",
       "      <td>201709</td>\n",
       "      <td>认购</td>\n",
       "      <td>2017-01-26</td>\n",
       "      <td>2017-09-27</td>\n",
       "      <td>1</td>\n",
       "      <td>实物资产</td>\n",
       "      <td>10000</td>\n",
       "    </tr>\n",
       "    <tr>\n",
       "      <th>5</th>\n",
       "      <td>510050.SH</td>\n",
       "      <td>华夏上证50ETF</td>\n",
       "      <td>510050OP.SH</td>\n",
       "      <td>10000847.SH</td>\n",
       "      <td>50ETF购9月2.45</td>\n",
       "      <td>欧式</td>\n",
       "      <td>2.45</td>\n",
       "      <td>201709</td>\n",
       "      <td>认购</td>\n",
       "      <td>2017-01-26</td>\n",
       "      <td>2017-09-27</td>\n",
       "      <td>1</td>\n",
       "      <td>实物资产</td>\n",
       "      <td>10000</td>\n",
       "    </tr>\n",
       "    <tr>\n",
       "      <th>6</th>\n",
       "      <td>510050.SH</td>\n",
       "      <td>华夏上证50ETF</td>\n",
       "      <td>510050OP.SH</td>\n",
       "      <td>10000855.SH</td>\n",
       "      <td>50ETF购9月2.50</td>\n",
       "      <td>欧式</td>\n",
       "      <td>2.50</td>\n",
       "      <td>201709</td>\n",
       "      <td>认购</td>\n",
       "      <td>2017-02-14</td>\n",
       "      <td>2017-09-27</td>\n",
       "      <td>1</td>\n",
       "      <td>实物资产</td>\n",
       "      <td>10000</td>\n",
       "    </tr>\n",
       "    <tr>\n",
       "      <th>7</th>\n",
       "      <td>510050.SH</td>\n",
       "      <td>华夏上证50ETF</td>\n",
       "      <td>510050OP.SH</td>\n",
       "      <td>10000913.SH</td>\n",
       "      <td>50ETF购9月2.55</td>\n",
       "      <td>欧式</td>\n",
       "      <td>2.55</td>\n",
       "      <td>201709</td>\n",
       "      <td>认购</td>\n",
       "      <td>2017-05-26</td>\n",
       "      <td>2017-09-27</td>\n",
       "      <td>1</td>\n",
       "      <td>实物资产</td>\n",
       "      <td>10000</td>\n",
       "    </tr>\n",
       "    <tr>\n",
       "      <th>8</th>\n",
       "      <td>510050.SH</td>\n",
       "      <td>华夏上证50ETF</td>\n",
       "      <td>510050OP.SH</td>\n",
       "      <td>10000921.SH</td>\n",
       "      <td>50ETF购9月2.60</td>\n",
       "      <td>欧式</td>\n",
       "      <td>2.60</td>\n",
       "      <td>201709</td>\n",
       "      <td>认购</td>\n",
       "      <td>2017-06-01</td>\n",
       "      <td>2017-09-27</td>\n",
       "      <td>1</td>\n",
       "      <td>实物资产</td>\n",
       "      <td>10000</td>\n",
       "    </tr>\n",
       "    <tr>\n",
       "      <th>9</th>\n",
       "      <td>510050.SH</td>\n",
       "      <td>华夏上证50ETF</td>\n",
       "      <td>510050OP.SH</td>\n",
       "      <td>10000929.SH</td>\n",
       "      <td>50ETF购9月2.65</td>\n",
       "      <td>欧式</td>\n",
       "      <td>2.65</td>\n",
       "      <td>201709</td>\n",
       "      <td>认购</td>\n",
       "      <td>2017-06-26</td>\n",
       "      <td>2017-09-27</td>\n",
       "      <td>1</td>\n",
       "      <td>实物资产</td>\n",
       "      <td>10000</td>\n",
       "    </tr>\n",
       "  </tbody>\n",
       "</table>\n",
       "</div>"
      ],
      "text/plain": [
       "        标的代码       标的名称         期权品种         期权代码          期权名称 行权类型   行权价  \\\n",
       "0  510050.SH  华夏上证50ETF  510050OP.SH  10000885.SH  50ETF购9月2.20   欧式  2.20   \n",
       "1  510050.SH  华夏上证50ETF  510050OP.SH  10000843.SH  50ETF购9月2.25   欧式  2.25   \n",
       "2  510050.SH  华夏上证50ETF  510050OP.SH  10000844.SH  50ETF购9月2.30   欧式  2.30   \n",
       "3  510050.SH  华夏上证50ETF  510050OP.SH  10000845.SH  50ETF购9月2.35   欧式  2.35   \n",
       "4  510050.SH  华夏上证50ETF  510050OP.SH  10000846.SH  50ETF购9月2.40   欧式  2.40   \n",
       "5  510050.SH  华夏上证50ETF  510050OP.SH  10000847.SH  50ETF购9月2.45   欧式  2.45   \n",
       "6  510050.SH  华夏上证50ETF  510050OP.SH  10000855.SH  50ETF购9月2.50   欧式  2.50   \n",
       "7  510050.SH  华夏上证50ETF  510050OP.SH  10000913.SH  50ETF购9月2.55   欧式  2.55   \n",
       "8  510050.SH  华夏上证50ETF  510050OP.SH  10000921.SH  50ETF购9月2.60   欧式  2.60   \n",
       "9  510050.SH  华夏上证50ETF  510050OP.SH  10000929.SH  50ETF购9月2.65   欧式  2.65   \n",
       "\n",
       "   期权交割月份 期权类型     起始交易日期     最后交易日期  剩余存续期（天）  结算方式   合约乘数  \n",
       "0  201709   认购 2017-04-20 2017-09-27         1  实物资产  10000  \n",
       "1  201709   认购 2017-01-26 2017-09-27         1  实物资产  10000  \n",
       "2  201709   认购 2017-01-26 2017-09-27         1  实物资产  10000  \n",
       "3  201709   认购 2017-01-26 2017-09-27         1  实物资产  10000  \n",
       "4  201709   认购 2017-01-26 2017-09-27         1  实物资产  10000  \n",
       "5  201709   认购 2017-01-26 2017-09-27         1  实物资产  10000  \n",
       "6  201709   认购 2017-02-14 2017-09-27         1  实物资产  10000  \n",
       "7  201709   认购 2017-05-26 2017-09-27         1  实物资产  10000  \n",
       "8  201709   认购 2017-06-01 2017-09-27         1  实物资产  10000  \n",
       "9  201709   认购 2017-06-26 2017-09-27         1  实物资产  10000  "
      ]
     },
     "execution_count": 34,
     "metadata": {},
     "output_type": "execute_result"
    }
   ],
   "source": [
    "df.head(n=10)"
   ]
  },
  {
   "cell_type": "code",
   "execution_count": 35,
   "metadata": {
    "collapsed": false
   },
   "outputs": [],
   "source": [
    "prices = df[u'行权价'].unique()"
   ]
  },
  {
   "cell_type": "code",
   "execution_count": 36,
   "metadata": {
    "collapsed": true
   },
   "outputs": [],
   "source": [
    "prices.sort()"
   ]
  },
  {
   "cell_type": "code",
   "execution_count": 37,
   "metadata": {
    "collapsed": false
   },
   "outputs": [
    {
     "data": {
      "text/plain": [
       "array([ 2.2 ,  2.25,  2.3 ,  2.35,  2.4 ,  2.45,  2.5 ,  2.55,  2.6 ,\n",
       "        2.65,  2.7 ,  2.75,  2.8 ,  2.85,  2.9 ])"
      ]
     },
     "execution_count": 37,
     "metadata": {},
     "output_type": "execute_result"
    }
   ],
   "source": [
    "prices"
   ]
  },
  {
   "cell_type": "code",
   "execution_count": 38,
   "metadata": {
    "collapsed": true
   },
   "outputs": [],
   "source": [
    "names = []\n",
    "for i in df.index:\n",
    "    price = df.loc[i][u'行权价']\n",
    "    name = df.loc[i][u'期权名称'].rstrip('A').replace(u'2017年', '')\n",
    "    name = name[:name.find(str(price))]\n",
    "    if name not in names:\n",
    "        names.append(name)"
   ]
  },
  {
   "cell_type": "code",
   "execution_count": 39,
   "metadata": {
    "collapsed": false
   },
   "outputs": [
    {
     "name": "stdout",
     "output_type": "stream",
     "text": [
      "50ETF购9月\n",
      "50ETF沽9月\n",
      "50ETF购10月\n",
      "50ETF沽10月\n",
      "50ETF购12月\n",
      "50ETF沽12月\n",
      "50ETF购3月\n",
      "50ETF沽3月\n"
     ]
    }
   ],
   "source": [
    "for name in names:\n",
    "    print name"
   ]
  },
  {
   "cell_type": "code",
   "execution_count": 40,
   "metadata": {
    "collapsed": true
   },
   "outputs": [],
   "source": [
    "odf = pd.DataFrame({}, index=prices, columns=names)"
   ]
  },
  {
   "cell_type": "code",
   "execution_count": 44,
   "metadata": {
    "collapsed": false
   },
   "outputs": [],
   "source": [
    "date = datetime.datetime(2017, 9, 26)"
   ]
  },
  {
   "cell_type": "code",
   "execution_count": 45,
   "metadata": {
    "collapsed": false
   },
   "outputs": [
    {
     "data": {
      "text/plain": [
       "datetime.datetime(2017, 9, 26, 0, 0)"
      ]
     },
     "execution_count": 45,
     "metadata": {},
     "output_type": "execute_result"
    }
   ],
   "source": [
    "date"
   ]
  },
  {
   "cell_type": "code",
   "execution_count": 47,
   "metadata": {
    "collapsed": false
   },
   "outputs": [],
   "source": [
    "for index in df.index:\n",
    "    option_code = df.loc[index][u'期权代码']\n",
    "    price = df.loc[index][u'行权价']\n",
    "    name = df.loc[index][u'期权名称'].rstrip('A').replace(u'2017年', '')\n",
    "    name = name[:name.find(str(price))]\n",
    "#     print option_code, odf.loc[price][name]\n",
    "    fname = '%s/%s.xlsx'%(OPTION_DIR, option_code)\n",
    "#     print fname\n",
    "    tdf = pd.read_excel(fname, index_col=0)\n",
    "#     print tdf.loc[date]['OI']\n",
    "    odf.loc[price][name] = tdf.loc[date]['OI']"
   ]
  },
  {
   "cell_type": "code",
   "execution_count": 48,
   "metadata": {
    "collapsed": false
   },
   "outputs": [
    {
     "data": {
      "text/html": [
       "<div>\n",
       "<table border=\"1\" class=\"dataframe\">\n",
       "  <thead>\n",
       "    <tr style=\"text-align: right;\">\n",
       "      <th></th>\n",
       "      <th>50ETF购9月</th>\n",
       "      <th>50ETF沽9月</th>\n",
       "      <th>50ETF购10月</th>\n",
       "      <th>50ETF沽10月</th>\n",
       "      <th>50ETF购12月</th>\n",
       "      <th>50ETF沽12月</th>\n",
       "      <th>50ETF购3月</th>\n",
       "      <th>50ETF沽3月</th>\n",
       "    </tr>\n",
       "  </thead>\n",
       "  <tbody>\n",
       "    <tr>\n",
       "      <th>2.20</th>\n",
       "      <td>1031</td>\n",
       "      <td>14768</td>\n",
       "      <td>NaN</td>\n",
       "      <td>NaN</td>\n",
       "      <td>12247</td>\n",
       "      <td>15402</td>\n",
       "      <td>NaN</td>\n",
       "      <td>NaN</td>\n",
       "    </tr>\n",
       "    <tr>\n",
       "      <th>2.25</th>\n",
       "      <td>696</td>\n",
       "      <td>24790</td>\n",
       "      <td>NaN</td>\n",
       "      <td>NaN</td>\n",
       "      <td>2275</td>\n",
       "      <td>10999</td>\n",
       "      <td>NaN</td>\n",
       "      <td>NaN</td>\n",
       "    </tr>\n",
       "    <tr>\n",
       "      <th>2.30</th>\n",
       "      <td>614</td>\n",
       "      <td>11685</td>\n",
       "      <td>NaN</td>\n",
       "      <td>NaN</td>\n",
       "      <td>2527</td>\n",
       "      <td>10864</td>\n",
       "      <td>NaN</td>\n",
       "      <td>NaN</td>\n",
       "    </tr>\n",
       "    <tr>\n",
       "      <th>2.35</th>\n",
       "      <td>1310</td>\n",
       "      <td>11356</td>\n",
       "      <td>NaN</td>\n",
       "      <td>NaN</td>\n",
       "      <td>2826</td>\n",
       "      <td>11188</td>\n",
       "      <td>NaN</td>\n",
       "      <td>NaN</td>\n",
       "    </tr>\n",
       "    <tr>\n",
       "      <th>2.40</th>\n",
       "      <td>2479</td>\n",
       "      <td>15465</td>\n",
       "      <td>NaN</td>\n",
       "      <td>NaN</td>\n",
       "      <td>3748</td>\n",
       "      <td>18487</td>\n",
       "      <td>NaN</td>\n",
       "      <td>NaN</td>\n",
       "    </tr>\n",
       "    <tr>\n",
       "      <th>2.45</th>\n",
       "      <td>2177</td>\n",
       "      <td>17698</td>\n",
       "      <td>NaN</td>\n",
       "      <td>NaN</td>\n",
       "      <td>7896</td>\n",
       "      <td>24897</td>\n",
       "      <td>NaN</td>\n",
       "      <td>NaN</td>\n",
       "    </tr>\n",
       "    <tr>\n",
       "      <th>2.50</th>\n",
       "      <td>3075</td>\n",
       "      <td>35483</td>\n",
       "      <td>NaN</td>\n",
       "      <td>NaN</td>\n",
       "      <td>13046</td>\n",
       "      <td>20602</td>\n",
       "      <td>3076</td>\n",
       "      <td>8257</td>\n",
       "    </tr>\n",
       "    <tr>\n",
       "      <th>2.55</th>\n",
       "      <td>2813</td>\n",
       "      <td>28120</td>\n",
       "      <td>NaN</td>\n",
       "      <td>NaN</td>\n",
       "      <td>7843</td>\n",
       "      <td>19123</td>\n",
       "      <td>1859</td>\n",
       "      <td>5315</td>\n",
       "    </tr>\n",
       "    <tr>\n",
       "      <th>2.60</th>\n",
       "      <td>3573</td>\n",
       "      <td>46345</td>\n",
       "      <td>20763</td>\n",
       "      <td>40623</td>\n",
       "      <td>10657</td>\n",
       "      <td>12714</td>\n",
       "      <td>6127</td>\n",
       "      <td>6797</td>\n",
       "    </tr>\n",
       "    <tr>\n",
       "      <th>2.65</th>\n",
       "      <td>12628</td>\n",
       "      <td>49148</td>\n",
       "      <td>19463</td>\n",
       "      <td>45229</td>\n",
       "      <td>12174</td>\n",
       "      <td>11990</td>\n",
       "      <td>3971</td>\n",
       "      <td>5250</td>\n",
       "    </tr>\n",
       "    <tr>\n",
       "      <th>2.70</th>\n",
       "      <td>51229</td>\n",
       "      <td>83055</td>\n",
       "      <td>46730</td>\n",
       "      <td>66531</td>\n",
       "      <td>10802</td>\n",
       "      <td>18480</td>\n",
       "      <td>5485</td>\n",
       "      <td>7198</td>\n",
       "    </tr>\n",
       "    <tr>\n",
       "      <th>2.75</th>\n",
       "      <td>77262</td>\n",
       "      <td>28532</td>\n",
       "      <td>83684</td>\n",
       "      <td>52558</td>\n",
       "      <td>15795</td>\n",
       "      <td>12526</td>\n",
       "      <td>6933</td>\n",
       "      <td>7861</td>\n",
       "    </tr>\n",
       "    <tr>\n",
       "      <th>2.80</th>\n",
       "      <td>86540</td>\n",
       "      <td>18669</td>\n",
       "      <td>94893</td>\n",
       "      <td>30439</td>\n",
       "      <td>22845</td>\n",
       "      <td>8183</td>\n",
       "      <td>15424</td>\n",
       "      <td>9809</td>\n",
       "    </tr>\n",
       "    <tr>\n",
       "      <th>2.85</th>\n",
       "      <td>76232</td>\n",
       "      <td>7862</td>\n",
       "      <td>70268</td>\n",
       "      <td>15134</td>\n",
       "      <td>20269</td>\n",
       "      <td>6122</td>\n",
       "      <td>24147</td>\n",
       "      <td>7987</td>\n",
       "    </tr>\n",
       "    <tr>\n",
       "      <th>2.90</th>\n",
       "      <td>42809</td>\n",
       "      <td>2575</td>\n",
       "      <td>87470</td>\n",
       "      <td>9618</td>\n",
       "      <td>17153</td>\n",
       "      <td>5253</td>\n",
       "      <td>18168</td>\n",
       "      <td>7069</td>\n",
       "    </tr>\n",
       "  </tbody>\n",
       "</table>\n",
       "</div>"
      ],
      "text/plain": [
       "     50ETF购9月 50ETF沽9月 50ETF购10月 50ETF沽10月 50ETF购12月 50ETF沽12月 50ETF购3月  \\\n",
       "2.20     1031    14768       NaN       NaN     12247     15402      NaN   \n",
       "2.25      696    24790       NaN       NaN      2275     10999      NaN   \n",
       "2.30      614    11685       NaN       NaN      2527     10864      NaN   \n",
       "2.35     1310    11356       NaN       NaN      2826     11188      NaN   \n",
       "2.40     2479    15465       NaN       NaN      3748     18487      NaN   \n",
       "2.45     2177    17698       NaN       NaN      7896     24897      NaN   \n",
       "2.50     3075    35483       NaN       NaN     13046     20602     3076   \n",
       "2.55     2813    28120       NaN       NaN      7843     19123     1859   \n",
       "2.60     3573    46345     20763     40623     10657     12714     6127   \n",
       "2.65    12628    49148     19463     45229     12174     11990     3971   \n",
       "2.70    51229    83055     46730     66531     10802     18480     5485   \n",
       "2.75    77262    28532     83684     52558     15795     12526     6933   \n",
       "2.80    86540    18669     94893     30439     22845      8183    15424   \n",
       "2.85    76232     7862     70268     15134     20269      6122    24147   \n",
       "2.90    42809     2575     87470      9618     17153      5253    18168   \n",
       "\n",
       "     50ETF沽3月  \n",
       "2.20      NaN  \n",
       "2.25      NaN  \n",
       "2.30      NaN  \n",
       "2.35      NaN  \n",
       "2.40      NaN  \n",
       "2.45      NaN  \n",
       "2.50     8257  \n",
       "2.55     5315  \n",
       "2.60     6797  \n",
       "2.65     5250  \n",
       "2.70     7198  \n",
       "2.75     7861  \n",
       "2.80     9809  \n",
       "2.85     7987  \n",
       "2.90     7069  "
      ]
     },
     "execution_count": 48,
     "metadata": {},
     "output_type": "execute_result"
    }
   ],
   "source": [
    "odf"
   ]
  },
  {
   "cell_type": "code",
   "execution_count": 49,
   "metadata": {
    "collapsed": false
   },
   "outputs": [],
   "source": [
    "odf.to_excel('%s/heatmap.xlsx'%(DATA_DIR))"
   ]
  },
  {
   "cell_type": "code",
   "execution_count": null,
   "metadata": {
    "collapsed": true
   },
   "outputs": [],
   "source": []
  }
 ],
 "metadata": {
  "anaconda-cloud": {},
  "kernelspec": {
   "display_name": "Python [default]",
   "language": "python",
   "name": "python2"
  },
  "language_info": {
   "codemirror_mode": {
    "name": "ipython",
    "version": 2
   },
   "file_extension": ".py",
   "mimetype": "text/x-python",
   "name": "python",
   "nbconvert_exporter": "python",
   "pygments_lexer": "ipython2",
   "version": "2.7.12"
  }
 },
 "nbformat": 4,
 "nbformat_minor": 1
}
