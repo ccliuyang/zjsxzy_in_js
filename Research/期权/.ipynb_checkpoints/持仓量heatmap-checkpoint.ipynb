{
 "cells": [
  {
   "cell_type": "code",
   "execution_count": 110,
   "metadata": {
    "collapsed": true
   },
   "outputs": [],
   "source": [
    "import pandas as pd\n",
    "import datetime\n",
    "from WindPy import w\n",
    "import matplotlib.pyplot as plt\n",
    "%matplotlib inline"
   ]
  },
  {
   "cell_type": "code",
   "execution_count": 111,
   "metadata": {
    "collapsed": true
   },
   "outputs": [],
   "source": [
    "DATA_DIR = 'C:/Users/jgtzsx01/Documents/workspace/zjsxzy_in_js/website/derivative/data/'\n",
    "OPTION_DIR = 'D:/Data/derivatives/options/'"
   ]
  },
  {
   "cell_type": "code",
   "execution_count": 112,
   "metadata": {
    "collapsed": true
   },
   "outputs": [],
   "source": [
    "df = pd.read_excel('%s/option list.xlsx'%(DATA_DIR), skiprows=6)"
   ]
  },
  {
   "cell_type": "code",
   "execution_count": 114,
   "metadata": {
    "collapsed": false
   },
   "outputs": [
    {
     "data": {
      "text/html": [
       "<div>\n",
       "<table border=\"1\" class=\"dataframe\">\n",
       "  <thead>\n",
       "    <tr style=\"text-align: right;\">\n",
       "      <th></th>\n",
       "      <th>标的代码</th>\n",
       "      <th>标的名称</th>\n",
       "      <th>期权品种</th>\n",
       "      <th>期权代码</th>\n",
       "      <th>期权名称</th>\n",
       "      <th>行权类型</th>\n",
       "      <th>行权价</th>\n",
       "      <th>期权交割月份</th>\n",
       "      <th>期权类型</th>\n",
       "      <th>起始交易日期</th>\n",
       "      <th>最后交易日期</th>\n",
       "      <th>剩余存续期（天）</th>\n",
       "      <th>结算方式</th>\n",
       "      <th>合约乘数</th>\n",
       "    </tr>\n",
       "  </thead>\n",
       "  <tbody>\n",
       "    <tr>\n",
       "      <th>0</th>\n",
       "      <td>510050.SH</td>\n",
       "      <td>华夏上证50ETF</td>\n",
       "      <td>510050OP.SH</td>\n",
       "      <td>10000883.SH</td>\n",
       "      <td>50ETF购2017年5月2.20</td>\n",
       "      <td>欧式</td>\n",
       "      <td>2.20</td>\n",
       "      <td>201705</td>\n",
       "      <td>认购</td>\n",
       "      <td>2017-04-20</td>\n",
       "      <td>2017-05-24</td>\n",
       "      <td>16</td>\n",
       "      <td>实物资产</td>\n",
       "      <td>10000</td>\n",
       "    </tr>\n",
       "    <tr>\n",
       "      <th>1</th>\n",
       "      <td>510050.SH</td>\n",
       "      <td>华夏上证50ETF</td>\n",
       "      <td>510050OP.SH</td>\n",
       "      <td>10000869.SH</td>\n",
       "      <td>50ETF购2017年5月2.25</td>\n",
       "      <td>欧式</td>\n",
       "      <td>2.25</td>\n",
       "      <td>201705</td>\n",
       "      <td>认购</td>\n",
       "      <td>2017-03-23</td>\n",
       "      <td>2017-05-24</td>\n",
       "      <td>16</td>\n",
       "      <td>实物资产</td>\n",
       "      <td>10000</td>\n",
       "    </tr>\n",
       "    <tr>\n",
       "      <th>2</th>\n",
       "      <td>510050.SH</td>\n",
       "      <td>华夏上证50ETF</td>\n",
       "      <td>510050OP.SH</td>\n",
       "      <td>10000870.SH</td>\n",
       "      <td>50ETF购2017年5月2.30</td>\n",
       "      <td>欧式</td>\n",
       "      <td>2.30</td>\n",
       "      <td>201705</td>\n",
       "      <td>认购</td>\n",
       "      <td>2017-03-23</td>\n",
       "      <td>2017-05-24</td>\n",
       "      <td>16</td>\n",
       "      <td>实物资产</td>\n",
       "      <td>10000</td>\n",
       "    </tr>\n",
       "    <tr>\n",
       "      <th>3</th>\n",
       "      <td>510050.SH</td>\n",
       "      <td>华夏上证50ETF</td>\n",
       "      <td>510050OP.SH</td>\n",
       "      <td>10000871.SH</td>\n",
       "      <td>50ETF购2017年5月2.35</td>\n",
       "      <td>欧式</td>\n",
       "      <td>2.35</td>\n",
       "      <td>201705</td>\n",
       "      <td>认购</td>\n",
       "      <td>2017-03-23</td>\n",
       "      <td>2017-05-24</td>\n",
       "      <td>16</td>\n",
       "      <td>实物资产</td>\n",
       "      <td>10000</td>\n",
       "    </tr>\n",
       "    <tr>\n",
       "      <th>4</th>\n",
       "      <td>510050.SH</td>\n",
       "      <td>华夏上证50ETF</td>\n",
       "      <td>510050OP.SH</td>\n",
       "      <td>10000872.SH</td>\n",
       "      <td>50ETF购2017年5月2.40</td>\n",
       "      <td>欧式</td>\n",
       "      <td>2.40</td>\n",
       "      <td>201705</td>\n",
       "      <td>认购</td>\n",
       "      <td>2017-03-23</td>\n",
       "      <td>2017-05-24</td>\n",
       "      <td>16</td>\n",
       "      <td>实物资产</td>\n",
       "      <td>10000</td>\n",
       "    </tr>\n",
       "    <tr>\n",
       "      <th>5</th>\n",
       "      <td>510050.SH</td>\n",
       "      <td>华夏上证50ETF</td>\n",
       "      <td>510050OP.SH</td>\n",
       "      <td>10000873.SH</td>\n",
       "      <td>50ETF购2017年5月2.45</td>\n",
       "      <td>欧式</td>\n",
       "      <td>2.45</td>\n",
       "      <td>201705</td>\n",
       "      <td>认购</td>\n",
       "      <td>2017-03-23</td>\n",
       "      <td>2017-05-24</td>\n",
       "      <td>16</td>\n",
       "      <td>实物资产</td>\n",
       "      <td>10000</td>\n",
       "    </tr>\n",
       "    <tr>\n",
       "      <th>6</th>\n",
       "      <td>510050.SH</td>\n",
       "      <td>华夏上证50ETF</td>\n",
       "      <td>510050OP.SH</td>\n",
       "      <td>10000879.SH</td>\n",
       "      <td>50ETF购2017年5月2.50</td>\n",
       "      <td>欧式</td>\n",
       "      <td>2.50</td>\n",
       "      <td>201705</td>\n",
       "      <td>认购</td>\n",
       "      <td>2017-04-06</td>\n",
       "      <td>2017-05-24</td>\n",
       "      <td>16</td>\n",
       "      <td>实物资产</td>\n",
       "      <td>10000</td>\n",
       "    </tr>\n",
       "    <tr>\n",
       "      <th>7</th>\n",
       "      <td>510050.SH</td>\n",
       "      <td>华夏上证50ETF</td>\n",
       "      <td>510050OP.SH</td>\n",
       "      <td>10000884.SH</td>\n",
       "      <td>50ETF沽2017年5月2.20</td>\n",
       "      <td>欧式</td>\n",
       "      <td>2.20</td>\n",
       "      <td>201705</td>\n",
       "      <td>认沽</td>\n",
       "      <td>2017-04-20</td>\n",
       "      <td>2017-05-24</td>\n",
       "      <td>16</td>\n",
       "      <td>实物资产</td>\n",
       "      <td>10000</td>\n",
       "    </tr>\n",
       "    <tr>\n",
       "      <th>8</th>\n",
       "      <td>510050.SH</td>\n",
       "      <td>华夏上证50ETF</td>\n",
       "      <td>510050OP.SH</td>\n",
       "      <td>10000874.SH</td>\n",
       "      <td>50ETF沽2017年5月2.25</td>\n",
       "      <td>欧式</td>\n",
       "      <td>2.25</td>\n",
       "      <td>201705</td>\n",
       "      <td>认沽</td>\n",
       "      <td>2017-03-23</td>\n",
       "      <td>2017-05-24</td>\n",
       "      <td>16</td>\n",
       "      <td>实物资产</td>\n",
       "      <td>10000</td>\n",
       "    </tr>\n",
       "    <tr>\n",
       "      <th>9</th>\n",
       "      <td>510050.SH</td>\n",
       "      <td>华夏上证50ETF</td>\n",
       "      <td>510050OP.SH</td>\n",
       "      <td>10000875.SH</td>\n",
       "      <td>50ETF沽2017年5月2.30</td>\n",
       "      <td>欧式</td>\n",
       "      <td>2.30</td>\n",
       "      <td>201705</td>\n",
       "      <td>认沽</td>\n",
       "      <td>2017-03-23</td>\n",
       "      <td>2017-05-24</td>\n",
       "      <td>16</td>\n",
       "      <td>实物资产</td>\n",
       "      <td>10000</td>\n",
       "    </tr>\n",
       "  </tbody>\n",
       "</table>\n",
       "</div>"
      ],
      "text/plain": [
       "        标的代码       标的名称         期权品种         期权代码               期权名称 行权类型  \\\n",
       "0  510050.SH  华夏上证50ETF  510050OP.SH  10000883.SH  50ETF购2017年5月2.20   欧式   \n",
       "1  510050.SH  华夏上证50ETF  510050OP.SH  10000869.SH  50ETF购2017年5月2.25   欧式   \n",
       "2  510050.SH  华夏上证50ETF  510050OP.SH  10000870.SH  50ETF购2017年5月2.30   欧式   \n",
       "3  510050.SH  华夏上证50ETF  510050OP.SH  10000871.SH  50ETF购2017年5月2.35   欧式   \n",
       "4  510050.SH  华夏上证50ETF  510050OP.SH  10000872.SH  50ETF购2017年5月2.40   欧式   \n",
       "5  510050.SH  华夏上证50ETF  510050OP.SH  10000873.SH  50ETF购2017年5月2.45   欧式   \n",
       "6  510050.SH  华夏上证50ETF  510050OP.SH  10000879.SH  50ETF购2017年5月2.50   欧式   \n",
       "7  510050.SH  华夏上证50ETF  510050OP.SH  10000884.SH  50ETF沽2017年5月2.20   欧式   \n",
       "8  510050.SH  华夏上证50ETF  510050OP.SH  10000874.SH  50ETF沽2017年5月2.25   欧式   \n",
       "9  510050.SH  华夏上证50ETF  510050OP.SH  10000875.SH  50ETF沽2017年5月2.30   欧式   \n",
       "\n",
       "    行权价  期权交割月份 期权类型     起始交易日期     最后交易日期  剩余存续期（天）  结算方式   合约乘数  \n",
       "0  2.20  201705   认购 2017-04-20 2017-05-24        16  实物资产  10000  \n",
       "1  2.25  201705   认购 2017-03-23 2017-05-24        16  实物资产  10000  \n",
       "2  2.30  201705   认购 2017-03-23 2017-05-24        16  实物资产  10000  \n",
       "3  2.35  201705   认购 2017-03-23 2017-05-24        16  实物资产  10000  \n",
       "4  2.40  201705   认购 2017-03-23 2017-05-24        16  实物资产  10000  \n",
       "5  2.45  201705   认购 2017-03-23 2017-05-24        16  实物资产  10000  \n",
       "6  2.50  201705   认购 2017-04-06 2017-05-24        16  实物资产  10000  \n",
       "7  2.20  201705   认沽 2017-04-20 2017-05-24        16  实物资产  10000  \n",
       "8  2.25  201705   认沽 2017-03-23 2017-05-24        16  实物资产  10000  \n",
       "9  2.30  201705   认沽 2017-03-23 2017-05-24        16  实物资产  10000  "
      ]
     },
     "execution_count": 114,
     "metadata": {},
     "output_type": "execute_result"
    }
   ],
   "source": [
    "df.head(n=10)"
   ]
  },
  {
   "cell_type": "code",
   "execution_count": 115,
   "metadata": {
    "collapsed": false
   },
   "outputs": [],
   "source": [
    "prices = df[u'行权价'].unique()"
   ]
  },
  {
   "cell_type": "code",
   "execution_count": 116,
   "metadata": {
    "collapsed": true
   },
   "outputs": [],
   "source": [
    "prices.sort()"
   ]
  },
  {
   "cell_type": "code",
   "execution_count": 117,
   "metadata": {
    "collapsed": false
   },
   "outputs": [
    {
     "data": {
      "text/plain": [
       "array([ 2.153,  2.2  ,  2.202,  2.25 ,  2.299,  2.3  ,  2.348,  2.35 ,\n",
       "        2.397,  2.4  ,  2.446,  2.45 ,  2.495,  2.5  ,  2.55 ])"
      ]
     },
     "execution_count": 117,
     "metadata": {},
     "output_type": "execute_result"
    }
   ],
   "source": [
    "prices"
   ]
  },
  {
   "cell_type": "code",
   "execution_count": 127,
   "metadata": {
    "collapsed": true
   },
   "outputs": [],
   "source": [
    "names = []\n",
    "for i in df.index:\n",
    "    price = df.loc[i][u'行权价']\n",
    "    name = df.loc[i][u'期权名称'].rstrip('A').replace(u'2017年', '')\n",
    "    name = name[:name.find(str(price))]\n",
    "    if name not in names:\n",
    "        names.append(name)"
   ]
  },
  {
   "cell_type": "code",
   "execution_count": 128,
   "metadata": {
    "collapsed": false
   },
   "outputs": [
    {
     "name": "stdout",
     "output_type": "stream",
     "text": [
      "50ETF购5月\n",
      "50ETF沽5月\n",
      "50ETF购6月\n",
      "50ETF沽6月\n",
      "50ETF购9月\n",
      "50ETF沽9月\n",
      "50ETF购12月\n",
      "50ETF沽12月\n"
     ]
    }
   ],
   "source": [
    "for name in names:\n",
    "    print name"
   ]
  },
  {
   "cell_type": "code",
   "execution_count": 129,
   "metadata": {
    "collapsed": true
   },
   "outputs": [],
   "source": [
    "odf = pd.DataFrame({}, index=prices, columns=names)"
   ]
  },
  {
   "cell_type": "code",
   "execution_count": 130,
   "metadata": {
    "collapsed": false
   },
   "outputs": [],
   "source": [
    "date = datetime.datetime(2017, 5, 8) + datetime.timedelta(seconds=0.005)"
   ]
  },
  {
   "cell_type": "code",
   "execution_count": 131,
   "metadata": {
    "collapsed": false
   },
   "outputs": [
    {
     "data": {
      "text/plain": [
       "datetime.datetime(2017, 5, 8, 0, 0, 0, 5000)"
      ]
     },
     "execution_count": 131,
     "metadata": {},
     "output_type": "execute_result"
    }
   ],
   "source": [
    "date"
   ]
  },
  {
   "cell_type": "code",
   "execution_count": 132,
   "metadata": {
    "collapsed": false
   },
   "outputs": [],
   "source": [
    "for index in df.index:\n",
    "    option_code = df.loc[index][u'期权代码']\n",
    "    price = df.loc[index][u'行权价']\n",
    "    name = df.loc[index][u'期权名称'].rstrip('A').replace(u'2017年', '')\n",
    "    name = name[:name.find(str(price))]\n",
    "#     print option_code, odf.loc[price][name]\n",
    "    fname = '%s/%s.xlsx'%(OPTION_DIR, option_code)\n",
    "    tdf = pd.read_excel(fname, index_col=0)\n",
    "#     print tdf.loc[date]['OI']\n",
    "    odf.loc[price][name] = tdf.loc[date]['OI']"
   ]
  },
  {
   "cell_type": "code",
   "execution_count": 133,
   "metadata": {
    "collapsed": false
   },
   "outputs": [
    {
     "data": {
      "text/html": [
       "<div>\n",
       "<table border=\"1\" class=\"dataframe\">\n",
       "  <thead>\n",
       "    <tr style=\"text-align: right;\">\n",
       "      <th></th>\n",
       "      <th>50ETF购5月</th>\n",
       "      <th>50ETF沽5月</th>\n",
       "      <th>50ETF购6月</th>\n",
       "      <th>50ETF沽6月</th>\n",
       "      <th>50ETF购9月</th>\n",
       "      <th>50ETF沽9月</th>\n",
       "      <th>50ETF购12月</th>\n",
       "      <th>50ETF沽12月</th>\n",
       "    </tr>\n",
       "  </thead>\n",
       "  <tbody>\n",
       "    <tr>\n",
       "      <th>2.153</th>\n",
       "      <td>NaN</td>\n",
       "      <td>NaN</td>\n",
       "      <td>23314</td>\n",
       "      <td>19108</td>\n",
       "      <td>NaN</td>\n",
       "      <td>NaN</td>\n",
       "      <td>NaN</td>\n",
       "      <td>NaN</td>\n",
       "    </tr>\n",
       "    <tr>\n",
       "      <th>2.200</th>\n",
       "      <td>8318</td>\n",
       "      <td>7748</td>\n",
       "      <td>13481</td>\n",
       "      <td>17565</td>\n",
       "      <td>10754</td>\n",
       "      <td>12552</td>\n",
       "      <td>2539</td>\n",
       "      <td>6425</td>\n",
       "    </tr>\n",
       "    <tr>\n",
       "      <th>2.202</th>\n",
       "      <td>NaN</td>\n",
       "      <td>NaN</td>\n",
       "      <td>6279</td>\n",
       "      <td>9203</td>\n",
       "      <td>NaN</td>\n",
       "      <td>NaN</td>\n",
       "      <td>NaN</td>\n",
       "      <td>NaN</td>\n",
       "    </tr>\n",
       "    <tr>\n",
       "      <th>2.250</th>\n",
       "      <td>37126</td>\n",
       "      <td>39330</td>\n",
       "      <td>16197</td>\n",
       "      <td>12864</td>\n",
       "      <td>14363</td>\n",
       "      <td>44651</td>\n",
       "      <td>3317</td>\n",
       "      <td>17678</td>\n",
       "    </tr>\n",
       "    <tr>\n",
       "      <th>2.299</th>\n",
       "      <td>NaN</td>\n",
       "      <td>NaN</td>\n",
       "      <td>5366</td>\n",
       "      <td>9550</td>\n",
       "      <td>NaN</td>\n",
       "      <td>NaN</td>\n",
       "      <td>NaN</td>\n",
       "      <td>NaN</td>\n",
       "    </tr>\n",
       "    <tr>\n",
       "      <th>2.300</th>\n",
       "      <td>126193</td>\n",
       "      <td>95076</td>\n",
       "      <td>30191</td>\n",
       "      <td>60717</td>\n",
       "      <td>16151</td>\n",
       "      <td>22515</td>\n",
       "      <td>2684</td>\n",
       "      <td>8744</td>\n",
       "    </tr>\n",
       "    <tr>\n",
       "      <th>2.348</th>\n",
       "      <td>NaN</td>\n",
       "      <td>NaN</td>\n",
       "      <td>6733</td>\n",
       "      <td>4188</td>\n",
       "      <td>NaN</td>\n",
       "      <td>NaN</td>\n",
       "      <td>NaN</td>\n",
       "      <td>NaN</td>\n",
       "    </tr>\n",
       "    <tr>\n",
       "      <th>2.350</th>\n",
       "      <td>187463</td>\n",
       "      <td>81213</td>\n",
       "      <td>65417</td>\n",
       "      <td>34864</td>\n",
       "      <td>33001</td>\n",
       "      <td>21585</td>\n",
       "      <td>4796</td>\n",
       "      <td>3655</td>\n",
       "    </tr>\n",
       "    <tr>\n",
       "      <th>2.397</th>\n",
       "      <td>NaN</td>\n",
       "      <td>NaN</td>\n",
       "      <td>10959</td>\n",
       "      <td>3725</td>\n",
       "      <td>NaN</td>\n",
       "      <td>NaN</td>\n",
       "      <td>NaN</td>\n",
       "      <td>NaN</td>\n",
       "    </tr>\n",
       "    <tr>\n",
       "      <th>2.400</th>\n",
       "      <td>89670</td>\n",
       "      <td>29296</td>\n",
       "      <td>62029</td>\n",
       "      <td>16290</td>\n",
       "      <td>43845</td>\n",
       "      <td>14777</td>\n",
       "      <td>6450</td>\n",
       "      <td>2320</td>\n",
       "    </tr>\n",
       "    <tr>\n",
       "      <th>2.446</th>\n",
       "      <td>NaN</td>\n",
       "      <td>NaN</td>\n",
       "      <td>5497</td>\n",
       "      <td>1840</td>\n",
       "      <td>NaN</td>\n",
       "      <td>NaN</td>\n",
       "      <td>NaN</td>\n",
       "      <td>NaN</td>\n",
       "    </tr>\n",
       "    <tr>\n",
       "      <th>2.450</th>\n",
       "      <td>37072</td>\n",
       "      <td>13231</td>\n",
       "      <td>47293</td>\n",
       "      <td>6967</td>\n",
       "      <td>25611</td>\n",
       "      <td>7865</td>\n",
       "      <td>14202</td>\n",
       "      <td>5430</td>\n",
       "    </tr>\n",
       "    <tr>\n",
       "      <th>2.495</th>\n",
       "      <td>NaN</td>\n",
       "      <td>NaN</td>\n",
       "      <td>7124</td>\n",
       "      <td>4444</td>\n",
       "      <td>NaN</td>\n",
       "      <td>NaN</td>\n",
       "      <td>NaN</td>\n",
       "      <td>NaN</td>\n",
       "    </tr>\n",
       "    <tr>\n",
       "      <th>2.500</th>\n",
       "      <td>13352</td>\n",
       "      <td>10644</td>\n",
       "      <td>33465</td>\n",
       "      <td>15588</td>\n",
       "      <td>33966</td>\n",
       "      <td>10732</td>\n",
       "      <td>NaN</td>\n",
       "      <td>NaN</td>\n",
       "    </tr>\n",
       "    <tr>\n",
       "      <th>2.550</th>\n",
       "      <td>NaN</td>\n",
       "      <td>NaN</td>\n",
       "      <td>64334</td>\n",
       "      <td>20891</td>\n",
       "      <td>NaN</td>\n",
       "      <td>NaN</td>\n",
       "      <td>NaN</td>\n",
       "      <td>NaN</td>\n",
       "    </tr>\n",
       "  </tbody>\n",
       "</table>\n",
       "</div>"
      ],
      "text/plain": [
       "      50ETF购5月 50ETF沽5月 50ETF购6月 50ETF沽6月 50ETF购9月 50ETF沽9月 50ETF购12月  \\\n",
       "2.153      NaN      NaN    23314    19108      NaN      NaN       NaN   \n",
       "2.200     8318     7748    13481    17565    10754    12552      2539   \n",
       "2.202      NaN      NaN     6279     9203      NaN      NaN       NaN   \n",
       "2.250    37126    39330    16197    12864    14363    44651      3317   \n",
       "2.299      NaN      NaN     5366     9550      NaN      NaN       NaN   \n",
       "2.300   126193    95076    30191    60717    16151    22515      2684   \n",
       "2.348      NaN      NaN     6733     4188      NaN      NaN       NaN   \n",
       "2.350   187463    81213    65417    34864    33001    21585      4796   \n",
       "2.397      NaN      NaN    10959     3725      NaN      NaN       NaN   \n",
       "2.400    89670    29296    62029    16290    43845    14777      6450   \n",
       "2.446      NaN      NaN     5497     1840      NaN      NaN       NaN   \n",
       "2.450    37072    13231    47293     6967    25611     7865     14202   \n",
       "2.495      NaN      NaN     7124     4444      NaN      NaN       NaN   \n",
       "2.500    13352    10644    33465    15588    33966    10732       NaN   \n",
       "2.550      NaN      NaN    64334    20891      NaN      NaN       NaN   \n",
       "\n",
       "      50ETF沽12月  \n",
       "2.153       NaN  \n",
       "2.200      6425  \n",
       "2.202       NaN  \n",
       "2.250     17678  \n",
       "2.299       NaN  \n",
       "2.300      8744  \n",
       "2.348       NaN  \n",
       "2.350      3655  \n",
       "2.397       NaN  \n",
       "2.400      2320  \n",
       "2.446       NaN  \n",
       "2.450      5430  \n",
       "2.495       NaN  \n",
       "2.500       NaN  \n",
       "2.550       NaN  "
      ]
     },
     "execution_count": 133,
     "metadata": {},
     "output_type": "execute_result"
    }
   ],
   "source": [
    "odf"
   ]
  },
  {
   "cell_type": "code",
   "execution_count": 134,
   "metadata": {
    "collapsed": false
   },
   "outputs": [],
   "source": [
    "odf.to_excel('%s/heatmap.xlsx'%(DATA_DIR))"
   ]
  },
  {
   "cell_type": "code",
   "execution_count": null,
   "metadata": {
    "collapsed": true
   },
   "outputs": [],
   "source": []
  }
 ],
 "metadata": {
  "anaconda-cloud": {},
  "kernelspec": {
   "display_name": "Python [default]",
   "language": "python",
   "name": "python2"
  },
  "language_info": {
   "codemirror_mode": {
    "name": "ipython",
    "version": 2
   },
   "file_extension": ".py",
   "mimetype": "text/x-python",
   "name": "python",
   "nbconvert_exporter": "python",
   "pygments_lexer": "ipython2",
   "version": "2.7.12"
  }
 },
 "nbformat": 4,
 "nbformat_minor": 1
}
