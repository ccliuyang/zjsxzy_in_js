{
 "cells": [
  {
   "cell_type": "code",
   "execution_count": 181,
   "metadata": {
    "collapsed": true
   },
   "outputs": [],
   "source": [
    "from WindPy import w\n",
    "import pandas as pd\n",
    "import numpy as np\n",
    "import matplotlib.pyplot as plt\n",
    "import datetime\n",
    "import calendar\n",
    "import seaborn as sns\n",
    "%matplotlib inline"
   ]
  },
  {
   "cell_type": "code",
   "execution_count": 105,
   "metadata": {
    "collapsed": true
   },
   "outputs": [],
   "source": [
    "DATA_DIR = u'D:/Data/derivatives/options'"
   ]
  },
  {
   "cell_type": "code",
   "execution_count": 164,
   "metadata": {
    "collapsed": false
   },
   "outputs": [
    {
     "data": {
      "text/plain": [
       ".ErrorCode=0\n",
       ".Data=[Already conntected!]"
      ]
     },
     "execution_count": 164,
     "metadata": {},
     "output_type": "execute_result"
    }
   ],
   "source": [
    "w.start()"
   ]
  },
  {
   "cell_type": "code",
   "execution_count": 42,
   "metadata": {
    "collapsed": true
   },
   "outputs": [],
   "source": [
    "def wind2df(raw_data):\n",
    "    dic = {}\n",
    "    for data, field in zip(raw_data.Data, raw_data.Fields):\n",
    "        dic[field.lower()] = data\n",
    "    if len(raw_data.Times) == len(raw_data.Data[0]):\n",
    "        return pd.DataFrame(dic, index=raw_data.Times)\n",
    "    else:\n",
    "        return pd.DataFrame(dic)"
   ]
  },
  {
   "cell_type": "markdown",
   "metadata": {},
   "source": [
    "# 获取所有期权合约列表"
   ]
  },
  {
   "cell_type": "code",
   "execution_count": 18,
   "metadata": {
    "collapsed": false
   },
   "outputs": [],
   "source": [
    "raw_data = w.wset(\"optioncontractbasicinfo\",\"exchange=sse;windcode=510050.SH;status=all\")"
   ]
  },
  {
   "cell_type": "code",
   "execution_count": 21,
   "metadata": {
    "collapsed": true
   },
   "outputs": [],
   "source": [
    "df = wind2df(raw_data)"
   ]
  },
  {
   "cell_type": "code",
   "execution_count": 24,
   "metadata": {
    "collapsed": false
   },
   "outputs": [],
   "source": [
    "df = df.set_index('wind_code')"
   ]
  },
  {
   "cell_type": "code",
   "execution_count": 29,
   "metadata": {
    "collapsed": false
   },
   "outputs": [
    {
     "data": {
      "text/html": [
       "<div>\n",
       "<style>\n",
       "    .dataframe thead tr:only-child th {\n",
       "        text-align: right;\n",
       "    }\n",
       "\n",
       "    .dataframe thead th {\n",
       "        text-align: left;\n",
       "    }\n",
       "\n",
       "    .dataframe tbody tr th {\n",
       "        vertical-align: top;\n",
       "    }\n",
       "</style>\n",
       "<table border=\"1\" class=\"dataframe\">\n",
       "  <thead>\n",
       "    <tr style=\"text-align: right;\">\n",
       "      <th></th>\n",
       "      <th>call_or_put</th>\n",
       "      <th>contract_state</th>\n",
       "      <th>contract_unit</th>\n",
       "      <th>exercise_date</th>\n",
       "      <th>exercise_mode</th>\n",
       "      <th>exercise_price</th>\n",
       "      <th>expire_date</th>\n",
       "      <th>limit_month</th>\n",
       "      <th>listed_date</th>\n",
       "      <th>option_mark_code</th>\n",
       "      <th>option_type</th>\n",
       "      <th>reference_price</th>\n",
       "      <th>sec_name</th>\n",
       "      <th>settle_mode</th>\n",
       "      <th>settlement_date</th>\n",
       "      <th>trade_code</th>\n",
       "    </tr>\n",
       "    <tr>\n",
       "      <th>wind_code</th>\n",
       "      <th></th>\n",
       "      <th></th>\n",
       "      <th></th>\n",
       "      <th></th>\n",
       "      <th></th>\n",
       "      <th></th>\n",
       "      <th></th>\n",
       "      <th></th>\n",
       "      <th></th>\n",
       "      <th></th>\n",
       "      <th></th>\n",
       "      <th></th>\n",
       "      <th></th>\n",
       "      <th></th>\n",
       "      <th></th>\n",
       "      <th></th>\n",
       "    </tr>\n",
       "  </thead>\n",
       "  <tbody>\n",
       "    <tr>\n",
       "      <th>10001020</th>\n",
       "      <td>认沽</td>\n",
       "      <td>上市</td>\n",
       "      <td>10000.0</td>\n",
       "      <td>2017-11-22</td>\n",
       "      <td>欧式</td>\n",
       "      <td>2.80</td>\n",
       "      <td>2017-11-22</td>\n",
       "      <td>2017-11</td>\n",
       "      <td>2017-09-28</td>\n",
       "      <td>510050.SH</td>\n",
       "      <td>ETF期权</td>\n",
       "      <td>0.0936</td>\n",
       "      <td>50ETF沽11月2.80</td>\n",
       "      <td>实物资产</td>\n",
       "      <td>2017-11-23</td>\n",
       "      <td>510050P1711M02800</td>\n",
       "    </tr>\n",
       "    <tr>\n",
       "      <th>10001021</th>\n",
       "      <td>认购</td>\n",
       "      <td>上市</td>\n",
       "      <td>10000.0</td>\n",
       "      <td>2017-11-22</td>\n",
       "      <td>欧式</td>\n",
       "      <td>2.85</td>\n",
       "      <td>2017-11-22</td>\n",
       "      <td>2017-11</td>\n",
       "      <td>2017-10-09</td>\n",
       "      <td>510050.SH</td>\n",
       "      <td>ETF期权</td>\n",
       "      <td>0.0213</td>\n",
       "      <td>50ETF购11月2.85</td>\n",
       "      <td>实物资产</td>\n",
       "      <td>2017-11-23</td>\n",
       "      <td>510050C1711M02850</td>\n",
       "    </tr>\n",
       "    <tr>\n",
       "      <th>10001022</th>\n",
       "      <td>认沽</td>\n",
       "      <td>上市</td>\n",
       "      <td>10000.0</td>\n",
       "      <td>2017-11-22</td>\n",
       "      <td>欧式</td>\n",
       "      <td>2.85</td>\n",
       "      <td>2017-11-22</td>\n",
       "      <td>2017-11</td>\n",
       "      <td>2017-10-09</td>\n",
       "      <td>510050.SH</td>\n",
       "      <td>ETF期权</td>\n",
       "      <td>0.1240</td>\n",
       "      <td>50ETF沽11月2.85</td>\n",
       "      <td>实物资产</td>\n",
       "      <td>2017-11-23</td>\n",
       "      <td>510050P1711M02850</td>\n",
       "    </tr>\n",
       "    <tr>\n",
       "      <th>10001023</th>\n",
       "      <td>认购</td>\n",
       "      <td>上市</td>\n",
       "      <td>10000.0</td>\n",
       "      <td>2017-11-22</td>\n",
       "      <td>欧式</td>\n",
       "      <td>2.90</td>\n",
       "      <td>2017-11-22</td>\n",
       "      <td>2017-11</td>\n",
       "      <td>2017-10-17</td>\n",
       "      <td>510050.SH</td>\n",
       "      <td>ETF期权</td>\n",
       "      <td>0.0083</td>\n",
       "      <td>50ETF购11月2.90</td>\n",
       "      <td>实物资产</td>\n",
       "      <td>2017-11-23</td>\n",
       "      <td>510050C1711M02900</td>\n",
       "    </tr>\n",
       "    <tr>\n",
       "      <th>10001024</th>\n",
       "      <td>认沽</td>\n",
       "      <td>上市</td>\n",
       "      <td>10000.0</td>\n",
       "      <td>2017-11-22</td>\n",
       "      <td>欧式</td>\n",
       "      <td>2.90</td>\n",
       "      <td>2017-11-22</td>\n",
       "      <td>2017-11</td>\n",
       "      <td>2017-10-17</td>\n",
       "      <td>510050.SH</td>\n",
       "      <td>ETF期权</td>\n",
       "      <td>0.1190</td>\n",
       "      <td>50ETF沽11月2.90</td>\n",
       "      <td>实物资产</td>\n",
       "      <td>2017-11-23</td>\n",
       "      <td>510050P1711M02900</td>\n",
       "    </tr>\n",
       "  </tbody>\n",
       "</table>\n",
       "</div>"
      ],
      "text/plain": [
       "          call_or_put contract_state  contract_unit exercise_date  \\\n",
       "wind_code                                                           \n",
       "10001020           认沽             上市        10000.0    2017-11-22   \n",
       "10001021           认购             上市        10000.0    2017-11-22   \n",
       "10001022           认沽             上市        10000.0    2017-11-22   \n",
       "10001023           认购             上市        10000.0    2017-11-22   \n",
       "10001024           认沽             上市        10000.0    2017-11-22   \n",
       "\n",
       "          exercise_mode  exercise_price expire_date limit_month listed_date  \\\n",
       "wind_code                                                                     \n",
       "10001020             欧式            2.80  2017-11-22     2017-11  2017-09-28   \n",
       "10001021             欧式            2.85  2017-11-22     2017-11  2017-10-09   \n",
       "10001022             欧式            2.85  2017-11-22     2017-11  2017-10-09   \n",
       "10001023             欧式            2.90  2017-11-22     2017-11  2017-10-17   \n",
       "10001024             欧式            2.90  2017-11-22     2017-11  2017-10-17   \n",
       "\n",
       "          option_mark_code option_type  reference_price       sec_name  \\\n",
       "wind_code                                                                \n",
       "10001020         510050.SH       ETF期权           0.0936  50ETF沽11月2.80   \n",
       "10001021         510050.SH       ETF期权           0.0213  50ETF购11月2.85   \n",
       "10001022         510050.SH       ETF期权           0.1240  50ETF沽11月2.85   \n",
       "10001023         510050.SH       ETF期权           0.0083  50ETF购11月2.90   \n",
       "10001024         510050.SH       ETF期权           0.1190  50ETF沽11月2.90   \n",
       "\n",
       "          settle_mode settlement_date         trade_code  \n",
       "wind_code                                                 \n",
       "10001020         实物资产      2017-11-23  510050P1711M02800  \n",
       "10001021         实物资产      2017-11-23  510050C1711M02850  \n",
       "10001022         实物资产      2017-11-23  510050P1711M02850  \n",
       "10001023         实物资产      2017-11-23  510050C1711M02900  \n",
       "10001024         实物资产      2017-11-23  510050P1711M02900  "
      ]
     },
     "execution_count": 29,
     "metadata": {},
     "output_type": "execute_result"
    }
   ],
   "source": [
    "df.tail()"
   ]
  },
  {
   "cell_type": "code",
   "execution_count": 27,
   "metadata": {
    "collapsed": true
   },
   "outputs": [],
   "source": [
    "df.to_excel(u'D:/Data/list/期权列表.xlsx')"
   ]
  },
  {
   "cell_type": "markdown",
   "metadata": {},
   "source": [
    "# 获取50ETF价格序列"
   ]
  },
  {
   "cell_type": "code",
   "execution_count": 162,
   "metadata": {
    "collapsed": true
   },
   "outputs": [],
   "source": [
    "start_date = '2015-02-09'\n",
    "end_date = '2017-10-20'"
   ]
  },
  {
   "cell_type": "code",
   "execution_count": 165,
   "metadata": {
    "collapsed": false
   },
   "outputs": [],
   "source": [
    "raw_data = w.wsd(\"510050.SH\", \"close\", start_date, end_date)"
   ]
  },
  {
   "cell_type": "code",
   "execution_count": 166,
   "metadata": {
    "collapsed": false
   },
   "outputs": [],
   "source": [
    "df = wind2df(raw_data)"
   ]
  },
  {
   "cell_type": "code",
   "execution_count": 167,
   "metadata": {
    "collapsed": false
   },
   "outputs": [],
   "source": [
    "df.columns = ['510050.SH']"
   ]
  },
  {
   "cell_type": "code",
   "execution_count": 168,
   "metadata": {
    "collapsed": false
   },
   "outputs": [
    {
     "data": {
      "text/html": [
       "<div>\n",
       "<style>\n",
       "    .dataframe thead tr:only-child th {\n",
       "        text-align: right;\n",
       "    }\n",
       "\n",
       "    .dataframe thead th {\n",
       "        text-align: left;\n",
       "    }\n",
       "\n",
       "    .dataframe tbody tr th {\n",
       "        vertical-align: top;\n",
       "    }\n",
       "</style>\n",
       "<table border=\"1\" class=\"dataframe\">\n",
       "  <thead>\n",
       "    <tr style=\"text-align: right;\">\n",
       "      <th></th>\n",
       "      <th>510050.SH</th>\n",
       "    </tr>\n",
       "  </thead>\n",
       "  <tbody>\n",
       "    <tr>\n",
       "      <th>2015-02-09</th>\n",
       "      <td>2.331</td>\n",
       "    </tr>\n",
       "    <tr>\n",
       "      <th>2015-02-10</th>\n",
       "      <td>2.369</td>\n",
       "    </tr>\n",
       "    <tr>\n",
       "      <th>2015-02-11</th>\n",
       "      <td>2.380</td>\n",
       "    </tr>\n",
       "    <tr>\n",
       "      <th>2015-02-12</th>\n",
       "      <td>2.384</td>\n",
       "    </tr>\n",
       "    <tr>\n",
       "      <th>2015-02-13</th>\n",
       "      <td>2.390</td>\n",
       "    </tr>\n",
       "    <tr>\n",
       "      <th>2015-02-16</th>\n",
       "      <td>2.394</td>\n",
       "    </tr>\n",
       "    <tr>\n",
       "      <th>2015-02-17</th>\n",
       "      <td>2.411</td>\n",
       "    </tr>\n",
       "    <tr>\n",
       "      <th>2015-02-25</th>\n",
       "      <td>2.370</td>\n",
       "    </tr>\n",
       "    <tr>\n",
       "      <th>2015-02-26</th>\n",
       "      <td>2.450</td>\n",
       "    </tr>\n",
       "    <tr>\n",
       "      <th>2015-02-27</th>\n",
       "      <td>2.438</td>\n",
       "    </tr>\n",
       "    <tr>\n",
       "      <th>2015-03-02</th>\n",
       "      <td>2.441</td>\n",
       "    </tr>\n",
       "    <tr>\n",
       "      <th>2015-03-03</th>\n",
       "      <td>2.364</td>\n",
       "    </tr>\n",
       "    <tr>\n",
       "      <th>2015-03-04</th>\n",
       "      <td>2.362</td>\n",
       "    </tr>\n",
       "    <tr>\n",
       "      <th>2015-03-05</th>\n",
       "      <td>2.334</td>\n",
       "    </tr>\n",
       "    <tr>\n",
       "      <th>2015-03-06</th>\n",
       "      <td>2.339</td>\n",
       "    </tr>\n",
       "    <tr>\n",
       "      <th>2015-03-09</th>\n",
       "      <td>2.397</td>\n",
       "    </tr>\n",
       "    <tr>\n",
       "      <th>2015-03-10</th>\n",
       "      <td>2.359</td>\n",
       "    </tr>\n",
       "    <tr>\n",
       "      <th>2015-03-11</th>\n",
       "      <td>2.374</td>\n",
       "    </tr>\n",
       "    <tr>\n",
       "      <th>2015-03-12</th>\n",
       "      <td>2.448</td>\n",
       "    </tr>\n",
       "    <tr>\n",
       "      <th>2015-03-13</th>\n",
       "      <td>2.455</td>\n",
       "    </tr>\n",
       "  </tbody>\n",
       "</table>\n",
       "</div>"
      ],
      "text/plain": [
       "            510050.SH\n",
       "2015-02-09      2.331\n",
       "2015-02-10      2.369\n",
       "2015-02-11      2.380\n",
       "2015-02-12      2.384\n",
       "2015-02-13      2.390\n",
       "2015-02-16      2.394\n",
       "2015-02-17      2.411\n",
       "2015-02-25      2.370\n",
       "2015-02-26      2.450\n",
       "2015-02-27      2.438\n",
       "2015-03-02      2.441\n",
       "2015-03-03      2.364\n",
       "2015-03-04      2.362\n",
       "2015-03-05      2.334\n",
       "2015-03-06      2.339\n",
       "2015-03-09      2.397\n",
       "2015-03-10      2.359\n",
       "2015-03-11      2.374\n",
       "2015-03-12      2.448\n",
       "2015-03-13      2.455"
      ]
     },
     "execution_count": 168,
     "metadata": {},
     "output_type": "execute_result"
    }
   ],
   "source": [
    "df.head(n=20)"
   ]
  },
  {
   "cell_type": "markdown",
   "metadata": {},
   "source": [
    "# 查找某个交易日的次月到期的ATM看跌期权价格"
   ]
  },
  {
   "cell_type": "code",
   "execution_count": 48,
   "metadata": {
    "collapsed": true
   },
   "outputs": [],
   "source": [
    "date = df.index[-1]"
   ]
  },
  {
   "cell_type": "code",
   "execution_count": 57,
   "metadata": {
    "collapsed": false
   },
   "outputs": [
    {
     "data": {
      "text/plain": [
       "datetime.date(2017, 10, 20)"
      ]
     },
     "execution_count": 57,
     "metadata": {},
     "output_type": "execute_result"
    }
   ],
   "source": [
    "date"
   ]
  },
  {
   "cell_type": "code",
   "execution_count": 50,
   "metadata": {
    "collapsed": false
   },
   "outputs": [],
   "source": [
    "opt_df = pd.read_excel(u'D:/Data/list/期权列表.xlsx', index_col=0)"
   ]
  },
  {
   "cell_type": "code",
   "execution_count": 52,
   "metadata": {
    "collapsed": false
   },
   "outputs": [],
   "source": [
    "opt_df = opt_df[opt_df['call_or_put'] == u'认沽']"
   ]
  },
  {
   "cell_type": "code",
   "execution_count": 68,
   "metadata": {
    "collapsed": false
   },
   "outputs": [
    {
     "data": {
      "text/html": [
       "<div>\n",
       "<style>\n",
       "    .dataframe thead tr:only-child th {\n",
       "        text-align: right;\n",
       "    }\n",
       "\n",
       "    .dataframe thead th {\n",
       "        text-align: left;\n",
       "    }\n",
       "\n",
       "    .dataframe tbody tr th {\n",
       "        vertical-align: top;\n",
       "    }\n",
       "</style>\n",
       "<table border=\"1\" class=\"dataframe\">\n",
       "  <thead>\n",
       "    <tr style=\"text-align: right;\">\n",
       "      <th></th>\n",
       "      <th>call_or_put</th>\n",
       "      <th>contract_state</th>\n",
       "      <th>contract_unit</th>\n",
       "      <th>exercise_date</th>\n",
       "      <th>exercise_mode</th>\n",
       "      <th>exercise_price</th>\n",
       "      <th>expire_date</th>\n",
       "      <th>limit_month</th>\n",
       "      <th>listed_date</th>\n",
       "      <th>option_mark_code</th>\n",
       "      <th>option_type</th>\n",
       "      <th>reference_price</th>\n",
       "      <th>sec_name</th>\n",
       "      <th>settle_mode</th>\n",
       "      <th>settlement_date</th>\n",
       "      <th>trade_code</th>\n",
       "    </tr>\n",
       "    <tr>\n",
       "      <th>wind_code</th>\n",
       "      <th></th>\n",
       "      <th></th>\n",
       "      <th></th>\n",
       "      <th></th>\n",
       "      <th></th>\n",
       "      <th></th>\n",
       "      <th></th>\n",
       "      <th></th>\n",
       "      <th></th>\n",
       "      <th></th>\n",
       "      <th></th>\n",
       "      <th></th>\n",
       "      <th></th>\n",
       "      <th></th>\n",
       "      <th></th>\n",
       "      <th></th>\n",
       "    </tr>\n",
       "  </thead>\n",
       "  <tbody>\n",
       "    <tr>\n",
       "      <th>10000006</th>\n",
       "      <td>认沽</td>\n",
       "      <td>退市</td>\n",
       "      <td>10000</td>\n",
       "      <td>2015-03-25</td>\n",
       "      <td>欧式</td>\n",
       "      <td>2.20</td>\n",
       "      <td>2015-03-25</td>\n",
       "      <td>2015-03</td>\n",
       "      <td>2015-02-09</td>\n",
       "      <td>510050.SH</td>\n",
       "      <td>ETF期权</td>\n",
       "      <td>0.0788</td>\n",
       "      <td>50ETF沽2015年3月2.20</td>\n",
       "      <td>实物资产</td>\n",
       "      <td>2015-03-26</td>\n",
       "      <td>510050P1503M02200</td>\n",
       "    </tr>\n",
       "    <tr>\n",
       "      <th>10000007</th>\n",
       "      <td>认沽</td>\n",
       "      <td>退市</td>\n",
       "      <td>10000</td>\n",
       "      <td>2015-03-25</td>\n",
       "      <td>欧式</td>\n",
       "      <td>2.25</td>\n",
       "      <td>2015-03-25</td>\n",
       "      <td>2015-03</td>\n",
       "      <td>2015-02-09</td>\n",
       "      <td>510050.SH</td>\n",
       "      <td>ETF期权</td>\n",
       "      <td>0.1001</td>\n",
       "      <td>50ETF沽2015年3月2.25</td>\n",
       "      <td>实物资产</td>\n",
       "      <td>2015-03-26</td>\n",
       "      <td>510050P1503M02250</td>\n",
       "    </tr>\n",
       "    <tr>\n",
       "      <th>10000008</th>\n",
       "      <td>认沽</td>\n",
       "      <td>退市</td>\n",
       "      <td>10000</td>\n",
       "      <td>2015-03-25</td>\n",
       "      <td>欧式</td>\n",
       "      <td>2.30</td>\n",
       "      <td>2015-03-25</td>\n",
       "      <td>2015-03</td>\n",
       "      <td>2015-02-09</td>\n",
       "      <td>510050.SH</td>\n",
       "      <td>ETF期权</td>\n",
       "      <td>0.1246</td>\n",
       "      <td>50ETF沽2015年3月2.30</td>\n",
       "      <td>实物资产</td>\n",
       "      <td>2015-03-26</td>\n",
       "      <td>510050P1503M02300</td>\n",
       "    </tr>\n",
       "    <tr>\n",
       "      <th>10000009</th>\n",
       "      <td>认沽</td>\n",
       "      <td>退市</td>\n",
       "      <td>10000</td>\n",
       "      <td>2015-03-25</td>\n",
       "      <td>欧式</td>\n",
       "      <td>2.35</td>\n",
       "      <td>2015-03-25</td>\n",
       "      <td>2015-03</td>\n",
       "      <td>2015-02-09</td>\n",
       "      <td>510050.SH</td>\n",
       "      <td>ETF期权</td>\n",
       "      <td>0.1522</td>\n",
       "      <td>50ETF沽2015年3月2.35</td>\n",
       "      <td>实物资产</td>\n",
       "      <td>2015-03-26</td>\n",
       "      <td>510050P1503M02350</td>\n",
       "    </tr>\n",
       "    <tr>\n",
       "      <th>10000010</th>\n",
       "      <td>认沽</td>\n",
       "      <td>退市</td>\n",
       "      <td>10000</td>\n",
       "      <td>2015-03-25</td>\n",
       "      <td>欧式</td>\n",
       "      <td>2.40</td>\n",
       "      <td>2015-03-25</td>\n",
       "      <td>2015-03</td>\n",
       "      <td>2015-02-09</td>\n",
       "      <td>510050.SH</td>\n",
       "      <td>ETF期权</td>\n",
       "      <td>0.1828</td>\n",
       "      <td>50ETF沽2015年3月2.40</td>\n",
       "      <td>实物资产</td>\n",
       "      <td>2015-03-26</td>\n",
       "      <td>510050P1503M02400</td>\n",
       "    </tr>\n",
       "  </tbody>\n",
       "</table>\n",
       "</div>"
      ],
      "text/plain": [
       "          call_or_put contract_state  contract_unit exercise_date  \\\n",
       "wind_code                                                           \n",
       "10000006           认沽             退市          10000    2015-03-25   \n",
       "10000007           认沽             退市          10000    2015-03-25   \n",
       "10000008           认沽             退市          10000    2015-03-25   \n",
       "10000009           认沽             退市          10000    2015-03-25   \n",
       "10000010           认沽             退市          10000    2015-03-25   \n",
       "\n",
       "          exercise_mode  exercise_price expire_date limit_month listed_date  \\\n",
       "wind_code                                                                     \n",
       "10000006             欧式            2.20  2015-03-25     2015-03  2015-02-09   \n",
       "10000007             欧式            2.25  2015-03-25     2015-03  2015-02-09   \n",
       "10000008             欧式            2.30  2015-03-25     2015-03  2015-02-09   \n",
       "10000009             欧式            2.35  2015-03-25     2015-03  2015-02-09   \n",
       "10000010             欧式            2.40  2015-03-25     2015-03  2015-02-09   \n",
       "\n",
       "          option_mark_code option_type  reference_price           sec_name  \\\n",
       "wind_code                                                                    \n",
       "10000006         510050.SH       ETF期权           0.0788  50ETF沽2015年3月2.20   \n",
       "10000007         510050.SH       ETF期权           0.1001  50ETF沽2015年3月2.25   \n",
       "10000008         510050.SH       ETF期权           0.1246  50ETF沽2015年3月2.30   \n",
       "10000009         510050.SH       ETF期权           0.1522  50ETF沽2015年3月2.35   \n",
       "10000010         510050.SH       ETF期权           0.1828  50ETF沽2015年3月2.40   \n",
       "\n",
       "          settle_mode settlement_date         trade_code  \n",
       "wind_code                                                 \n",
       "10000006         实物资产      2015-03-26  510050P1503M02200  \n",
       "10000007         实物资产      2015-03-26  510050P1503M02250  \n",
       "10000008         实物资产      2015-03-26  510050P1503M02300  \n",
       "10000009         实物资产      2015-03-26  510050P1503M02350  \n",
       "10000010         实物资产      2015-03-26  510050P1503M02400  "
      ]
     },
     "execution_count": 68,
     "metadata": {},
     "output_type": "execute_result"
    }
   ],
   "source": [
    "opt_df.head()"
   ]
  },
  {
   "cell_type": "code",
   "execution_count": 65,
   "metadata": {
    "collapsed": false
   },
   "outputs": [],
   "source": [
    "last_day = calendar.monthrange(year=date.year, month=date.month)[1]\n",
    "expire_month = datetime.date(date.year, date.month, last_day) + datetime.timedelta(1)"
   ]
  },
  {
   "cell_type": "code",
   "execution_count": 69,
   "metadata": {
    "collapsed": false
   },
   "outputs": [
    {
     "data": {
      "text/plain": [
       "'2017-11'"
      ]
     },
     "execution_count": 69,
     "metadata": {},
     "output_type": "execute_result"
    }
   ],
   "source": [
    "expire_month.strftime('%Y-%m')"
   ]
  },
  {
   "cell_type": "code",
   "execution_count": 71,
   "metadata": {
    "collapsed": false
   },
   "outputs": [],
   "source": [
    "opt_df = opt_df[opt_df['limit_month'] == expire_month.strftime('%Y-%m')]"
   ]
  },
  {
   "cell_type": "code",
   "execution_count": 72,
   "metadata": {
    "collapsed": false
   },
   "outputs": [
    {
     "data": {
      "text/html": [
       "<div>\n",
       "<style>\n",
       "    .dataframe thead tr:only-child th {\n",
       "        text-align: right;\n",
       "    }\n",
       "\n",
       "    .dataframe thead th {\n",
       "        text-align: left;\n",
       "    }\n",
       "\n",
       "    .dataframe tbody tr th {\n",
       "        vertical-align: top;\n",
       "    }\n",
       "</style>\n",
       "<table border=\"1\" class=\"dataframe\">\n",
       "  <thead>\n",
       "    <tr style=\"text-align: right;\">\n",
       "      <th></th>\n",
       "      <th>call_or_put</th>\n",
       "      <th>contract_state</th>\n",
       "      <th>contract_unit</th>\n",
       "      <th>exercise_date</th>\n",
       "      <th>exercise_mode</th>\n",
       "      <th>exercise_price</th>\n",
       "      <th>expire_date</th>\n",
       "      <th>limit_month</th>\n",
       "      <th>listed_date</th>\n",
       "      <th>option_mark_code</th>\n",
       "      <th>option_type</th>\n",
       "      <th>reference_price</th>\n",
       "      <th>sec_name</th>\n",
       "      <th>settle_mode</th>\n",
       "      <th>settlement_date</th>\n",
       "      <th>trade_code</th>\n",
       "    </tr>\n",
       "    <tr>\n",
       "      <th>wind_code</th>\n",
       "      <th></th>\n",
       "      <th></th>\n",
       "      <th></th>\n",
       "      <th></th>\n",
       "      <th></th>\n",
       "      <th></th>\n",
       "      <th></th>\n",
       "      <th></th>\n",
       "      <th></th>\n",
       "      <th></th>\n",
       "      <th></th>\n",
       "      <th></th>\n",
       "      <th></th>\n",
       "      <th></th>\n",
       "      <th></th>\n",
       "      <th></th>\n",
       "    </tr>\n",
       "  </thead>\n",
       "  <tbody>\n",
       "    <tr>\n",
       "      <th>10001016</th>\n",
       "      <td>认沽</td>\n",
       "      <td>上市</td>\n",
       "      <td>10000</td>\n",
       "      <td>2017-11-22</td>\n",
       "      <td>欧式</td>\n",
       "      <td>2.60</td>\n",
       "      <td>2017-11-22</td>\n",
       "      <td>2017-11</td>\n",
       "      <td>2017-09-28</td>\n",
       "      <td>510050.SH</td>\n",
       "      <td>ETF期权</td>\n",
       "      <td>0.0099</td>\n",
       "      <td>50ETF沽11月2.60</td>\n",
       "      <td>实物资产</td>\n",
       "      <td>2017-11-23</td>\n",
       "      <td>510050P1711M02600</td>\n",
       "    </tr>\n",
       "    <tr>\n",
       "      <th>10001017</th>\n",
       "      <td>认沽</td>\n",
       "      <td>上市</td>\n",
       "      <td>10000</td>\n",
       "      <td>2017-11-22</td>\n",
       "      <td>欧式</td>\n",
       "      <td>2.65</td>\n",
       "      <td>2017-11-22</td>\n",
       "      <td>2017-11</td>\n",
       "      <td>2017-09-28</td>\n",
       "      <td>510050.SH</td>\n",
       "      <td>ETF期权</td>\n",
       "      <td>0.0181</td>\n",
       "      <td>50ETF沽11月2.65</td>\n",
       "      <td>实物资产</td>\n",
       "      <td>2017-11-23</td>\n",
       "      <td>510050P1711M02650</td>\n",
       "    </tr>\n",
       "    <tr>\n",
       "      <th>10001018</th>\n",
       "      <td>认沽</td>\n",
       "      <td>上市</td>\n",
       "      <td>10000</td>\n",
       "      <td>2017-11-22</td>\n",
       "      <td>欧式</td>\n",
       "      <td>2.70</td>\n",
       "      <td>2017-11-22</td>\n",
       "      <td>2017-11</td>\n",
       "      <td>2017-09-28</td>\n",
       "      <td>510050.SH</td>\n",
       "      <td>ETF期权</td>\n",
       "      <td>0.0340</td>\n",
       "      <td>50ETF沽11月2.70</td>\n",
       "      <td>实物资产</td>\n",
       "      <td>2017-11-23</td>\n",
       "      <td>510050P1711M02700</td>\n",
       "    </tr>\n",
       "    <tr>\n",
       "      <th>10001019</th>\n",
       "      <td>认沽</td>\n",
       "      <td>上市</td>\n",
       "      <td>10000</td>\n",
       "      <td>2017-11-22</td>\n",
       "      <td>欧式</td>\n",
       "      <td>2.75</td>\n",
       "      <td>2017-11-22</td>\n",
       "      <td>2017-11</td>\n",
       "      <td>2017-09-28</td>\n",
       "      <td>510050.SH</td>\n",
       "      <td>ETF期权</td>\n",
       "      <td>0.0601</td>\n",
       "      <td>50ETF沽11月2.75</td>\n",
       "      <td>实物资产</td>\n",
       "      <td>2017-11-23</td>\n",
       "      <td>510050P1711M02750</td>\n",
       "    </tr>\n",
       "    <tr>\n",
       "      <th>10001020</th>\n",
       "      <td>认沽</td>\n",
       "      <td>上市</td>\n",
       "      <td>10000</td>\n",
       "      <td>2017-11-22</td>\n",
       "      <td>欧式</td>\n",
       "      <td>2.80</td>\n",
       "      <td>2017-11-22</td>\n",
       "      <td>2017-11</td>\n",
       "      <td>2017-09-28</td>\n",
       "      <td>510050.SH</td>\n",
       "      <td>ETF期权</td>\n",
       "      <td>0.0936</td>\n",
       "      <td>50ETF沽11月2.80</td>\n",
       "      <td>实物资产</td>\n",
       "      <td>2017-11-23</td>\n",
       "      <td>510050P1711M02800</td>\n",
       "    </tr>\n",
       "    <tr>\n",
       "      <th>10001022</th>\n",
       "      <td>认沽</td>\n",
       "      <td>上市</td>\n",
       "      <td>10000</td>\n",
       "      <td>2017-11-22</td>\n",
       "      <td>欧式</td>\n",
       "      <td>2.85</td>\n",
       "      <td>2017-11-22</td>\n",
       "      <td>2017-11</td>\n",
       "      <td>2017-10-09</td>\n",
       "      <td>510050.SH</td>\n",
       "      <td>ETF期权</td>\n",
       "      <td>0.1240</td>\n",
       "      <td>50ETF沽11月2.85</td>\n",
       "      <td>实物资产</td>\n",
       "      <td>2017-11-23</td>\n",
       "      <td>510050P1711M02850</td>\n",
       "    </tr>\n",
       "    <tr>\n",
       "      <th>10001024</th>\n",
       "      <td>认沽</td>\n",
       "      <td>上市</td>\n",
       "      <td>10000</td>\n",
       "      <td>2017-11-22</td>\n",
       "      <td>欧式</td>\n",
       "      <td>2.90</td>\n",
       "      <td>2017-11-22</td>\n",
       "      <td>2017-11</td>\n",
       "      <td>2017-10-17</td>\n",
       "      <td>510050.SH</td>\n",
       "      <td>ETF期权</td>\n",
       "      <td>0.1190</td>\n",
       "      <td>50ETF沽11月2.90</td>\n",
       "      <td>实物资产</td>\n",
       "      <td>2017-11-23</td>\n",
       "      <td>510050P1711M02900</td>\n",
       "    </tr>\n",
       "  </tbody>\n",
       "</table>\n",
       "</div>"
      ],
      "text/plain": [
       "          call_or_put contract_state  contract_unit exercise_date  \\\n",
       "wind_code                                                           \n",
       "10001016           认沽             上市          10000    2017-11-22   \n",
       "10001017           认沽             上市          10000    2017-11-22   \n",
       "10001018           认沽             上市          10000    2017-11-22   \n",
       "10001019           认沽             上市          10000    2017-11-22   \n",
       "10001020           认沽             上市          10000    2017-11-22   \n",
       "10001022           认沽             上市          10000    2017-11-22   \n",
       "10001024           认沽             上市          10000    2017-11-22   \n",
       "\n",
       "          exercise_mode  exercise_price expire_date limit_month listed_date  \\\n",
       "wind_code                                                                     \n",
       "10001016             欧式            2.60  2017-11-22     2017-11  2017-09-28   \n",
       "10001017             欧式            2.65  2017-11-22     2017-11  2017-09-28   \n",
       "10001018             欧式            2.70  2017-11-22     2017-11  2017-09-28   \n",
       "10001019             欧式            2.75  2017-11-22     2017-11  2017-09-28   \n",
       "10001020             欧式            2.80  2017-11-22     2017-11  2017-09-28   \n",
       "10001022             欧式            2.85  2017-11-22     2017-11  2017-10-09   \n",
       "10001024             欧式            2.90  2017-11-22     2017-11  2017-10-17   \n",
       "\n",
       "          option_mark_code option_type  reference_price       sec_name  \\\n",
       "wind_code                                                                \n",
       "10001016         510050.SH       ETF期权           0.0099  50ETF沽11月2.60   \n",
       "10001017         510050.SH       ETF期权           0.0181  50ETF沽11月2.65   \n",
       "10001018         510050.SH       ETF期权           0.0340  50ETF沽11月2.70   \n",
       "10001019         510050.SH       ETF期权           0.0601  50ETF沽11月2.75   \n",
       "10001020         510050.SH       ETF期权           0.0936  50ETF沽11月2.80   \n",
       "10001022         510050.SH       ETF期权           0.1240  50ETF沽11月2.85   \n",
       "10001024         510050.SH       ETF期权           0.1190  50ETF沽11月2.90   \n",
       "\n",
       "          settle_mode settlement_date         trade_code  \n",
       "wind_code                                                 \n",
       "10001016         实物资产      2017-11-23  510050P1711M02600  \n",
       "10001017         实物资产      2017-11-23  510050P1711M02650  \n",
       "10001018         实物资产      2017-11-23  510050P1711M02700  \n",
       "10001019         实物资产      2017-11-23  510050P1711M02750  \n",
       "10001020         实物资产      2017-11-23  510050P1711M02800  \n",
       "10001022         实物资产      2017-11-23  510050P1711M02850  \n",
       "10001024         实物资产      2017-11-23  510050P1711M02900  "
      ]
     },
     "execution_count": 72,
     "metadata": {},
     "output_type": "execute_result"
    }
   ],
   "source": [
    "opt_df"
   ]
  },
  {
   "cell_type": "code",
   "execution_count": 73,
   "metadata": {
    "collapsed": true
   },
   "outputs": [],
   "source": [
    "price = df.loc[date, '510050.SH']"
   ]
  },
  {
   "cell_type": "code",
   "execution_count": 74,
   "metadata": {
    "collapsed": false
   },
   "outputs": [
    {
     "data": {
      "text/plain": [
       "2.79"
      ]
     },
     "execution_count": 74,
     "metadata": {},
     "output_type": "execute_result"
    }
   ],
   "source": [
    "price"
   ]
  },
  {
   "cell_type": "code",
   "execution_count": 89,
   "metadata": {
    "collapsed": false
   },
   "outputs": [],
   "source": [
    "opt_df.loc[:, 'dif'] = (opt_df.loc[:, 'exercise_price'] - price).abs()"
   ]
  },
  {
   "cell_type": "code",
   "execution_count": 91,
   "metadata": {
    "collapsed": false
   },
   "outputs": [],
   "source": [
    "target_opt = opt_df.sort_values('dif').index[0]"
   ]
  },
  {
   "cell_type": "code",
   "execution_count": 92,
   "metadata": {
    "collapsed": false
   },
   "outputs": [
    {
     "data": {
      "text/plain": [
       "10001020"
      ]
     },
     "execution_count": 92,
     "metadata": {},
     "output_type": "execute_result"
    }
   ],
   "source": [
    "target_opt"
   ]
  },
  {
   "cell_type": "markdown",
   "metadata": {},
   "source": [
    "# 获取期权代码时间序列"
   ]
  },
  {
   "cell_type": "code",
   "execution_count": 169,
   "metadata": {
    "collapsed": true
   },
   "outputs": [],
   "source": [
    "df['wind_code'] = ''\n",
    "opt_df = pd.read_excel(u'D:/Data/list/期权列表.xlsx', index_col=0)\n",
    "opt_df = opt_df[opt_df['call_or_put'] == u'认沽']"
   ]
  },
  {
   "cell_type": "code",
   "execution_count": 173,
   "metadata": {
    "collapsed": false
   },
   "outputs": [],
   "source": [
    "for date in df.index:\n",
    "    last_day = calendar.monthrange(year=date.year, month=date.month)[1]\n",
    "    expire_month = datetime.date(date.year, date.month, last_day) + datetime.timedelta(1)\n",
    "    temp_df = opt_df[(opt_df['limit_month'] == expire_month.strftime('%Y-%m')) & (opt_df['listed_date'] <= date)]\n",
    "    price = df.loc[date, '510050.SH']\n",
    "    temp_df.loc[:, 'dif'] = (temp_df.loc[:, 'exercise_price'] - price).abs()\n",
    "    target_opt = temp_df.sort_values('dif').index[0]\n",
    "    df.loc[date, 'wind_code'] = str(target_opt)"
   ]
  },
  {
   "cell_type": "code",
   "execution_count": 174,
   "metadata": {
    "collapsed": false
   },
   "outputs": [
    {
     "data": {
      "text/html": [
       "<div>\n",
       "<style>\n",
       "    .dataframe thead tr:only-child th {\n",
       "        text-align: right;\n",
       "    }\n",
       "\n",
       "    .dataframe thead th {\n",
       "        text-align: left;\n",
       "    }\n",
       "\n",
       "    .dataframe tbody tr th {\n",
       "        vertical-align: top;\n",
       "    }\n",
       "</style>\n",
       "<table border=\"1\" class=\"dataframe\">\n",
       "  <thead>\n",
       "    <tr style=\"text-align: right;\">\n",
       "      <th></th>\n",
       "      <th>510050.SH</th>\n",
       "      <th>wind_code</th>\n",
       "    </tr>\n",
       "  </thead>\n",
       "  <tbody>\n",
       "    <tr>\n",
       "      <th>2015-02-09</th>\n",
       "      <td>2.331</td>\n",
       "      <td>10000009</td>\n",
       "    </tr>\n",
       "    <tr>\n",
       "      <th>2015-02-10</th>\n",
       "      <td>2.369</td>\n",
       "      <td>10000009</td>\n",
       "    </tr>\n",
       "    <tr>\n",
       "      <th>2015-02-11</th>\n",
       "      <td>2.380</td>\n",
       "      <td>10000010</td>\n",
       "    </tr>\n",
       "    <tr>\n",
       "      <th>2015-02-12</th>\n",
       "      <td>2.384</td>\n",
       "      <td>10000010</td>\n",
       "    </tr>\n",
       "    <tr>\n",
       "      <th>2015-02-13</th>\n",
       "      <td>2.390</td>\n",
       "      <td>10000010</td>\n",
       "    </tr>\n",
       "  </tbody>\n",
       "</table>\n",
       "</div>"
      ],
      "text/plain": [
       "            510050.SH wind_code\n",
       "2015-02-09      2.331  10000009\n",
       "2015-02-10      2.369  10000009\n",
       "2015-02-11      2.380  10000010\n",
       "2015-02-12      2.384  10000010\n",
       "2015-02-13      2.390  10000010"
      ]
     },
     "execution_count": 174,
     "metadata": {},
     "output_type": "execute_result"
    }
   ],
   "source": [
    "df.head()"
   ]
  },
  {
   "cell_type": "markdown",
   "metadata": {},
   "source": [
    "# 获取期权价格时间序列"
   ]
  },
  {
   "cell_type": "code",
   "execution_count": 175,
   "metadata": {
    "collapsed": false
   },
   "outputs": [],
   "source": [
    "df['option'] = 0.0\n",
    "df.index = pd.to_datetime(df.index)"
   ]
  },
  {
   "cell_type": "code",
   "execution_count": 177,
   "metadata": {
    "collapsed": false
   },
   "outputs": [],
   "source": [
    "for index in df['wind_code'].unique():\n",
    "    wind_code = '%s.SH'%(index)\n",
    "#     print index\n",
    "    fname = u'%s/%s.xlsx'%(DATA_DIR, wind_code)\n",
    "    odf = pd.read_excel(fname, index_col=0)\n",
    "    temp_df = df[df['wind_code'] == index]\n",
    "#     df[df['wind_code'] == index]['option'] = odf.loc[temp_df.index]['close']\n",
    "    select_index = df[df['wind_code'] == index].index\n",
    "#     print select_index\n",
    "    df.loc[select_index, 'option'] = odf.loc[temp_df.index]['close']\n",
    "#     print df.loc[select_index, 'option']\n",
    "#     print odf.loc[temp_df.index]['close']\n",
    "#     break"
   ]
  },
  {
   "cell_type": "code",
   "execution_count": 178,
   "metadata": {
    "collapsed": false
   },
   "outputs": [
    {
     "data": {
      "text/html": [
       "<div>\n",
       "<style>\n",
       "    .dataframe thead tr:only-child th {\n",
       "        text-align: right;\n",
       "    }\n",
       "\n",
       "    .dataframe thead th {\n",
       "        text-align: left;\n",
       "    }\n",
       "\n",
       "    .dataframe tbody tr th {\n",
       "        vertical-align: top;\n",
       "    }\n",
       "</style>\n",
       "<table border=\"1\" class=\"dataframe\">\n",
       "  <thead>\n",
       "    <tr style=\"text-align: right;\">\n",
       "      <th></th>\n",
       "      <th>510050.SH</th>\n",
       "      <th>wind_code</th>\n",
       "      <th>option</th>\n",
       "    </tr>\n",
       "  </thead>\n",
       "  <tbody>\n",
       "    <tr>\n",
       "      <th>2015-02-09</th>\n",
       "      <td>2.331</td>\n",
       "      <td>10000009</td>\n",
       "      <td>0.1268</td>\n",
       "    </tr>\n",
       "    <tr>\n",
       "      <th>2015-02-10</th>\n",
       "      <td>2.369</td>\n",
       "      <td>10000009</td>\n",
       "      <td>0.0975</td>\n",
       "    </tr>\n",
       "    <tr>\n",
       "      <th>2015-02-11</th>\n",
       "      <td>2.380</td>\n",
       "      <td>10000010</td>\n",
       "      <td>0.0992</td>\n",
       "    </tr>\n",
       "    <tr>\n",
       "      <th>2015-02-12</th>\n",
       "      <td>2.384</td>\n",
       "      <td>10000010</td>\n",
       "      <td>0.0888</td>\n",
       "    </tr>\n",
       "    <tr>\n",
       "      <th>2015-02-13</th>\n",
       "      <td>2.390</td>\n",
       "      <td>10000010</td>\n",
       "      <td>0.0730</td>\n",
       "    </tr>\n",
       "  </tbody>\n",
       "</table>\n",
       "</div>"
      ],
      "text/plain": [
       "            510050.SH wind_code  option\n",
       "2015-02-09      2.331  10000009  0.1268\n",
       "2015-02-10      2.369  10000009  0.0975\n",
       "2015-02-11      2.380  10000010  0.0992\n",
       "2015-02-12      2.384  10000010  0.0888\n",
       "2015-02-13      2.390  10000010  0.0730"
      ]
     },
     "execution_count": 178,
     "metadata": {},
     "output_type": "execute_result"
    }
   ],
   "source": [
    "df.head()"
   ]
  },
  {
   "cell_type": "code",
   "execution_count": 182,
   "metadata": {
    "collapsed": false
   },
   "outputs": [
    {
     "data": {
      "text/plain": [
       "<matplotlib.axes._subplots.AxesSubplot at 0x230f9e10>"
      ]
     },
     "execution_count": 182,
     "metadata": {},
     "output_type": "execute_result"
    },
    {
     "data": {
      "image/png": "[encoded data removed]",
      "text/plain": [
       "<matplotlib.figure.Figure at 0xa8c6df0>"
      ]
     },
     "metadata": {},
     "output_type": "display_data"
    }
   ],
   "source": [
    "plt.figure(figsize=(16, 9))\n",
    "df['option'].plot()"
   ]
  },
  {
   "cell_type": "code",
   "execution_count": 183,
   "metadata": {
    "collapsed": false
   },
   "outputs": [
    {
     "data": {
      "text/plain": [
       "<matplotlib.axes._subplots.AxesSubplot at 0x23161cf0>"
      ]
     },
     "execution_count": 183,
     "metadata": {},
     "output_type": "execute_result"
    },
    {
     "data": {
      "image/png": "[encoded data removed]",
      "text/plain": [
       "<matplotlib.figure.Figure at 0x23169690>"
      ]
     },
     "metadata": {},
     "output_type": "display_data"
    }
   ],
   "source": [
    "plt.figure(figsize=(16, 9))\n",
    "df['510050.SH'].plot()"
   ]
  },
  {
   "cell_type": "code",
   "execution_count": null,
   "metadata": {
    "collapsed": true
   },
   "outputs": [],
   "source": []
  }
 ],
 "metadata": {
  "anaconda-cloud": {},
  "kernelspec": {
   "display_name": "Python [default]",
   "language": "python",
   "name": "python2"
  },
  "language_info": {
   "codemirror_mode": {
    "name": "ipython",
    "version": 2
   },
   "file_extension": ".py",
   "mimetype": "text/x-python",
   "name": "python",
   "nbconvert_exporter": "python",
   "pygments_lexer": "ipython2",
   "version": "2.7.12"
  }
 },
 "nbformat": 4,
 "nbformat_minor": 1
}
