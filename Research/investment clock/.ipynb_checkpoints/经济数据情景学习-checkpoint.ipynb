{
 "cells": [
  {
   "cell_type": "code",
   "execution_count": 1,
   "metadata": {
    "collapsed": true
   },
   "outputs": [],
   "source": [
    "import pandas as pd\n",
    "import numpy as np\n",
    "import matplotlib.pyplot as plt\n",
    "import metric_learn\n",
    "from scipy.spatial.distance import euclidean\n",
    "%matplotlib inline"
   ]
  },
  {
   "cell_type": "code",
   "execution_count": 1343,
   "metadata": {
    "collapsed": true
   },
   "outputs": [],
   "source": [
    "stock = pd.read_excel('./data/price.xlsx', sheetname='stock')\n",
    "bond = pd.read_excel('./data/price.xlsx', sheetname='bond')"
   ]
  },
  {
   "cell_type": "code",
   "execution_count": 1479,
   "metadata": {
    "collapsed": true
   },
   "outputs": [],
   "source": [
    "# fname = u'./data/三大产业对GDP增长的贡献率和拉动(季).xlsx'\n",
    "# fname = u'./data/国内生产总值(季).xlsx'\n",
    "# fname = u'./data/规模以上工业增加值当月(月).xlsx'\n",
    "# fname = u'./data/固定资产投资完成额分行业同比(月).xlsx'\n",
    "# fname = u'./data/货币供应量(月).xlsx'\n",
    "# fname = u'./data/股票市场总体指标(月).xlsx'\n",
    "# fname = u'./data/规模以上工业增加值累计(月).xlsx'\n",
    "fname = u'./data/价格指数(月).xlsx'\n",
    "# fname = u'./data/macro.csv'\n",
    "# fname = u'./data/month_data.xlsx'\n",
    "# mdf = pd.read_excel(fname, index_col=0)\n",
    "# mdf = mdf.fillna(method='ffill').dropna()\n",
    "# fname = u'./data/quarter_data.xlsx'\n",
    "# qdf = pd.read_excel(fname, index_col=0)"
   ]
  },
  {
   "cell_type": "code",
   "execution_count": 1480,
   "metadata": {
    "collapsed": true
   },
   "outputs": [],
   "source": [
    "df = pd.read_excel(fname, index_col=0)\n",
    "# df = pd.read_csv(fname, index_col=0, encoding='gbk')\n",
    "# df.index = pd.to_datetime(df.index)"
   ]
  },
  {
   "cell_type": "code",
   "execution_count": 1481,
   "metadata": {},
   "outputs": [],
   "source": [
    "df = df[df.index >= '2002-01-01'].fillna(method='ffill').dropna(axis=1)\n",
    "# df = df.fillna(method='ffill').dropna()\n",
    "# df = mdf.join(qdf).dropna()\n",
    "# df = mdf.join(qdf).fillna(method='ffill').dropna()\n",
    "# df = qdf.copy()"
   ]
  },
  {
   "cell_type": "code",
   "execution_count": 1482,
   "metadata": {},
   "outputs": [
    {
     "data": {
      "text/html": [
       "<div>\n",
       "<style scoped>\n",
       "    .dataframe tbody tr th:only-of-type {\n",
       "        vertical-align: middle;\n",
       "    }\n",
       "\n",
       "    .dataframe tbody tr th {\n",
       "        vertical-align: top;\n",
       "    }\n",
       "\n",
       "    .dataframe thead th {\n",
       "        text-align: right;\n",
       "    }\n",
       "</style>\n",
       "<table border=\"1\" class=\"dataframe\">\n",
       "  <thead>\n",
       "    <tr style=\"text-align: right;\">\n",
       "      <th></th>\n",
       "      <th>CPI:当月同比</th>\n",
       "      <th>CPI:食品:当月同比</th>\n",
       "      <th>CPI:非食品:当月同比</th>\n",
       "      <th>CPI:服务:当月同比</th>\n",
       "      <th>CPI:衣着:当月同比</th>\n",
       "      <th>CPI:居住:当月同比</th>\n",
       "      <th>CPI:交通和通信:当月同比</th>\n",
       "      <th>CPI:教育文化和娱乐:当月同比</th>\n",
       "      <th>CPI:医疗保健:当月同比</th>\n",
       "      <th>PPI:全部工业品:当月同比</th>\n",
       "      <th>PPI:生产资料:当月同比</th>\n",
       "      <th>PPI:生产资料:采掘工业:当月同比</th>\n",
       "      <th>PPI:生产资料:原材料工业:当月同比</th>\n",
       "      <th>PPI:生产资料:加工工业:当月同比</th>\n",
       "      <th>PPI:生活资料:当月同比</th>\n",
       "      <th>PPI:生活资料:食品类:当月同比</th>\n",
       "      <th>PPI:生活资料:衣着类:当月同比</th>\n",
       "      <th>PPI:生活资料:一般日用品类:当月同比</th>\n",
       "      <th>PPI:生活资料:耐用消费品类:当月同比</th>\n",
       "    </tr>\n",
       "  </thead>\n",
       "  <tbody>\n",
       "    <tr>\n",
       "      <th>2002-01-31</th>\n",
       "      <td>-1.0</td>\n",
       "      <td>-1.9</td>\n",
       "      <td>-0.5</td>\n",
       "      <td>3.1</td>\n",
       "      <td>-1.8</td>\n",
       "      <td>0.6</td>\n",
       "      <td>-2.7</td>\n",
       "      <td>1.3</td>\n",
       "      <td>-0.8</td>\n",
       "      <td>-4.20</td>\n",
       "      <td>-5.00</td>\n",
       "      <td>-7.60</td>\n",
       "      <td>-6.10</td>\n",
       "      <td>-3.70</td>\n",
       "      <td>-2.30</td>\n",
       "      <td>-0.30</td>\n",
       "      <td>-1.30</td>\n",
       "      <td>-2.20</td>\n",
       "      <td>-6.00</td>\n",
       "    </tr>\n",
       "    <tr>\n",
       "      <th>2002-02-28</th>\n",
       "      <td>0.0</td>\n",
       "      <td>0.6</td>\n",
       "      <td>-0.3</td>\n",
       "      <td>3.1</td>\n",
       "      <td>-2.0</td>\n",
       "      <td>0.6</td>\n",
       "      <td>-0.5</td>\n",
       "      <td>0.8</td>\n",
       "      <td>-0.8</td>\n",
       "      <td>-4.20</td>\n",
       "      <td>-4.70</td>\n",
       "      <td>-5.10</td>\n",
       "      <td>-6.20</td>\n",
       "      <td>-3.60</td>\n",
       "      <td>-2.90</td>\n",
       "      <td>-0.40</td>\n",
       "      <td>-2.00</td>\n",
       "      <td>-2.60</td>\n",
       "      <td>-7.31</td>\n",
       "    </tr>\n",
       "    <tr>\n",
       "      <th>2002-03-31</th>\n",
       "      <td>-0.8</td>\n",
       "      <td>-0.6</td>\n",
       "      <td>-0.8</td>\n",
       "      <td>2.2</td>\n",
       "      <td>-2.2</td>\n",
       "      <td>-0.3</td>\n",
       "      <td>-0.9</td>\n",
       "      <td>0.2</td>\n",
       "      <td>-1.2</td>\n",
       "      <td>-4.00</td>\n",
       "      <td>-4.50</td>\n",
       "      <td>-3.90</td>\n",
       "      <td>-5.70</td>\n",
       "      <td>-3.70</td>\n",
       "      <td>-2.70</td>\n",
       "      <td>-0.10</td>\n",
       "      <td>-3.20</td>\n",
       "      <td>-1.70</td>\n",
       "      <td>-7.00</td>\n",
       "    </tr>\n",
       "    <tr>\n",
       "      <th>2002-04-30</th>\n",
       "      <td>-1.3</td>\n",
       "      <td>-2.0</td>\n",
       "      <td>-0.9</td>\n",
       "      <td>1.7</td>\n",
       "      <td>-2.2</td>\n",
       "      <td>-0.2</td>\n",
       "      <td>-1.9</td>\n",
       "      <td>0.2</td>\n",
       "      <td>-1.2</td>\n",
       "      <td>-3.06</td>\n",
       "      <td>-3.38</td>\n",
       "      <td>-1.18</td>\n",
       "      <td>-4.08</td>\n",
       "      <td>-3.22</td>\n",
       "      <td>-2.29</td>\n",
       "      <td>-0.71</td>\n",
       "      <td>-1.48</td>\n",
       "      <td>-1.77</td>\n",
       "      <td>-5.30</td>\n",
       "    </tr>\n",
       "    <tr>\n",
       "      <th>2002-05-31</th>\n",
       "      <td>-1.1</td>\n",
       "      <td>-1.5</td>\n",
       "      <td>-0.9</td>\n",
       "      <td>1.6</td>\n",
       "      <td>-1.9</td>\n",
       "      <td>-0.3</td>\n",
       "      <td>-2.1</td>\n",
       "      <td>0.4</td>\n",
       "      <td>-1.3</td>\n",
       "      <td>-2.63</td>\n",
       "      <td>-2.74</td>\n",
       "      <td>1.18</td>\n",
       "      <td>-2.83</td>\n",
       "      <td>-3.31</td>\n",
       "      <td>-2.35</td>\n",
       "      <td>-0.60</td>\n",
       "      <td>-1.17</td>\n",
       "      <td>-2.08</td>\n",
       "      <td>-5.86</td>\n",
       "    </tr>\n",
       "  </tbody>\n",
       "</table>\n",
       "</div>"
      ],
      "text/plain": [
       "            CPI:当月同比  CPI:食品:当月同比  CPI:非食品:当月同比  CPI:服务:当月同比  CPI:衣着:当月同比  \\\n",
       "2002-01-31      -1.0         -1.9          -0.5          3.1         -1.8   \n",
       "2002-02-28       0.0          0.6          -0.3          3.1         -2.0   \n",
       "2002-03-31      -0.8         -0.6          -0.8          2.2         -2.2   \n",
       "2002-04-30      -1.3         -2.0          -0.9          1.7         -2.2   \n",
       "2002-05-31      -1.1         -1.5          -0.9          1.6         -1.9   \n",
       "\n",
       "            CPI:居住:当月同比  CPI:交通和通信:当月同比  CPI:教育文化和娱乐:当月同比  CPI:医疗保健:当月同比  \\\n",
       "2002-01-31          0.6            -2.7               1.3           -0.8   \n",
       "2002-02-28          0.6            -0.5               0.8           -0.8   \n",
       "2002-03-31         -0.3            -0.9               0.2           -1.2   \n",
       "2002-04-30         -0.2            -1.9               0.2           -1.2   \n",
       "2002-05-31         -0.3            -2.1               0.4           -1.3   \n",
       "\n",
       "            PPI:全部工业品:当月同比  PPI:生产资料:当月同比  PPI:生产资料:采掘工业:当月同比  \\\n",
       "2002-01-31           -4.20          -5.00               -7.60   \n",
       "2002-02-28           -4.20          -4.70               -5.10   \n",
       "2002-03-31           -4.00          -4.50               -3.90   \n",
       "2002-04-30           -3.06          -3.38               -1.18   \n",
       "2002-05-31           -2.63          -2.74                1.18   \n",
       "\n",
       "            PPI:生产资料:原材料工业:当月同比  PPI:生产资料:加工工业:当月同比  PPI:生活资料:当月同比  \\\n",
       "2002-01-31                -6.10               -3.70          -2.30   \n",
       "2002-02-28                -6.20               -3.60          -2.90   \n",
       "2002-03-31                -5.70               -3.70          -2.70   \n",
       "2002-04-30                -4.08               -3.22          -2.29   \n",
       "2002-05-31                -2.83               -3.31          -2.35   \n",
       "\n",
       "            PPI:生活资料:食品类:当月同比  PPI:生活资料:衣着类:当月同比  PPI:生活资料:一般日用品类:当月同比  \\\n",
       "2002-01-31              -0.30              -1.30                 -2.20   \n",
       "2002-02-28              -0.40              -2.00                 -2.60   \n",
       "2002-03-31              -0.10              -3.20                 -1.70   \n",
       "2002-04-30              -0.71              -1.48                 -1.77   \n",
       "2002-05-31              -0.60              -1.17                 -2.08   \n",
       "\n",
       "            PPI:生活资料:耐用消费品类:当月同比  \n",
       "2002-01-31                 -6.00  \n",
       "2002-02-28                 -7.31  \n",
       "2002-03-31                 -7.00  \n",
       "2002-04-30                 -5.30  \n",
       "2002-05-31                 -5.86  "
      ]
     },
     "execution_count": 1482,
     "metadata": {},
     "output_type": "execute_result"
    }
   ],
   "source": [
    "df.head()"
   ]
  },
  {
   "cell_type": "code",
   "execution_count": 1483,
   "metadata": {},
   "outputs": [
    {
     "data": {
      "text/plain": [
       "Index([u'CPI:当月同比', u'CPI:食品:当月同比', u'CPI:非食品:当月同比', u'CPI:服务:当月同比',\n",
       "       u'CPI:衣着:当月同比', u'CPI:居住:当月同比', u'CPI:交通和通信:当月同比', u'CPI:教育文化和娱乐:当月同比',\n",
       "       u'CPI:医疗保健:当月同比', u'PPI:全部工业品:当月同比', u'PPI:生产资料:当月同比',\n",
       "       u'PPI:生产资料:采掘工业:当月同比', u'PPI:生产资料:原材料工业:当月同比', u'PPI:生产资料:加工工业:当月同比',\n",
       "       u'PPI:生活资料:当月同比', u'PPI:生活资料:食品类:当月同比', u'PPI:生活资料:衣着类:当月同比',\n",
       "       u'PPI:生活资料:一般日用品类:当月同比', u'PPI:生活资料:耐用消费品类:当月同比'],\n",
       "      dtype='object')"
      ]
     },
     "execution_count": 1483,
     "metadata": {},
     "output_type": "execute_result"
    }
   ],
   "source": [
    "df.columns"
   ]
  },
  {
   "cell_type": "code",
   "execution_count": 1484,
   "metadata": {},
   "outputs": [
    {
     "data": {
      "text/html": [
       "<div>\n",
       "<style scoped>\n",
       "    .dataframe tbody tr th:only-of-type {\n",
       "        vertical-align: middle;\n",
       "    }\n",
       "\n",
       "    .dataframe tbody tr th {\n",
       "        vertical-align: top;\n",
       "    }\n",
       "\n",
       "    .dataframe thead th {\n",
       "        text-align: right;\n",
       "    }\n",
       "</style>\n",
       "<table border=\"1\" class=\"dataframe\">\n",
       "  <thead>\n",
       "    <tr style=\"text-align: right;\">\n",
       "      <th></th>\n",
       "      <th>CPI:当月同比</th>\n",
       "      <th>CPI:食品:当月同比</th>\n",
       "      <th>CPI:非食品:当月同比</th>\n",
       "      <th>CPI:服务:当月同比</th>\n",
       "      <th>CPI:衣着:当月同比</th>\n",
       "      <th>CPI:居住:当月同比</th>\n",
       "      <th>CPI:交通和通信:当月同比</th>\n",
       "      <th>CPI:教育文化和娱乐:当月同比</th>\n",
       "      <th>CPI:医疗保健:当月同比</th>\n",
       "      <th>PPI:全部工业品:当月同比</th>\n",
       "      <th>PPI:生产资料:当月同比</th>\n",
       "      <th>PPI:生产资料:采掘工业:当月同比</th>\n",
       "      <th>PPI:生产资料:原材料工业:当月同比</th>\n",
       "      <th>PPI:生产资料:加工工业:当月同比</th>\n",
       "      <th>PPI:生活资料:当月同比</th>\n",
       "      <th>PPI:生活资料:食品类:当月同比</th>\n",
       "      <th>PPI:生活资料:衣着类:当月同比</th>\n",
       "      <th>PPI:生活资料:一般日用品类:当月同比</th>\n",
       "      <th>PPI:生活资料:耐用消费品类:当月同比</th>\n",
       "    </tr>\n",
       "  </thead>\n",
       "  <tbody>\n",
       "    <tr>\n",
       "      <th>2017-08-31</th>\n",
       "      <td>1.8</td>\n",
       "      <td>-0.2</td>\n",
       "      <td>2.3</td>\n",
       "      <td>3.1</td>\n",
       "      <td>1.2582</td>\n",
       "      <td>2.6753</td>\n",
       "      <td>0.7212</td>\n",
       "      <td>2.5206</td>\n",
       "      <td>5.9314</td>\n",
       "      <td>6.3</td>\n",
       "      <td>8.3</td>\n",
       "      <td>18.2</td>\n",
       "      <td>11.0</td>\n",
       "      <td>6.4</td>\n",
       "      <td>0.6</td>\n",
       "      <td>0.7</td>\n",
       "      <td>1.4</td>\n",
       "      <td>0.8</td>\n",
       "      <td>0.0</td>\n",
       "    </tr>\n",
       "    <tr>\n",
       "      <th>2017-09-30</th>\n",
       "      <td>1.6</td>\n",
       "      <td>-1.4</td>\n",
       "      <td>2.4</td>\n",
       "      <td>3.3</td>\n",
       "      <td>1.2961</td>\n",
       "      <td>2.7522</td>\n",
       "      <td>0.5278</td>\n",
       "      <td>2.2807</td>\n",
       "      <td>7.5769</td>\n",
       "      <td>6.9</td>\n",
       "      <td>9.1</td>\n",
       "      <td>17.2</td>\n",
       "      <td>11.9</td>\n",
       "      <td>7.3</td>\n",
       "      <td>0.7</td>\n",
       "      <td>0.7</td>\n",
       "      <td>1.2</td>\n",
       "      <td>1.3</td>\n",
       "      <td>0.0</td>\n",
       "    </tr>\n",
       "    <tr>\n",
       "      <th>2017-10-31</th>\n",
       "      <td>1.9</td>\n",
       "      <td>-0.4</td>\n",
       "      <td>2.4</td>\n",
       "      <td>3.2</td>\n",
       "      <td>1.2302</td>\n",
       "      <td>2.8333</td>\n",
       "      <td>0.8310</td>\n",
       "      <td>2.2515</td>\n",
       "      <td>7.1891</td>\n",
       "      <td>6.9</td>\n",
       "      <td>9.0</td>\n",
       "      <td>14.7</td>\n",
       "      <td>11.6</td>\n",
       "      <td>7.5</td>\n",
       "      <td>0.8</td>\n",
       "      <td>0.6</td>\n",
       "      <td>0.9</td>\n",
       "      <td>1.9</td>\n",
       "      <td>0.0</td>\n",
       "    </tr>\n",
       "    <tr>\n",
       "      <th>2017-11-30</th>\n",
       "      <td>1.7</td>\n",
       "      <td>-1.1</td>\n",
       "      <td>2.5</td>\n",
       "      <td>3.1</td>\n",
       "      <td>1.1580</td>\n",
       "      <td>2.8018</td>\n",
       "      <td>1.3266</td>\n",
       "      <td>2.0407</td>\n",
       "      <td>6.9507</td>\n",
       "      <td>5.8</td>\n",
       "      <td>7.5</td>\n",
       "      <td>10.8</td>\n",
       "      <td>9.7</td>\n",
       "      <td>6.3</td>\n",
       "      <td>0.6</td>\n",
       "      <td>0.4</td>\n",
       "      <td>0.7</td>\n",
       "      <td>1.7</td>\n",
       "      <td>0.0</td>\n",
       "    </tr>\n",
       "    <tr>\n",
       "      <th>2017-12-31</th>\n",
       "      <td>1.8</td>\n",
       "      <td>-0.4</td>\n",
       "      <td>2.4</td>\n",
       "      <td>3.0</td>\n",
       "      <td>1.3000</td>\n",
       "      <td>2.8000</td>\n",
       "      <td>1.2000</td>\n",
       "      <td>2.1000</td>\n",
       "      <td>6.6000</td>\n",
       "      <td>4.9</td>\n",
       "      <td>6.4</td>\n",
       "      <td>9.1</td>\n",
       "      <td>8.1</td>\n",
       "      <td>5.5</td>\n",
       "      <td>0.5</td>\n",
       "      <td>0.2</td>\n",
       "      <td>0.6</td>\n",
       "      <td>1.6</td>\n",
       "      <td>-0.2</td>\n",
       "    </tr>\n",
       "  </tbody>\n",
       "</table>\n",
       "</div>"
      ],
      "text/plain": [
       "            CPI:当月同比  CPI:食品:当月同比  CPI:非食品:当月同比  CPI:服务:当月同比  CPI:衣着:当月同比  \\\n",
       "2017-08-31       1.8         -0.2           2.3          3.1       1.2582   \n",
       "2017-09-30       1.6         -1.4           2.4          3.3       1.2961   \n",
       "2017-10-31       1.9         -0.4           2.4          3.2       1.2302   \n",
       "2017-11-30       1.7         -1.1           2.5          3.1       1.1580   \n",
       "2017-12-31       1.8         -0.4           2.4          3.0       1.3000   \n",
       "\n",
       "            CPI:居住:当月同比  CPI:交通和通信:当月同比  CPI:教育文化和娱乐:当月同比  CPI:医疗保健:当月同比  \\\n",
       "2017-08-31       2.6753          0.7212            2.5206         5.9314   \n",
       "2017-09-30       2.7522          0.5278            2.2807         7.5769   \n",
       "2017-10-31       2.8333          0.8310            2.2515         7.1891   \n",
       "2017-11-30       2.8018          1.3266            2.0407         6.9507   \n",
       "2017-12-31       2.8000          1.2000            2.1000         6.6000   \n",
       "\n",
       "            PPI:全部工业品:当月同比  PPI:生产资料:当月同比  PPI:生产资料:采掘工业:当月同比  \\\n",
       "2017-08-31             6.3            8.3                18.2   \n",
       "2017-09-30             6.9            9.1                17.2   \n",
       "2017-10-31             6.9            9.0                14.7   \n",
       "2017-11-30             5.8            7.5                10.8   \n",
       "2017-12-31             4.9            6.4                 9.1   \n",
       "\n",
       "            PPI:生产资料:原材料工业:当月同比  PPI:生产资料:加工工业:当月同比  PPI:生活资料:当月同比  \\\n",
       "2017-08-31                 11.0                 6.4            0.6   \n",
       "2017-09-30                 11.9                 7.3            0.7   \n",
       "2017-10-31                 11.6                 7.5            0.8   \n",
       "2017-11-30                  9.7                 6.3            0.6   \n",
       "2017-12-31                  8.1                 5.5            0.5   \n",
       "\n",
       "            PPI:生活资料:食品类:当月同比  PPI:生活资料:衣着类:当月同比  PPI:生活资料:一般日用品类:当月同比  \\\n",
       "2017-08-31                0.7                1.4                   0.8   \n",
       "2017-09-30                0.7                1.2                   1.3   \n",
       "2017-10-31                0.6                0.9                   1.9   \n",
       "2017-11-30                0.4                0.7                   1.7   \n",
       "2017-12-31                0.2                0.6                   1.6   \n",
       "\n",
       "            PPI:生活资料:耐用消费品类:当月同比  \n",
       "2017-08-31                   0.0  \n",
       "2017-09-30                   0.0  \n",
       "2017-10-31                   0.0  \n",
       "2017-11-30                   0.0  \n",
       "2017-12-31                  -0.2  "
      ]
     },
     "execution_count": 1484,
     "metadata": {},
     "output_type": "execute_result"
    }
   ],
   "source": [
    "df.tail()"
   ]
  },
  {
   "cell_type": "code",
   "execution_count": 1485,
   "metadata": {},
   "outputs": [
    {
     "data": {
      "text/plain": [
       "(192, 19)"
      ]
     },
     "execution_count": 1485,
     "metadata": {},
     "output_type": "execute_result"
    }
   ],
   "source": [
    "df.shape"
   ]
  },
  {
   "cell_type": "code",
   "execution_count": 1486,
   "metadata": {
    "collapsed": true
   },
   "outputs": [],
   "source": [
    "X = df.copy()\n",
    "# X = df.pct_change(periods=12) # 季度/月度同比序列\n",
    "# X = X.replace([-np.inf, np.inf], np.nan).fillna(method='ffill').dropna()"
   ]
  },
  {
   "cell_type": "code",
   "execution_count": 1487,
   "metadata": {},
   "outputs": [
    {
     "data": {
      "text/html": [
       "<div>\n",
       "<style scoped>\n",
       "    .dataframe tbody tr th:only-of-type {\n",
       "        vertical-align: middle;\n",
       "    }\n",
       "\n",
       "    .dataframe tbody tr th {\n",
       "        vertical-align: top;\n",
       "    }\n",
       "\n",
       "    .dataframe thead th {\n",
       "        text-align: right;\n",
       "    }\n",
       "</style>\n",
       "<table border=\"1\" class=\"dataframe\">\n",
       "  <thead>\n",
       "    <tr style=\"text-align: right;\">\n",
       "      <th></th>\n",
       "      <th>CPI:当月同比</th>\n",
       "      <th>CPI:食品:当月同比</th>\n",
       "      <th>CPI:非食品:当月同比</th>\n",
       "      <th>CPI:服务:当月同比</th>\n",
       "      <th>CPI:衣着:当月同比</th>\n",
       "      <th>CPI:居住:当月同比</th>\n",
       "      <th>CPI:交通和通信:当月同比</th>\n",
       "      <th>CPI:教育文化和娱乐:当月同比</th>\n",
       "      <th>CPI:医疗保健:当月同比</th>\n",
       "      <th>PPI:全部工业品:当月同比</th>\n",
       "      <th>PPI:生产资料:当月同比</th>\n",
       "      <th>PPI:生产资料:采掘工业:当月同比</th>\n",
       "      <th>PPI:生产资料:原材料工业:当月同比</th>\n",
       "      <th>PPI:生产资料:加工工业:当月同比</th>\n",
       "      <th>PPI:生活资料:当月同比</th>\n",
       "      <th>PPI:生活资料:食品类:当月同比</th>\n",
       "      <th>PPI:生活资料:衣着类:当月同比</th>\n",
       "      <th>PPI:生活资料:一般日用品类:当月同比</th>\n",
       "      <th>PPI:生活资料:耐用消费品类:当月同比</th>\n",
       "    </tr>\n",
       "  </thead>\n",
       "  <tbody>\n",
       "    <tr>\n",
       "      <th>2017-08-31</th>\n",
       "      <td>1.8</td>\n",
       "      <td>-0.2</td>\n",
       "      <td>2.3</td>\n",
       "      <td>3.1</td>\n",
       "      <td>1.2582</td>\n",
       "      <td>2.6753</td>\n",
       "      <td>0.7212</td>\n",
       "      <td>2.5206</td>\n",
       "      <td>5.9314</td>\n",
       "      <td>6.3</td>\n",
       "      <td>8.3</td>\n",
       "      <td>18.2</td>\n",
       "      <td>11.0</td>\n",
       "      <td>6.4</td>\n",
       "      <td>0.6</td>\n",
       "      <td>0.7</td>\n",
       "      <td>1.4</td>\n",
       "      <td>0.8</td>\n",
       "      <td>0.0</td>\n",
       "    </tr>\n",
       "    <tr>\n",
       "      <th>2017-09-30</th>\n",
       "      <td>1.6</td>\n",
       "      <td>-1.4</td>\n",
       "      <td>2.4</td>\n",
       "      <td>3.3</td>\n",
       "      <td>1.2961</td>\n",
       "      <td>2.7522</td>\n",
       "      <td>0.5278</td>\n",
       "      <td>2.2807</td>\n",
       "      <td>7.5769</td>\n",
       "      <td>6.9</td>\n",
       "      <td>9.1</td>\n",
       "      <td>17.2</td>\n",
       "      <td>11.9</td>\n",
       "      <td>7.3</td>\n",
       "      <td>0.7</td>\n",
       "      <td>0.7</td>\n",
       "      <td>1.2</td>\n",
       "      <td>1.3</td>\n",
       "      <td>0.0</td>\n",
       "    </tr>\n",
       "    <tr>\n",
       "      <th>2017-10-31</th>\n",
       "      <td>1.9</td>\n",
       "      <td>-0.4</td>\n",
       "      <td>2.4</td>\n",
       "      <td>3.2</td>\n",
       "      <td>1.2302</td>\n",
       "      <td>2.8333</td>\n",
       "      <td>0.8310</td>\n",
       "      <td>2.2515</td>\n",
       "      <td>7.1891</td>\n",
       "      <td>6.9</td>\n",
       "      <td>9.0</td>\n",
       "      <td>14.7</td>\n",
       "      <td>11.6</td>\n",
       "      <td>7.5</td>\n",
       "      <td>0.8</td>\n",
       "      <td>0.6</td>\n",
       "      <td>0.9</td>\n",
       "      <td>1.9</td>\n",
       "      <td>0.0</td>\n",
       "    </tr>\n",
       "    <tr>\n",
       "      <th>2017-11-30</th>\n",
       "      <td>1.7</td>\n",
       "      <td>-1.1</td>\n",
       "      <td>2.5</td>\n",
       "      <td>3.1</td>\n",
       "      <td>1.1580</td>\n",
       "      <td>2.8018</td>\n",
       "      <td>1.3266</td>\n",
       "      <td>2.0407</td>\n",
       "      <td>6.9507</td>\n",
       "      <td>5.8</td>\n",
       "      <td>7.5</td>\n",
       "      <td>10.8</td>\n",
       "      <td>9.7</td>\n",
       "      <td>6.3</td>\n",
       "      <td>0.6</td>\n",
       "      <td>0.4</td>\n",
       "      <td>0.7</td>\n",
       "      <td>1.7</td>\n",
       "      <td>0.0</td>\n",
       "    </tr>\n",
       "    <tr>\n",
       "      <th>2017-12-31</th>\n",
       "      <td>1.8</td>\n",
       "      <td>-0.4</td>\n",
       "      <td>2.4</td>\n",
       "      <td>3.0</td>\n",
       "      <td>1.3000</td>\n",
       "      <td>2.8000</td>\n",
       "      <td>1.2000</td>\n",
       "      <td>2.1000</td>\n",
       "      <td>6.6000</td>\n",
       "      <td>4.9</td>\n",
       "      <td>6.4</td>\n",
       "      <td>9.1</td>\n",
       "      <td>8.1</td>\n",
       "      <td>5.5</td>\n",
       "      <td>0.5</td>\n",
       "      <td>0.2</td>\n",
       "      <td>0.6</td>\n",
       "      <td>1.6</td>\n",
       "      <td>-0.2</td>\n",
       "    </tr>\n",
       "  </tbody>\n",
       "</table>\n",
       "</div>"
      ],
      "text/plain": [
       "            CPI:当月同比  CPI:食品:当月同比  CPI:非食品:当月同比  CPI:服务:当月同比  CPI:衣着:当月同比  \\\n",
       "2017-08-31       1.8         -0.2           2.3          3.1       1.2582   \n",
       "2017-09-30       1.6         -1.4           2.4          3.3       1.2961   \n",
       "2017-10-31       1.9         -0.4           2.4          3.2       1.2302   \n",
       "2017-11-30       1.7         -1.1           2.5          3.1       1.1580   \n",
       "2017-12-31       1.8         -0.4           2.4          3.0       1.3000   \n",
       "\n",
       "            CPI:居住:当月同比  CPI:交通和通信:当月同比  CPI:教育文化和娱乐:当月同比  CPI:医疗保健:当月同比  \\\n",
       "2017-08-31       2.6753          0.7212            2.5206         5.9314   \n",
       "2017-09-30       2.7522          0.5278            2.2807         7.5769   \n",
       "2017-10-31       2.8333          0.8310            2.2515         7.1891   \n",
       "2017-11-30       2.8018          1.3266            2.0407         6.9507   \n",
       "2017-12-31       2.8000          1.2000            2.1000         6.6000   \n",
       "\n",
       "            PPI:全部工业品:当月同比  PPI:生产资料:当月同比  PPI:生产资料:采掘工业:当月同比  \\\n",
       "2017-08-31             6.3            8.3                18.2   \n",
       "2017-09-30             6.9            9.1                17.2   \n",
       "2017-10-31             6.9            9.0                14.7   \n",
       "2017-11-30             5.8            7.5                10.8   \n",
       "2017-12-31             4.9            6.4                 9.1   \n",
       "\n",
       "            PPI:生产资料:原材料工业:当月同比  PPI:生产资料:加工工业:当月同比  PPI:生活资料:当月同比  \\\n",
       "2017-08-31                 11.0                 6.4            0.6   \n",
       "2017-09-30                 11.9                 7.3            0.7   \n",
       "2017-10-31                 11.6                 7.5            0.8   \n",
       "2017-11-30                  9.7                 6.3            0.6   \n",
       "2017-12-31                  8.1                 5.5            0.5   \n",
       "\n",
       "            PPI:生活资料:食品类:当月同比  PPI:生活资料:衣着类:当月同比  PPI:生活资料:一般日用品类:当月同比  \\\n",
       "2017-08-31                0.7                1.4                   0.8   \n",
       "2017-09-30                0.7                1.2                   1.3   \n",
       "2017-10-31                0.6                0.9                   1.9   \n",
       "2017-11-30                0.4                0.7                   1.7   \n",
       "2017-12-31                0.2                0.6                   1.6   \n",
       "\n",
       "            PPI:生活资料:耐用消费品类:当月同比  \n",
       "2017-08-31                   0.0  \n",
       "2017-09-30                   0.0  \n",
       "2017-10-31                   0.0  \n",
       "2017-11-30                   0.0  \n",
       "2017-12-31                  -0.2  "
      ]
     },
     "execution_count": 1487,
     "metadata": {},
     "output_type": "execute_result"
    }
   ],
   "source": [
    "X.tail()"
   ]
  },
  {
   "cell_type": "code",
   "execution_count": 1488,
   "metadata": {
    "collapsed": true,
    "scrolled": true
   },
   "outputs": [],
   "source": [
    "# XX = df.pct_change()# 环比序列\n",
    "# XX = XX.replace([-np.inf, np.inf], np.nan).fillna(method='ffill').dropna()\n",
    "# X = pd.concat([X, XX], axis=1).dropna()\n",
    "# XX.head()"
   ]
  },
  {
   "cell_type": "code",
   "execution_count": 1489,
   "metadata": {},
   "outputs": [
    {
     "data": {
      "text/plain": [
       "(192, 19)"
      ]
     },
     "execution_count": 1489,
     "metadata": {},
     "output_type": "execute_result"
    }
   ],
   "source": [
    "X.shape"
   ]
  },
  {
   "cell_type": "markdown",
   "metadata": {},
   "source": [
    "# 股票数据验证"
   ]
  },
  {
   "cell_type": "code",
   "execution_count": 1490,
   "metadata": {
    "collapsed": true
   },
   "outputs": [],
   "source": [
    "ret_df = stock.resample('M').last().pct_change()"
   ]
  },
  {
   "cell_type": "code",
   "execution_count": 1491,
   "metadata": {
    "collapsed": true
   },
   "outputs": [],
   "source": [
    "ret_df = ret_df.loc[X.index]"
   ]
  },
  {
   "cell_type": "code",
   "execution_count": 1492,
   "metadata": {
    "collapsed": true
   },
   "outputs": [],
   "source": [
    "index_dict = {k: v for (v, k) in enumerate(ret_df.index)}"
   ]
  },
  {
   "cell_type": "code",
   "execution_count": 1493,
   "metadata": {
    "collapsed": true
   },
   "outputs": [],
   "source": [
    "Y = pd.Series(0, index=X.index)\n",
    "top = ret_df.sort_values('000001.SH', ascending=False).iloc[:Y.shape[0] / 20]"
   ]
  },
  {
   "cell_type": "code",
   "execution_count": 1494,
   "metadata": {},
   "outputs": [
    {
     "data": {
      "text/html": [
       "<div>\n",
       "<style scoped>\n",
       "    .dataframe tbody tr th:only-of-type {\n",
       "        vertical-align: middle;\n",
       "    }\n",
       "\n",
       "    .dataframe tbody tr th {\n",
       "        vertical-align: top;\n",
       "    }\n",
       "\n",
       "    .dataframe thead th {\n",
       "        text-align: right;\n",
       "    }\n",
       "</style>\n",
       "<table border=\"1\" class=\"dataframe\">\n",
       "  <thead>\n",
       "    <tr style=\"text-align: right;\">\n",
       "      <th></th>\n",
       "      <th>000001.SH</th>\n",
       "    </tr>\n",
       "  </thead>\n",
       "  <tbody>\n",
       "    <tr>\n",
       "      <th>2006-12-31</th>\n",
       "      <td>0.274467</td>\n",
       "    </tr>\n",
       "    <tr>\n",
       "      <th>2007-04-30</th>\n",
       "      <td>0.206436</td>\n",
       "    </tr>\n",
       "    <tr>\n",
       "      <th>2014-12-31</th>\n",
       "      <td>0.205694</td>\n",
       "    </tr>\n",
       "    <tr>\n",
       "      <th>2015-04-30</th>\n",
       "      <td>0.185105</td>\n",
       "    </tr>\n",
       "    <tr>\n",
       "      <th>2007-07-31</th>\n",
       "      <td>0.170212</td>\n",
       "    </tr>\n",
       "    <tr>\n",
       "      <th>2007-08-31</th>\n",
       "      <td>0.167253</td>\n",
       "    </tr>\n",
       "    <tr>\n",
       "      <th>2009-07-31</th>\n",
       "      <td>0.152972</td>\n",
       "    </tr>\n",
       "    <tr>\n",
       "      <th>2012-12-31</th>\n",
       "      <td>0.145957</td>\n",
       "    </tr>\n",
       "    <tr>\n",
       "      <th>2002-06-30</th>\n",
       "      <td>0.143180</td>\n",
       "    </tr>\n",
       "  </tbody>\n",
       "</table>\n",
       "</div>"
      ],
      "text/plain": [
       "            000001.SH\n",
       "2006-12-31   0.274467\n",
       "2007-04-30   0.206436\n",
       "2014-12-31   0.205694\n",
       "2015-04-30   0.185105\n",
       "2007-07-31   0.170212\n",
       "2007-08-31   0.167253\n",
       "2009-07-31   0.152972\n",
       "2012-12-31   0.145957\n",
       "2002-06-30   0.143180"
      ]
     },
     "execution_count": 1494,
     "metadata": {},
     "output_type": "execute_result"
    }
   ],
   "source": [
    "top"
   ]
  },
  {
   "cell_type": "code",
   "execution_count": 1495,
   "metadata": {
    "collapsed": true
   },
   "outputs": [],
   "source": [
    "Y.loc[top.index] = 1"
   ]
  },
  {
   "cell_type": "code",
   "execution_count": 1496,
   "metadata": {
    "collapsed": true
   },
   "outputs": [],
   "source": [
    "top_neighbor = [ret_df.index[index_dict[index]-1] for index in top.index if index_dict[index] >= 1] +\\\n",
    "               [ret_df.index[index_dict[index]+1] for index in top.index if index_dict[index] < ret_df.shape[0] - 1]"
   ]
  },
  {
   "cell_type": "code",
   "execution_count": 1497,
   "metadata": {},
   "outputs": [
    {
     "data": {
      "text/html": [
       "<div>\n",
       "<style scoped>\n",
       "    .dataframe tbody tr th:only-of-type {\n",
       "        vertical-align: middle;\n",
       "    }\n",
       "\n",
       "    .dataframe tbody tr th {\n",
       "        vertical-align: top;\n",
       "    }\n",
       "\n",
       "    .dataframe thead th {\n",
       "        text-align: right;\n",
       "    }\n",
       "</style>\n",
       "<table border=\"1\" class=\"dataframe\">\n",
       "  <thead>\n",
       "    <tr style=\"text-align: right;\">\n",
       "      <th></th>\n",
       "      <th>000001.SH</th>\n",
       "    </tr>\n",
       "  </thead>\n",
       "  <tbody>\n",
       "    <tr>\n",
       "      <th>2006-11-30</th>\n",
       "      <td>0.142164</td>\n",
       "    </tr>\n",
       "    <tr>\n",
       "      <th>2007-03-31</th>\n",
       "      <td>0.105138</td>\n",
       "    </tr>\n",
       "    <tr>\n",
       "      <th>2014-11-30</th>\n",
       "      <td>0.108528</td>\n",
       "    </tr>\n",
       "    <tr>\n",
       "      <th>2015-03-31</th>\n",
       "      <td>0.132192</td>\n",
       "    </tr>\n",
       "    <tr>\n",
       "      <th>2007-06-30</th>\n",
       "      <td>-0.070310</td>\n",
       "    </tr>\n",
       "    <tr>\n",
       "      <th>2007-07-31</th>\n",
       "      <td>0.170212</td>\n",
       "    </tr>\n",
       "    <tr>\n",
       "      <th>2009-06-30</th>\n",
       "      <td>0.123981</td>\n",
       "    </tr>\n",
       "    <tr>\n",
       "      <th>2012-11-30</th>\n",
       "      <td>-0.042904</td>\n",
       "    </tr>\n",
       "    <tr>\n",
       "      <th>2002-05-31</th>\n",
       "      <td>-0.091150</td>\n",
       "    </tr>\n",
       "    <tr>\n",
       "      <th>2007-01-31</th>\n",
       "      <td>0.041436</td>\n",
       "    </tr>\n",
       "    <tr>\n",
       "      <th>2007-05-31</th>\n",
       "      <td>0.069868</td>\n",
       "    </tr>\n",
       "    <tr>\n",
       "      <th>2015-01-31</th>\n",
       "      <td>-0.007517</td>\n",
       "    </tr>\n",
       "    <tr>\n",
       "      <th>2015-05-31</th>\n",
       "      <td>0.038294</td>\n",
       "    </tr>\n",
       "    <tr>\n",
       "      <th>2007-08-31</th>\n",
       "      <td>0.167253</td>\n",
       "    </tr>\n",
       "    <tr>\n",
       "      <th>2007-09-30</th>\n",
       "      <td>0.063899</td>\n",
       "    </tr>\n",
       "    <tr>\n",
       "      <th>2009-08-31</th>\n",
       "      <td>-0.218143</td>\n",
       "    </tr>\n",
       "    <tr>\n",
       "      <th>2013-01-31</th>\n",
       "      <td>0.051251</td>\n",
       "    </tr>\n",
       "    <tr>\n",
       "      <th>2002-07-31</th>\n",
       "      <td>-0.046839</td>\n",
       "    </tr>\n",
       "  </tbody>\n",
       "</table>\n",
       "</div>"
      ],
      "text/plain": [
       "            000001.SH\n",
       "2006-11-30   0.142164\n",
       "2007-03-31   0.105138\n",
       "2014-11-30   0.108528\n",
       "2015-03-31   0.132192\n",
       "2007-06-30  -0.070310\n",
       "2007-07-31   0.170212\n",
       "2009-06-30   0.123981\n",
       "2012-11-30  -0.042904\n",
       "2002-05-31  -0.091150\n",
       "2007-01-31   0.041436\n",
       "2007-05-31   0.069868\n",
       "2015-01-31  -0.007517\n",
       "2015-05-31   0.038294\n",
       "2007-08-31   0.167253\n",
       "2007-09-30   0.063899\n",
       "2009-08-31  -0.218143\n",
       "2013-01-31   0.051251\n",
       "2002-07-31  -0.046839"
      ]
     },
     "execution_count": 1497,
     "metadata": {},
     "output_type": "execute_result"
    }
   ],
   "source": [
    "ret_df.loc[top_neighbor]"
   ]
  },
  {
   "cell_type": "code",
   "execution_count": 1498,
   "metadata": {
    "collapsed": true
   },
   "outputs": [],
   "source": [
    "Y.loc[top_neighbor] = 1"
   ]
  },
  {
   "cell_type": "code",
   "execution_count": 1499,
   "metadata": {},
   "outputs": [
    {
     "data": {
      "text/plain": [
       "25"
      ]
     },
     "execution_count": 1499,
     "metadata": {},
     "output_type": "execute_result"
    }
   ],
   "source": [
    "Y[Y == 1].sum()"
   ]
  },
  {
   "cell_type": "code",
   "execution_count": 1500,
   "metadata": {
    "collapsed": true
   },
   "outputs": [],
   "source": [
    "lmnn = metric_learn.LMNN(k=5, learn_rate=1e-6)"
   ]
  },
  {
   "cell_type": "code",
   "execution_count": 1501,
   "metadata": {},
   "outputs": [
    {
     "data": {
      "text/plain": [
       "<metric_learn.lmnn.python_LMNN at 0x38683eb8>"
      ]
     },
     "execution_count": 1501,
     "metadata": {},
     "output_type": "execute_result"
    }
   ],
   "source": [
    "lmnn.fit(X.astype('float64').as_matrix(), Y.as_matrix())"
   ]
  },
  {
   "cell_type": "code",
   "execution_count": 1502,
   "metadata": {
    "collapsed": true
   },
   "outputs": [],
   "source": [
    "X_lmnn = lmnn.transform()"
   ]
  },
  {
   "cell_type": "code",
   "execution_count": 1503,
   "metadata": {
    "collapsed": true
   },
   "outputs": [],
   "source": [
    "X_lmnn = pd.DataFrame(X_lmnn, index=X.index)"
   ]
  },
  {
   "cell_type": "code",
   "execution_count": 1504,
   "metadata": {
    "collapsed": true
   },
   "outputs": [],
   "source": [
    "scenario = X_lmnn[Y == 1]\n",
    "center = scenario.mean()\n",
    "distance = pd.Series(index = Y.index)\n",
    "for index in X_lmnn.index:\n",
    "    x = X_lmnn.loc[index]\n",
    "    distance.loc[index] = euclidean(x, center)"
   ]
  },
  {
   "cell_type": "code",
   "execution_count": 1505,
   "metadata": {},
   "outputs": [
    {
     "data": {
      "text/plain": [
       "<matplotlib.legend.Legend at 0x381bd828>"
      ]
     },
     "execution_count": 1505,
     "metadata": {},
     "output_type": "execute_result"
    },
    {
     "data": {
      "image/png": "[encoded data removed]",
      "text/plain": [
       "<matplotlib.figure.Figure at 0x38442eb8>"
      ]
     },
     "metadata": {},
     "output_type": "display_data"
    }
   ],
   "source": [
    "plt.figure(figsize=(16, 9))\n",
    "plt.plot(distance, label='Distance')\n",
    "# plt.plot((stock['000001.SH'][stock.index >= distance.index[0]].pct_change() + 1).cumprod())\n",
    "plt.legend()"
   ]
  },
  {
   "cell_type": "code",
   "execution_count": 1506,
   "metadata": {},
   "outputs": [
    {
     "data": {
      "text/plain": [
       "Text(0.5,1,u'return of T period')"
      ]
     },
     "execution_count": 1506,
     "metadata": {},
     "output_type": "execute_result"
    },
    {
     "data": {
      "image/png": "[encoded data removed]",
      "text/plain": [
       "<matplotlib.figure.Figure at 0x3251f860>"
      ]
     },
     "metadata": {},
     "output_type": "display_data"
    }
   ],
   "source": [
    "plt.figure(figsize=(16, 9))\n",
    "plt.scatter(distance[Y == 0].values, ret_df.loc[distance[Y == 0].index].values)\n",
    "plt.title(u'return of T period')"
   ]
  },
  {
   "cell_type": "code",
   "execution_count": 1507,
   "metadata": {},
   "outputs": [
    {
     "name": "stdout",
     "output_type": "stream",
     "text": [
      "-0.273897658252\n",
      "-0.0349000678687\n",
      "-0.0600200094776\n"
     ]
    }
   ],
   "source": [
    "# ret_df.loc[distance.index].astype(float).corr(distance.astype(float))\n",
    "# np.corrcoef(ret_df.loc[distance[Y == 0].index].values.reshape(-1), distance[Y == 0].values)\n",
    "print ret_df['000001.SH'].corr(distance)\n",
    "print ret_df['000001.SH'].corr(distance.pct_change())\n",
    "print ret_df['000001.SH'].corr(distance.diff())"
   ]
  },
  {
   "cell_type": "code",
   "execution_count": 1508,
   "metadata": {},
   "outputs": [
    {
     "data": {
      "text/plain": [
       "Text(0.5,1,u'return of T+1 period')"
      ]
     },
     "execution_count": 1508,
     "metadata": {},
     "output_type": "execute_result"
    },
    {
     "data": {
      "image/png": "[encoded data removed]",
      "text/plain": [
       "<matplotlib.figure.Figure at 0x385b2b38>"
      ]
     },
     "metadata": {},
     "output_type": "display_data"
    }
   ],
   "source": [
    "plt.figure(figsize=(16, 9))\n",
    "plt.scatter(distance[Y == 0].values, ret_df.loc[distance[Y == 0].index].shift(-1).values)\n",
    "plt.title(u'return of T+1 period')"
   ]
  },
  {
   "cell_type": "code",
   "execution_count": 1509,
   "metadata": {},
   "outputs": [
    {
     "name": "stdout",
     "output_type": "stream",
     "text": [
      "-0.257549683763\n",
      "-0.127988108083\n",
      "-0.115847617127\n"
     ]
    }
   ],
   "source": [
    "print ret_df['000001.SH'].shift(-1).corr(distance)\n",
    "print ret_df['000001.SH'].shift(-1).corr(distance.pct_change())\n",
    "print ret_df['000001.SH'].shift(-1).corr(distance.diff())"
   ]
  },
  {
   "cell_type": "markdown",
   "metadata": {
    "collapsed": true
   },
   "source": [
    "# 债券数据验证"
   ]
  },
  {
   "cell_type": "code",
   "execution_count": 1531,
   "metadata": {},
   "outputs": [
    {
     "data": {
      "text/plain": [
       "<matplotlib.collections.PathCollection at 0x3e297f60>"
      ]
     },
     "execution_count": 1531,
     "metadata": {},
     "output_type": "execute_result"
    },
    {
     "data": {
      "image/png": "[encoded data removed]",
      "text/plain": [
       "<matplotlib.figure.Figure at 0x3c604128>"
      ]
     },
     "metadata": {},
     "output_type": "display_data"
    }
   ],
   "source": [
    "plt.figure(figsize=(16, 9))\n",
    "plt.scatter(df[u'CPI:当月同比'], ret_df['GCB10Y'])"
   ]
  },
  {
   "cell_type": "code",
   "execution_count": 1510,
   "metadata": {
    "collapsed": true
   },
   "outputs": [],
   "source": [
    "ret_df = bond.resample('M').last().pct_change()"
   ]
  },
  {
   "cell_type": "code",
   "execution_count": 1511,
   "metadata": {
    "collapsed": true
   },
   "outputs": [],
   "source": [
    "X = X[X.index >= ret_df.index[0]]"
   ]
  },
  {
   "cell_type": "code",
   "execution_count": 1512,
   "metadata": {
    "collapsed": true
   },
   "outputs": [],
   "source": [
    "ret_df = ret_df.loc[X.index]"
   ]
  },
  {
   "cell_type": "code",
   "execution_count": 1513,
   "metadata": {
    "collapsed": true
   },
   "outputs": [],
   "source": [
    "index_dict = {k: v for (v, k) in enumerate(ret_df.index)}"
   ]
  },
  {
   "cell_type": "code",
   "execution_count": 1514,
   "metadata": {
    "collapsed": true
   },
   "outputs": [],
   "source": [
    "Y = pd.Series(0, index=X.index)\n",
    "top = ret_df.sort_values('GCB10Y').iloc[:Y.shape[0] / 20]"
   ]
  },
  {
   "cell_type": "code",
   "execution_count": 1515,
   "metadata": {},
   "outputs": [
    {
     "data": {
      "text/html": [
       "<div>\n",
       "<style scoped>\n",
       "    .dataframe tbody tr th:only-of-type {\n",
       "        vertical-align: middle;\n",
       "    }\n",
       "\n",
       "    .dataframe tbody tr th {\n",
       "        vertical-align: top;\n",
       "    }\n",
       "\n",
       "    .dataframe thead th {\n",
       "        text-align: right;\n",
       "    }\n",
       "</style>\n",
       "<table border=\"1\" class=\"dataframe\">\n",
       "  <thead>\n",
       "    <tr style=\"text-align: right;\">\n",
       "      <th></th>\n",
       "      <th>GCB10Y</th>\n",
       "    </tr>\n",
       "  </thead>\n",
       "  <tbody>\n",
       "    <tr>\n",
       "      <th>2008-10-31</th>\n",
       "      <td>-0.172359</td>\n",
       "    </tr>\n",
       "    <tr>\n",
       "      <th>2005-03-31</th>\n",
       "      <td>-0.147536</td>\n",
       "    </tr>\n",
       "    <tr>\n",
       "      <th>2003-12-31</th>\n",
       "      <td>-0.145639</td>\n",
       "    </tr>\n",
       "    <tr>\n",
       "      <th>2002-04-30</th>\n",
       "      <td>-0.123603</td>\n",
       "    </tr>\n",
       "    <tr>\n",
       "      <th>2008-09-30</th>\n",
       "      <td>-0.120259</td>\n",
       "    </tr>\n",
       "    <tr>\n",
       "      <th>2004-12-31</th>\n",
       "      <td>-0.113948</td>\n",
       "    </tr>\n",
       "    <tr>\n",
       "      <th>2002-12-31</th>\n",
       "      <td>-0.098502</td>\n",
       "    </tr>\n",
       "    <tr>\n",
       "      <th>2005-09-30</th>\n",
       "      <td>-0.089980</td>\n",
       "    </tr>\n",
       "    <tr>\n",
       "      <th>2002-03-31</th>\n",
       "      <td>-0.088264</td>\n",
       "    </tr>\n",
       "  </tbody>\n",
       "</table>\n",
       "</div>"
      ],
      "text/plain": [
       "              GCB10Y\n",
       "2008-10-31 -0.172359\n",
       "2005-03-31 -0.147536\n",
       "2003-12-31 -0.145639\n",
       "2002-04-30 -0.123603\n",
       "2008-09-30 -0.120259\n",
       "2004-12-31 -0.113948\n",
       "2002-12-31 -0.098502\n",
       "2005-09-30 -0.089980\n",
       "2002-03-31 -0.088264"
      ]
     },
     "execution_count": 1515,
     "metadata": {},
     "output_type": "execute_result"
    }
   ],
   "source": [
    "top"
   ]
  },
  {
   "cell_type": "code",
   "execution_count": 1516,
   "metadata": {
    "collapsed": true
   },
   "outputs": [],
   "source": [
    "Y.loc[top.index] = 1"
   ]
  },
  {
   "cell_type": "code",
   "execution_count": 1517,
   "metadata": {
    "collapsed": true
   },
   "outputs": [],
   "source": [
    "top_neighbor = [ret_df.index[index_dict[index]-1] for index in top.index if index_dict[index] >= 1] +\\\n",
    "               [ret_df.index[index_dict[index]+1] for index in top.index if index_dict[index] < ret_df.shape[0] - 1]"
   ]
  },
  {
   "cell_type": "code",
   "execution_count": 1518,
   "metadata": {},
   "outputs": [
    {
     "data": {
      "text/html": [
       "<div>\n",
       "<style scoped>\n",
       "    .dataframe tbody tr th:only-of-type {\n",
       "        vertical-align: middle;\n",
       "    }\n",
       "\n",
       "    .dataframe tbody tr th {\n",
       "        vertical-align: top;\n",
       "    }\n",
       "\n",
       "    .dataframe thead th {\n",
       "        text-align: right;\n",
       "    }\n",
       "</style>\n",
       "<table border=\"1\" class=\"dataframe\">\n",
       "  <thead>\n",
       "    <tr style=\"text-align: right;\">\n",
       "      <th></th>\n",
       "      <th>GCB10Y</th>\n",
       "    </tr>\n",
       "  </thead>\n",
       "  <tbody>\n",
       "    <tr>\n",
       "      <th>2008-09-30</th>\n",
       "      <td>-0.120259</td>\n",
       "    </tr>\n",
       "    <tr>\n",
       "      <th>2005-02-28</th>\n",
       "      <td>-0.013229</td>\n",
       "    </tr>\n",
       "    <tr>\n",
       "      <th>2003-11-30</th>\n",
       "      <td>0.183391</td>\n",
       "    </tr>\n",
       "    <tr>\n",
       "      <th>2002-03-31</th>\n",
       "      <td>-0.088264</td>\n",
       "    </tr>\n",
       "    <tr>\n",
       "      <th>2008-08-31</th>\n",
       "      <td>-0.048805</td>\n",
       "    </tr>\n",
       "    <tr>\n",
       "      <th>2004-11-30</th>\n",
       "      <td>0.107221</td>\n",
       "    </tr>\n",
       "    <tr>\n",
       "      <th>2002-11-30</th>\n",
       "      <td>0.175796</td>\n",
       "    </tr>\n",
       "    <tr>\n",
       "      <th>2005-08-31</th>\n",
       "      <td>0.051190</td>\n",
       "    </tr>\n",
       "    <tr>\n",
       "      <th>2002-02-28</th>\n",
       "      <td>-0.027061</td>\n",
       "    </tr>\n",
       "    <tr>\n",
       "      <th>2008-11-30</th>\n",
       "      <td>-0.027511</td>\n",
       "    </tr>\n",
       "    <tr>\n",
       "      <th>2005-04-30</th>\n",
       "      <td>-0.018494</td>\n",
       "    </tr>\n",
       "    <tr>\n",
       "      <th>2004-01-31</th>\n",
       "      <td>0.151896</td>\n",
       "    </tr>\n",
       "    <tr>\n",
       "      <th>2002-05-31</th>\n",
       "      <td>-0.048437</td>\n",
       "    </tr>\n",
       "    <tr>\n",
       "      <th>2008-10-31</th>\n",
       "      <td>-0.172359</td>\n",
       "    </tr>\n",
       "    <tr>\n",
       "      <th>2005-01-31</th>\n",
       "      <td>0.034860</td>\n",
       "    </tr>\n",
       "    <tr>\n",
       "      <th>2003-01-31</th>\n",
       "      <td>-0.024924</td>\n",
       "    </tr>\n",
       "    <tr>\n",
       "      <th>2005-10-31</th>\n",
       "      <td>-0.055271</td>\n",
       "    </tr>\n",
       "    <tr>\n",
       "      <th>2002-04-30</th>\n",
       "      <td>-0.123603</td>\n",
       "    </tr>\n",
       "  </tbody>\n",
       "</table>\n",
       "</div>"
      ],
      "text/plain": [
       "              GCB10Y\n",
       "2008-09-30 -0.120259\n",
       "2005-02-28 -0.013229\n",
       "2003-11-30  0.183391\n",
       "2002-03-31 -0.088264\n",
       "2008-08-31 -0.048805\n",
       "2004-11-30  0.107221\n",
       "2002-11-30  0.175796\n",
       "2005-08-31  0.051190\n",
       "2002-02-28 -0.027061\n",
       "2008-11-30 -0.027511\n",
       "2005-04-30 -0.018494\n",
       "2004-01-31  0.151896\n",
       "2002-05-31 -0.048437\n",
       "2008-10-31 -0.172359\n",
       "2005-01-31  0.034860\n",
       "2003-01-31 -0.024924\n",
       "2005-10-31 -0.055271\n",
       "2002-04-30 -0.123603"
      ]
     },
     "execution_count": 1518,
     "metadata": {},
     "output_type": "execute_result"
    }
   ],
   "source": [
    "ret_df.loc[top_neighbor]"
   ]
  },
  {
   "cell_type": "code",
   "execution_count": 1519,
   "metadata": {
    "collapsed": true
   },
   "outputs": [],
   "source": [
    "Y.loc[top_neighbor] = 1"
   ]
  },
  {
   "cell_type": "code",
   "execution_count": 1520,
   "metadata": {},
   "outputs": [
    {
     "data": {
      "text/plain": [
       "23"
      ]
     },
     "execution_count": 1520,
     "metadata": {},
     "output_type": "execute_result"
    }
   ],
   "source": [
    "Y[Y == 1].sum()"
   ]
  },
  {
   "cell_type": "code",
   "execution_count": 1521,
   "metadata": {
    "collapsed": true
   },
   "outputs": [],
   "source": [
    "lmnn = metric_learn.LMNN(k=5, learn_rate=1e-6)"
   ]
  },
  {
   "cell_type": "code",
   "execution_count": 1522,
   "metadata": {},
   "outputs": [
    {
     "data": {
      "text/plain": [
       "<metric_learn.lmnn.python_LMNN at 0x397da470>"
      ]
     },
     "execution_count": 1522,
     "metadata": {},
     "output_type": "execute_result"
    }
   ],
   "source": [
    "lmnn.fit(X.astype('float64').as_matrix(), Y.as_matrix())"
   ]
  },
  {
   "cell_type": "code",
   "execution_count": 1523,
   "metadata": {
    "collapsed": true
   },
   "outputs": [],
   "source": [
    "X_lmnn = lmnn.transform()"
   ]
  },
  {
   "cell_type": "code",
   "execution_count": 1524,
   "metadata": {
    "collapsed": true
   },
   "outputs": [],
   "source": [
    "X_lmnn = pd.DataFrame(X_lmnn, index=X.index)"
   ]
  },
  {
   "cell_type": "code",
   "execution_count": 1525,
   "metadata": {
    "collapsed": true
   },
   "outputs": [],
   "source": [
    "scenario = X_lmnn[Y == 1]\n",
    "center = scenario.mean()\n",
    "distance = pd.Series(index = Y.index)\n",
    "for index in X_lmnn.index:\n",
    "    x = X_lmnn.loc[index]\n",
    "    distance.loc[index] = euclidean(x, center)"
   ]
  },
  {
   "cell_type": "code",
   "execution_count": 1526,
   "metadata": {},
   "outputs": [
    {
     "data": {
      "text/plain": [
       "<matplotlib.legend.Legend at 0x322bb320>"
      ]
     },
     "execution_count": 1526,
     "metadata": {},
     "output_type": "execute_result"
    },
    {
     "data": {
      "image/png": "[encoded data removed]",
      "text/plain": [
       "<matplotlib.figure.Figure at 0x38508240>"
      ]
     },
     "metadata": {},
     "output_type": "display_data"
    }
   ],
   "source": [
    "plt.figure(figsize=(16, 9))\n",
    "plt.plot(distance, label='Distance')\n",
    "# plt.plot((stock['000001.SH'][stock.index >= distance.index[0]].pct_change() + 1).cumprod())\n",
    "# plt.plot((1 + bond['GCB10Y'][bond.index >= distance.index[0]].pct_change()).cumprod())\n",
    "plt.legend()"
   ]
  },
  {
   "cell_type": "code",
   "execution_count": 1527,
   "metadata": {},
   "outputs": [
    {
     "data": {
      "text/plain": [
       "Text(0.5,1,u'return of T period')"
      ]
     },
     "execution_count": 1527,
     "metadata": {},
     "output_type": "execute_result"
    },
    {
     "data": {
      "image/png": "[encoded data removed]",
      "text/plain": [
       "<matplotlib.figure.Figure at 0x3c685908>"
      ]
     },
     "metadata": {},
     "output_type": "display_data"
    }
   ],
   "source": [
    "plt.figure(figsize=(16, 9))\n",
    "plt.scatter(distance[distance <= 4][Y == 0].pct_change().values, ret_df.loc[distance[distance <= 4][Y == 0].index].values)\n",
    "plt.title(u'return of T period')"
   ]
  },
  {
   "cell_type": "code",
   "execution_count": 1528,
   "metadata": {},
   "outputs": [
    {
     "name": "stdout",
     "output_type": "stream",
     "text": [
      "0.00921767952909\n",
      "-0.0556675554084\n",
      "-0.0131131099156\n"
     ]
    }
   ],
   "source": [
    "# ret_df.loc[distance.index].astype(float).corr(distance.astype(float))\n",
    "# np.corrcoef(ret_df.loc[distance[Y == 0].index].values.reshape(-1), distance[Y == 0].values)\n",
    "print ret_df['GCB10Y'].corr(distance)\n",
    "print ret_df['GCB10Y'].corr(distance.pct_change())\n",
    "print ret_df['GCB10Y'].corr(distance.diff())"
   ]
  },
  {
   "cell_type": "code",
   "execution_count": 1529,
   "metadata": {},
   "outputs": [
    {
     "data": {
      "text/plain": [
       "Text(0.5,1,u'return of T+1 period')"
      ]
     },
     "execution_count": 1529,
     "metadata": {},
     "output_type": "execute_result"
    },
    {
     "data": {
      "image/png": "[encoded data removed]",
      "text/plain": [
       "<matplotlib.figure.Figure at 0x2f81f748>"
      ]
     },
     "metadata": {},
     "output_type": "display_data"
    }
   ],
   "source": [
    "plt.figure(figsize=(16, 9))\n",
    "plt.scatter(distance[distance <= 4][Y == 0].values, ret_df.loc[distance[distance <= 4][Y == 0].index].shift(-1).values)\n",
    "plt.title(u'return of T+1 period')"
   ]
  },
  {
   "cell_type": "code",
   "execution_count": 1530,
   "metadata": {},
   "outputs": [
    {
     "name": "stdout",
     "output_type": "stream",
     "text": [
      "0.0132928390266\n",
      "0.0493736766445\n",
      "0.0830785736018\n"
     ]
    }
   ],
   "source": [
    "print ret_df['GCB10Y'].shift(-1).corr(distance)\n",
    "print ret_df['GCB10Y'].shift(-1).corr(distance.pct_change())\n",
    "print ret_df['GCB10Y'].shift(-1).corr(distance.diff())"
   ]
  },
  {
   "cell_type": "code",
   "execution_count": null,
   "metadata": {
    "collapsed": true
   },
   "outputs": [],
   "source": []
  }
 ],
 "metadata": {
  "kernelspec": {
   "display_name": "Python 2",
   "language": "python",
   "name": "python2"
  },
  "language_info": {
   "codemirror_mode": {
    "name": "ipython",
    "version": 2
   },
   "file_extension": ".py",
   "mimetype": "text/x-python",
   "name": "python",
   "nbconvert_exporter": "python",
   "pygments_lexer": "ipython2",
   "version": "2.7.14"
  }
 },
 "nbformat": 4,
 "nbformat_minor": 2
}
