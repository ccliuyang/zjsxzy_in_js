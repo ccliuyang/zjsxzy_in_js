{
 "cells": [
  {
   "cell_type": "code",
   "execution_count": 75,
   "metadata": {},
   "outputs": [],
   "source": [
    "import pyodbc\n",
    "import pandas as pd\n",
    "import numpy as np\n",
    "import datetime\n",
    "from scipy.stats.kde import gaussian_kde\n",
    "import matplotlib.pyplot as plt\n",
    "%matplotlib inline"
   ]
  },
  {
   "cell_type": "code",
   "execution_count": 2,
   "metadata": {},
   "outputs": [],
   "source": [
    "conn = pyodbc.connect('DRIVER={SQL Server};SERVER=10.0.185.138;DATABASE=JYDB;UID=js_dev;PWD=js_dev')"
   ]
  },
  {
   "cell_type": "code",
   "execution_count": 108,
   "metadata": {},
   "outputs": [],
   "source": [
    "query = 'SELECT \\\n",
    "                o.TradingDate \\\n",
    "               ,o.Turnover \\\n",
    "               ,u.ContractAbbr \\\n",
    "               ,u.ContractCode \\\n",
    "               ,u.StrikePrice \\\n",
    "               ,u.ExpirationDate \\\n",
    "               ,o.SettlePrice \\\n",
    "         FROM Opt_DailyQuote as o, Opt_OptionContract as u \\\n",
    "         WHERE TradingDate = CAST(GETDATE() - 1 as DATE) \\\n",
    "            AND o.InnerCode = u.InnerCode \\\n",
    "            AND u.ULAType = 2 \\\n",
    "            AND u.ContractType = 2 \\\n",
    "            AND u.IfAdjusted = 2 \\\n",
    "         ORDER BY u.ExpirationDate, u.StrikePrice'"
   ]
  },
  {
   "cell_type": "code",
   "execution_count": 109,
   "metadata": {},
   "outputs": [],
   "source": [
    "df = pd.read_sql_query(query, con=conn)"
   ]
  },
  {
   "cell_type": "code",
   "execution_count": 130,
   "metadata": {},
   "outputs": [
    {
     "data": {
      "text/html": [
       "<div>\n",
       "<style scoped>\n",
       "    .dataframe tbody tr th:only-of-type {\n",
       "        vertical-align: middle;\n",
       "    }\n",
       "\n",
       "    .dataframe tbody tr th {\n",
       "        vertical-align: top;\n",
       "    }\n",
       "\n",
       "    .dataframe thead th {\n",
       "        text-align: right;\n",
       "    }\n",
       "</style>\n",
       "<table border=\"1\" class=\"dataframe\">\n",
       "  <thead>\n",
       "    <tr style=\"text-align: right;\">\n",
       "      <th></th>\n",
       "      <th>TradingDate</th>\n",
       "      <th>Turnover</th>\n",
       "      <th>ContractAbbr</th>\n",
       "      <th>ContractCode</th>\n",
       "      <th>StrikePrice</th>\n",
       "      <th>ExpirationDate</th>\n",
       "      <th>SettlePrice</th>\n",
       "    </tr>\n",
       "  </thead>\n",
       "  <tbody>\n",
       "    <tr>\n",
       "      <th>0</th>\n",
       "      <td>2020-04-28</td>\n",
       "      <td>11598245.0</td>\n",
       "      <td>50ETF购5月2450</td>\n",
       "      <td>10002469</td>\n",
       "      <td>2.45</td>\n",
       "      <td>2020-05-27</td>\n",
       "      <td>0.36</td>\n",
       "    </tr>\n",
       "    <tr>\n",
       "      <th>1</th>\n",
       "      <td>2020-04-28</td>\n",
       "      <td>5789047.0</td>\n",
       "      <td>50ETF购5月2500</td>\n",
       "      <td>10002433</td>\n",
       "      <td>2.50</td>\n",
       "      <td>2020-05-27</td>\n",
       "      <td>0.31</td>\n",
       "    </tr>\n",
       "    <tr>\n",
       "      <th>2</th>\n",
       "      <td>2020-04-28</td>\n",
       "      <td>6243302.0</td>\n",
       "      <td>50ETF购5月2550</td>\n",
       "      <td>10002434</td>\n",
       "      <td>2.55</td>\n",
       "      <td>2020-05-27</td>\n",
       "      <td>0.26</td>\n",
       "    </tr>\n",
       "    <tr>\n",
       "      <th>3</th>\n",
       "      <td>2020-04-28</td>\n",
       "      <td>19864683.0</td>\n",
       "      <td>50ETF购5月2600</td>\n",
       "      <td>10002435</td>\n",
       "      <td>2.60</td>\n",
       "      <td>2020-05-27</td>\n",
       "      <td>0.21</td>\n",
       "    </tr>\n",
       "    <tr>\n",
       "      <th>4</th>\n",
       "      <td>2020-04-28</td>\n",
       "      <td>55608488.0</td>\n",
       "      <td>50ETF购5月2650</td>\n",
       "      <td>10002436</td>\n",
       "      <td>2.65</td>\n",
       "      <td>2020-05-27</td>\n",
       "      <td>0.16</td>\n",
       "    </tr>\n",
       "  </tbody>\n",
       "</table>\n",
       "</div>"
      ],
      "text/plain": [
       "  TradingDate    Turnover  ContractAbbr  ContractCode  StrikePrice  \\\n",
       "0  2020-04-28  11598245.0  50ETF购5月2450      10002469         2.45   \n",
       "1  2020-04-28   5789047.0  50ETF购5月2500      10002433         2.50   \n",
       "2  2020-04-28   6243302.0  50ETF购5月2550      10002434         2.55   \n",
       "3  2020-04-28  19864683.0  50ETF购5月2600      10002435         2.60   \n",
       "4  2020-04-28  55608488.0  50ETF购5月2650      10002436         2.65   \n",
       "\n",
       "  ExpirationDate  SettlePrice  \n",
       "0     2020-05-27         0.36  \n",
       "1     2020-05-27         0.31  \n",
       "2     2020-05-27         0.26  \n",
       "3     2020-05-27         0.21  \n",
       "4     2020-05-27         0.16  "
      ]
     },
     "execution_count": 130,
     "metadata": {},
     "output_type": "execute_result"
    }
   ],
   "source": [
    "df.head()"
   ]
  },
  {
   "cell_type": "code",
   "execution_count": 131,
   "metadata": {},
   "outputs": [
    {
     "name": "stdout",
     "output_type": "stream",
     "text": [
      "0.0\n",
      "0.0\n",
      "5.551115123125783e-17\n",
      "0.0021999999999999797\n",
      "0.011900000000000022\n",
      "0.007299999999999973\n",
      "0.008800000000000016\n",
      "0.006499999999999999\n",
      "0.005899999999999999\n",
      "0.0039000000000000007\n",
      "1.1102230246251565e-16\n",
      "0.0\n",
      "0.0\n",
      "0.0\n",
      "0.004200000000000037\n",
      "0.009599999999999942\n",
      "0.004300000000000026\n",
      "0.0058\n",
      "0.005699999999999983\n",
      "0.005100000000000007\n",
      "0.004600000000000007\n",
      "0.003799999999999998\n",
      "1.1102230246251565e-16\n",
      "0.0\n",
      "0.008500000000000063\n",
      "0.005599999999999938\n",
      "0.0022000000000000353\n",
      "0.0029000000000000137\n",
      "0.003899999999999959\n",
      "0.0031999999999999806\n",
      "0.0030999999999999917\n",
      "0.003799999999999998\n",
      "0.0010999999999999899\n",
      "0.0050000000000000044\n",
      "0.00040000000000006697\n",
      "0.0043999999999999595\n",
      "0.0040000000000000036\n",
      "0.0008000000000000229\n",
      "0.0004999999999999449\n",
      "0.0037000000000000366\n",
      "0.0030999999999999917\n",
      "0.0024000000000000132\n"
     ]
    }
   ],
   "source": [
    "prob = {}\n",
    "today = pd.to_datetime(datetime.datetime.today())\n",
    "rate = 0.0015\n",
    "for i, j, k in zip(df.index, df.index[1:], df.index[2:]):\n",
    "    c1, c2, c3 = df['SettlePrice'][i], df['SettlePrice'][j], df['SettlePrice'][k]\n",
    "    s1, s2, s3 = df['StrikePrice'][i], df['StrikePrice'][j], df['StrikePrice'][k]\n",
    "    t1, t2, t3 = df['ExpirationDate'][i], df['ExpirationDate'][j], df['ExpirationDate'][k]\n",
    "    if t1 == t2 and t2 == t3 and s2 - s1 > 0 and abs((s2 - s1) - (s3 - s2)) < 1e-5:\n",
    "        if not t1 in prob:\n",
    "            prob[t1] = {}\n",
    "        T = pd.to_datetime(t1) - today\n",
    "        delta_s = s2 - s1\n",
    "        print((c1 + c3 - 2*c2))\n",
    "        prob[t1][s2] = np.exp(rate * T.days) * (c1 + c3 - 2*c2) / (delta_s * delta_s)"
   ]
  },
  {
   "cell_type": "code",
   "execution_count": 185,
   "metadata": {},
   "outputs": [],
   "source": [
    "date = list(prob.keys())[0]"
   ]
  },
  {
   "cell_type": "code",
   "execution_count": 186,
   "metadata": {},
   "outputs": [],
   "source": [
    "p = prob[date]"
   ]
  },
  {
   "cell_type": "code",
   "execution_count": 187,
   "metadata": {},
   "outputs": [
    {
     "data": {
      "text/plain": [
       "{2.5: 0.0,\n",
       " 2.55: 0.0,\n",
       " 2.6: 2.3122199925895844e-14,\n",
       " 2.65: 0.9163715525382133,\n",
       " 2.7: 4.956737034183939,\n",
       " 2.75: 3.0406874243313613,\n",
       " 2.8: 3.6654862101528938,\n",
       " 2.85: 2.7074614052265162,\n",
       " 2.9: 2.457541890897958,\n",
       " 2.95: 1.6244768431359102}"
      ]
     },
     "execution_count": 187,
     "metadata": {},
     "output_type": "execute_result"
    }
   ],
   "source": [
    "p"
   ]
  },
  {
   "cell_type": "code",
   "execution_count": 208,
   "metadata": {},
   "outputs": [],
   "source": [
    "x = np.array([x for x in p.keys()])\n",
    "y = np.array([x for x in p.values()])\n",
    "y = y / y.sum()"
   ]
  },
  {
   "cell_type": "code",
   "execution_count": 209,
   "metadata": {},
   "outputs": [],
   "source": [
    "data = np.random.choice(x, p=y, size=100)"
   ]
  },
  {
   "cell_type": "code",
   "execution_count": 210,
   "metadata": {},
   "outputs": [],
   "source": [
    "kde = gaussian_kde(data)\n",
    "dist_space = np.linspace(min(data), max(data), 100)"
   ]
  },
  {
   "cell_type": "code",
   "execution_count": 211,
   "metadata": {},
   "outputs": [
    {
     "data": {
      "text/plain": [
       "<matplotlib.legend.Legend at 0x1cd9ffd0>"
      ]
     },
     "execution_count": 211,
     "metadata": {},
     "output_type": "execute_result"
    },
    {
     "data": {
      "image/png": "[encoded data removed]",
      "text/plain": [
       "<Figure size 1152x648 with 1 Axes>"
      ]
     },
     "metadata": {
      "needs_background": "light"
     },
     "output_type": "display_data"
    }
   ],
   "source": [
    "fig, ax = plt.subplots(figsize = (16, 9))\n",
    "\n",
    "ax.plot(dist_space, kde(dist_space), color='blue', label='概率分布')\n",
    "ax.axvline(2.829, color='red', linestyle='--', label='当前价格')\n",
    "\n",
    "ax.legend()"
   ]
  },
  {
   "cell_type": "code",
   "execution_count": null,
   "metadata": {},
   "outputs": [],
   "source": []
  },
  {
   "cell_type": "code",
   "execution_count": null,
   "metadata": {},
   "outputs": [],
   "source": []
  }
 ],
 "metadata": {
  "kernelspec": {
   "display_name": "Python 3",
   "language": "python",
   "name": "python3"
  },
  "language_info": {
   "codemirror_mode": {
    "name": "ipython",
    "version": 3
   },
   "file_extension": ".py",
   "mimetype": "text/x-python",
   "name": "python",
   "nbconvert_exporter": "python",
   "pygments_lexer": "ipython3",
   "version": "3.6.5"
  }
 },
 "nbformat": 4,
 "nbformat_minor": 4
}
