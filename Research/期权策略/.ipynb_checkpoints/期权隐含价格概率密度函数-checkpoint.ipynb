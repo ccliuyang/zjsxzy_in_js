{
 "cells": [
  {
   "cell_type": "code",
   "execution_count": 1,
   "metadata": {},
   "outputs": [],
   "source": [
    "import pyodbc\n",
    "import pandas as pd\n",
    "import matplotlib.pyplot as plt\n",
    "%matplotlib inline"
   ]
  },
  {
   "cell_type": "code",
   "execution_count": 2,
   "metadata": {},
   "outputs": [],
   "source": [
    "conn = pyodbc.connect('DRIVER={SQL Server};SERVER=10.0.185.138;DATABASE=JYDB;UID=js_dev;PWD=js_dev')"
   ]
  },
  {
   "cell_type": "code",
   "execution_count": 3,
   "metadata": {},
   "outputs": [],
   "source": [
    "query = 'SELECT \\\n",
    "                o.TradingDate \\\n",
    "               ,u.ContractAbbr \\\n",
    "               ,u.ContractCode \\\n",
    "               ,u.StrikePrice \\\n",
    "               ,u.ExpirationDate \\\n",
    "               ,o.ClosePrice \\\n",
    "         FROM Opt_DailyQuote as o, Opt_OptionContract as u \\\n",
    "         WHERE TradingDate = CAST(GETDATE() - 1 as DATE) \\\n",
    "            AND o.InnerCode = u.InnerCode \\\n",
    "            AND u.ULAType = 2 \\\n",
    "            AND u.ContractType = 2 \\\n",
    "         ORDER BY u.ExpirationDate, u.StrikePrice DESC'"
   ]
  },
  {
   "cell_type": "code",
   "execution_count": null,
   "metadata": {},
   "outputs": [],
   "source": [
    "df = pd.read_excel"
   ]
  }
 ],
 "metadata": {
  "kernelspec": {
   "display_name": "Python 3",
   "language": "python",
   "name": "python3"
  },
  "language_info": {
   "codemirror_mode": {
    "name": "ipython",
    "version": 3
   },
   "file_extension": ".py",
   "mimetype": "text/x-python",
   "name": "python",
   "nbconvert_exporter": "python",
   "pygments_lexer": "ipython3",
   "version": "3.6.5"
  }
 },
 "nbformat": 4,
 "nbformat_minor": 4
}
