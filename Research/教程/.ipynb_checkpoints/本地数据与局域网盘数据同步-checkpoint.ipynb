{
 "cells": [
  {
   "cell_type": "code",
   "execution_count": 1,
   "metadata": {},
   "outputs": [],
   "source": [
    "import os\n",
    "import filecmp\n",
    "from shutil import copyfile"
   ]
  },
  {
   "cell_type": "code",
   "execution_count": 22,
   "metadata": {},
   "outputs": [],
   "source": [
    "DIR = u'D:/OneDrive/Excel数据分析'\n",
    "SDIR = u'\\\\\\\\hfm-pubshare\\HFM各部门共享\\Harvest嘉实全体员工\\策略孵化组\\多重风管分组审核\\zhangyang\\Excel数据分析'"
   ]
  },
  {
   "cell_type": "code",
   "execution_count": 41,
   "metadata": {},
   "outputs": [],
   "source": [
    "def synchronize(dir1, dir2):\n",
    "    fnames = [f for f in os.listdir(dir1)]\n",
    "    for f in fnames:\n",
    "        f1 = '%s/%s'%(dir1, f)\n",
    "        f2 = '%s/%s'%(dir2, f)\n",
    "        if os.path.isfile(f1):\n",
    "            if (not os.path.exists(f2)):\n",
    "                print('copy %s to %s'%(f1, f2))\n",
    "                copyfile(f1, f2)\n",
    "            else:\n",
    "                if not filecmp.cmp(f1, f2):\n",
    "                    print('copy %s to %s'%(f1, f2))\n",
    "                    copyfile(f1, f2)\n",
    "        elif os.path.isdir(f1):\n",
    "            if os.path.exists(f2):\n",
    "                synchronize(f1, f2)\n",
    "            else:\n",
    "                os.mkdir(f2)\n",
    "                synchronize(f1, f2)"
   ]
  },
  {
   "cell_type": "code",
   "execution_count": 42,
   "metadata": {},
   "outputs": [],
   "source": [
    "synchronize(DIR, SDIR)"
   ]
  },
  {
   "cell_type": "code",
   "execution_count": null,
   "metadata": {},
   "outputs": [],
   "source": []
  }
 ],
 "metadata": {
  "kernelspec": {
   "display_name": "Python 2",
   "language": "python",
   "name": "python2"
  },
  "language_info": {
   "codemirror_mode": {
    "name": "ipython",
    "version": 2
   },
   "file_extension": ".py",
   "mimetype": "text/x-python",
   "name": "python",
   "nbconvert_exporter": "python",
   "pygments_lexer": "ipython2",
   "version": "2.7.14"
  }
 },
 "nbformat": 4,
 "nbformat_minor": 4
}
