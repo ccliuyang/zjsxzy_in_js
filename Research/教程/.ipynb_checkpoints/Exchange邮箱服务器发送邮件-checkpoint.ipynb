{
 "cells": [
  {
   "cell_type": "code",
   "execution_count": 1,
   "metadata": {},
   "outputs": [],
   "source": [
    "from exchangelib import Credentials, Account, DELEGATE, Configuration, GSSAPI, Message, HTMLBody, Mailbox\n",
    "from exchangelib.protocol import BaseProtocol, NoVerifyHTTPAdapter\n",
    "import logging"
   ]
  },
  {
   "cell_type": "code",
   "execution_count": 2,
   "metadata": {},
   "outputs": [],
   "source": [
    "BaseProtocol.HTTP_ADAPTER_CLS = NoVerifyHTTPAdapter\n",
    "logging.captureWarnings(True)"
   ]
  },
  {
   "cell_type": "code",
   "execution_count": 3,
   "metadata": {},
   "outputs": [],
   "source": [
    "creds = Credentials('js\\zhangyang01', 'Zjsxzy@js600004')"
   ]
  },
  {
   "cell_type": "code",
   "execution_count": 4,
   "metadata": {},
   "outputs": [],
   "source": [
    "config = Configuration(service_endpoint='https://JSJD-MAIL-SRV.js.local/ews/exchange.asmx', credentials=creds)"
   ]
  },
  {
   "cell_type": "code",
   "execution_count": 5,
   "metadata": {},
   "outputs": [
    {
     "ename": "AutoDiscoverFailed",
     "evalue": "All steps in the autodiscover protocol failed",
     "output_type": "error",
     "traceback": [
      "\u001b[1;31m---------------------------------------------------------------------------\u001b[0m",
      "\u001b[1;31mAutoDiscoverFailed\u001b[0m                        Traceback (most recent call last)",
      "\u001b[1;32m<ipython-input-5-540ac693feb7>\u001b[0m in \u001b[0;36m<module>\u001b[1;34m()\u001b[0m\n\u001b[0;32m      3\u001b[0m     \u001b[0mautodiscover\u001b[0m\u001b[1;33m=\u001b[0m\u001b[0mTrue\u001b[0m\u001b[1;33m,\u001b[0m\u001b[1;33m\u001b[0m\u001b[0m\n\u001b[0;32m      4\u001b[0m     \u001b[0mconfig\u001b[0m\u001b[1;33m=\u001b[0m\u001b[0mconfig\u001b[0m\u001b[1;33m,\u001b[0m\u001b[1;33m\u001b[0m\u001b[0m\n\u001b[1;32m----> 5\u001b[1;33m     \u001b[0maccess_type\u001b[0m\u001b[1;33m=\u001b[0m\u001b[0mDELEGATE\u001b[0m\u001b[1;33m\u001b[0m\u001b[0m\n\u001b[0m\u001b[0;32m      6\u001b[0m )\n",
      "\u001b[1;32mC:\\Users\\zhangyang01\\AppData\\Local\\Continuum\\anaconda2\\lib\\site-packages\\exchangelib\\account.pyc\u001b[0m in \u001b[0;36m__init__\u001b[1;34m(self, primary_smtp_address, fullname, access_type, autodiscover, credentials, config, locale, default_timezone)\u001b[0m\n\u001b[0;32m     90\u001b[0m                 \u001b[0mretry_policy\u001b[0m\u001b[1;33m,\u001b[0m \u001b[0mauth_type\u001b[0m \u001b[1;33m=\u001b[0m \u001b[0mNone\u001b[0m\u001b[1;33m,\u001b[0m \u001b[0mNone\u001b[0m\u001b[1;33m\u001b[0m\u001b[0m\n\u001b[0;32m     91\u001b[0m             self.primary_smtp_address, self.protocol = discover(\n\u001b[1;32m---> 92\u001b[1;33m                 \u001b[0memail\u001b[0m\u001b[1;33m=\u001b[0m\u001b[0mself\u001b[0m\u001b[1;33m.\u001b[0m\u001b[0mprimary_smtp_address\u001b[0m\u001b[1;33m,\u001b[0m \u001b[0mcredentials\u001b[0m\u001b[1;33m=\u001b[0m\u001b[0mcredentials\u001b[0m\u001b[1;33m,\u001b[0m \u001b[0mauth_type\u001b[0m\u001b[1;33m=\u001b[0m\u001b[0mauth_type\u001b[0m\u001b[1;33m,\u001b[0m \u001b[0mretry_policy\u001b[0m\u001b[1;33m=\u001b[0m\u001b[0mretry_policy\u001b[0m\u001b[1;33m\u001b[0m\u001b[0m\n\u001b[0m\u001b[0;32m     93\u001b[0m             )\n\u001b[0;32m     94\u001b[0m         \u001b[1;32melse\u001b[0m\u001b[1;33m:\u001b[0m\u001b[1;33m\u001b[0m\u001b[0m\n",
      "\u001b[1;32mC:\\Users\\zhangyang01\\AppData\\Local\\Continuum\\anaconda2\\lib\\site-packages\\exchangelib\\autodiscover.pyc\u001b[0m in \u001b[0;36mdiscover\u001b[1;34m(email, credentials, auth_type, retry_policy)\u001b[0m\n\u001b[0;32m    230\u001b[0m                 \u001b[1;31m# This eventually fills the cache in _autodiscover_hostname\u001b[0m\u001b[1;33m\u001b[0m\u001b[1;33m\u001b[0m\u001b[0m\n\u001b[0;32m    231\u001b[0m                 return _try_autodiscover(hostname=domain, credentials=credentials, email=email,\n\u001b[1;32m--> 232\u001b[1;33m                                          auth_type=auth_type, retry_policy=retry_policy)\n\u001b[0m\u001b[0;32m    233\u001b[0m             \u001b[1;32mexcept\u001b[0m \u001b[0mAutoDiscoverRedirect\u001b[0m \u001b[1;32mas\u001b[0m \u001b[0me\u001b[0m\u001b[1;33m:\u001b[0m\u001b[1;33m\u001b[0m\u001b[0m\n\u001b[0;32m    234\u001b[0m                 \u001b[1;32mif\u001b[0m \u001b[0memail\u001b[0m\u001b[1;33m.\u001b[0m\u001b[0mlower\u001b[0m\u001b[1;33m(\u001b[0m\u001b[1;33m)\u001b[0m \u001b[1;33m==\u001b[0m \u001b[0me\u001b[0m\u001b[1;33m.\u001b[0m\u001b[0mredirect_email\u001b[0m\u001b[1;33m.\u001b[0m\u001b[0mlower\u001b[0m\u001b[1;33m(\u001b[0m\u001b[1;33m)\u001b[0m\u001b[1;33m:\u001b[0m\u001b[1;33m\u001b[0m\u001b[0m\n",
      "\u001b[1;32mC:\\Users\\zhangyang01\\AppData\\Local\\Continuum\\anaconda2\\lib\\site-packages\\exchangelib\\autodiscover.pyc\u001b[0m in \u001b[0;36m_try_autodiscover\u001b[1;34m(hostname, credentials, email, auth_type, retry_policy)\u001b[0m\n\u001b[0;32m    303\u001b[0m                                                  auth_type=auth_type, retry_policy=retry_policy)\n\u001b[0;32m    304\u001b[0m                     \u001b[1;32mexcept\u001b[0m \u001b[0mAutoDiscoverFailed\u001b[0m\u001b[1;33m:\u001b[0m\u001b[1;33m\u001b[0m\u001b[0m\n\u001b[1;32m--> 305\u001b[1;33m                         \u001b[0mraise_from\u001b[0m\u001b[1;33m(\u001b[0m\u001b[0mAutoDiscoverFailed\u001b[0m\u001b[1;33m(\u001b[0m\u001b[1;34m'All steps in the autodiscover protocol failed'\u001b[0m\u001b[1;33m)\u001b[0m\u001b[1;33m,\u001b[0m \u001b[0mNone\u001b[0m\u001b[1;33m)\u001b[0m\u001b[1;33m\u001b[0m\u001b[0m\n\u001b[0m\u001b[0;32m    306\u001b[0m \u001b[1;33m\u001b[0m\u001b[0m\n\u001b[0;32m    307\u001b[0m \u001b[1;33m\u001b[0m\u001b[0m\n",
      "\u001b[1;32mC:\\Users\\zhangyang01\\AppData\\Local\\Continuum\\anaconda2\\lib\\site-packages\\future\\utils\\__init__.pyc\u001b[0m in \u001b[0;36mraise_from\u001b[1;34m(exc, cause)\u001b[0m\n\u001b[0;32m    452\u001b[0m             \u001b[1;32mraise\u001b[0m \u001b[0mTypeError\u001b[0m\u001b[1;33m(\u001b[0m\u001b[1;34m\"exception causes must derive from BaseException\"\u001b[0m\u001b[1;33m)\u001b[0m\u001b[1;33m\u001b[0m\u001b[0m\n\u001b[0;32m    453\u001b[0m         \u001b[0me\u001b[0m\u001b[1;33m.\u001b[0m\u001b[0m__context__\u001b[0m \u001b[1;33m=\u001b[0m \u001b[0msys\u001b[0m\u001b[1;33m.\u001b[0m\u001b[0mexc_info\u001b[0m\u001b[1;33m(\u001b[0m\u001b[1;33m)\u001b[0m\u001b[1;33m[\u001b[0m\u001b[1;36m1\u001b[0m\u001b[1;33m]\u001b[0m\u001b[1;33m\u001b[0m\u001b[0m\n\u001b[1;32m--> 454\u001b[1;33m         \u001b[1;32mraise\u001b[0m \u001b[0me\u001b[0m\u001b[1;33m\u001b[0m\u001b[0m\n\u001b[0m\u001b[0;32m    455\u001b[0m \u001b[1;33m\u001b[0m\u001b[0m\n\u001b[0;32m    456\u001b[0m     exec('''\n",
      "\u001b[1;31mAutoDiscoverFailed\u001b[0m: All steps in the autodiscover protocol failed"
     ]
    }
   ],
   "source": [
    "account = Account(\n",
    "    primary_smtp_address='zhangyang01@jsfund.cn', \n",
    "#     autodiscover=True,\n",
    "    autodiscover=False,\n",
    "    config=config,\n",
    "    access_type=DELEGATE\n",
    ")"
   ]
  },
  {
   "cell_type": "code",
   "execution_count": 9,
   "metadata": {},
   "outputs": [],
   "source": [
    "m = Message(\n",
    "    account=account,\n",
    "    subject='test',\n",
    "    body=HTMLBody('body'),\n",
    "    to_recipients=[Mailbox(email_address='zhangyang01@jsfund.cn')]\n",
    ")"
   ]
  },
  {
   "cell_type": "code",
   "execution_count": 10,
   "metadata": {},
   "outputs": [],
   "source": [
    "m.send_and_save()"
   ]
  },
  {
   "cell_type": "code",
   "execution_count": null,
   "metadata": {},
   "outputs": [],
   "source": []
  }
 ],
 "metadata": {
  "kernelspec": {
   "display_name": "Python 2",
   "language": "python",
   "name": "python2"
  },
  "language_info": {
   "codemirror_mode": {
    "name": "ipython",
    "version": 2
   },
   "file_extension": ".py",
   "mimetype": "text/x-python",
   "name": "python",
   "nbconvert_exporter": "python",
   "pygments_lexer": "ipython2",
   "version": "2.7.14"
  }
 },
 "nbformat": 4,
 "nbformat_minor": 4
}
