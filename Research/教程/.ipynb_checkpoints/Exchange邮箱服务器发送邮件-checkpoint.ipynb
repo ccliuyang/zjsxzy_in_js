{
 "cells": [
  {
   "cell_type": "code",
   "execution_count": 1,
   "metadata": {},
   "outputs": [],
   "source": [
    "from exchangelib import Credentials, Account, DELEGATE, Configuration, GSSAPI, Message, HTMLBody, Mailbox\n",
    "from exchangelib.protocol import BaseProtocol, NoVerifyHTTPAdapter\n",
    "import logging"
   ]
  },
  {
   "cell_type": "code",
   "execution_count": 2,
   "metadata": {},
   "outputs": [],
   "source": [
    "BaseProtocol.HTTP_ADAPTER_CLS = NoVerifyHTTPAdapter\n",
    "logging.captureWarnings(True)"
   ]
  },
  {
   "cell_type": "code",
   "execution_count": 6,
   "metadata": {},
   "outputs": [],
   "source": [
    "creds = Credentials('js\\zhangyang01', 'Zjsxzy@js600004')"
   ]
  },
  {
   "cell_type": "code",
   "execution_count": 7,
   "metadata": {},
   "outputs": [],
   "source": [
    "config = Configuration(service_endpoint='https://JSJD-MAIL-SRV.js.local/ews/exchange.asmx', credentials=creds)"
   ]
  },
  {
   "cell_type": "code",
   "execution_count": 8,
   "metadata": {},
   "outputs": [],
   "source": [
    "account = Account(\n",
    "    primary_smtp_address='zhangyang01@jsfund.cn', \n",
    "    autodiscover=True,\n",
    "    config=config,\n",
    "    access_type=DELEGATE\n",
    ")"
   ]
  },
  {
   "cell_type": "code",
   "execution_count": 9,
   "metadata": {},
   "outputs": [],
   "source": [
    "m = Message(\n",
    "    account=account,\n",
    "    subject='test',\n",
    "    body=HTMLBody('body'),\n",
    "    to_recipients=[Mailbox(email_address='zhangyang01@jsfund.cn')]\n",
    ")"
   ]
  },
  {
   "cell_type": "code",
   "execution_count": 10,
   "metadata": {},
   "outputs": [],
   "source": [
    "m.send_and_save()"
   ]
  },
  {
   "cell_type": "code",
   "execution_count": null,
   "metadata": {},
   "outputs": [],
   "source": []
  }
 ],
 "metadata": {
  "kernelspec": {
   "display_name": "Python 3",
   "language": "python",
   "name": "python3"
  },
  "language_info": {
   "codemirror_mode": {
    "name": "ipython",
    "version": 3
   },
   "file_extension": ".py",
   "mimetype": "text/x-python",
   "name": "python",
   "nbconvert_exporter": "python",
   "pygments_lexer": "ipython3",
   "version": "3.6.5"
  }
 },
 "nbformat": 4,
 "nbformat_minor": 4
}
