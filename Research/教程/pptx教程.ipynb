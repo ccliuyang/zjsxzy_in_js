{
 "cells": [
  {
   "cell_type": "code",
   "execution_count": 330,
   "metadata": {},
   "outputs": [],
   "source": [
    "from pptx import Presentation"
   ]
  },
  {
   "cell_type": "code",
   "execution_count": 331,
   "metadata": {},
   "outputs": [],
   "source": [
    "prs = Presentation('./模板.pptx')"
   ]
  },
  {
   "cell_type": "code",
   "execution_count": 332,
   "metadata": {},
   "outputs": [],
   "source": [
    "num = 1"
   ]
  },
  {
   "cell_type": "code",
   "execution_count": 333,
   "metadata": {},
   "outputs": [],
   "source": [
    "PIC_DIR = '//hfm-pubshare/HFM各部门共享/资产配置/asset_allocation\\pics'"
   ]
  },
  {
   "cell_type": "markdown",
   "metadata": {},
   "source": [
    "# 加入一个两图slide"
   ]
  },
  {
   "cell_type": "code",
   "execution_count": 334,
   "metadata": {},
   "outputs": [],
   "source": [
    "slide_layout_2p = prs.slide_layouts[1]"
   ]
  },
  {
   "cell_type": "code",
   "execution_count": 335,
   "metadata": {},
   "outputs": [],
   "source": [
    "slide = prs.slides.add_slide(slide_layout_2p)"
   ]
  },
  {
   "cell_type": "code",
   "execution_count": 336,
   "metadata": {},
   "outputs": [],
   "source": [
    "shapes = slide.shapes\n",
    "title = shapes.title\n",
    "title.text = '2图页面'"
   ]
  },
  {
   "cell_type": "code",
   "execution_count": 337,
   "metadata": {},
   "outputs": [
    {
     "name": "stdout",
     "output_type": "stream",
     "text": [
      "0 Title 1\n",
      "13 Text Placeholder 2\n",
      "18 Picture Placeholder 3\n",
      "19 Text Placeholder 4\n",
      "20 Picture Placeholder 5\n"
     ]
    }
   ],
   "source": [
    "for placeholder in slide.placeholders:\n",
    "    print('%d %s' % (placeholder.placeholder_format.idx, placeholder.name))\n",
    "    if placeholder.placeholder_format.idx == 0:\n",
    "        placeholder.text = '2图页面'\n",
    "    elif placeholder.name.startswith('Text'):\n",
    "        placeholder.text = '图%d:'%(num)\n",
    "        num += 1\n",
    "    elif placeholder.name.startswith('Picture'):\n",
    "        picture = placeholder.insert_picture('%s\\PMI.png'%(PIC_DIR))"
   ]
  },
  {
   "cell_type": "markdown",
   "metadata": {},
   "source": [
    "# 加入一个四图slide"
   ]
  },
  {
   "cell_type": "code",
   "execution_count": 338,
   "metadata": {},
   "outputs": [],
   "source": [
    "slide_layout_4p = prs.slide_layouts[2]"
   ]
  },
  {
   "cell_type": "code",
   "execution_count": 339,
   "metadata": {},
   "outputs": [],
   "source": [
    "slide = prs.slides.add_slide(slide_layout_4p)"
   ]
  },
  {
   "cell_type": "code",
   "execution_count": 340,
   "metadata": {},
   "outputs": [],
   "source": [
    "shapes = slide.shapes\n",
    "title = shapes.title\n",
    "title.text = '4图页面'"
   ]
  },
  {
   "cell_type": "code",
   "execution_count": 341,
   "metadata": {},
   "outputs": [
    {
     "name": "stdout",
     "output_type": "stream",
     "text": [
      "0 Title 1\n",
      "13 Text Placeholder 2\n",
      "20 Picture Placeholder 3\n",
      "21 Text Placeholder 4\n",
      "22 Picture Placeholder 5\n",
      "23 Text Placeholder 6\n",
      "24 Picture Placeholder 7\n",
      "25 Text Placeholder 8\n",
      "26 Picture Placeholder 9\n"
     ]
    }
   ],
   "source": [
    "for placeholder in slide.placeholders:\n",
    "    print('%d %s' % (placeholder.placeholder_format.idx, placeholder.name))\n",
    "    if placeholder.placeholder_format.idx == 0:\n",
    "        placeholder.text = '4图页面'\n",
    "    elif placeholder.name.startswith('Text'):\n",
    "        placeholder.text = '图%d:'%(num)\n",
    "        num += 1\n",
    "    elif placeholder.name.startswith('Picture'):\n",
    "        picture = placeholder.insert_picture('%s/美国期限利差.png'%(PIC_DIR))"
   ]
  },
  {
   "cell_type": "code",
   "execution_count": 342,
   "metadata": {},
   "outputs": [],
   "source": [
    "prs.save('./月报.pptx')"
   ]
  },
  {
   "cell_type": "code",
   "execution_count": null,
   "metadata": {},
   "outputs": [],
   "source": []
  }
 ],
 "metadata": {
  "kernelspec": {
   "display_name": "Python 3",
   "language": "python",
   "name": "python3"
  },
  "language_info": {
   "codemirror_mode": {
    "name": "ipython",
    "version": 3
   },
   "file_extension": ".py",
   "mimetype": "text/x-python",
   "name": "python",
   "nbconvert_exporter": "python",
   "pygments_lexer": "ipython3",
   "version": "3.6.5"
  }
 },
 "nbformat": 4,
 "nbformat_minor": 4
}
