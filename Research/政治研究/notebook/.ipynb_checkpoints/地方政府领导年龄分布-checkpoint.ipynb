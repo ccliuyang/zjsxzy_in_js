{
 "cells": [
  {
   "cell_type": "code",
   "execution_count": 134,
   "metadata": {},
   "outputs": [],
   "source": [
    "import os\n",
    "import pandas as pd\n",
    "import matplotlib.pyplot as plt\n",
    "%matplotlib inline"
   ]
  },
  {
   "cell_type": "code",
   "execution_count": 145,
   "metadata": {},
   "outputs": [],
   "source": [
    "DATA_DIR = u'D:/Data/地方政府领导/'"
   ]
  },
  {
   "cell_type": "code",
   "execution_count": 146,
   "metadata": {},
   "outputs": [],
   "source": [
    "files = [f for f in os.listdir(DATA_DIR)]"
   ]
  },
  {
   "cell_type": "code",
   "execution_count": 162,
   "metadata": {},
   "outputs": [
    {
     "name": "stdout",
     "output_type": "stream",
     "text": [
      "11742 新疆维吾尔自治区阿勒泰地委书记 张岩\n",
      "12247 黑龙江省鸡西市委书记 张常荣\n",
      "12952 内蒙古自治区党委常委、内蒙古军区司令员 冷杰松\n",
      "14895 西藏自治区阿里地委书记 朱中奎\n",
      "14898 新疆维吾尔自治区党委常委、新疆军区政委 李伟\n",
      "15534 辽宁省人大常委会副主任，葫芦岛市委书记 孙轶\n",
      "15553 江西省萍乡市市长 李江河\n",
      "15747 西藏自治区那曲市市长 敖刘全\n",
      "15824 重庆市大渡口区委书记 王俊\n",
      "15976 河南省三门峡市委书记 刘南昌\n",
      "16235 香港特别行政区立法会主席 梁君彦\n",
      "16259 新疆维吾尔自治区喀什地委书记 李宁平\n",
      "16406 西藏自治区阿里地区行署专员 彭措\n",
      "16773 内蒙古自治区巴彦淖尔市委书记 常志刚\n",
      "16816 香港特别行政区行政长官 林郑月娥\n",
      "18376 市委书记 帕巴拉·格列朗杰\n",
      "18590 新疆维吾尔自治区阿克苏地区行署专员 尼牙孜·阿西木\n",
      "18618 上海市委常委、上海警备区政委 凌希\n",
      "18619 湖北省委常委、省军区司令员 马涛\n",
      "18620 安徽省委常委、省军区司令员 杨征\n",
      "18623 甘肃省委常委、省军区政委 蒲永能\n",
      "18626  杨笑祥\n",
      "18628 广东省委常委、省军区司令员 张利明\n",
      "18632 湖南省委常委、省军区政委 冯毅\n",
      "18633 四川省委常委、省军区司令员 姜永申\n",
      "18648 河南省委常委、省军区政委 胡永生\n",
      "18660 青海省委常委、省军区司令员 曲新勇\n",
      "18662 宁夏回族自治区党委常委、宁夏军区政委 潘武俊\n",
      "18665 重庆市南岸区区长 陈一清\n",
      "18759 云南省委常委、省军区政委 余琨\n",
      "18769 重庆市綦江区委书记 袁勤华\n",
      "18818 江苏省徐州市市长 庄兆林\n",
      "18855 宣城市委书记 陶方启\n",
      "18861 山东省日照市市长 李永红\n",
      "18866 福建省平潭综合实验区党工委书记 陈善光\n",
      "18890 浙江省委常委、宣传部部长 朱国贤\n",
      "18915 天津市委常委、市警备区政委 李军\n",
      "18916 江西省委常委、省军区司令员 吴亚非\n",
      "18925 浙江省委常委、省军区司令员 冯文平\n",
      "18930 吉林省委常委、省军区司令员 刘维\n",
      "18934 重庆市永川区区长 张果\n",
      "18935 山西省委常委、省军区司令员 韩强\n",
      "5017 西藏自治区那曲市委书记 松吉扎西\n",
      "7926 湖南省娄底市市长 杨懿文\n"
     ]
    }
   ],
   "source": [
    "dic = {u'职务': [], u'姓名': [], u'出生年份': [], u'ID': []}\n",
    "for f in files:\n",
    "    person_id, duty, name = f[:-4].split('_')\n",
    "    fname = '%s/%s'%(DATA_DIR, f)\n",
    "    with open(fname, 'r') as fp:\n",
    "        content = fp.read()\n",
    "    if content.find('月出生') != -1:\n",
    "        pos = content.find('月出生')\n",
    "    elif content.find('月生') != -1:\n",
    "        pos = content.find('月生')\n",
    "    elif content.find('生于') != -1:\n",
    "        pos = content.find('月，')\n",
    "    else:\n",
    "        pos = -1\n",
    "    if pos == -1:\n",
    "        print person_id, duty, name\n",
    "    else:\n",
    "        content = content[:pos]\n",
    "        pos2 = content.find('19')\n",
    "        year = content[pos2: pos2+4]\n",
    "        if year == '':\n",
    "            print person_id, duty, name\n",
    "        else:\n",
    "            dic[u'ID'].append(person_id)\n",
    "            dic[u'职务'].append(duty)\n",
    "            dic[u'姓名'].append(name)\n",
    "            dic[u'出生年份'].append(int(year))"
   ]
  },
  {
   "cell_type": "code",
   "execution_count": 163,
   "metadata": {},
   "outputs": [],
   "source": [
    "df = pd.DataFrame(dic)"
   ]
  },
  {
   "cell_type": "code",
   "execution_count": 164,
   "metadata": {},
   "outputs": [
    {
     "data": {
      "text/html": [
       "<div>\n",
       "<style scoped>\n",
       "    .dataframe tbody tr th:only-of-type {\n",
       "        vertical-align: middle;\n",
       "    }\n",
       "\n",
       "    .dataframe tbody tr th {\n",
       "        vertical-align: top;\n",
       "    }\n",
       "\n",
       "    .dataframe thead th {\n",
       "        text-align: right;\n",
       "    }\n",
       "</style>\n",
       "<table border=\"1\" class=\"dataframe\">\n",
       "  <thead>\n",
       "    <tr style=\"text-align: right;\">\n",
       "      <th></th>\n",
       "      <th>ID</th>\n",
       "      <th>出生年份</th>\n",
       "      <th>姓名</th>\n",
       "      <th>职务</th>\n",
       "    </tr>\n",
       "  </thead>\n",
       "  <tbody>\n",
       "    <tr>\n",
       "      <th>0</th>\n",
       "      <td>10056</td>\n",
       "      <td>1969</td>\n",
       "      <td>高建军</td>\n",
       "      <td>河南省开封市市长</td>\n",
       "    </tr>\n",
       "    <tr>\n",
       "      <th>1</th>\n",
       "      <td>10220</td>\n",
       "      <td>1963</td>\n",
       "      <td>贠建民</td>\n",
       "      <td>甘肃省政协副主席，庆阳市委书记</td>\n",
       "    </tr>\n",
       "    <tr>\n",
       "      <th>2</th>\n",
       "      <td>10950</td>\n",
       "      <td>1966</td>\n",
       "      <td>赵凌云</td>\n",
       "      <td>甘肃省甘南藏族自治州州长</td>\n",
       "    </tr>\n",
       "    <tr>\n",
       "      <th>3</th>\n",
       "      <td>10969</td>\n",
       "      <td>1968</td>\n",
       "      <td>王为人</td>\n",
       "      <td>上海市长宁区委书记</td>\n",
       "    </tr>\n",
       "    <tr>\n",
       "      <th>4</th>\n",
       "      <td>11002</td>\n",
       "      <td>1961</td>\n",
       "      <td>杨斌</td>\n",
       "      <td>北京市副市长</td>\n",
       "    </tr>\n",
       "  </tbody>\n",
       "</table>\n",
       "</div>"
      ],
      "text/plain": [
       "      ID  出生年份   姓名               职务\n",
       "0  10056  1969  高建军         河南省开封市市长\n",
       "1  10220  1963  贠建民  甘肃省政协副主席，庆阳市委书记\n",
       "2  10950  1966  赵凌云     甘肃省甘南藏族自治州州长\n",
       "3  10969  1968  王为人        上海市长宁区委书记\n",
       "4  11002  1961   杨斌           北京市副市长"
      ]
     },
     "execution_count": 164,
     "metadata": {},
     "output_type": "execute_result"
    }
   ],
   "source": [
    "df.head()"
   ]
  },
  {
   "cell_type": "code",
   "execution_count": 165,
   "metadata": {},
   "outputs": [],
   "source": [
    "count = df.groupby(u'出生年份').count()['ID']"
   ]
  },
  {
   "cell_type": "code",
   "execution_count": 166,
   "metadata": {},
   "outputs": [
    {
     "data": {
      "text/plain": [
       "出生年份\n",
       "1940      1\n",
       "1952      1\n",
       "1953      3\n",
       "1954      6\n",
       "1955      9\n",
       "1956     20\n",
       "1957     15\n",
       "1958     22\n",
       "1959     33\n",
       "1960     62\n",
       "1961     84\n",
       "1962    205\n",
       "1963    275\n",
       "1964    171\n",
       "1965    142\n",
       "1966     90\n",
       "1967     72\n",
       "1968     82\n",
       "1969     54\n",
       "1970     40\n",
       "1971     36\n",
       "1972     20\n",
       "1973     10\n",
       "1974      7\n",
       "1975      3\n",
       "1976      2\n",
       "1980      1\n",
       "Name: ID, dtype: int64"
      ]
     },
     "execution_count": 166,
     "metadata": {},
     "output_type": "execute_result"
    }
   ],
   "source": [
    "count"
   ]
  },
  {
   "cell_type": "code",
   "execution_count": 169,
   "metadata": {},
   "outputs": [
    {
     "data": {
      "text/plain": [
       "<BarContainer object of 27 artists>"
      ]
     },
     "execution_count": 169,
     "metadata": {},
     "output_type": "execute_result"
    },
    {
     "data": {
      "image/png": "[encoded data removed]",
      "text/plain": [
       "<Figure size 1152x648 with 1 Axes>"
      ]
     },
     "metadata": {},
     "output_type": "display_data"
    }
   ],
   "source": [
    "fig, ax = plt.subplots(figsize=(16, 9))\n",
    "ax.bar(count.index, count.values)"
   ]
  },
  {
   "cell_type": "code",
   "execution_count": null,
   "metadata": {},
   "outputs": [],
   "source": []
  }
 ],
 "metadata": {
  "kernelspec": {
   "display_name": "Python 2",
   "language": "python",
   "name": "python2"
  },
  "language_info": {
   "codemirror_mode": {
    "name": "ipython",
    "version": 2
   },
   "file_extension": ".py",
   "mimetype": "text/x-python",
   "name": "python",
   "nbconvert_exporter": "python",
   "pygments_lexer": "ipython2",
   "version": "2.7.14"
  }
 },
 "nbformat": 4,
 "nbformat_minor": 2
}
