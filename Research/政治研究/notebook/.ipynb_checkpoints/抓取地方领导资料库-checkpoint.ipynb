{
 "cells": [
  {
   "cell_type": "code",
   "execution_count": 1,
   "metadata": {},
   "outputs": [],
   "source": [
    "import urllib2\n",
    "from bs4 import BeautifulSoup\n",
    "import httplib\n",
    "import datetime\n",
    "import os\n",
    "import requests\n",
    "import chardet"
   ]
  },
  {
   "cell_type": "code",
   "execution_count": 2,
   "metadata": {},
   "outputs": [],
   "source": [
    "BASE_URL = 'http://ldzl.people.com.cn/dfzlk/front/personPage'"
   ]
  },
  {
   "cell_type": "code",
   "execution_count": 103,
   "metadata": {},
   "outputs": [],
   "source": [
    "person_id = 16207"
   ]
  },
  {
   "cell_type": "code",
   "execution_count": 104,
   "metadata": {},
   "outputs": [],
   "source": [
    "url = '%s%d.htm'%(BASE_URL, person_id)"
   ]
  },
  {
   "cell_type": "code",
   "execution_count": 105,
   "metadata": {},
   "outputs": [
    {
     "data": {
      "text/plain": [
       "'http://ldzl.people.com.cn/dfzlk/front/personPage16207.htm'"
      ]
     },
     "execution_count": 105,
     "metadata": {},
     "output_type": "execute_result"
    }
   ],
   "source": [
    "url"
   ]
  },
  {
   "cell_type": "code",
   "execution_count": 106,
   "metadata": {},
   "outputs": [],
   "source": [
    "conn = httplib.HTTPConnection(\"ldzl.people.com.cn\")"
   ]
  },
  {
   "cell_type": "code",
   "execution_count": 107,
   "metadata": {},
   "outputs": [],
   "source": [
    "conn.request('GET', url)"
   ]
  },
  {
   "cell_type": "code",
   "execution_count": 108,
   "metadata": {},
   "outputs": [],
   "source": [
    "response = conn.getresponse()\n",
    "text = response.read()\n",
    "soup = BeautifulSoup(text, \"html.parser\")"
   ]
  },
  {
   "cell_type": "code",
   "execution_count": 109,
   "metadata": {},
   "outputs": [
    {
     "data": {
      "text/plain": [
       "200"
      ]
     },
     "execution_count": 109,
     "metadata": {},
     "output_type": "execute_result"
    }
   ],
   "source": [
    "response.status"
   ]
  },
  {
   "cell_type": "markdown",
   "metadata": {},
   "source": [
    "## 姓名"
   ]
  },
  {
   "cell_type": "code",
   "execution_count": 110,
   "metadata": {},
   "outputs": [],
   "source": [
    "name = soup.find(class_='long_name')"
   ]
  },
  {
   "cell_type": "code",
   "execution_count": 111,
   "metadata": {},
   "outputs": [
    {
     "name": "stdout",
     "output_type": "stream",
     "text": [
      "陈辐宽\n"
     ]
    }
   ],
   "source": [
    "print name.text"
   ]
  },
  {
   "cell_type": "markdown",
   "metadata": {},
   "source": [
    "## 职务"
   ]
  },
  {
   "cell_type": "code",
   "execution_count": 112,
   "metadata": {},
   "outputs": [],
   "source": [
    "duty = soup.findAll(class_='red')[1]"
   ]
  },
  {
   "cell_type": "code",
   "execution_count": 113,
   "metadata": {},
   "outputs": [
    {
     "name": "stdout",
     "output_type": "stream",
     "text": [
      "山东省委常委、省纪委书记，省监察委员会主任\n"
     ]
    }
   ],
   "source": [
    "print duty.text"
   ]
  },
  {
   "cell_type": "markdown",
   "metadata": {},
   "source": [
    "## 简历"
   ]
  },
  {
   "cell_type": "code",
   "execution_count": 114,
   "metadata": {},
   "outputs": [],
   "source": [
    "content = soup.find(class_='box01')"
   ]
  },
  {
   "cell_type": "code",
   "execution_count": 115,
   "metadata": {},
   "outputs": [
    {
     "name": "stdout",
     "output_type": "stream",
     "text": [
      "\n",
      "         \n",
      "　　陈辐宽，男，1965年3月生，江苏高邮人，中国政法大学刑事司法学院诉讼法学专业毕业，在职研究生，法学博士。1985年5月加入中国共产党，1985年7月参加工作。\n",
      " \n",
      "　　先后在上海航运公安局刑队、水上公安局办公室工作。\n",
      " \n",
      "　　1997.04 历任上海市公安局团委书记(副处级)、刑侦总队副总队长、政治部副主任兼组织干部处处长\n",
      " \n",
      "　　2003.01 上海市公安局党委委员、政治部主任兼组织干部处处长\n",
      " \n",
      "　　2003.02 上海市公安局党委委员、政治部主任\n",
      " \n",
      "　　2008.03 上海市人民检察院党组成员、第二分院检察长\n",
      " \n",
      "　　2011.11 上海市人民检察院副检察长、党组副书记\n",
      " \n",
      "　　2016.01 中央纪委第十纪检监察室主任\n",
      " \n",
      "　　2016.10 山东省委常委、省纪委书记\n",
      " \n",
      "　　2018.01 山东省委常委、省纪委书记，省监察委员会主任\n",
      " \n",
      "　　十届省委委员，十届省纪委委员。第十九届中央纪委委员。\n",
      " \n",
      "　　（人民网资料 截至2018年2月）\n",
      "\n"
     ]
    }
   ],
   "source": [
    "print content.text.replace('\\t', '')"
   ]
  },
  {
   "cell_type": "code",
   "execution_count": null,
   "metadata": {},
   "outputs": [],
   "source": []
  }
 ],
 "metadata": {
  "kernelspec": {
   "display_name": "Python 2",
   "language": "python",
   "name": "python2"
  },
  "language_info": {
   "codemirror_mode": {
    "name": "ipython",
    "version": 2
   },
   "file_extension": ".py",
   "mimetype": "text/x-python",
   "name": "python",
   "nbconvert_exporter": "python",
   "pygments_lexer": "ipython2",
   "version": "2.7.14"
  }
 },
 "nbformat": 4,
 "nbformat_minor": 2
}
