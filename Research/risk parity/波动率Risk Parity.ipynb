{
 "cells": [
  {
   "cell_type": "code",
   "execution_count": 1,
   "metadata": {
    "collapsed": true
   },
   "outputs": [],
   "source": [
    "import pandas as pd\n",
    "import numpy as np\n",
    "import matplotlib.pyplot as plt\n",
    "import seaborn as sns\n",
    "import os\n",
    "import datetime\n",
    "from scipy.optimize import minimize, basinhopping\n",
    "from sklearn import preprocessing\n",
    "import pyfolio as pf\n",
    "%matplotlib inline"
   ]
  },
  {
   "cell_type": "code",
   "execution_count": 52,
   "metadata": {
    "collapsed": true
   },
   "outputs": [],
   "source": [
    "DATA_DIR = 'C:/Users/jgtzsx01/Documents/workspace/zjsxzy_in_js/Research/data/'"
   ]
  },
  {
   "cell_type": "code",
   "execution_count": 53,
   "metadata": {
    "collapsed": true
   },
   "outputs": [],
   "source": [
    "fname = '%s/assets.xlsx'%(DATA_DIR)"
   ]
  },
  {
   "cell_type": "code",
   "execution_count": 54,
   "metadata": {
    "collapsed": true
   },
   "outputs": [],
   "source": [
    "odf = pd.read_excel(fname, index_col=0)"
   ]
  },
  {
   "cell_type": "code",
   "execution_count": 55,
   "metadata": {
    "collapsed": false
   },
   "outputs": [
    {
     "data": {
      "text/html": [
       "<div>\n",
       "<table border=\"1\" class=\"dataframe\">\n",
       "  <thead>\n",
       "    <tr style=\"text-align: right;\">\n",
       "      <th></th>\n",
       "      <th>881001.WI</th>\n",
       "      <th>HSI.HI</th>\n",
       "      <th>SPX.GI</th>\n",
       "      <th>065.CS</th>\n",
       "      <th>AU9999.SGE</th>\n",
       "      <th>B.IPE</th>\n",
       "      <th>H11025.CSI</th>\n",
       "    </tr>\n",
       "  </thead>\n",
       "  <tbody>\n",
       "    <tr>\n",
       "      <th>2007-01-04</th>\n",
       "      <td>1461.2643</td>\n",
       "      <td>20025.58</td>\n",
       "      <td>1418.34</td>\n",
       "      <td>116.1885</td>\n",
       "      <td>158.58</td>\n",
       "      <td>0.0</td>\n",
       "      <td>1019.2584</td>\n",
       "    </tr>\n",
       "    <tr>\n",
       "      <th>2007-01-05</th>\n",
       "      <td>1474.4288</td>\n",
       "      <td>20211.28</td>\n",
       "      <td>1409.71</td>\n",
       "      <td>116.2254</td>\n",
       "      <td>156.94</td>\n",
       "      <td>0.0</td>\n",
       "      <td>1019.3131</td>\n",
       "    </tr>\n",
       "    <tr>\n",
       "      <th>2007-01-08</th>\n",
       "      <td>1522.0564</td>\n",
       "      <td>20029.66</td>\n",
       "      <td>1412.84</td>\n",
       "      <td>116.2289</td>\n",
       "      <td>153.72</td>\n",
       "      <td>0.0</td>\n",
       "      <td>1019.4650</td>\n",
       "    </tr>\n",
       "    <tr>\n",
       "      <th>2007-01-09</th>\n",
       "      <td>1564.7432</td>\n",
       "      <td>19898.08</td>\n",
       "      <td>1412.11</td>\n",
       "      <td>116.2638</td>\n",
       "      <td>154.45</td>\n",
       "      <td>0.0</td>\n",
       "      <td>1019.5195</td>\n",
       "    </tr>\n",
       "    <tr>\n",
       "      <th>2007-01-10</th>\n",
       "      <td>1603.9025</td>\n",
       "      <td>19568.34</td>\n",
       "      <td>1414.85</td>\n",
       "      <td>116.2990</td>\n",
       "      <td>154.34</td>\n",
       "      <td>0.0</td>\n",
       "      <td>1019.5750</td>\n",
       "    </tr>\n",
       "  </tbody>\n",
       "</table>\n",
       "</div>"
      ],
      "text/plain": [
       "            881001.WI    HSI.HI   SPX.GI    065.CS  AU9999.SGE  B.IPE  \\\n",
       "2007-01-04  1461.2643  20025.58  1418.34  116.1885      158.58    0.0   \n",
       "2007-01-05  1474.4288  20211.28  1409.71  116.2254      156.94    0.0   \n",
       "2007-01-08  1522.0564  20029.66  1412.84  116.2289      153.72    0.0   \n",
       "2007-01-09  1564.7432  19898.08  1412.11  116.2638      154.45    0.0   \n",
       "2007-01-10  1603.9025  19568.34  1414.85  116.2990      154.34    0.0   \n",
       "\n",
       "            H11025.CSI  \n",
       "2007-01-04   1019.2584  \n",
       "2007-01-05   1019.3131  \n",
       "2007-01-08   1019.4650  \n",
       "2007-01-09   1019.5195  \n",
       "2007-01-10   1019.5750  "
      ]
     },
     "execution_count": 55,
     "metadata": {},
     "output_type": "execute_result"
    }
   ],
   "source": [
    "odf.head()"
   ]
  },
  {
   "cell_type": "code",
   "execution_count": 56,
   "metadata": {
    "collapsed": true
   },
   "outputs": [],
   "source": [
    "def metric(daily_ret):\n",
    "    an_ret = pf.empyrical.annual_return(daily_ret)\n",
    "    sharpe = pf.empyrical.sharpe_ratio(daily_ret)\n",
    "    vol = pf.empyrical.annual_volatility(daily_ret)\n",
    "    maxdraw = pf.empyrical.max_drawdown(daily_ret)\n",
    "    print 'Annual return: %.2f%%'%(an_ret*100)\n",
    "    print 'Sharpe ratio: %.2f'%(sharpe)\n",
    "    print 'Annual volatility: %.2f%%'%(vol*100)\n",
    "    print 'Max drawdown: %.2f%%'%(maxdraw*100)"
   ]
  },
  {
   "cell_type": "code",
   "execution_count": 57,
   "metadata": {
    "collapsed": true
   },
   "outputs": [],
   "source": [
    "df = odf[['881001.WI', 'HSI.HI', 'SPX.GI', '065.CS', 'AU9999.SGE']]"
   ]
  },
  {
   "cell_type": "code",
   "execution_count": 58,
   "metadata": {
    "collapsed": true
   },
   "outputs": [],
   "source": [
    "ret_df = df.pct_change().dropna()"
   ]
  },
  {
   "cell_type": "code",
   "execution_count": 112,
   "metadata": {
    "collapsed": true
   },
   "outputs": [],
   "source": [
    "months = pd.Series(ret_df.index.map(lambda x: (x.year, x.month)), index=ret_df.index)\n",
    "rebalance_dates = months.drop_duplicates(keep='last').index"
   ]
  },
  {
   "cell_type": "code",
   "execution_count": 174,
   "metadata": {
    "collapsed": false
   },
   "outputs": [],
   "source": [
    "weight = pd.DataFrame(columns=ret_df.columns, index=ret_df.index)\n",
    "wb = np.zeros(ret_df.shape[1])\n",
    "for date in ret_df.index:\n",
    "    weight.loc[date] = wb\n",
    "    if date in rebalance_dates:\n",
    "        past_return = ret_df[ret_df.index <= date][-60:]\n",
    "        if past_return.shape[0] == 60:\n",
    "            sharpe = pd.Series(0., index=past_return.columns)\n",
    "            for col in past_return.columns:\n",
    "                sharpe[col] = pf.empyrical.sharpe_ratio(past_return[col])\n",
    "            vol = past_return.std()\n",
    "            wb = sharpe**2 / vol # Sharpe风险预算\n",
    "            wb /= wb.sum()"
   ]
  },
  {
   "cell_type": "code",
   "execution_count": 175,
   "metadata": {
    "collapsed": false
   },
   "outputs": [
    {
     "data": {
      "text/html": [
       "<div>\n",
       "<table border=\"1\" class=\"dataframe\">\n",
       "  <thead>\n",
       "    <tr style=\"text-align: right;\">\n",
       "      <th></th>\n",
       "      <th>881001.WI</th>\n",
       "      <th>HSI.HI</th>\n",
       "      <th>SPX.GI</th>\n",
       "      <th>065.CS</th>\n",
       "      <th>AU9999.SGE</th>\n",
       "    </tr>\n",
       "  </thead>\n",
       "  <tbody>\n",
       "    <tr>\n",
       "      <th>2016-12-01</th>\n",
       "      <td>0.648834</td>\n",
       "      <td>0.000223955</td>\n",
       "      <td>0.0217328</td>\n",
       "      <td>0.0312446</td>\n",
       "      <td>0.297964</td>\n",
       "    </tr>\n",
       "    <tr>\n",
       "      <th>2017-01-03</th>\n",
       "      <td>0.0063461</td>\n",
       "      <td>0.0453501</td>\n",
       "      <td>0.0757655</td>\n",
       "      <td>0.787633</td>\n",
       "      <td>0.0849055</td>\n",
       "    </tr>\n",
       "    <tr>\n",
       "      <th>2017-02-03</th>\n",
       "      <td>0.00326756</td>\n",
       "      <td>0.00577817</td>\n",
       "      <td>0.267815</td>\n",
       "      <td>0.689251</td>\n",
       "      <td>0.0338886</td>\n",
       "    </tr>\n",
       "    <tr>\n",
       "      <th>2017-03-01</th>\n",
       "      <td>0.0103333</td>\n",
       "      <td>0.0245417</td>\n",
       "      <td>0.433943</td>\n",
       "      <td>0.479131</td>\n",
       "      <td>0.0520509</td>\n",
       "    </tr>\n",
       "    <tr>\n",
       "      <th>2017-04-05</th>\n",
       "      <td>0.0289868</td>\n",
       "      <td>0.356124</td>\n",
       "      <td>0.381499</td>\n",
       "      <td>0.0837509</td>\n",
       "      <td>0.149639</td>\n",
       "    </tr>\n",
       "    <tr>\n",
       "      <th>2017-05-02</th>\n",
       "      <td>0.000129987</td>\n",
       "      <td>0.12515</td>\n",
       "      <td>0.161541</td>\n",
       "      <td>0.581992</td>\n",
       "      <td>0.131187</td>\n",
       "    </tr>\n",
       "    <tr>\n",
       "      <th>2017-06-01</th>\n",
       "      <td>0.0326107</td>\n",
       "      <td>0.0637431</td>\n",
       "      <td>0.0014915</td>\n",
       "      <td>0.901831</td>\n",
       "      <td>0.00032356</td>\n",
       "    </tr>\n",
       "    <tr>\n",
       "      <th>2017-07-03</th>\n",
       "      <td>0.00552699</td>\n",
       "      <td>0.514313</td>\n",
       "      <td>0.16667</td>\n",
       "      <td>0.26495</td>\n",
       "      <td>0.048539</td>\n",
       "    </tr>\n",
       "    <tr>\n",
       "      <th>2017-08-01</th>\n",
       "      <td>0.00637096</td>\n",
       "      <td>0.0770627</td>\n",
       "      <td>0.0230881</td>\n",
       "      <td>0.893333</td>\n",
       "      <td>0.000145108</td>\n",
       "    </tr>\n",
       "    <tr>\n",
       "      <th>2017-09-01</th>\n",
       "      <td>0.0121107</td>\n",
       "      <td>0.0114201</td>\n",
       "      <td>0.00210674</td>\n",
       "      <td>0.972626</td>\n",
       "      <td>0.00173681</td>\n",
       "    </tr>\n",
       "  </tbody>\n",
       "</table>\n",
       "</div>"
      ],
      "text/plain": [
       "              881001.WI       HSI.HI      SPX.GI     065.CS   AU9999.SGE\n",
       "2016-12-01     0.648834  0.000223955   0.0217328  0.0312446     0.297964\n",
       "2017-01-03    0.0063461    0.0453501   0.0757655   0.787633    0.0849055\n",
       "2017-02-03   0.00326756   0.00577817    0.267815   0.689251    0.0338886\n",
       "2017-03-01    0.0103333    0.0245417    0.433943   0.479131    0.0520509\n",
       "2017-04-05    0.0289868     0.356124    0.381499  0.0837509     0.149639\n",
       "2017-05-02  0.000129987      0.12515    0.161541   0.581992     0.131187\n",
       "2017-06-01    0.0326107    0.0637431   0.0014915   0.901831   0.00032356\n",
       "2017-07-03   0.00552699     0.514313     0.16667    0.26495     0.048539\n",
       "2017-08-01   0.00637096    0.0770627   0.0230881   0.893333  0.000145108\n",
       "2017-09-01    0.0121107    0.0114201  0.00210674   0.972626   0.00173681"
      ]
     },
     "execution_count": 175,
     "metadata": {},
     "output_type": "execute_result"
    }
   ],
   "source": [
    "weight.drop_duplicates().tail(n=10)"
   ]
  },
  {
   "cell_type": "code",
   "execution_count": 176,
   "metadata": {
    "collapsed": true
   },
   "outputs": [],
   "source": [
    "portfolio_ret = (weight * ret_df).sum(axis=1)"
   ]
  },
  {
   "cell_type": "code",
   "execution_count": 177,
   "metadata": {
    "collapsed": true
   },
   "outputs": [],
   "source": [
    "portfolio_ret = portfolio_ret[portfolio_ret != 0]"
   ]
  },
  {
   "cell_type": "code",
   "execution_count": 178,
   "metadata": {
    "collapsed": false
   },
   "outputs": [
    {
     "name": "stdout",
     "output_type": "stream",
     "text": [
      "Annual return: 7.27%\n",
      "Sharpe ratio: 1.68\n",
      "Annual volatility: 4.23%\n",
      "Max drawdown: -8.94%\n"
     ]
    }
   ],
   "source": [
    "metric(portfolio_ret)"
   ]
  },
  {
   "cell_type": "code",
   "execution_count": 179,
   "metadata": {
    "collapsed": false
   },
   "outputs": [
    {
     "data": {
      "text/plain": [
       "<matplotlib.legend.Legend at 0x148867d0>"
      ]
     },
     "execution_count": 179,
     "metadata": {},
     "output_type": "execute_result"
    },
    {
     "data": {
      "image/png": "[encoded data removed]",
      "text/plain": [
       "<matplotlib.figure.Figure at 0x148914d0>"
      ]
     },
     "metadata": {},
     "output_type": "display_data"
    }
   ],
   "source": [
    "plt.figure(figsize=(16, 9))\n",
    "plt.plot((1+portfolio_ret).cumprod(), label='volatility risk parity')\n",
    "plt.legend()"
   ]
  },
  {
   "cell_type": "markdown",
   "metadata": {
    "collapsed": true
   },
   "source": [
    "# 未来波动率"
   ]
  },
  {
   "cell_type": "code",
   "execution_count": 105,
   "metadata": {
    "collapsed": true
   },
   "outputs": [],
   "source": [
    "weight = pd.DataFrame(columns=ret_df.columns, index=ret_df.index)\n",
    "wb = np.zeros(ret_df.shape[1])\n",
    "for date in ret_df.index:\n",
    "    weight.loc[date] = wb\n",
    "    if date in rebalance_dates:\n",
    "        past_return = ret_df[ret_df.index >= date][121:]\n",
    "        vol = past_return.std()\n",
    "        wb = 1. / vol\n",
    "        wb /= wb.sum()"
   ]
  },
  {
   "cell_type": "code",
   "execution_count": 106,
   "metadata": {
    "collapsed": true
   },
   "outputs": [],
   "source": [
    "portfolio_ret2 = (weight * ret_df).sum(axis=1)"
   ]
  },
  {
   "cell_type": "code",
   "execution_count": 107,
   "metadata": {
    "collapsed": true
   },
   "outputs": [],
   "source": [
    "portfolio_ret2 = portfolio_ret2[portfolio_ret2 != 0]"
   ]
  },
  {
   "cell_type": "code",
   "execution_count": 108,
   "metadata": {
    "collapsed": false
   },
   "outputs": [
    {
     "name": "stdout",
     "output_type": "stream",
     "text": [
      "Annual return: 4.68%\n",
      "Sharpe ratio: 1.37\n",
      "Annual volatility: 3.53%\n",
      "Max drawdown: -6.97%\n"
     ]
    }
   ],
   "source": [
    "metric(portfolio_ret2)"
   ]
  },
  {
   "cell_type": "code",
   "execution_count": 109,
   "metadata": {
    "collapsed": false
   },
   "outputs": [
    {
     "data": {
      "text/plain": [
       "<matplotlib.legend.Legend at 0x1210dcf0>"
      ]
     },
     "execution_count": 109,
     "metadata": {},
     "output_type": "execute_result"
    },
    {
     "data": {
      "image/png": "[encoded data removed]",
      "text/plain": [
       "<matplotlib.figure.Figure at 0x120fb930>"
      ]
     },
     "metadata": {},
     "output_type": "display_data"
    }
   ],
   "source": [
    "plt.figure(figsize=(16, 9))\n",
    "plt.plot((1+portfolio_ret).cumprod(), label='volatility risk parity')\n",
    "plt.plot((1+portfolio_ret2).cumprod(), label='real volatility risk parity')\n",
    "plt.legend()"
   ]
  },
  {
   "cell_type": "code",
   "execution_count": 110,
   "metadata": {
    "collapsed": true
   },
   "outputs": [],
   "source": [
    "df = pd.DataFrame({'past': (1+portfolio_ret).cumprod(), 'future': (1+portfolio_ret2).cumprod()})"
   ]
  },
  {
   "cell_type": "code",
   "execution_count": 111,
   "metadata": {
    "collapsed": false
   },
   "outputs": [],
   "source": [
    "df.to_excel('C:/Users/jgtzsx01/Desktop/rp.xlsx')"
   ]
  },
  {
   "cell_type": "code",
   "execution_count": null,
   "metadata": {
    "collapsed": true
   },
   "outputs": [],
   "source": []
  }
 ],
 "metadata": {
  "anaconda-cloud": {},
  "kernelspec": {
   "display_name": "Python [default]",
   "language": "python",
   "name": "python2"
  },
  "language_info": {
   "codemirror_mode": {
    "name": "ipython",
    "version": 2
   },
   "file_extension": ".py",
   "mimetype": "text/x-python",
   "name": "python",
   "nbconvert_exporter": "python",
   "pygments_lexer": "ipython2",
   "version": "2.7.12"
  }
 },
 "nbformat": 4,
 "nbformat_minor": 1
}
