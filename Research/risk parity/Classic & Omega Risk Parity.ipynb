{
 "cells": [
  {
   "cell_type": "code",
   "execution_count": 1,
   "metadata": {
    "collapsed": true
   },
   "outputs": [],
   "source": [
    "import pandas as pd\n",
    "import numpy as np\n",
    "import matplotlib.pyplot as plt\n",
    "import seaborn as sns\n",
    "import os\n",
    "import datetime\n",
    "from scipy.optimize import minimize, basinhopping\n",
    "from sklearn import preprocessing\n",
    "import pyfolio as pf\n",
    "%matplotlib inline"
   ]
  },
  {
   "cell_type": "code",
   "execution_count": 2,
   "metadata": {
    "collapsed": true
   },
   "outputs": [],
   "source": [
    "DATA_DIR = 'C:/Users/jgtzsx01/Documents/workspace/zjsxzy_in_js/Research/data/'"
   ]
  },
  {
   "cell_type": "code",
   "execution_count": 3,
   "metadata": {
    "collapsed": true
   },
   "outputs": [],
   "source": [
    "fname = '%s/assets2.xlsx'%(DATA_DIR)"
   ]
  },
  {
   "cell_type": "code",
   "execution_count": 4,
   "metadata": {
    "collapsed": true
   },
   "outputs": [],
   "source": [
    "odf = pd.read_excel(fname, index_col=0)"
   ]
  },
  {
   "cell_type": "code",
   "execution_count": 5,
   "metadata": {
    "collapsed": false
   },
   "outputs": [
    {
     "data": {
      "text/html": [
       "<div>\n",
       "<table border=\"1\" class=\"dataframe\">\n",
       "  <thead>\n",
       "    <tr style=\"text-align: right;\">\n",
       "      <th></th>\n",
       "      <th>HSCAIT.HI</th>\n",
       "      <th>000852.SH</th>\n",
       "      <th>065.CS</th>\n",
       "      <th>AU9999.SGE</th>\n",
       "      <th>HSCEI.HI</th>\n",
       "      <th>IXIC.GI</th>\n",
       "    </tr>\n",
       "  </thead>\n",
       "  <tbody>\n",
       "    <tr>\n",
       "      <th>2006-01-04</th>\n",
       "      <td>1110.75</td>\n",
       "      <td>852.531</td>\n",
       "      <td>113.2125</td>\n",
       "      <td>138.21</td>\n",
       "      <td>5569.99</td>\n",
       "      <td>2263.46</td>\n",
       "    </tr>\n",
       "    <tr>\n",
       "      <th>2006-01-05</th>\n",
       "      <td>1131.49</td>\n",
       "      <td>865.698</td>\n",
       "      <td>113.3975</td>\n",
       "      <td>137.89</td>\n",
       "      <td>5603.94</td>\n",
       "      <td>2276.87</td>\n",
       "    </tr>\n",
       "    <tr>\n",
       "      <th>2006-01-06</th>\n",
       "      <td>1138.74</td>\n",
       "      <td>872.818</td>\n",
       "      <td>113.5282</td>\n",
       "      <td>136.81</td>\n",
       "      <td>5677.93</td>\n",
       "      <td>2305.62</td>\n",
       "    </tr>\n",
       "    <tr>\n",
       "      <th>2006-01-09</th>\n",
       "      <td>1139.14</td>\n",
       "      <td>886.656</td>\n",
       "      <td>113.6936</td>\n",
       "      <td>140.44</td>\n",
       "      <td>5804.81</td>\n",
       "      <td>2318.69</td>\n",
       "    </tr>\n",
       "    <tr>\n",
       "      <th>2006-01-10</th>\n",
       "      <td>1142.14</td>\n",
       "      <td>889.152</td>\n",
       "      <td>113.8044</td>\n",
       "      <td>140.94</td>\n",
       "      <td>5761.62</td>\n",
       "      <td>2320.32</td>\n",
       "    </tr>\n",
       "  </tbody>\n",
       "</table>\n",
       "</div>"
      ],
      "text/plain": [
       "            HSCAIT.HI  000852.SH    065.CS  AU9999.SGE  HSCEI.HI  IXIC.GI\n",
       "2006-01-04    1110.75    852.531  113.2125      138.21   5569.99  2263.46\n",
       "2006-01-05    1131.49    865.698  113.3975      137.89   5603.94  2276.87\n",
       "2006-01-06    1138.74    872.818  113.5282      136.81   5677.93  2305.62\n",
       "2006-01-09    1139.14    886.656  113.6936      140.44   5804.81  2318.69\n",
       "2006-01-10    1142.14    889.152  113.8044      140.94   5761.62  2320.32"
      ]
     },
     "execution_count": 5,
     "metadata": {},
     "output_type": "execute_result"
    }
   ],
   "source": [
    "odf.head()"
   ]
  },
  {
   "cell_type": "code",
   "execution_count": 6,
   "metadata": {
    "collapsed": true
   },
   "outputs": [],
   "source": [
    " # 风险预算优化\n",
    "def calculate_portfolio_var(w, V):\n",
    "    # 计算组合风险的函数\n",
    "    return w.dot(V).dot(w)\n",
    "def calculate_risk_contribution(w ,V):\n",
    "    # 边际风险贡献\n",
    "    MRC = V.dot(w)\n",
    "    # 风险贡献\n",
    "    RC = w * MRC\n",
    "    return RC\n",
    "def risk_budget_objective(x, pars):\n",
    "    # 计算组合风险\n",
    "    V = pars[0]# 协方差矩阵\n",
    "    MRC = V.dot(x)\n",
    "    ARC = x * MRC\n",
    "    J = np.sum([(i-j)**2 for i in ARC for j in ARC])\n",
    "#     J = x.dot(MRC) - np.log(x).sum()\n",
    "#     J = calculate_portfolio_var(x, V) - np.log(x).sum()\n",
    "#     J = sum(np.square(asset_RC - risk_target.T))[0, 0] # sum of squared error\n",
    "#     J = np.abs(asset_RC.max() - asset_RC.min())\n",
    "    return J\n",
    "def total_weight_constraint(x):\n",
    "    return np.sum(x) - 1.0\n",
    "def long_only_constraint(x):\n",
    "    return x"
   ]
  },
  {
   "cell_type": "code",
   "execution_count": 7,
   "metadata": {
    "collapsed": true
   },
   "outputs": [],
   "source": [
    "# 根据资产预期目标风险贡献度来计算各资产的权重\n",
    "def calcu_w(V):\n",
    "    N = V.shape[0]\n",
    "    w0 = np.random.random_sample((N,))\n",
    "    w0 /= w0.sum()\n",
    "    cons = ({'type': 'eq', 'fun': total_weight_constraint},\n",
    "            {'type': 'ineq', 'fun': long_only_constraint})\n",
    "    minimizer_args = {'method': 'SLSQP', 'args': [V], 'constraints': cons}\n",
    "#     minimizer_args = {'method': 'L-BFGS-B', 'args': [V], 'bounds': np.array([(0., None)]*N)}\n",
    "#     weight = res.x / res.x.sum()\n",
    "    res = basinhopping(risk_budget_objective, w0, stepsize=1e-8, minimizer_kwargs=minimizer_args)\n",
    "#     res = minimize(risk_budget_objective, w0, args=[V], method='SLSQP',constraints=cons)\n",
    "    return res.x"
   ]
  },
  {
   "cell_type": "code",
   "execution_count": 8,
   "metadata": {
    "collapsed": true
   },
   "outputs": [],
   "source": [
    "def metric(daily_ret):\n",
    "    an_ret = pf.empyrical.annual_return(daily_ret)\n",
    "    sharpe = pf.empyrical.sharpe_ratio(daily_ret)\n",
    "    vol = pf.empyrical.annual_volatility(daily_ret)\n",
    "    maxdraw = pf.empyrical.max_drawdown(daily_ret)\n",
    "    print 'Annual return: %.2f%%'%(an_ret*100)\n",
    "    print 'Sharpe ratio: %.2f'%(sharpe)\n",
    "    print 'Annual volatility: %.2f%%'%(vol*100)\n",
    "    print 'Max drawdown: %.2f%%'%(maxdraw*100)"
   ]
  },
  {
   "cell_type": "markdown",
   "metadata": {},
   "source": [
    "# 情况1\n",
    "* HSCAIT\n",
    "* 065.CS\n",
    "* AU9999.SGE"
   ]
  },
  {
   "cell_type": "code",
   "execution_count": 9,
   "metadata": {
    "collapsed": true
   },
   "outputs": [],
   "source": [
    "df = odf[['HSCAIT.HI', '065.CS', 'AU9999.SGE']]"
   ]
  },
  {
   "cell_type": "code",
   "execution_count": 10,
   "metadata": {
    "collapsed": false
   },
   "outputs": [
    {
     "data": {
      "text/html": [
       "<div>\n",
       "<table border=\"1\" class=\"dataframe\">\n",
       "  <thead>\n",
       "    <tr style=\"text-align: right;\">\n",
       "      <th></th>\n",
       "      <th>HSCAIT.HI</th>\n",
       "      <th>065.CS</th>\n",
       "      <th>AU9999.SGE</th>\n",
       "    </tr>\n",
       "  </thead>\n",
       "  <tbody>\n",
       "    <tr>\n",
       "      <th>2006-01-04</th>\n",
       "      <td>1110.75</td>\n",
       "      <td>113.2125</td>\n",
       "      <td>138.21</td>\n",
       "    </tr>\n",
       "    <tr>\n",
       "      <th>2006-01-05</th>\n",
       "      <td>1131.49</td>\n",
       "      <td>113.3975</td>\n",
       "      <td>137.89</td>\n",
       "    </tr>\n",
       "    <tr>\n",
       "      <th>2006-01-06</th>\n",
       "      <td>1138.74</td>\n",
       "      <td>113.5282</td>\n",
       "      <td>136.81</td>\n",
       "    </tr>\n",
       "    <tr>\n",
       "      <th>2006-01-09</th>\n",
       "      <td>1139.14</td>\n",
       "      <td>113.6936</td>\n",
       "      <td>140.44</td>\n",
       "    </tr>\n",
       "    <tr>\n",
       "      <th>2006-01-10</th>\n",
       "      <td>1142.14</td>\n",
       "      <td>113.8044</td>\n",
       "      <td>140.94</td>\n",
       "    </tr>\n",
       "  </tbody>\n",
       "</table>\n",
       "</div>"
      ],
      "text/plain": [
       "            HSCAIT.HI    065.CS  AU9999.SGE\n",
       "2006-01-04    1110.75  113.2125      138.21\n",
       "2006-01-05    1131.49  113.3975      137.89\n",
       "2006-01-06    1138.74  113.5282      136.81\n",
       "2006-01-09    1139.14  113.6936      140.44\n",
       "2006-01-10    1142.14  113.8044      140.94"
      ]
     },
     "execution_count": 10,
     "metadata": {},
     "output_type": "execute_result"
    }
   ],
   "source": [
    "df.head()"
   ]
  },
  {
   "cell_type": "code",
   "execution_count": 12,
   "metadata": {
    "collapsed": true
   },
   "outputs": [],
   "source": [
    "ret_df = df.pct_change().dropna()"
   ]
  },
  {
   "cell_type": "code",
   "execution_count": 13,
   "metadata": {
    "collapsed": true
   },
   "outputs": [],
   "source": [
    "months = pd.Series(ret_df.index.map(lambda x: (x.year, x.month)), index=ret_df.index)\n",
    "rebalance_dates = months.drop_duplicates(keep='last').index"
   ]
  },
  {
   "cell_type": "code",
   "execution_count": 14,
   "metadata": {
    "collapsed": false
   },
   "outputs": [
    {
     "data": {
      "text/plain": [
       "DatetimeIndex(['2006-01-25', '2006-02-28', '2006-03-31', '2006-04-28',\n",
       "               '2006-05-31', '2006-06-30', '2006-07-31', '2006-08-31',\n",
       "               '2006-09-29', '2006-10-31',\n",
       "               ...\n",
       "               '2016-11-30', '2016-12-30', '2017-01-26', '2017-02-28',\n",
       "               '2017-03-31', '2017-04-28', '2017-05-31', '2017-06-30',\n",
       "               '2017-07-31', '2017-08-17'],\n",
       "              dtype='datetime64[ns]', length=140, freq=None)"
      ]
     },
     "execution_count": 14,
     "metadata": {},
     "output_type": "execute_result"
    }
   ],
   "source": [
    "rebalance_dates"
   ]
  },
  {
   "cell_type": "code",
   "execution_count": 17,
   "metadata": {
    "collapsed": false
   },
   "outputs": [],
   "source": [
    "weight = pd.DataFrame(columns=ret_df.columns, index=ret_df.index)\n",
    "wb = np.zeros(ret_df.shape[1])\n",
    "for date in ret_df.index:\n",
    "    weight.loc[date] = wb\n",
    "    if date in rebalance_dates:\n",
    "        cov = ret_df[ret_df.index <= date][-242:].cov()\n",
    "        wb = calcu_w(cov*10000)"
   ]
  },
  {
   "cell_type": "code",
   "execution_count": 24,
   "metadata": {
    "collapsed": false
   },
   "outputs": [
    {
     "data": {
      "text/html": [
       "<div>\n",
       "<table border=\"1\" class=\"dataframe\">\n",
       "  <thead>\n",
       "    <tr style=\"text-align: right;\">\n",
       "      <th></th>\n",
       "      <th>HSCAIT.HI</th>\n",
       "      <th>065.CS</th>\n",
       "      <th>AU9999.SGE</th>\n",
       "    </tr>\n",
       "  </thead>\n",
       "  <tbody>\n",
       "    <tr>\n",
       "      <th>2017-04-05</th>\n",
       "      <td>0.107948</td>\n",
       "      <td>0.791125</td>\n",
       "      <td>0.100927</td>\n",
       "    </tr>\n",
       "    <tr>\n",
       "      <th>2017-05-02</th>\n",
       "      <td>0.105639</td>\n",
       "      <td>0.792618</td>\n",
       "      <td>0.101744</td>\n",
       "    </tr>\n",
       "    <tr>\n",
       "      <th>2017-06-01</th>\n",
       "      <td>0.120414</td>\n",
       "      <td>0.76765</td>\n",
       "      <td>0.111936</td>\n",
       "    </tr>\n",
       "    <tr>\n",
       "      <th>2017-07-03</th>\n",
       "      <td>0.103894</td>\n",
       "      <td>0.780886</td>\n",
       "      <td>0.11522</td>\n",
       "    </tr>\n",
       "    <tr>\n",
       "      <th>2017-08-01</th>\n",
       "      <td>0.108612</td>\n",
       "      <td>0.768186</td>\n",
       "      <td>0.123203</td>\n",
       "    </tr>\n",
       "  </tbody>\n",
       "</table>\n",
       "</div>"
      ],
      "text/plain": [
       "           HSCAIT.HI    065.CS AU9999.SGE\n",
       "2017-04-05  0.107948  0.791125   0.100927\n",
       "2017-05-02  0.105639  0.792618   0.101744\n",
       "2017-06-01  0.120414   0.76765   0.111936\n",
       "2017-07-03  0.103894  0.780886    0.11522\n",
       "2017-08-01  0.108612  0.768186   0.123203"
      ]
     },
     "execution_count": 24,
     "metadata": {},
     "output_type": "execute_result"
    }
   ],
   "source": [
    "weight.drop_duplicates().tail()"
   ]
  },
  {
   "cell_type": "code",
   "execution_count": 19,
   "metadata": {
    "collapsed": true
   },
   "outputs": [],
   "source": [
    "portfolio_ret1 = (weight * ret_df).sum(axis=1)"
   ]
  },
  {
   "cell_type": "code",
   "execution_count": 20,
   "metadata": {
    "collapsed": true
   },
   "outputs": [],
   "source": [
    "portfolio_ret1 = portfolio_ret1[portfolio_ret1 != 0]"
   ]
  },
  {
   "cell_type": "code",
   "execution_count": 21,
   "metadata": {
    "collapsed": false
   },
   "outputs": [
    {
     "name": "stdout",
     "output_type": "stream",
     "text": [
      "Annual return: 4.52%\n",
      "Sharpe ratio: 2.52\n",
      "Annual volatility: 1.76%\n",
      "Max drawdown: -3.46%\n"
     ]
    }
   ],
   "source": [
    "metric(portfolio_ret1)"
   ]
  },
  {
   "cell_type": "code",
   "execution_count": 23,
   "metadata": {
    "collapsed": false
   },
   "outputs": [
    {
     "data": {
      "text/plain": [
       "<matplotlib.legend.Legend at 0xba2b2d0>"
      ]
     },
     "execution_count": 23,
     "metadata": {},
     "output_type": "execute_result"
    },
    {
     "data": {
      "image/png": "[encoded data removed]",
      "text/plain": [
       "<matplotlib.figure.Figure at 0xc17d730>"
      ]
     },
     "metadata": {},
     "output_type": "display_data"
    }
   ],
   "source": [
    "plt.figure(figsize=(16, 9))\n",
    "plt.plot((1+portfolio_ret1).cumprod(), label='portfolio 1')\n",
    "plt.legend()"
   ]
  },
  {
   "cell_type": "code",
   "execution_count": null,
   "metadata": {
    "collapsed": true
   },
   "outputs": [],
   "source": []
  }
 ],
 "metadata": {
  "kernelspec": {
   "display_name": "Python [default]",
   "language": "python",
   "name": "python2"
  },
  "language_info": {
   "codemirror_mode": {
    "name": "ipython",
    "version": 2
   },
   "file_extension": ".py",
   "mimetype": "text/x-python",
   "name": "python",
   "nbconvert_exporter": "python",
   "pygments_lexer": "ipython2",
   "version": "2.7.12"
  }
 },
 "nbformat": 4,
 "nbformat_minor": 1
}
