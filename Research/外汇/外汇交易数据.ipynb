{
 "cells": [
  {
   "cell_type": "code",
   "execution_count": 79,
   "metadata": {},
   "outputs": [],
   "source": [
    "import pandas as pd"
   ]
  },
  {
   "cell_type": "code",
   "execution_count": 80,
   "metadata": {},
   "outputs": [],
   "source": [
    "with open('D:/Data/trade.txt', 'r') as f:\n",
    "    lines = f.readlines()"
   ]
  },
  {
   "cell_type": "code",
   "execution_count": 81,
   "metadata": {},
   "outputs": [],
   "source": [
    "lines = [x for x in lines if not len(x.rstrip('\\n')) == 0 and not x == ' \\n']"
   ]
  },
  {
   "cell_type": "code",
   "execution_count": 82,
   "metadata": {},
   "outputs": [],
   "source": [
    "df = pd.DataFrame(columns=[u'操作', u'开仓价', u'平仓价', u'交易量', u'订单盈亏', u'库存费'])"
   ]
  },
  {
   "cell_type": "code",
   "execution_count": 83,
   "metadata": {},
   "outputs": [],
   "source": [
    "for i, x in enumerate(lines):\n",
    "#     print i, x\n",
    "    if i % 4 == 0:\n",
    "        elements = []\n",
    "        elements.append(x.strip())\n",
    "    elif i % 4 == 3:\n",
    "        nums = x.strip().split('\\t')\n",
    "        elements.append(float(nums[0]))\n",
    "        elements.append(float(nums[1]))\n",
    "        elements.append(float(nums[2]))\n",
    "        elements.append(float(nums[4]))\n",
    "        elements.append(float(nums[5]))\n",
    "        df.loc[i / 5] = elements"
   ]
  },
  {
   "cell_type": "code",
   "execution_count": 84,
   "metadata": {},
   "outputs": [],
   "source": [
    "df = df.sort_index(ascending=False)"
   ]
  },
  {
   "cell_type": "code",
   "execution_count": 85,
   "metadata": {},
   "outputs": [
    {
     "data": {
      "text/html": [
       "<div>\n",
       "<style scoped>\n",
       "    .dataframe tbody tr th:only-of-type {\n",
       "        vertical-align: middle;\n",
       "    }\n",
       "\n",
       "    .dataframe tbody tr th {\n",
       "        vertical-align: top;\n",
       "    }\n",
       "\n",
       "    .dataframe thead th {\n",
       "        text-align: right;\n",
       "    }\n",
       "</style>\n",
       "<table border=\"1\" class=\"dataframe\">\n",
       "  <thead>\n",
       "    <tr style=\"text-align: right;\">\n",
       "      <th></th>\n",
       "      <th>操作</th>\n",
       "      <th>开仓价</th>\n",
       "      <th>平仓价</th>\n",
       "      <th>交易量</th>\n",
       "      <th>订单盈亏</th>\n",
       "      <th>库存费</th>\n",
       "    </tr>\n",
       "  </thead>\n",
       "  <tbody>\n",
       "    <tr>\n",
       "      <th>4</th>\n",
       "      <td>买入 澳元日元 (AUDJPY400)</td>\n",
       "      <td>75.612</td>\n",
       "      <td>75.516</td>\n",
       "      <td>0.10</td>\n",
       "      <td>-8.89</td>\n",
       "      <td>0.00</td>\n",
       "    </tr>\n",
       "    <tr>\n",
       "      <th>3</th>\n",
       "      <td>买入 黄金 (XAUUSD400)</td>\n",
       "      <td>1345.140</td>\n",
       "      <td>1401.680</td>\n",
       "      <td>0.05</td>\n",
       "      <td>282.70</td>\n",
       "      <td>-6.38</td>\n",
       "    </tr>\n",
       "    <tr>\n",
       "      <th>2</th>\n",
       "      <td>买入 黄金 (XAUUSD400)</td>\n",
       "      <td>1408.450</td>\n",
       "      <td>1410.970</td>\n",
       "      <td>0.05</td>\n",
       "      <td>12.60</td>\n",
       "      <td>-0.64</td>\n",
       "    </tr>\n",
       "    <tr>\n",
       "      <th>1</th>\n",
       "      <td>买入 西德州原油 (XTIUSD200)</td>\n",
       "      <td>59.448</td>\n",
       "      <td>57.999</td>\n",
       "      <td>0.05</td>\n",
       "      <td>-72.45</td>\n",
       "      <td>-0.27</td>\n",
       "    </tr>\n",
       "    <tr>\n",
       "      <th>0</th>\n",
       "      <td>卖出 美元日元 (USDJPY400)</td>\n",
       "      <td>106.834</td>\n",
       "      <td>108.300</td>\n",
       "      <td>0.06</td>\n",
       "      <td>-81.22</td>\n",
       "      <td>-2.96</td>\n",
       "    </tr>\n",
       "  </tbody>\n",
       "</table>\n",
       "</div>"
      ],
      "text/plain": [
       "                     操作       开仓价       平仓价   交易量    订单盈亏   库存费\n",
       "4   买入 澳元日元 (AUDJPY400)    75.612    75.516  0.10   -8.89  0.00\n",
       "3     买入 黄金 (XAUUSD400)  1345.140  1401.680  0.05  282.70 -6.38\n",
       "2     买入 黄金 (XAUUSD400)  1408.450  1410.970  0.05   12.60 -0.64\n",
       "1  买入 西德州原油 (XTIUSD200)    59.448    57.999  0.05  -72.45 -0.27\n",
       "0   卖出 美元日元 (USDJPY400)   106.834   108.300  0.06  -81.22 -2.96"
      ]
     },
     "execution_count": 85,
     "metadata": {},
     "output_type": "execute_result"
    }
   ],
   "source": [
    "df.tail()"
   ]
  },
  {
   "cell_type": "code",
   "execution_count": 86,
   "metadata": {},
   "outputs": [],
   "source": [
    "df.to_excel('C:/Users/zhangyang01/Desktop/trade.xlsx', engine='openpyxl')"
   ]
  },
  {
   "cell_type": "code",
   "execution_count": null,
   "metadata": {},
   "outputs": [],
   "source": []
  }
 ],
 "metadata": {
  "kernelspec": {
   "display_name": "Python 2",
   "language": "python",
   "name": "python2"
  },
  "language_info": {
   "codemirror_mode": {
    "name": "ipython",
    "version": 2
   },
   "file_extension": ".py",
   "mimetype": "text/x-python",
   "name": "python",
   "nbconvert_exporter": "python",
   "pygments_lexer": "ipython2",
   "version": "2.7.14"
  }
 },
 "nbformat": 4,
 "nbformat_minor": 2
}
