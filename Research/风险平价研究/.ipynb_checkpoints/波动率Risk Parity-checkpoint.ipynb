{
 "cells": [
  {
   "cell_type": "code",
   "execution_count": 1,
   "metadata": {
    "collapsed": true
   },
   "outputs": [],
   "source": [
    "import pandas as pd\n",
    "import numpy as np\n",
    "import matplotlib.pyplot as plt\n",
    "import seaborn as sns\n",
    "import os\n",
    "import datetime\n",
    "from scipy.optimize import minimize, basinhopping\n",
    "from sklearn import preprocessing\n",
    "import empyrical\n",
    "import pyfolio as pf\n",
    "%matplotlib inline"
   ]
  },
  {
   "cell_type": "code",
   "execution_count": 2,
   "metadata": {
    "collapsed": true
   },
   "outputs": [],
   "source": [
    "fname = '../data/assets.xlsx'"
   ]
  },
  {
   "cell_type": "code",
   "execution_count": 3,
   "metadata": {
    "collapsed": true
   },
   "outputs": [],
   "source": [
    "odf = pd.read_excel(fname, index_col=0)"
   ]
  },
  {
   "cell_type": "code",
   "execution_count": 11,
   "metadata": {},
   "outputs": [],
   "source": [
    "odf = odf.replace([0.0], np.NAN)"
   ]
  },
  {
   "cell_type": "code",
   "execution_count": 12,
   "metadata": {},
   "outputs": [
    {
     "data": {
      "text/html": [
       "<div>\n",
       "<style scoped>\n",
       "    .dataframe tbody tr th:only-of-type {\n",
       "        vertical-align: middle;\n",
       "    }\n",
       "\n",
       "    .dataframe tbody tr th {\n",
       "        vertical-align: top;\n",
       "    }\n",
       "\n",
       "    .dataframe thead th {\n",
       "        text-align: right;\n",
       "    }\n",
       "</style>\n",
       "<table border=\"1\" class=\"dataframe\">\n",
       "  <thead>\n",
       "    <tr style=\"text-align: right;\">\n",
       "      <th></th>\n",
       "      <th>000906.SH</th>\n",
       "      <th>HSI.HI</th>\n",
       "      <th>SPX.GI</th>\n",
       "      <th>CBA00101.CS</th>\n",
       "      <th>AU9999.SGE</th>\n",
       "      <th>B.IPE</th>\n",
       "      <th>H11025.CSI</th>\n",
       "    </tr>\n",
       "  </thead>\n",
       "  <tbody>\n",
       "    <tr>\n",
       "      <th>2018-03-16</th>\n",
       "      <td>4407.9433</td>\n",
       "      <td>31501.97</td>\n",
       "      <td>2752.01</td>\n",
       "      <td>175.7577</td>\n",
       "      <td>270.21</td>\n",
       "      <td>65.86</td>\n",
       "      <td>1468.4593</td>\n",
       "    </tr>\n",
       "    <tr>\n",
       "      <th>2018-03-19</th>\n",
       "      <td>4423.7070</td>\n",
       "      <td>31513.76</td>\n",
       "      <td>2712.92</td>\n",
       "      <td>175.8018</td>\n",
       "      <td>268.60</td>\n",
       "      <td>65.86</td>\n",
       "      <td>1468.9664</td>\n",
       "    </tr>\n",
       "    <tr>\n",
       "      <th>2018-03-20</th>\n",
       "      <td>4430.1706</td>\n",
       "      <td>31549.93</td>\n",
       "      <td>2716.94</td>\n",
       "      <td>175.8997</td>\n",
       "      <td>269.51</td>\n",
       "      <td>67.30</td>\n",
       "      <td>1469.1416</td>\n",
       "    </tr>\n",
       "    <tr>\n",
       "      <th>2018-03-21</th>\n",
       "      <td>4408.5080</td>\n",
       "      <td>31414.52</td>\n",
       "      <td>2711.93</td>\n",
       "      <td>175.9938</td>\n",
       "      <td>269.74</td>\n",
       "      <td>69.42</td>\n",
       "      <td>1469.3161</td>\n",
       "    </tr>\n",
       "    <tr>\n",
       "      <th>2018-03-22</th>\n",
       "      <td>4370.5172</td>\n",
       "      <td>31071.05</td>\n",
       "      <td>2643.69</td>\n",
       "      <td>176.1431</td>\n",
       "      <td>272.10</td>\n",
       "      <td>68.30</td>\n",
       "      <td>1469.3161</td>\n",
       "    </tr>\n",
       "  </tbody>\n",
       "</table>\n",
       "</div>"
      ],
      "text/plain": [
       "            000906.SH    HSI.HI   SPX.GI  CBA00101.CS  AU9999.SGE  B.IPE  \\\n",
       "2018-03-16  4407.9433  31501.97  2752.01     175.7577      270.21  65.86   \n",
       "2018-03-19  4423.7070  31513.76  2712.92     175.8018      268.60  65.86   \n",
       "2018-03-20  4430.1706  31549.93  2716.94     175.8997      269.51  67.30   \n",
       "2018-03-21  4408.5080  31414.52  2711.93     175.9938      269.74  69.42   \n",
       "2018-03-22  4370.5172  31071.05  2643.69     176.1431      272.10  68.30   \n",
       "\n",
       "            H11025.CSI  \n",
       "2018-03-16   1468.4593  \n",
       "2018-03-19   1468.9664  \n",
       "2018-03-20   1469.1416  \n",
       "2018-03-21   1469.3161  \n",
       "2018-03-22   1469.3161  "
      ]
     },
     "execution_count": 12,
     "metadata": {},
     "output_type": "execute_result"
    }
   ],
   "source": [
    "odf.tail()"
   ]
  },
  {
   "cell_type": "code",
   "execution_count": 13,
   "metadata": {
    "collapsed": true
   },
   "outputs": [],
   "source": [
    "def metric(daily_ret):\n",
    "    an_ret = empyrical.annual_return(daily_ret)\n",
    "    sharpe = empyrical.sharpe_ratio(daily_ret)\n",
    "    vol = empyrical.annual_volatility(daily_ret)\n",
    "    maxdraw = empyrical.max_drawdown(daily_ret)\n",
    "    print 'Annual return: %.2f%%'%(an_ret*100)\n",
    "    print 'Sharpe ratio: %.2f'%(sharpe)\n",
    "    print 'Annual volatility: %.2f%%'%(vol*100)\n",
    "    print 'Max drawdown: %.2f%%'%(maxdraw*100)"
   ]
  },
  {
   "cell_type": "code",
   "execution_count": 37,
   "metadata": {
    "collapsed": true
   },
   "outputs": [],
   "source": [
    "df = odf[['000906.SH', 'HSI.HI', 'CBA00101.CS', 'AU9999.SGE']]"
   ]
  },
  {
   "cell_type": "code",
   "execution_count": 38,
   "metadata": {
    "collapsed": true
   },
   "outputs": [],
   "source": [
    "ret_df = df.pct_change().dropna()"
   ]
  },
  {
   "cell_type": "code",
   "execution_count": 39,
   "metadata": {},
   "outputs": [
    {
     "data": {
      "text/html": [
       "<div>\n",
       "<style scoped>\n",
       "    .dataframe tbody tr th:only-of-type {\n",
       "        vertical-align: middle;\n",
       "    }\n",
       "\n",
       "    .dataframe tbody tr th {\n",
       "        vertical-align: top;\n",
       "    }\n",
       "\n",
       "    .dataframe thead th {\n",
       "        text-align: right;\n",
       "    }\n",
       "</style>\n",
       "<table border=\"1\" class=\"dataframe\">\n",
       "  <thead>\n",
       "    <tr style=\"text-align: right;\">\n",
       "      <th></th>\n",
       "      <th>000906.SH</th>\n",
       "      <th>HSI.HI</th>\n",
       "      <th>CBA00101.CS</th>\n",
       "      <th>AU9999.SGE</th>\n",
       "    </tr>\n",
       "  </thead>\n",
       "  <tbody>\n",
       "    <tr>\n",
       "      <th>2005-01-05</th>\n",
       "      <td>0.011872</td>\n",
       "      <td>-0.020044</td>\n",
       "      <td>0.001058</td>\n",
       "      <td>-0.002002</td>\n",
       "    </tr>\n",
       "    <tr>\n",
       "      <th>2005-01-06</th>\n",
       "      <td>-0.009402</td>\n",
       "      <td>-0.003801</td>\n",
       "      <td>-0.003446</td>\n",
       "      <td>-0.002181</td>\n",
       "    </tr>\n",
       "    <tr>\n",
       "      <th>2005-01-07</th>\n",
       "      <td>0.001498</td>\n",
       "      <td>-0.010004</td>\n",
       "      <td>0.001500</td>\n",
       "      <td>-0.010490</td>\n",
       "    </tr>\n",
       "    <tr>\n",
       "      <th>2005-01-10</th>\n",
       "      <td>0.009611</td>\n",
       "      <td>-0.003202</td>\n",
       "      <td>-0.000574</td>\n",
       "      <td>-0.004329</td>\n",
       "    </tr>\n",
       "    <tr>\n",
       "      <th>2005-01-11</th>\n",
       "      <td>0.002920</td>\n",
       "      <td>-0.001636</td>\n",
       "      <td>0.001305</td>\n",
       "      <td>0.002662</td>\n",
       "    </tr>\n",
       "  </tbody>\n",
       "</table>\n",
       "</div>"
      ],
      "text/plain": [
       "            000906.SH    HSI.HI  CBA00101.CS  AU9999.SGE\n",
       "2005-01-05   0.011872 -0.020044     0.001058   -0.002002\n",
       "2005-01-06  -0.009402 -0.003801    -0.003446   -0.002181\n",
       "2005-01-07   0.001498 -0.010004     0.001500   -0.010490\n",
       "2005-01-10   0.009611 -0.003202    -0.000574   -0.004329\n",
       "2005-01-11   0.002920 -0.001636     0.001305    0.002662"
      ]
     },
     "execution_count": 39,
     "metadata": {},
     "output_type": "execute_result"
    }
   ],
   "source": [
    "ret_df.head()"
   ]
  },
  {
   "cell_type": "code",
   "execution_count": 40,
   "metadata": {
    "collapsed": true
   },
   "outputs": [],
   "source": [
    "months = pd.Series([(x.year, x.month) for x in ret_df.index], index=ret_df.index)\n",
    "rebalance_dates = months.drop_duplicates(keep='last').index"
   ]
  },
  {
   "cell_type": "code",
   "execution_count": 41,
   "metadata": {},
   "outputs": [
    {
     "data": {
      "text/plain": [
       "DatetimeIndex(['2005-01-31', '2005-02-28', '2005-03-31', '2005-04-29',\n",
       "               '2005-05-31', '2005-06-30', '2005-07-29', '2005-08-31',\n",
       "               '2005-09-30', '2005-10-31',\n",
       "               ...\n",
       "               '2017-06-30', '2017-07-31', '2017-08-31', '2017-09-29',\n",
       "               '2017-10-31', '2017-11-30', '2017-12-29', '2018-01-31',\n",
       "               '2018-02-28', '2018-03-22'],\n",
       "              dtype='datetime64[ns]', length=159, freq=None)"
      ]
     },
     "execution_count": 41,
     "metadata": {},
     "output_type": "execute_result"
    }
   ],
   "source": [
    "rebalance_dates"
   ]
  },
  {
   "cell_type": "code",
   "execution_count": 42,
   "metadata": {
    "collapsed": true
   },
   "outputs": [],
   "source": [
    "weight = pd.DataFrame(columns=ret_df.columns, index=ret_df.index)\n",
    "wb = np.zeros(ret_df.shape[1])\n",
    "for date in ret_df.index:\n",
    "    weight.loc[date] = wb\n",
    "    if date in rebalance_dates:\n",
    "#         print date\n",
    "        past_return = ret_df[ret_df.index <= date][-242:]\n",
    "        if past_return.shape[0] == 242:\n",
    "            sharpe = pd.Series(0., index=past_return.columns)\n",
    "#             for col in past_return.columns:\n",
    "#                 sharpe[col] = pf.empyrical.sharpe_ratio(past_return[col])\n",
    "            vol = past_return.std()\n",
    "#             wb = sharpe**2 / vol # Sharpe风险预算\n",
    "            wb = 1. / vol\n",
    "            wb /= wb.sum()"
   ]
  },
  {
   "cell_type": "code",
   "execution_count": 43,
   "metadata": {},
   "outputs": [
    {
     "data": {
      "text/plain": [
       "000906.SH      0.056514\n",
       "HSI.HI         0.050442\n",
       "CBA00101.CS    0.797785\n",
       "AU9999.SGE     0.095260\n",
       "dtype: float64"
      ]
     },
     "execution_count": 43,
     "metadata": {},
     "output_type": "execute_result"
    }
   ],
   "source": [
    "wb"
   ]
  },
  {
   "cell_type": "code",
   "execution_count": 44,
   "metadata": {
    "collapsed": true
   },
   "outputs": [],
   "source": [
    "weight.drop_duplicates().to_excel('C:/Users/zhangyang01/Desktop/risk_parity.xlsx')"
   ]
  },
  {
   "cell_type": "code",
   "execution_count": 20,
   "metadata": {
    "collapsed": true
   },
   "outputs": [],
   "source": [
    "portfolio_ret = (weight * ret_df).sum(axis=1)"
   ]
  },
  {
   "cell_type": "code",
   "execution_count": 21,
   "metadata": {
    "collapsed": true
   },
   "outputs": [],
   "source": [
    "portfolio_ret = portfolio_ret[portfolio_ret != 0]"
   ]
  },
  {
   "cell_type": "code",
   "execution_count": 22,
   "metadata": {},
   "outputs": [
    {
     "name": "stdout",
     "output_type": "stream",
     "text": [
      "Annual return: 5.05%\n",
      "Sharpe ratio: 2.21\n",
      "Annual volatility: 2.24%\n",
      "Max drawdown: -4.08%\n"
     ]
    }
   ],
   "source": [
    "metric(portfolio_ret)"
   ]
  },
  {
   "cell_type": "code",
   "execution_count": 23,
   "metadata": {},
   "outputs": [
    {
     "data": {
      "text/plain": [
       "<matplotlib.legend.Legend at 0xdb37eb8>"
      ]
     },
     "execution_count": 23,
     "metadata": {},
     "output_type": "execute_result"
    },
    {
     "data": {
      "image/png": "[encoded data removed]",
      "text/plain": [
       "<matplotlib.figure.Figure at 0xdb37a90>"
      ]
     },
     "metadata": {},
     "output_type": "display_data"
    }
   ],
   "source": [
    "plt.figure(figsize=(16, 9))\n",
    "plt.plot((1+portfolio_ret).cumprod(), label='volatility risk parity')\n",
    "plt.legend()"
   ]
  },
  {
   "cell_type": "markdown",
   "metadata": {},
   "source": [
    "# 未来波动率"
   ]
  },
  {
   "cell_type": "code",
   "execution_count": 105,
   "metadata": {
    "collapsed": true
   },
   "outputs": [],
   "source": [
    "weight = pd.DataFrame(columns=ret_df.columns, index=ret_df.index)\n",
    "wb = np.zeros(ret_df.shape[1])\n",
    "for date in ret_df.index:\n",
    "    weight.loc[date] = wb\n",
    "    if date in rebalance_dates:\n",
    "        past_return = ret_df[ret_df.index >= date][121:]\n",
    "        vol = past_return.std()\n",
    "        wb = 1. / vol\n",
    "        wb /= wb.sum()"
   ]
  },
  {
   "cell_type": "code",
   "execution_count": 106,
   "metadata": {
    "collapsed": true
   },
   "outputs": [],
   "source": [
    "portfolio_ret2 = (weight * ret_df).sum(axis=1)"
   ]
  },
  {
   "cell_type": "code",
   "execution_count": 107,
   "metadata": {
    "collapsed": true
   },
   "outputs": [],
   "source": [
    "portfolio_ret2 = portfolio_ret2[portfolio_ret2 != 0]"
   ]
  },
  {
   "cell_type": "code",
   "execution_count": 108,
   "metadata": {},
   "outputs": [
    {
     "name": "stdout",
     "output_type": "stream",
     "text": [
      "Annual return: 4.68%\n",
      "Sharpe ratio: 1.37\n",
      "Annual volatility: 3.53%\n",
      "Max drawdown: -6.97%\n"
     ]
    }
   ],
   "source": [
    "metric(portfolio_ret2)"
   ]
  },
  {
   "cell_type": "code",
   "execution_count": 109,
   "metadata": {},
   "outputs": [
    {
     "data": {
      "text/plain": [
       "<matplotlib.legend.Legend at 0x1210dcf0>"
      ]
     },
     "execution_count": 109,
     "metadata": {},
     "output_type": "execute_result"
    },
    {
     "data": {
      "image/png": "[encoded data removed]",
      "text/plain": [
       "<matplotlib.figure.Figure at 0x120fb930>"
      ]
     },
     "metadata": {},
     "output_type": "display_data"
    }
   ],
   "source": [
    "plt.figure(figsize=(16, 9))\n",
    "plt.plot((1+portfolio_ret).cumprod(), label='volatility risk parity')\n",
    "plt.plot((1+portfolio_ret2).cumprod(), label='real volatility risk parity')\n",
    "plt.legend()"
   ]
  },
  {
   "cell_type": "code",
   "execution_count": 110,
   "metadata": {
    "collapsed": true
   },
   "outputs": [],
   "source": [
    "df = pd.DataFrame({'past': (1+portfolio_ret).cumprod(), 'future': (1+portfolio_ret2).cumprod()})"
   ]
  },
  {
   "cell_type": "code",
   "execution_count": 111,
   "metadata": {
    "collapsed": true
   },
   "outputs": [],
   "source": [
    "df.to_excel('C:/Users/jgtzsx01/Desktop/rp.xlsx')"
   ]
  },
  {
   "cell_type": "code",
   "execution_count": null,
   "metadata": {
    "collapsed": true
   },
   "outputs": [],
   "source": []
  }
 ],
 "metadata": {
  "anaconda-cloud": {},
  "kernelspec": {
   "display_name": "Python 2",
   "language": "python",
   "name": "python2"
  },
  "language_info": {
   "codemirror_mode": {
    "name": "ipython",
    "version": 2
   },
   "file_extension": ".py",
   "mimetype": "text/x-python",
   "name": "python",
   "nbconvert_exporter": "python",
   "pygments_lexer": "ipython2",
   "version": "2.7.14"
  }
 },
 "nbformat": 4,
 "nbformat_minor": 2
}
