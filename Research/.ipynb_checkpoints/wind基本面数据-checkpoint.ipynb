{
 "cells": [
  {
   "cell_type": "code",
   "execution_count": 8,
   "metadata": {
    "collapsed": true
   },
   "outputs": [],
   "source": [
    "from WindPy import w\n",
    "import pandas as pd\n",
    "import numpy as np\n",
    "import datetime\n",
    "import calendar"
   ]
  },
  {
   "cell_type": "code",
   "execution_count": 2,
   "metadata": {
    "collapsed": false
   },
   "outputs": [
    {
     "name": "stdout",
     "output_type": "stream",
     "text": [
      "Welcome to use Wind Quant API for Python (WindPy)!\n",
      "You can use w.menu to help yourself to create commands(WSD,WSS,WST,WSI,WSQ,...)!\n",
      "\n",
      "COPYRIGHT (C) 2016 WIND HONGHUI INFORMATION & TECHKNOLEWDGE CO., LTD. ALL RIGHTS RESERVED.\n",
      "IN NO CIRCUMSTANCE SHALL WIND BE RESPONSIBLE FOR ANY DAMAGES OR LOSSES CAUSED BY USING WIND QUANT API FOR Python.\n"
     ]
    },
    {
     "data": {
      "text/plain": [
       ".ErrorCode=0\n",
       ".Data=[OK!]"
      ]
     },
     "execution_count": 2,
     "metadata": {},
     "output_type": "execute_result"
    }
   ],
   "source": [
    "w.start()"
   ]
  },
  {
   "cell_type": "code",
   "execution_count": 5,
   "metadata": {
    "collapsed": true
   },
   "outputs": [],
   "source": [
    "DATA_DIR = 'D:/Data/stocks/'\n",
    "code = '000002.SZ'\n",
    "fname = '%s/%s.xlsx'%(DATA_DIR, code)"
   ]
  },
  {
   "cell_type": "code",
   "execution_count": 6,
   "metadata": {
    "collapsed": true
   },
   "outputs": [],
   "source": [
    "sdf = pd.read_excel(fname, index_col=0)"
   ]
  },
  {
   "cell_type": "code",
   "execution_count": 7,
   "metadata": {
    "collapsed": false
   },
   "outputs": [
    {
     "data": {
      "text/html": [
       "<div>\n",
       "<table border=\"1\" class=\"dataframe\">\n",
       "  <thead>\n",
       "    <tr style=\"text-align: right;\">\n",
       "      <th></th>\n",
       "      <th>amt</th>\n",
       "      <th>close</th>\n",
       "      <th>dealnum</th>\n",
       "      <th>high</th>\n",
       "      <th>low</th>\n",
       "      <th>mfd_buyamt_a</th>\n",
       "      <th>mfd_sellamt_a</th>\n",
       "      <th>mkt_freeshares</th>\n",
       "      <th>pe_ttm</th>\n",
       "      <th>turnover</th>\n",
       "      <th>volume</th>\n",
       "      <th>vwap</th>\n",
       "    </tr>\n",
       "  </thead>\n",
       "  <tbody>\n",
       "    <tr>\n",
       "      <th>2011-04-01 00:00:00.005</th>\n",
       "      <td>6.395283e+08</td>\n",
       "      <td>7.435313</td>\n",
       "      <td>NaN</td>\n",
       "      <td>7.443743</td>\n",
       "      <td>7.165551</td>\n",
       "      <td>NaN</td>\n",
       "      <td>NaN</td>\n",
       "      <td>7.092863e+10</td>\n",
       "      <td>13.315400</td>\n",
       "      <td>0.009017</td>\n",
       "      <td>73417645.0</td>\n",
       "      <td>7.343278</td>\n",
       "    </tr>\n",
       "    <tr>\n",
       "      <th>2011-04-06 00:00:00.005</th>\n",
       "      <td>9.503367e+08</td>\n",
       "      <td>7.536473</td>\n",
       "      <td>NaN</td>\n",
       "      <td>7.578624</td>\n",
       "      <td>7.359442</td>\n",
       "      <td>NaN</td>\n",
       "      <td>NaN</td>\n",
       "      <td>7.189365e+10</td>\n",
       "      <td>13.496563</td>\n",
       "      <td>0.013219</td>\n",
       "      <td>106840180.0</td>\n",
       "      <td>7.498485</td>\n",
       "    </tr>\n",
       "    <tr>\n",
       "      <th>2011-04-07 00:00:00.005</th>\n",
       "      <td>1.173974e+09</td>\n",
       "      <td>7.713505</td>\n",
       "      <td>NaN</td>\n",
       "      <td>7.823095</td>\n",
       "      <td>7.511183</td>\n",
       "      <td>NaN</td>\n",
       "      <td>NaN</td>\n",
       "      <td>7.358243e+10</td>\n",
       "      <td>13.813596</td>\n",
       "      <td>0.015955</td>\n",
       "      <td>128453209.0</td>\n",
       "      <td>7.704493</td>\n",
       "    </tr>\n",
       "    <tr>\n",
       "      <th>2011-04-08 00:00:00.005</th>\n",
       "      <td>0.000000e+00</td>\n",
       "      <td>7.713505</td>\n",
       "      <td>NaN</td>\n",
       "      <td>7.713505</td>\n",
       "      <td>7.713505</td>\n",
       "      <td>NaN</td>\n",
       "      <td>NaN</td>\n",
       "      <td>7.358243e+10</td>\n",
       "      <td>13.813596</td>\n",
       "      <td>0.000000</td>\n",
       "      <td>0.0</td>\n",
       "      <td>NaN</td>\n",
       "    </tr>\n",
       "    <tr>\n",
       "      <th>2011-04-11 00:00:00.005</th>\n",
       "      <td>7.459555e+08</td>\n",
       "      <td>7.435313</td>\n",
       "      <td>NaN</td>\n",
       "      <td>7.747225</td>\n",
       "      <td>7.426882</td>\n",
       "      <td>NaN</td>\n",
       "      <td>NaN</td>\n",
       "      <td>7.092863e+10</td>\n",
       "      <td>13.315400</td>\n",
       "      <td>0.010517</td>\n",
       "      <td>83328040.0</td>\n",
       "      <td>7.546618</td>\n",
       "    </tr>\n",
       "  </tbody>\n",
       "</table>\n",
       "</div>"
      ],
      "text/plain": [
       "                                  amt     close  dealnum      high       low  \\\n",
       "2011-04-01 00:00:00.005  6.395283e+08  7.435313      NaN  7.443743  7.165551   \n",
       "2011-04-06 00:00:00.005  9.503367e+08  7.536473      NaN  7.578624  7.359442   \n",
       "2011-04-07 00:00:00.005  1.173974e+09  7.713505      NaN  7.823095  7.511183   \n",
       "2011-04-08 00:00:00.005  0.000000e+00  7.713505      NaN  7.713505  7.713505   \n",
       "2011-04-11 00:00:00.005  7.459555e+08  7.435313      NaN  7.747225  7.426882   \n",
       "\n",
       "                         mfd_buyamt_a  mfd_sellamt_a  mkt_freeshares  \\\n",
       "2011-04-01 00:00:00.005           NaN            NaN    7.092863e+10   \n",
       "2011-04-06 00:00:00.005           NaN            NaN    7.189365e+10   \n",
       "2011-04-07 00:00:00.005           NaN            NaN    7.358243e+10   \n",
       "2011-04-08 00:00:00.005           NaN            NaN    7.358243e+10   \n",
       "2011-04-11 00:00:00.005           NaN            NaN    7.092863e+10   \n",
       "\n",
       "                            pe_ttm  turnover       volume      vwap  \n",
       "2011-04-01 00:00:00.005  13.315400  0.009017   73417645.0  7.343278  \n",
       "2011-04-06 00:00:00.005  13.496563  0.013219  106840180.0  7.498485  \n",
       "2011-04-07 00:00:00.005  13.813596  0.015955  128453209.0  7.704493  \n",
       "2011-04-08 00:00:00.005  13.813596  0.000000          0.0       NaN  \n",
       "2011-04-11 00:00:00.005  13.315400  0.010517   83328040.0  7.546618  "
      ]
     },
     "execution_count": 7,
     "metadata": {},
     "output_type": "execute_result"
    }
   ],
   "source": [
    "sdf.head()"
   ]
  },
  {
   "cell_type": "code",
   "execution_count": 9,
   "metadata": {
    "collapsed": true
   },
   "outputs": [],
   "source": [
    "years = range(2011, 2018)\n",
    "months = [3, 6, 9, 12]"
   ]
  },
  {
   "cell_type": "code",
   "execution_count": 13,
   "metadata": {
    "collapsed": false
   },
   "outputs": [],
   "source": [
    "dates = []\n",
    "for year in years:\n",
    "    for month in months:\n",
    "        day = calendar.monthrange(year, month)[1]\n",
    "        dates.append('%s-%s-%s'%(year, month, day))"
   ]
  },
  {
   "cell_type": "code",
   "execution_count": 19,
   "metadata": {
    "collapsed": false
   },
   "outputs": [],
   "source": [
    "roic = []\n",
    "for date in dates:\n",
    "    data = w.wss(code, \"roic\",\"rptDate=%s\"%(date))\n",
    "    roic.append(data.Data[0][0])"
   ]
  },
  {
   "cell_type": "code",
   "execution_count": 20,
   "metadata": {
    "collapsed": false
   },
   "outputs": [
    {
     "name": "stdout",
     "output_type": "stream",
     "text": [
      "[[1.3066], [3.1155], [3.7573], [9.8488], [1.3085], [3.3179], [4.5722], [10.2562], [1.1037], [3.1046], [4.1395], [9.7615], [0.9112], [2.7969], [3.7381], [9.0631], [0.3653], [2.7605], [3.8369], [9.6527], [0.4196], [2.714], [4.2274], [9.4923], [0.2751], [None], [None], [None]]\n"
     ]
    }
   ],
   "source": [
    "print roic"
   ]
  },
  {
   "cell_type": "code",
   "execution_count": null,
   "metadata": {
    "collapsed": true
   },
   "outputs": [],
   "source": []
  }
 ],
 "metadata": {
  "anaconda-cloud": {},
  "kernelspec": {
   "display_name": "Python [default]",
   "language": "python",
   "name": "python2"
  },
  "language_info": {
   "codemirror_mode": {
    "name": "ipython",
    "version": 2
   },
   "file_extension": ".py",
   "mimetype": "text/x-python",
   "name": "python",
   "nbconvert_exporter": "python",
   "pygments_lexer": "ipython2",
   "version": "2.7.12"
  }
 },
 "nbformat": 4,
 "nbformat_minor": 1
}
