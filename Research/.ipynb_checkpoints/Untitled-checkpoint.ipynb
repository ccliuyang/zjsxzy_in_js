{
 "cells": [
  {
   "cell_type": "code",
   "execution_count": 1,
   "metadata": {},
   "outputs": [],
   "source": [
    "from WindPy import w\n",
    "import pandas as pd\n",
    "import numpy as np"
   ]
  },
  {
   "cell_type": "code",
   "execution_count": 2,
   "metadata": {},
   "outputs": [
    {
     "name": "stdout",
     "output_type": "stream",
     "text": [
      "Welcome to use Wind Quant API for Python (WindPy)!\n",
      "\n",
      "COPYRIGHT (C) 2017 WIND INFORMATION CO., LTD. ALL RIGHTS RESERVED.\n",
      "IN NO CIRCUMSTANCE SHALL WIND BE RESPONSIBLE FOR ANY DAMAGES OR LOSSES CAUSED BY USING WIND QUANT API FOR Python.\n"
     ]
    },
    {
     "data": {
      "text/plain": [
       ".ErrorCode=0\n",
       ".Data=[OK!]"
      ]
     },
     "execution_count": 2,
     "metadata": {},
     "output_type": "execute_result"
    }
   ],
   "source": [
    "w.start()"
   ]
  },
  {
   "cell_type": "code",
   "execution_count": 3,
   "metadata": {},
   "outputs": [],
   "source": [
    "data = w.wsd('000001.SH', 'close', '2019-01-01', '2019-10-01')"
   ]
  },
  {
   "cell_type": "code",
   "execution_count": 4,
   "metadata": {},
   "outputs": [],
   "source": [
    "df = pd.DataFrame(np.array(data.Data).T, index=data.Times, columns=['close'])"
   ]
  },
  {
   "cell_type": "code",
   "execution_count": 8,
   "metadata": {},
   "outputs": [],
   "source": [
    "df.index = pd.to_datetime(df.index)"
   ]
  },
  {
   "cell_type": "code",
   "execution_count": 9,
   "metadata": {},
   "outputs": [],
   "source": [
    "rebalance_dates = df.resample('M').last().index"
   ]
  },
  {
   "cell_type": "code",
   "execution_count": 10,
   "metadata": {},
   "outputs": [
    {
     "data": {
      "text/plain": [
       "DatetimeIndex(['2019-01-31', '2019-02-28', '2019-03-31', '2019-04-30',\n",
       "               '2019-05-31', '2019-06-30', '2019-07-31', '2019-08-31',\n",
       "               '2019-09-30'],\n",
       "              dtype='datetime64[ns]', freq='M')"
      ]
     },
     "execution_count": 10,
     "metadata": {},
     "output_type": "execute_result"
    }
   ],
   "source": [
    "rebalance_dates"
   ]
  },
  {
   "cell_type": "code",
   "execution_count": 11,
   "metadata": {},
   "outputs": [
    {
     "name": "stdout",
     "output_type": "stream",
     "text": [
      "2019-02-01 00:00:00\n",
      "2019-03-01 00:00:00\n",
      "2019-04-01 00:00:00\n",
      "2019-05-06 00:00:00\n",
      "2019-06-03 00:00:00\n",
      "2019-07-01 00:00:00\n",
      "2019-08-01 00:00:00\n",
      "2019-09-02 00:00:00\n"
     ]
    }
   ],
   "source": [
    "rb_index = 0\n",
    "for date in df.index:\n",
    "    if date > rebalance_dates[rb_index]:\n",
    "        print(date)\n",
    "        rb_index += 1"
   ]
  },
  {
   "cell_type": "code",
   "execution_count": null,
   "metadata": {},
   "outputs": [],
   "source": []
  },
  {
   "cell_type": "code",
   "execution_count": null,
   "metadata": {},
   "outputs": [],
   "source": []
  },
  {
   "cell_type": "code",
   "execution_count": null,
   "metadata": {},
   "outputs": [],
   "source": []
  },
  {
   "cell_type": "code",
   "execution_count": 8,
   "metadata": {},
   "outputs": [],
   "source": [
    "A = np.array([[1,2,3],[4,5,6],[1,2,1]])"
   ]
  },
  {
   "cell_type": "code",
   "execution_count": 10,
   "metadata": {},
   "outputs": [
    {
     "data": {
      "text/plain": [
       "6.0"
      ]
     },
     "execution_count": 10,
     "metadata": {},
     "output_type": "execute_result"
    }
   ],
   "source": [
    "np.linalg.det(A.T)"
   ]
  },
  {
   "cell_type": "code",
   "execution_count": 13,
   "metadata": {},
   "outputs": [],
   "source": [
    "import scipy.stats"
   ]
  },
  {
   "cell_type": "code",
   "execution_count": 20,
   "metadata": {},
   "outputs": [],
   "source": [
    "f = scipy.stats.norm(1, np.sqrt(2))"
   ]
  },
  {
   "cell_type": "code",
   "execution_count": 21,
   "metadata": {},
   "outputs": [
    {
     "data": {
      "text/plain": [
       "0.3984131339906417"
      ]
     },
     "execution_count": 21,
     "metadata": {},
     "output_type": "execute_result"
    }
   ],
   "source": [
    "f.cdf(2) - f.cdf(0.5)"
   ]
  },
  {
   "cell_type": "code",
   "execution_count": 25,
   "metadata": {},
   "outputs": [
    {
     "data": {
      "text/plain": [
       "-0.31622776601683794"
      ]
     },
     "execution_count": 25,
     "metadata": {},
     "output_type": "execute_result"
    }
   ],
   "source": [
    "-1. / np.sqrt(10)"
   ]
  },
  {
   "cell_type": "code",
   "execution_count": 7,
   "metadata": {},
   "outputs": [
    {
     "data": {
      "text/plain": [
       "array([[0.1716259]])"
      ]
     },
     "execution_count": 7,
     "metadata": {},
     "output_type": "execute_result"
    }
   ],
   "source": [
    "np.matmul(w.T, t)"
   ]
  },
  {
   "cell_type": "code",
   "execution_count": 40,
   "metadata": {},
   "outputs": [],
   "source": [
    "metrics = [lambda x:x, lambda x: x+1, lambda x: x+2]"
   ]
  },
  {
   "cell_type": "code",
   "execution_count": 35,
   "metadata": {},
   "outputs": [
    {
     "data": {
      "text/plain": [
       "\u001b[1;31mType:\u001b[0m        list\n",
       "\u001b[1;31mString form:\u001b[0m [<function <lambda> at 0x0000000008FAFC88>, <function <lambda> at 0x0000000008FAFCF8>, <function <lambda> at 0x0000000008FAFF98>]\n",
       "\u001b[1;31mLength:\u001b[0m      3\n",
       "\u001b[1;31mDocstring:\u001b[0m  \n",
       "list() -> new empty list\n",
       "list(iterable) -> new list initialized from iterable's items\n"
      ]
     },
     "metadata": {},
     "output_type": "display_data"
    }
   ],
   "source": [
    "?metrics[0]"
   ]
  },
  {
   "cell_type": "code",
   "execution_count": 6,
   "metadata": {},
   "outputs": [],
   "source": [
    "data = w.wsd('881001.WI,000300.SH', 'close', '2019-01-01', '2019-05-01')"
   ]
  },
  {
   "cell_type": "code",
   "execution_count": 7,
   "metadata": {},
   "outputs": [],
   "source": [
    "df = pd.DataFrame(np.array(data.Data).T, index=data.Times, columns=data.Codes)"
   ]
  },
  {
   "cell_type": "code",
   "execution_count": 8,
   "metadata": {},
   "outputs": [
    {
     "data": {
      "text/html": [
       "<div>\n",
       "<style scoped>\n",
       "    .dataframe tbody tr th:only-of-type {\n",
       "        vertical-align: middle;\n",
       "    }\n",
       "\n",
       "    .dataframe tbody tr th {\n",
       "        vertical-align: top;\n",
       "    }\n",
       "\n",
       "    .dataframe thead th {\n",
       "        text-align: right;\n",
       "    }\n",
       "</style>\n",
       "<table border=\"1\" class=\"dataframe\">\n",
       "  <thead>\n",
       "    <tr style=\"text-align: right;\">\n",
       "      <th></th>\n",
       "      <th>881001.WI</th>\n",
       "      <th>000300.SH</th>\n",
       "    </tr>\n",
       "  </thead>\n",
       "  <tbody>\n",
       "    <tr>\n",
       "      <th>2019-01-02</th>\n",
       "      <td>3214.2658</td>\n",
       "      <td>2969.5353</td>\n",
       "    </tr>\n",
       "    <tr>\n",
       "      <th>2019-01-03</th>\n",
       "      <td>3203.5551</td>\n",
       "      <td>2964.8421</td>\n",
       "    </tr>\n",
       "    <tr>\n",
       "      <th>2019-01-04</th>\n",
       "      <td>3282.2831</td>\n",
       "      <td>3035.8741</td>\n",
       "    </tr>\n",
       "    <tr>\n",
       "      <th>2019-01-07</th>\n",
       "      <td>3323.8462</td>\n",
       "      <td>3054.3030</td>\n",
       "    </tr>\n",
       "    <tr>\n",
       "      <th>2019-01-08</th>\n",
       "      <td>3317.8362</td>\n",
       "      <td>3047.7035</td>\n",
       "    </tr>\n",
       "    <tr>\n",
       "      <th>2019-01-09</th>\n",
       "      <td>3339.6651</td>\n",
       "      <td>3078.4759</td>\n",
       "    </tr>\n",
       "    <tr>\n",
       "      <th>2019-01-10</th>\n",
       "      <td>3333.0501</td>\n",
       "      <td>3072.6864</td>\n",
       "    </tr>\n",
       "    <tr>\n",
       "      <th>2019-01-11</th>\n",
       "      <td>3358.3954</td>\n",
       "      <td>3094.7782</td>\n",
       "    </tr>\n",
       "    <tr>\n",
       "      <th>2019-01-14</th>\n",
       "      <td>3334.6410</td>\n",
       "      <td>3067.7845</td>\n",
       "    </tr>\n",
       "    <tr>\n",
       "      <th>2019-01-15</th>\n",
       "      <td>3386.2528</td>\n",
       "      <td>3127.9904</td>\n",
       "    </tr>\n",
       "    <tr>\n",
       "      <th>2019-01-16</th>\n",
       "      <td>3383.5527</td>\n",
       "      <td>3128.6517</td>\n",
       "    </tr>\n",
       "    <tr>\n",
       "      <th>2019-01-17</th>\n",
       "      <td>3359.9352</td>\n",
       "      <td>3111.4168</td>\n",
       "    </tr>\n",
       "    <tr>\n",
       "      <th>2019-01-18</th>\n",
       "      <td>3403.2947</td>\n",
       "      <td>3168.1739</td>\n",
       "    </tr>\n",
       "    <tr>\n",
       "      <th>2019-01-21</th>\n",
       "      <td>3421.5607</td>\n",
       "      <td>3185.6364</td>\n",
       "    </tr>\n",
       "    <tr>\n",
       "      <th>2019-01-22</th>\n",
       "      <td>3379.5187</td>\n",
       "      <td>3143.3171</td>\n",
       "    </tr>\n",
       "    <tr>\n",
       "      <th>2019-01-23</th>\n",
       "      <td>3381.1585</td>\n",
       "      <td>3141.0532</td>\n",
       "    </tr>\n",
       "    <tr>\n",
       "      <th>2019-01-24</th>\n",
       "      <td>3399.1011</td>\n",
       "      <td>3158.7817</td>\n",
       "    </tr>\n",
       "    <tr>\n",
       "      <th>2019-01-25</th>\n",
       "      <td>3403.4975</td>\n",
       "      <td>3184.4696</td>\n",
       "    </tr>\n",
       "    <tr>\n",
       "      <th>2019-01-28</th>\n",
       "      <td>3392.5762</td>\n",
       "      <td>3183.7777</td>\n",
       "    </tr>\n",
       "    <tr>\n",
       "      <th>2019-01-29</th>\n",
       "      <td>3372.3261</td>\n",
       "      <td>3193.9698</td>\n",
       "    </tr>\n",
       "    <tr>\n",
       "      <th>2019-01-30</th>\n",
       "      <td>3337.2465</td>\n",
       "      <td>3168.4829</td>\n",
       "    </tr>\n",
       "    <tr>\n",
       "      <th>2019-01-31</th>\n",
       "      <td>3333.4650</td>\n",
       "      <td>3201.6331</td>\n",
       "    </tr>\n",
       "    <tr>\n",
       "      <th>2019-02-01</th>\n",
       "      <td>3400.7148</td>\n",
       "      <td>3247.3971</td>\n",
       "    </tr>\n",
       "    <tr>\n",
       "      <th>2019-02-11</th>\n",
       "      <td>3476.4956</td>\n",
       "      <td>3306.4725</td>\n",
       "    </tr>\n",
       "    <tr>\n",
       "      <th>2019-02-12</th>\n",
       "      <td>3510.0015</td>\n",
       "      <td>3330.3353</td>\n",
       "    </tr>\n",
       "    <tr>\n",
       "      <th>2019-02-13</th>\n",
       "      <td>3575.5265</td>\n",
       "      <td>3397.0276</td>\n",
       "    </tr>\n",
       "    <tr>\n",
       "      <th>2019-02-14</th>\n",
       "      <td>3586.3165</td>\n",
       "      <td>3402.1403</td>\n",
       "    </tr>\n",
       "    <tr>\n",
       "      <th>2019-02-15</th>\n",
       "      <td>3547.7599</td>\n",
       "      <td>3338.7047</td>\n",
       "    </tr>\n",
       "    <tr>\n",
       "      <th>2019-02-18</th>\n",
       "      <td>3664.9033</td>\n",
       "      <td>3445.7448</td>\n",
       "    </tr>\n",
       "    <tr>\n",
       "      <th>2019-02-19</th>\n",
       "      <td>3667.6786</td>\n",
       "      <td>3439.6078</td>\n",
       "    </tr>\n",
       "    <tr>\n",
       "      <th>...</th>\n",
       "      <td>...</td>\n",
       "      <td>...</td>\n",
       "    </tr>\n",
       "    <tr>\n",
       "      <th>2019-03-19</th>\n",
       "      <td>4221.8907</td>\n",
       "      <td>3833.9626</td>\n",
       "    </tr>\n",
       "    <tr>\n",
       "      <th>2019-03-20</th>\n",
       "      <td>4221.3026</td>\n",
       "      <td>3835.4397</td>\n",
       "    </tr>\n",
       "    <tr>\n",
       "      <th>2019-03-21</th>\n",
       "      <td>4246.9516</td>\n",
       "      <td>3836.8913</td>\n",
       "    </tr>\n",
       "    <tr>\n",
       "      <th>2019-03-22</th>\n",
       "      <td>4254.6575</td>\n",
       "      <td>3833.8013</td>\n",
       "    </tr>\n",
       "    <tr>\n",
       "      <th>2019-03-25</th>\n",
       "      <td>4183.1487</td>\n",
       "      <td>3742.8252</td>\n",
       "    </tr>\n",
       "    <tr>\n",
       "      <th>2019-03-26</th>\n",
       "      <td>4102.6560</td>\n",
       "      <td>3700.4388</td>\n",
       "    </tr>\n",
       "    <tr>\n",
       "      <th>2019-03-27</th>\n",
       "      <td>4139.7307</td>\n",
       "      <td>3743.3878</td>\n",
       "    </tr>\n",
       "    <tr>\n",
       "      <th>2019-03-28</th>\n",
       "      <td>4102.1660</td>\n",
       "      <td>3728.3953</td>\n",
       "    </tr>\n",
       "    <tr>\n",
       "      <th>2019-03-29</th>\n",
       "      <td>4241.5262</td>\n",
       "      <td>3872.3412</td>\n",
       "    </tr>\n",
       "    <tr>\n",
       "      <th>2019-04-01</th>\n",
       "      <td>4375.6531</td>\n",
       "      <td>3973.9280</td>\n",
       "    </tr>\n",
       "    <tr>\n",
       "      <th>2019-04-02</th>\n",
       "      <td>4385.7786</td>\n",
       "      <td>3971.2852</td>\n",
       "    </tr>\n",
       "    <tr>\n",
       "      <th>2019-04-03</th>\n",
       "      <td>4436.8796</td>\n",
       "      <td>4022.1566</td>\n",
       "    </tr>\n",
       "    <tr>\n",
       "      <th>2019-04-04</th>\n",
       "      <td>4470.6075</td>\n",
       "      <td>4062.2309</td>\n",
       "    </tr>\n",
       "    <tr>\n",
       "      <th>2019-04-08</th>\n",
       "      <td>4459.7424</td>\n",
       "      <td>4057.2286</td>\n",
       "    </tr>\n",
       "    <tr>\n",
       "      <th>2019-04-09</th>\n",
       "      <td>4474.5556</td>\n",
       "      <td>4075.4301</td>\n",
       "    </tr>\n",
       "    <tr>\n",
       "      <th>2019-04-10</th>\n",
       "      <td>4476.7299</td>\n",
       "      <td>4085.8470</td>\n",
       "    </tr>\n",
       "    <tr>\n",
       "      <th>2019-04-11</th>\n",
       "      <td>4387.1907</td>\n",
       "      <td>3997.5778</td>\n",
       "    </tr>\n",
       "    <tr>\n",
       "      <th>2019-04-12</th>\n",
       "      <td>4381.4391</td>\n",
       "      <td>3988.6168</td>\n",
       "    </tr>\n",
       "    <tr>\n",
       "      <th>2019-04-15</th>\n",
       "      <td>4354.3076</td>\n",
       "      <td>3975.5244</td>\n",
       "    </tr>\n",
       "    <tr>\n",
       "      <th>2019-04-16</th>\n",
       "      <td>4457.8845</td>\n",
       "      <td>4085.7891</td>\n",
       "    </tr>\n",
       "    <tr>\n",
       "      <th>2019-04-17</th>\n",
       "      <td>4476.3576</td>\n",
       "      <td>4087.2398</td>\n",
       "    </tr>\n",
       "    <tr>\n",
       "      <th>2019-04-18</th>\n",
       "      <td>4454.9795</td>\n",
       "      <td>4072.0753</td>\n",
       "    </tr>\n",
       "    <tr>\n",
       "      <th>2019-04-19</th>\n",
       "      <td>4497.5439</td>\n",
       "      <td>4120.6078</td>\n",
       "    </tr>\n",
       "    <tr>\n",
       "      <th>2019-04-22</th>\n",
       "      <td>4419.6543</td>\n",
       "      <td>4025.6109</td>\n",
       "    </tr>\n",
       "    <tr>\n",
       "      <th>2019-04-23</th>\n",
       "      <td>4378.8977</td>\n",
       "      <td>4019.0053</td>\n",
       "    </tr>\n",
       "    <tr>\n",
       "      <th>2019-04-24</th>\n",
       "      <td>4407.0132</td>\n",
       "      <td>4030.0887</td>\n",
       "    </tr>\n",
       "    <tr>\n",
       "      <th>2019-04-25</th>\n",
       "      <td>4273.6954</td>\n",
       "      <td>3941.8160</td>\n",
       "    </tr>\n",
       "    <tr>\n",
       "      <th>2019-04-26</th>\n",
       "      <td>4218.1447</td>\n",
       "      <td>3889.2748</td>\n",
       "    </tr>\n",
       "    <tr>\n",
       "      <th>2019-04-29</th>\n",
       "      <td>4153.6978</td>\n",
       "      <td>3900.3339</td>\n",
       "    </tr>\n",
       "    <tr>\n",
       "      <th>2019-04-30</th>\n",
       "      <td>4180.4348</td>\n",
       "      <td>3913.2110</td>\n",
       "    </tr>\n",
       "  </tbody>\n",
       "</table>\n",
       "<p>79 rows × 2 columns</p>\n",
       "</div>"
      ],
      "text/plain": [
       "            881001.WI  000300.SH\n",
       "2019-01-02  3214.2658  2969.5353\n",
       "2019-01-03  3203.5551  2964.8421\n",
       "2019-01-04  3282.2831  3035.8741\n",
       "2019-01-07  3323.8462  3054.3030\n",
       "2019-01-08  3317.8362  3047.7035\n",
       "2019-01-09  3339.6651  3078.4759\n",
       "2019-01-10  3333.0501  3072.6864\n",
       "2019-01-11  3358.3954  3094.7782\n",
       "2019-01-14  3334.6410  3067.7845\n",
       "2019-01-15  3386.2528  3127.9904\n",
       "2019-01-16  3383.5527  3128.6517\n",
       "2019-01-17  3359.9352  3111.4168\n",
       "2019-01-18  3403.2947  3168.1739\n",
       "2019-01-21  3421.5607  3185.6364\n",
       "2019-01-22  3379.5187  3143.3171\n",
       "2019-01-23  3381.1585  3141.0532\n",
       "2019-01-24  3399.1011  3158.7817\n",
       "2019-01-25  3403.4975  3184.4696\n",
       "2019-01-28  3392.5762  3183.7777\n",
       "2019-01-29  3372.3261  3193.9698\n",
       "2019-01-30  3337.2465  3168.4829\n",
       "2019-01-31  3333.4650  3201.6331\n",
       "2019-02-01  3400.7148  3247.3971\n",
       "2019-02-11  3476.4956  3306.4725\n",
       "2019-02-12  3510.0015  3330.3353\n",
       "2019-02-13  3575.5265  3397.0276\n",
       "2019-02-14  3586.3165  3402.1403\n",
       "2019-02-15  3547.7599  3338.7047\n",
       "2019-02-18  3664.9033  3445.7448\n",
       "2019-02-19  3667.6786  3439.6078\n",
       "...               ...        ...\n",
       "2019-03-19  4221.8907  3833.9626\n",
       "2019-03-20  4221.3026  3835.4397\n",
       "2019-03-21  4246.9516  3836.8913\n",
       "2019-03-22  4254.6575  3833.8013\n",
       "2019-03-25  4183.1487  3742.8252\n",
       "2019-03-26  4102.6560  3700.4388\n",
       "2019-03-27  4139.7307  3743.3878\n",
       "2019-03-28  4102.1660  3728.3953\n",
       "2019-03-29  4241.5262  3872.3412\n",
       "2019-04-01  4375.6531  3973.9280\n",
       "2019-04-02  4385.7786  3971.2852\n",
       "2019-04-03  4436.8796  4022.1566\n",
       "2019-04-04  4470.6075  4062.2309\n",
       "2019-04-08  4459.7424  4057.2286\n",
       "2019-04-09  4474.5556  4075.4301\n",
       "2019-04-10  4476.7299  4085.8470\n",
       "2019-04-11  4387.1907  3997.5778\n",
       "2019-04-12  4381.4391  3988.6168\n",
       "2019-04-15  4354.3076  3975.5244\n",
       "2019-04-16  4457.8845  4085.7891\n",
       "2019-04-17  4476.3576  4087.2398\n",
       "2019-04-18  4454.9795  4072.0753\n",
       "2019-04-19  4497.5439  4120.6078\n",
       "2019-04-22  4419.6543  4025.6109\n",
       "2019-04-23  4378.8977  4019.0053\n",
       "2019-04-24  4407.0132  4030.0887\n",
       "2019-04-25  4273.6954  3941.8160\n",
       "2019-04-26  4218.1447  3889.2748\n",
       "2019-04-29  4153.6978  3900.3339\n",
       "2019-04-30  4180.4348  3913.2110\n",
       "\n",
       "[79 rows x 2 columns]"
      ]
     },
     "execution_count": 8,
     "metadata": {},
     "output_type": "execute_result"
    }
   ],
   "source": [
    "df"
   ]
  },
  {
   "cell_type": "code",
   "execution_count": 10,
   "metadata": {},
   "outputs": [],
   "source": [
    "a = df['881001.WI'].rolling(window=20).corr(df['000300.SH'])"
   ]
  },
  {
   "cell_type": "code",
   "execution_count": 11,
   "metadata": {},
   "outputs": [],
   "source": [
    "b = df['881001.WI'].rolling(window=20).corr(df['000300.SH'].rolling(window=20))"
   ]
  },
  {
   "cell_type": "code",
   "execution_count": null,
   "metadata": {},
   "outputs": [],
   "source": []
  }
 ],
 "metadata": {
  "kernelspec": {
   "display_name": "Python 2",
   "language": "python",
   "name": "python2"
  },
  "language_info": {
   "codemirror_mode": {
    "name": "ipython",
    "version": 2
   },
   "file_extension": ".py",
   "mimetype": "text/x-python",
   "name": "python",
   "nbconvert_exporter": "python",
   "pygments_lexer": "ipython2",
   "version": "2.7.14"
  }
 },
 "nbformat": 4,
 "nbformat_minor": 4
}
