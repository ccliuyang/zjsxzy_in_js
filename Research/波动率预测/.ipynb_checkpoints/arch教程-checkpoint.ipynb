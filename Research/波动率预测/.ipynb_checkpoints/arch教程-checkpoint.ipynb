{
 "cells": [
  {
   "cell_type": "code",
   "execution_count": 12,
   "metadata": {
    "collapsed": true
   },
   "outputs": [],
   "source": [
    "import datetime as dt\n",
    "import sys\n",
    "\n",
    "import numpy as np\n",
    "import pandas as pd\n",
    "import pandas_datareader.data as web\n",
    "import matplotlib.pyplot as plt\n",
    "\n",
    "from arch import arch_model\n",
    "%matplotlib inline\n",
    "import seaborn\n",
    "seaborn.mpl.rcParams['figure.figsize'] = (10.0, 6.0)\n",
    "seaborn.mpl.rcParams['savefig.dpi'] = 90"
   ]
  },
  {
   "cell_type": "code",
   "execution_count": 4,
   "metadata": {
    "collapsed": false
   },
   "outputs": [],
   "source": [
    "df = pd.read_excel('../data/assets.xlsx', index_col=0)"
   ]
  },
  {
   "cell_type": "code",
   "execution_count": 5,
   "metadata": {
    "collapsed": false
   },
   "outputs": [
    {
     "data": {
      "text/html": [
       "<div>\n",
       "<table border=\"1\" class=\"dataframe\">\n",
       "  <thead>\n",
       "    <tr style=\"text-align: right;\">\n",
       "      <th></th>\n",
       "      <th>881001.WI</th>\n",
       "      <th>HSI.HI</th>\n",
       "      <th>SPX.GI</th>\n",
       "      <th>065.CS</th>\n",
       "      <th>AU9999.SGE</th>\n",
       "      <th>B.IPE</th>\n",
       "      <th>H11025.CSI</th>\n",
       "    </tr>\n",
       "  </thead>\n",
       "  <tbody>\n",
       "    <tr>\n",
       "      <th>2007-01-04</th>\n",
       "      <td>1461.2643</td>\n",
       "      <td>20025.58</td>\n",
       "      <td>1418.34</td>\n",
       "      <td>116.1885</td>\n",
       "      <td>158.58</td>\n",
       "      <td>0.0</td>\n",
       "      <td>1019.2584</td>\n",
       "    </tr>\n",
       "    <tr>\n",
       "      <th>2007-01-05</th>\n",
       "      <td>1474.4288</td>\n",
       "      <td>20211.28</td>\n",
       "      <td>1409.71</td>\n",
       "      <td>116.2254</td>\n",
       "      <td>156.94</td>\n",
       "      <td>0.0</td>\n",
       "      <td>1019.3131</td>\n",
       "    </tr>\n",
       "    <tr>\n",
       "      <th>2007-01-08</th>\n",
       "      <td>1522.0564</td>\n",
       "      <td>20029.66</td>\n",
       "      <td>1412.84</td>\n",
       "      <td>116.2289</td>\n",
       "      <td>153.72</td>\n",
       "      <td>0.0</td>\n",
       "      <td>1019.4650</td>\n",
       "    </tr>\n",
       "    <tr>\n",
       "      <th>2007-01-09</th>\n",
       "      <td>1564.7432</td>\n",
       "      <td>19898.08</td>\n",
       "      <td>1412.11</td>\n",
       "      <td>116.2638</td>\n",
       "      <td>154.45</td>\n",
       "      <td>0.0</td>\n",
       "      <td>1019.5195</td>\n",
       "    </tr>\n",
       "    <tr>\n",
       "      <th>2007-01-10</th>\n",
       "      <td>1603.9025</td>\n",
       "      <td>19568.34</td>\n",
       "      <td>1414.85</td>\n",
       "      <td>116.2990</td>\n",
       "      <td>154.34</td>\n",
       "      <td>0.0</td>\n",
       "      <td>1019.5750</td>\n",
       "    </tr>\n",
       "  </tbody>\n",
       "</table>\n",
       "</div>"
      ],
      "text/plain": [
       "            881001.WI    HSI.HI   SPX.GI    065.CS  AU9999.SGE  B.IPE  \\\n",
       "2007-01-04  1461.2643  20025.58  1418.34  116.1885      158.58    0.0   \n",
       "2007-01-05  1474.4288  20211.28  1409.71  116.2254      156.94    0.0   \n",
       "2007-01-08  1522.0564  20029.66  1412.84  116.2289      153.72    0.0   \n",
       "2007-01-09  1564.7432  19898.08  1412.11  116.2638      154.45    0.0   \n",
       "2007-01-10  1603.9025  19568.34  1414.85  116.2990      154.34    0.0   \n",
       "\n",
       "            H11025.CSI  \n",
       "2007-01-04   1019.2584  \n",
       "2007-01-05   1019.3131  \n",
       "2007-01-08   1019.4650  \n",
       "2007-01-09   1019.5195  \n",
       "2007-01-10   1019.5750  "
      ]
     },
     "execution_count": 5,
     "metadata": {},
     "output_type": "execute_result"
    }
   ],
   "source": [
    "df.head()"
   ]
  },
  {
   "cell_type": "code",
   "execution_count": 6,
   "metadata": {
    "collapsed": true
   },
   "outputs": [],
   "source": [
    "returns = df['SPX.GI'].pct_change().dropna()"
   ]
  },
  {
   "cell_type": "code",
   "execution_count": 7,
   "metadata": {
    "collapsed": false
   },
   "outputs": [
    {
     "name": "stdout",
     "output_type": "stream",
     "text": [
      "Iteration:      5,   Func. Count:     64,   Neg. LLF: -5915.73056284\n",
      "Iteration:     10,   Func. Count:    144,   Neg. LLF: -6427.15315118\n",
      "Positive directional derivative for linesearch    (Exit mode 8)\n",
      "            Current function value: -6427.15312126\n",
      "            Iterations: 14\n",
      "            Function evaluations: 144\n",
      "            Gradient evaluations: 10\n"
     ]
    },
    {
     "name": "stderr",
     "output_type": "stream",
     "text": [
      "C:\\Users\\jgtzsx01\\AppData\\Local\\Continuum\\Anaconda2\\lib\\site-packages\\arch\\univariate\\base.py:517: ConvergenceWarning: \n",
      "The optimizer returned code 8. The message is:\n",
      "Positive directional derivative for linesearch\n",
      "See scipy.optimize.fmin_slsqp for code meaning.\n",
      "\n",
      "  ConvergenceWarning)\n"
     ]
    }
   ],
   "source": [
    "am = arch_model(returns, vol='Garch', p=1, o=0, q=1, dist='Normal')\n",
    "res = am.fit(update_freq=5)"
   ]
  },
  {
   "cell_type": "code",
   "execution_count": 8,
   "metadata": {
    "collapsed": true
   },
   "outputs": [],
   "source": [
    "forecasts = res.forecast()"
   ]
  },
  {
   "cell_type": "code",
   "execution_count": 13,
   "metadata": {
    "collapsed": false
   },
   "outputs": [
    {
     "name": "stdout",
     "output_type": "stream",
     "text": [
      "                 h.1\n",
      "2017-09-04       NaN\n",
      "2017-09-05       NaN\n",
      "2017-09-06  0.017033\n",
      "                 h.1\n",
      "2017-09-04       NaN\n",
      "2017-09-05       NaN\n",
      "2017-09-06  0.000278\n",
      "                 h.1\n",
      "2017-09-04       NaN\n",
      "2017-09-05       NaN\n",
      "2017-09-06  0.000278\n"
     ]
    }
   ],
   "source": [
    "print(forecasts.mean.iloc[-3:])\n",
    "print(forecasts.residual_variance.iloc[-3:])\n",
    "print(forecasts.variance.iloc[-3:])"
   ]
  },
  {
   "cell_type": "code",
   "execution_count": 14,
   "metadata": {
    "collapsed": false
   },
   "outputs": [
    {
     "name": "stdout",
     "output_type": "stream",
     "text": [
      "                 h.1       h.2       h.3       h.4      h.5\n",
      "2017-09-04       NaN       NaN       NaN       NaN      NaN\n",
      "2017-09-05       NaN       NaN       NaN       NaN      NaN\n",
      "2017-09-06  0.000278  0.000276  0.000274  0.000272  0.00027\n"
     ]
    }
   ],
   "source": [
    "forecasts = res.forecast(horizon=5)\n",
    "print(forecasts.residual_variance.iloc[-3:])"
   ]
  },
  {
   "cell_type": "code",
   "execution_count": 15,
   "metadata": {
    "collapsed": false
   },
   "outputs": [
    {
     "name": "stdout",
     "output_type": "stream",
     "text": [
      "Positive directional derivative for linesearch    (Exit mode 8)\n",
      "            Current function value: -2805.27186345\n",
      "            Iterations: 7\n",
      "            Function evaluations: 35\n",
      "            Gradient evaluations: 3\n",
      "                 h.1       h.2       h.3       h.4       h.5\n",
      "2010-12-31  0.000063  0.000068  0.000072  0.000077  0.000082\n",
      "2011-01-04  0.000070  0.000075  0.000079  0.000084  0.000089\n",
      "2011-01-05  0.000070  0.000074  0.000079  0.000084  0.000088\n",
      "2011-01-06  0.000068  0.000073  0.000078  0.000082  0.000087\n",
      "2011-01-07  0.000067  0.000072  0.000076  0.000081  0.000086\n"
     ]
    },
    {
     "name": "stderr",
     "output_type": "stream",
     "text": [
      "C:\\Users\\jgtzsx01\\AppData\\Local\\Continuum\\Anaconda2\\lib\\site-packages\\arch\\univariate\\base.py:517: ConvergenceWarning: \n",
      "The optimizer returned code 8. The message is:\n",
      "Positive directional derivative for linesearch\n",
      "See scipy.optimize.fmin_slsqp for code meaning.\n",
      "\n",
      "  ConvergenceWarning)\n"
     ]
    }
   ],
   "source": [
    "res = am.fit(last_obs = '2011-1-1', update_freq=5)\n",
    "forecasts = res.forecast(horizon=5)\n",
    "print(forecasts.variance.dropna().head())"
   ]
  },
  {
   "cell_type": "code",
   "execution_count": 16,
   "metadata": {
    "collapsed": false
   },
   "outputs": [
    {
     "name": "stdout",
     "output_type": "stream",
     "text": [
      "...."
     ]
    },
    {
     "name": "stderr",
     "output_type": "stream",
     "text": [
      "C:\\Users\\jgtzsx01\\AppData\\Local\\Continuum\\Anaconda2\\lib\\site-packages\\arch\\univariate\\base.py:517: ConvergenceWarning: \n",
      "The optimizer returned code 8. The message is:\n",
      "Positive directional derivative for linesearch\n",
      "See scipy.optimize.fmin_slsqp for code meaning.\n",
      "\n",
      "  ConvergenceWarning)\n",
      "C:\\Users\\jgtzsx01\\AppData\\Local\\Continuum\\Anaconda2\\lib\\site-packages\\arch\\univariate\\base.py:517: ConvergenceWarning: \n",
      "The optimizer returned code 8. The message is:\n",
      "Positive directional derivative for linesearch\n",
      "See scipy.optimize.fmin_slsqp for code meaning.\n",
      "\n",
      "  ConvergenceWarning)\n",
      "C:\\Users\\jgtzsx01\\AppData\\Local\\Continuum\\Anaconda2\\lib\\site-packages\\arch\\univariate\\base.py:517: ConvergenceWarning: \n",
      "The optimizer returned code 8. The message is:\n",
      "Positive directional derivative for linesearch\n",
      "See scipy.optimize.fmin_slsqp for code meaning.\n",
      "\n",
      "  ConvergenceWarning)\n"
     ]
    },
    {
     "name": "stdout",
     "output_type": "stream",
     "text": [
      "..."
     ]
    },
    {
     "name": "stderr",
     "output_type": "stream",
     "text": [
      "C:\\Users\\jgtzsx01\\AppData\\Local\\Continuum\\Anaconda2\\lib\\site-packages\\arch\\univariate\\base.py:517: ConvergenceWarning: \n",
      "The optimizer returned code 8. The message is:\n",
      "Positive directional derivative for linesearch\n",
      "See scipy.optimize.fmin_slsqp for code meaning.\n",
      "\n",
      "  ConvergenceWarning)\n",
      "C:\\Users\\jgtzsx01\\AppData\\Local\\Continuum\\Anaconda2\\lib\\site-packages\\arch\\univariate\\base.py:517: ConvergenceWarning: \n",
      "The optimizer returned code 8. The message is:\n",
      "Positive directional derivative for linesearch\n",
      "See scipy.optimize.fmin_slsqp for code meaning.\n",
      "\n",
      "  ConvergenceWarning)\n",
      "C:\\Users\\jgtzsx01\\AppData\\Local\\Continuum\\Anaconda2\\lib\\site-packages\\arch\\univariate\\base.py:517: ConvergenceWarning: \n",
      "The optimizer returned code 8. The message is:\n",
      "Positive directional derivative for linesearch\n",
      "See scipy.optimize.fmin_slsqp for code meaning.\n",
      "\n",
      "  ConvergenceWarning)\n"
     ]
    },
    {
     "name": "stdout",
     "output_type": "stream",
     "text": [
      "..."
     ]
    },
    {
     "name": "stderr",
     "output_type": "stream",
     "text": [
      "C:\\Users\\jgtzsx01\\AppData\\Local\\Continuum\\Anaconda2\\lib\\site-packages\\arch\\univariate\\base.py:517: ConvergenceWarning: \n",
      "The optimizer returned code 8. The message is:\n",
      "Positive directional derivative for linesearch\n",
      "See scipy.optimize.fmin_slsqp for code meaning.\n",
      "\n",
      "  ConvergenceWarning)\n",
      "C:\\Users\\jgtzsx01\\AppData\\Local\\Continuum\\Anaconda2\\lib\\site-packages\\arch\\univariate\\base.py:517: ConvergenceWarning: \n",
      "The optimizer returned code 8. The message is:\n",
      "Positive directional derivative for linesearch\n",
      "See scipy.optimize.fmin_slsqp for code meaning.\n",
      "\n",
      "  ConvergenceWarning)\n"
     ]
    },
    {
     "name": "stdout",
     "output_type": "stream",
     "text": [
      "..."
     ]
    },
    {
     "name": "stderr",
     "output_type": "stream",
     "text": [
      "C:\\Users\\jgtzsx01\\AppData\\Local\\Continuum\\Anaconda2\\lib\\site-packages\\arch\\univariate\\base.py:517: ConvergenceWarning: \n",
      "The optimizer returned code 8. The message is:\n",
      "Positive directional derivative for linesearch\n",
      "See scipy.optimize.fmin_slsqp for code meaning.\n",
      "\n",
      "  ConvergenceWarning)\n",
      "C:\\Users\\jgtzsx01\\AppData\\Local\\Continuum\\Anaconda2\\lib\\site-packages\\arch\\univariate\\base.py:517: ConvergenceWarning: \n",
      "The optimizer returned code 8. The message is:\n",
      "Positive directional derivative for linesearch\n",
      "See scipy.optimize.fmin_slsqp for code meaning.\n",
      "\n",
      "  ConvergenceWarning)\n",
      "C:\\Users\\jgtzsx01\\AppData\\Local\\Continuum\\Anaconda2\\lib\\site-packages\\arch\\univariate\\base.py:517: ConvergenceWarning: \n",
      "The optimizer returned code 8. The message is:\n",
      "Positive directional derivative for linesearch\n",
      "See scipy.optimize.fmin_slsqp for code meaning.\n",
      "\n",
      "  ConvergenceWarning)\n"
     ]
    },
    {
     "name": "stdout",
     "output_type": "stream",
     "text": [
      "..."
     ]
    },
    {
     "name": "stderr",
     "output_type": "stream",
     "text": [
      "C:\\Users\\jgtzsx01\\AppData\\Local\\Continuum\\Anaconda2\\lib\\site-packages\\arch\\univariate\\base.py:517: ConvergenceWarning: \n",
      "The optimizer returned code 8. The message is:\n",
      "Positive directional derivative for linesearch\n",
      "See scipy.optimize.fmin_slsqp for code meaning.\n",
      "\n",
      "  ConvergenceWarning)\n",
      "C:\\Users\\jgtzsx01\\AppData\\Local\\Continuum\\Anaconda2\\lib\\site-packages\\arch\\univariate\\base.py:517: ConvergenceWarning: \n",
      "The optimizer returned code 8. The message is:\n",
      "Positive directional derivative for linesearch\n",
      "See scipy.optimize.fmin_slsqp for code meaning.\n",
      "\n",
      "  ConvergenceWarning)\n",
      "C:\\Users\\jgtzsx01\\AppData\\Local\\Continuum\\Anaconda2\\lib\\site-packages\\arch\\univariate\\base.py:517: ConvergenceWarning: \n",
      "The optimizer returned code 8. The message is:\n",
      "Positive directional derivative for linesearch\n",
      "See scipy.optimize.fmin_slsqp for code meaning.\n",
      "\n",
      "  ConvergenceWarning)\n"
     ]
    },
    {
     "name": "stdout",
     "output_type": "stream",
     "text": [
      "..."
     ]
    },
    {
     "name": "stderr",
     "output_type": "stream",
     "text": [
      "C:\\Users\\jgtzsx01\\AppData\\Local\\Continuum\\Anaconda2\\lib\\site-packages\\arch\\univariate\\base.py:517: ConvergenceWarning: \n",
      "The optimizer returned code 8. The message is:\n",
      "Positive directional derivative for linesearch\n",
      "See scipy.optimize.fmin_slsqp for code meaning.\n",
      "\n",
      "  ConvergenceWarning)\n",
      "C:\\Users\\jgtzsx01\\AppData\\Local\\Continuum\\Anaconda2\\lib\\site-packages\\arch\\univariate\\base.py:517: ConvergenceWarning: \n",
      "The optimizer returned code 8. The message is:\n",
      "Positive directional derivative for linesearch\n",
      "See scipy.optimize.fmin_slsqp for code meaning.\n",
      "\n",
      "  ConvergenceWarning)\n"
     ]
    },
    {
     "name": "stdout",
     "output_type": "stream",
     "text": [
      ".()\n",
      "                 h.1       h.2       h.3\n",
      "2009-12-31  0.000093  0.000098  0.000104\n",
      "2010-01-04  0.000113  0.000118  0.000123\n",
      "2010-01-05  0.000108  0.000113  0.000118\n",
      "2010-01-06  0.000102  0.000107  0.000113\n",
      "2010-01-07  0.000098  0.000104  0.000109\n",
      "2010-01-08  0.000095  0.000100  0.000106\n",
      "2010-01-11  0.000091  0.000096  0.000102\n",
      "2010-01-12  0.000097  0.000102  0.000108\n",
      "2010-01-13  0.000099  0.000104  0.000110\n",
      "2010-01-14  0.000095  0.000100  0.000106\n",
      "2010-01-15  0.000103  0.000109  0.000114\n",
      "2010-01-18  0.000098  0.000104  0.000109\n",
      "2010-01-19  0.000109  0.000114  0.000119\n",
      "2010-01-20  0.000115  0.000120  0.000125\n",
      "2010-01-21  0.000146  0.000150  0.000155\n",
      "2010-01-22  0.000186  0.000190  0.000194\n",
      "2010-01-25  0.000173  0.000177  0.000181\n",
      "2010-01-26  0.000162  0.000166  0.000170\n",
      "2010-01-27  0.000152  0.000156  0.000160\n",
      "2010-01-28  0.000156  0.000160  0.000164\n"
     ]
    }
   ],
   "source": [
    "index = returns.index\n",
    "start_loc = 0\n",
    "end_loc = np.where(index >= '2010-1-1')[0].min()\n",
    "forecasts = {}\n",
    "for i in range(20):\n",
    "    sys.stdout.write('.')\n",
    "    sys.stdout.flush()\n",
    "    res = am.fit(first_obs=i, last_obs=i+end_loc, disp='off')\n",
    "    temp = res.forecast(horizon=3).variance\n",
    "    fcast = temp.iloc[i+end_loc-1]\n",
    "    forecasts[fcast.name] = fcast\n",
    "print()\n",
    "print(pd.DataFrame(forecasts).T)"
   ]
  },
  {
   "cell_type": "code",
   "execution_count": 17,
   "metadata": {
    "collapsed": false
   },
   "outputs": [
    {
     "name": "stdout",
     "output_type": "stream",
     "text": [
      "Iteration:      5,   Func. Count:     71,   Neg. LLF: 1650.06955865\n",
      "Inequality constraints incompatible    (Exit mode 4)\n",
      "            Current function value: 10818.8284165\n",
      "            Iterations: 7\n",
      "            Function evaluations: 88\n",
      "            Gradient evaluations: 6\n",
      "h.1    0.001421\n",
      "Name: 2017-09-06 00:00:00, dtype: float64\n"
     ]
    },
    {
     "name": "stderr",
     "output_type": "stream",
     "text": [
      "C:\\Users\\jgtzsx01\\AppData\\Local\\Continuum\\Anaconda2\\lib\\site-packages\\arch\\univariate\\base.py:517: ConvergenceWarning: \n",
      "The optimizer returned code 4. The message is:\n",
      "Inequality constraints incompatible\n",
      "See scipy.optimize.fmin_slsqp for code meaning.\n",
      "\n",
      "  ConvergenceWarning)\n"
     ]
    }
   ],
   "source": [
    "# TARCH specification\n",
    "am = arch_model(returns, vol='GARCH', power=2.0, p=1, o=1, q=1)\n",
    "res = am.fit(update_freq=5)\n",
    "forecasts = res.forecast()\n",
    "print(forecasts.variance.iloc[-1])"
   ]
  },
  {
   "cell_type": "code",
   "execution_count": 19,
   "metadata": {
    "collapsed": false
   },
   "outputs": [
    {
     "data": {
      "text/plain": [
       "<matplotlib.axes._subplots.AxesSubplot at 0xcce3c10>"
      ]
     },
     "execution_count": 19,
     "metadata": {},
     "output_type": "execute_result"
    },
    {
     "data": {
      "image/png": "[encoded data removed]",
      "text/plain": [
       "<matplotlib.figure.Figure at 0xccef050>"
      ]
     },
     "metadata": {},
     "output_type": "display_data"
    }
   ],
   "source": [
    "fig, ax = plt.subplots(1,1)\n",
    "(res.conditional_volatility['2015'] ** 2.0).plot(ax=ax, title='Conditional Variance')"
   ]
  },
  {
   "cell_type": "code",
   "execution_count": null,
   "metadata": {
    "collapsed": true
   },
   "outputs": [],
   "source": []
  }
 ],
 "metadata": {
  "anaconda-cloud": {},
  "kernelspec": {
   "display_name": "Python [default]",
   "language": "python",
   "name": "python2"
  },
  "language_info": {
   "codemirror_mode": {
    "name": "ipython",
    "version": 2
   },
   "file_extension": ".py",
   "mimetype": "text/x-python",
   "name": "python",
   "nbconvert_exporter": "python",
   "pygments_lexer": "ipython2",
   "version": "2.7.12"
  }
 },
 "nbformat": 4,
 "nbformat_minor": 1
}
