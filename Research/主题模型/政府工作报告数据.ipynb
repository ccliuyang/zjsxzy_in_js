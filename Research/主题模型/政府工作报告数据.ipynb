{
 "cells": [
  {
   "cell_type": "code",
   "execution_count": 1,
   "metadata": {
    "collapsed": true
   },
   "outputs": [],
   "source": [
    "import os\n",
    "import jieba"
   ]
  },
  {
   "cell_type": "code",
   "execution_count": 2,
   "metadata": {
    "collapsed": true
   },
   "outputs": [],
   "source": [
    "DATA_DIR = u'D:/Data/政府工作报告/'"
   ]
  },
  {
   "cell_type": "code",
   "execution_count": 9,
   "metadata": {
    "collapsed": true
   },
   "outputs": [],
   "source": [
    "files = [f for f in os.listdir(DATA_DIR) if f.endswith('.txt')]"
   ]
  },
  {
   "cell_type": "code",
   "execution_count": 10,
   "metadata": {
    "collapsed": true
   },
   "outputs": [],
   "source": [
    "with open('../../news-tracking/ipynb/stop_words_zh.txt', 'r') as f:\n",
    "    stop_words = set([line.strip() for line in f.readlines()])"
   ]
  },
  {
   "cell_type": "code",
   "execution_count": 11,
   "metadata": {
    "collapsed": false
   },
   "outputs": [
    {
     "name": "stdout",
     "output_type": "stream",
     "text": [
      "1991年国务院政府工作报告.txt\n",
      "1992年国务院政府工作报告.txt\n",
      "1993年国务院政府工作报告.txt\n",
      "1994年国务院政府工作报告.txt\n",
      "1995年国务院政府工作报告.txt\n",
      "1996年国务院政府工作报告.txt\n",
      "1997年国务院政府工作报告.txt\n",
      "1998年国务院政府工作报告.txt\n",
      "1999年国务院政府工作报告.txt\n",
      "2000年国务院政府工作报告.txt\n",
      "2001年国务院政府工作报告.txt\n",
      "2002年国务院政府工作报告.txt\n",
      "2003年国务院政府工作报告.txt\n",
      "2004年国务院政府工作报告.txt\n",
      "2005年国务院政府工作报告.txt\n",
      "2006年国务院政府工作报告.txt\n",
      "2007年国务院政府工作报告.txt\n",
      "2008年国务院政府工作报告.txt\n",
      "2009年国务院政府工作报告.txt\n",
      "2010年国务院政府工作报告.txt\n",
      "2011年国务院政府工作报告.txt\n",
      "2012年国务院政府工作报告.txt\n",
      "2013年国务院政府工作报告.txt\n",
      "2014李克强总理作政府工作报告（文字实录）.txt\n",
      "2015政府工作报告（全文）.txt\n",
      "2016李克强作政府工作报告（文字实录）+.txt\n",
      "2017年李克强作政府工作报告（2017-03-05）.txt\n"
     ]
    }
   ],
   "source": [
    "data_samples = []\n",
    "for f in files:\n",
    "    fname = '%s/%s'%(DATA_DIR, f)\n",
    "    print f\n",
    "    with open(fname, 'r') as f:\n",
    "        text = f.readlines()\n",
    "#     print ''.join(text).decode('gb2312')[80:83]\n",
    "    content = ''.join(text).decode('gb18030').replace('\\n', '').replace('\\t', '')\n",
    "    seg_list = jieba.cut(content)\n",
    "    seg_list = [w for w in seg_list if w.encode('utf-8') not in stop_words]\n",
    "    data_samples.append(' '.join(seg_list))"
   ]
  },
  {
   "cell_type": "code",
   "execution_count": 13,
   "metadata": {
    "collapsed": false
   },
   "outputs": [],
   "source": [
    "with open('./gov.dat', 'w') as f:\n",
    "    f.write('\\n'.join(data_samples).encode('utf-8'))"
   ]
  },
  {
   "cell_type": "code",
   "execution_count": null,
   "metadata": {
    "collapsed": true
   },
   "outputs": [],
   "source": []
  }
 ],
 "metadata": {
  "anaconda-cloud": {},
  "kernelspec": {
   "display_name": "Python [default]",
   "language": "python",
   "name": "python2"
  },
  "language_info": {
   "codemirror_mode": {
    "name": "ipython",
    "version": 2
   },
   "file_extension": ".py",
   "mimetype": "text/x-python",
   "name": "python",
   "nbconvert_exporter": "python",
   "pygments_lexer": "ipython2",
   "version": "2.7.12"
  }
 },
 "nbformat": 4,
 "nbformat_minor": 1
}
