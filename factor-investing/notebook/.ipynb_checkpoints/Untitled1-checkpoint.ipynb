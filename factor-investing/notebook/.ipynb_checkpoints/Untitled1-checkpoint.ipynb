{
 "cells": [
  {
   "cell_type": "code",
   "execution_count": 1,
   "metadata": {
    "collapsed": true
   },
   "outputs": [],
   "source": [
    "import pandas as pd\n",
    "import numpy as np\n",
    "import matplotlib.pyplot as plt\n",
    "import seaborn as sns\n",
    "import pyfolio as pf\n",
    "from scipy.optimize import minimize\n",
    "%matplotlib inline"
   ]
  },
  {
   "cell_type": "code",
   "execution_count": 2,
   "metadata": {
    "collapsed": true
   },
   "outputs": [],
   "source": [
    "DATA_DIR = 'D:/DATA/index-factor/'"
   ]
  },
  {
   "cell_type": "code",
   "execution_count": 3,
   "metadata": {
    "collapsed": true
   },
   "outputs": [],
   "source": [
    "dic = {}"
   ]
  },
  {
   "cell_type": "code",
   "execution_count": 4,
   "metadata": {
    "collapsed": true
   },
   "outputs": [],
   "source": [
    "df = pd.read_excel('%s/close.xlsx'%(DATA_DIR), index_col=0)"
   ]
  },
  {
   "cell_type": "code",
   "execution_count": 5,
   "metadata": {
    "collapsed": true
   },
   "outputs": [],
   "source": [
    "dic['close'] = df"
   ]
  },
  {
   "cell_type": "code",
   "execution_count": 6,
   "metadata": {
    "collapsed": true
   },
   "outputs": [],
   "source": [
    "df = pd.read_excel('%s/pe.xlsx'%(DATA_DIR), index_col=0)"
   ]
  },
  {
   "cell_type": "code",
   "execution_count": 7,
   "metadata": {
    "collapsed": true
   },
   "outputs": [],
   "source": [
    "dic['pe'] = df"
   ]
  },
  {
   "cell_type": "code",
   "execution_count": 9,
   "metadata": {
    "collapsed": false
   },
   "outputs": [],
   "source": [
    "df = pd.read_excel('%s/pb.xlsx'%(DATA_DIR), index_col=0)"
   ]
  },
  {
   "cell_type": "code",
   "execution_count": 10,
   "metadata": {
    "collapsed": true
   },
   "outputs": [],
   "source": [
    "dic['pb'] = df"
   ]
  },
  {
   "cell_type": "code",
   "execution_count": 11,
   "metadata": {
    "collapsed": true
   },
   "outputs": [],
   "source": [
    "df = pd.read_excel('%s/dividend.xlsx'%(DATA_DIR), index_col=0)"
   ]
  },
  {
   "cell_type": "code",
   "execution_count": 12,
   "metadata": {
    "collapsed": true
   },
   "outputs": [],
   "source": [
    "dic['dividend'] = df"
   ]
  },
  {
   "cell_type": "code",
   "execution_count": 13,
   "metadata": {
    "collapsed": true
   },
   "outputs": [],
   "source": [
    "pnl = pd.Panel(dic)"
   ]
  },
  {
   "cell_type": "code",
   "execution_count": 14,
   "metadata": {
    "collapsed": false
   },
   "outputs": [
    {
     "data": {
      "text/plain": [
       "<class 'pandas.core.panel.Panel'>\n",
       "Dimensions: 4 (items) x 1726 (major_axis) x 35 (minor_axis)\n",
       "Items axis: close to pe\n",
       "Major_axis axis: 2010-06-01 00:00:00 to 2017-07-10 00:00:00\n",
       "Minor_axis axis: 000016.SH to CI005029.WI"
      ]
     },
     "execution_count": 14,
     "metadata": {},
     "output_type": "execute_result"
    }
   ],
   "source": [
    "pnl"
   ]
  },
  {
   "cell_type": "code",
   "execution_count": 15,
   "metadata": {
    "collapsed": false
   },
   "outputs": [
    {
     "data": {
      "text/plain": [
       "Index([u'000016.SH', u'000300.SH', u'000905.SH', u'000906.SH', u'399005.SZ',\n",
       "       u'399006.SZ', u'CI005001.WI', u'CI005002.WI', u'CI005003.WI',\n",
       "       u'CI005004.WI', u'CI005005.WI', u'CI005006.WI', u'CI005007.WI',\n",
       "       u'CI005008.WI', u'CI005009.WI', u'CI005010.WI', u'CI005011.WI',\n",
       "       u'CI005012.WI', u'CI005013.WI', u'CI005014.WI', u'CI005015.WI',\n",
       "       u'CI005016.WI', u'CI005017.WI', u'CI005018.WI', u'CI005019.WI',\n",
       "       u'CI005020.WI', u'CI005021.WI', u'CI005022.WI', u'CI005023.WI',\n",
       "       u'CI005024.WI', u'CI005025.WI', u'CI005026.WI', u'CI005027.WI',\n",
       "       u'CI005028.WI', u'CI005029.WI'],\n",
       "      dtype='object')"
      ]
     },
     "execution_count": 15,
     "metadata": {},
     "output_type": "execute_result"
    }
   ],
   "source": [
    "pnl.minor_axis"
   ]
  },
  {
   "cell_type": "code",
   "execution_count": 18,
   "metadata": {
    "collapsed": false
   },
   "outputs": [
    {
     "name": "stdout",
     "output_type": "stream",
     "text": [
      "000016.SH\n",
      "000300.SH\n",
      "000905.SH\n",
      "000906.SH\n",
      "399005.SZ\n",
      "399006.SZ\n",
      "CI005001.WI\n",
      "CI005002.WI\n",
      "CI005003.WI\n",
      "CI005004.WI\n",
      "CI005005.WI\n",
      "CI005006.WI\n",
      "CI005007.WI\n",
      "CI005008.WI\n",
      "CI005009.WI\n",
      "CI005010.WI\n",
      "CI005011.WI\n",
      "CI005012.WI\n",
      "CI005013.WI\n",
      "CI005014.WI\n",
      "CI005015.WI\n",
      "CI005016.WI\n",
      "CI005017.WI\n",
      "CI005018.WI\n",
      "CI005019.WI\n",
      "CI005020.WI\n",
      "CI005021.WI\n",
      "CI005022.WI\n",
      "CI005023.WI\n",
      "CI005024.WI\n",
      "CI005025.WI\n",
      "CI005026.WI\n",
      "CI005027.WI\n",
      "CI005028.WI\n",
      "CI005029.WI\n"
     ]
    }
   ],
   "source": [
    "for item in pnl.minor_axis:\n",
    "    print item\n",
    "    pnl.minor_xs(item).to_excel('%s/%s.xlsx'%(DATA_DIR, item))"
   ]
  },
  {
   "cell_type": "code",
   "execution_count": null,
   "metadata": {
    "collapsed": true
   },
   "outputs": [],
   "source": []
  }
 ],
 "metadata": {
  "anaconda-cloud": {},
  "kernelspec": {
   "display_name": "Python [default]",
   "language": "python",
   "name": "python2"
  },
  "language_info": {
   "codemirror_mode": {
    "name": "ipython",
    "version": 2
   },
   "file_extension": ".py",
   "mimetype": "text/x-python",
   "name": "python",
   "nbconvert_exporter": "python",
   "pygments_lexer": "ipython2",
   "version": "2.7.12"
  }
 },
 "nbformat": 4,
 "nbformat_minor": 1
}
