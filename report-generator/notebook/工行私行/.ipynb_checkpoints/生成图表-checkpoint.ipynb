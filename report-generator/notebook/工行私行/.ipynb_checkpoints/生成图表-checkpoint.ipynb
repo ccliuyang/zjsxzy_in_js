{
 "cells": [
  {
   "cell_type": "code",
   "execution_count": 370,
   "metadata": {},
   "outputs": [],
   "source": [
    "import pandas as pd\n",
    "import matplotlib.pyplot as plt\n",
    "%matplotlib inline"
   ]
  },
  {
   "cell_type": "code",
   "execution_count": 371,
   "metadata": {},
   "outputs": [],
   "source": [
    "window = 243"
   ]
  },
  {
   "cell_type": "markdown",
   "metadata": {},
   "source": [
    "# 持仓盈亏与盈亏占比"
   ]
  },
  {
   "cell_type": "code",
   "execution_count": 372,
   "metadata": {},
   "outputs": [],
   "source": [
    "df = pd.read_excel('D:/workspace/zjsxzy_in_js/website/everyday-update/data/881001.WI.xlsx')"
   ]
  },
  {
   "cell_type": "code",
   "execution_count": 373,
   "metadata": {},
   "outputs": [
    {
     "data": {
      "text/html": [
       "<div>\n",
       "<style scoped>\n",
       "    .dataframe tbody tr th:only-of-type {\n",
       "        vertical-align: middle;\n",
       "    }\n",
       "\n",
       "    .dataframe tbody tr th {\n",
       "        vertical-align: top;\n",
       "    }\n",
       "\n",
       "    .dataframe thead th {\n",
       "        text-align: right;\n",
       "    }\n",
       "</style>\n",
       "<table border=\"1\" class=\"dataframe\">\n",
       "  <thead>\n",
       "    <tr style=\"text-align: right;\">\n",
       "      <th></th>\n",
       "      <th>turnover days</th>\n",
       "      <th>current return</th>\n",
       "      <th>profit percentage</th>\n",
       "    </tr>\n",
       "  </thead>\n",
       "  <tbody>\n",
       "    <tr>\n",
       "      <th>2018-06-28</th>\n",
       "      <td>72.636308</td>\n",
       "      <td>-0.183475</td>\n",
       "      <td>0.098896</td>\n",
       "    </tr>\n",
       "    <tr>\n",
       "      <th>2018-06-29</th>\n",
       "      <td>72.781117</td>\n",
       "      <td>-0.157568</td>\n",
       "      <td>0.193320</td>\n",
       "    </tr>\n",
       "    <tr>\n",
       "      <th>2018-07-02</th>\n",
       "      <td>72.755313</td>\n",
       "      <td>-0.166484</td>\n",
       "      <td>0.151129</td>\n",
       "    </tr>\n",
       "    <tr>\n",
       "      <th>2018-07-03</th>\n",
       "      <td>72.850638</td>\n",
       "      <td>-0.151453</td>\n",
       "      <td>0.215008</td>\n",
       "    </tr>\n",
       "    <tr>\n",
       "      <th>2018-07-04</th>\n",
       "      <td>73.052216</td>\n",
       "      <td>-0.163054</td>\n",
       "      <td>0.146876</td>\n",
       "    </tr>\n",
       "  </tbody>\n",
       "</table>\n",
       "</div>"
      ],
      "text/plain": [
       "            turnover days  current return  profit percentage\n",
       "2018-06-28      72.636308       -0.183475           0.098896\n",
       "2018-06-29      72.781117       -0.157568           0.193320\n",
       "2018-07-02      72.755313       -0.166484           0.151129\n",
       "2018-07-03      72.850638       -0.151453           0.215008\n",
       "2018-07-04      73.052216       -0.163054           0.146876"
      ]
     },
     "execution_count": 373,
     "metadata": {},
     "output_type": "execute_result"
    }
   ],
   "source": [
    "df.tail()"
   ]
  },
  {
   "cell_type": "code",
   "execution_count": 374,
   "metadata": {},
   "outputs": [],
   "source": [
    "df = df[df.index >= '2013-01-01']"
   ]
  },
  {
   "cell_type": "markdown",
   "metadata": {},
   "source": [
    "# 加权回购期限"
   ]
  },
  {
   "cell_type": "code",
   "execution_count": 375,
   "metadata": {},
   "outputs": [],
   "source": [
    "repo = pd.read_excel('D:/Data/risk/weighted_repo.xlsx')"
   ]
  },
  {
   "cell_type": "code",
   "execution_count": 376,
   "metadata": {},
   "outputs": [],
   "source": [
    "# repo.tail()"
   ]
  },
  {
   "cell_type": "markdown",
   "metadata": {},
   "source": [
    "# 股票流动性风险"
   ]
  },
  {
   "cell_type": "code",
   "execution_count": 377,
   "metadata": {},
   "outputs": [],
   "source": [
    "st_li = pd.read_excel('D:/workspace/zjsxzy_in_js/website/everyday-update/data/amihud_liquidity.xlsx')"
   ]
  },
  {
   "cell_type": "code",
   "execution_count": 378,
   "metadata": {},
   "outputs": [],
   "source": [
    "# st_li.tail()"
   ]
  },
  {
   "cell_type": "code",
   "execution_count": 379,
   "metadata": {},
   "outputs": [],
   "source": [
    "st_li['z'] = st_li['wdqa_corwin and schultz'].rolling(window).apply(lambda x: (x[-1] - x.mean()) / x.std())"
   ]
  },
  {
   "cell_type": "code",
   "execution_count": 380,
   "metadata": {},
   "outputs": [],
   "source": [
    "st_li.loc[st_li['z'].abs() < 2, 'z'] = 0"
   ]
  },
  {
   "cell_type": "code",
   "execution_count": 381,
   "metadata": {},
   "outputs": [
    {
     "data": {
      "text/html": [
       "<div>\n",
       "<style scoped>\n",
       "    .dataframe tbody tr th:only-of-type {\n",
       "        vertical-align: middle;\n",
       "    }\n",
       "\n",
       "    .dataframe tbody tr th {\n",
       "        vertical-align: top;\n",
       "    }\n",
       "\n",
       "    .dataframe thead th {\n",
       "        text-align: right;\n",
       "    }\n",
       "</style>\n",
       "<table border=\"1\" class=\"dataframe\">\n",
       "  <thead>\n",
       "    <tr style=\"text-align: right;\">\n",
       "      <th></th>\n",
       "      <th>sz50_amihud</th>\n",
       "      <th>sz50_corwin and schultz</th>\n",
       "      <th>sz50_wu</th>\n",
       "      <th>sz_roll</th>\n",
       "      <th>wdqa_amihud</th>\n",
       "      <th>wdqa_wu</th>\n",
       "      <th>wdqa_corwin and schultz</th>\n",
       "      <th>wdqa_roll</th>\n",
       "      <th>hs300_amihud</th>\n",
       "      <th>hs300_wu</th>\n",
       "      <th>...</th>\n",
       "      <th>zz800_roll</th>\n",
       "      <th>zxb_amihud</th>\n",
       "      <th>zxb_wu</th>\n",
       "      <th>zxb_corwin and schultz</th>\n",
       "      <th>zxb_roll</th>\n",
       "      <th>cyb_amihud</th>\n",
       "      <th>cyb_wu</th>\n",
       "      <th>cyb_corwin and schultz</th>\n",
       "      <th>cyb_roll</th>\n",
       "      <th>z</th>\n",
       "    </tr>\n",
       "  </thead>\n",
       "  <tbody>\n",
       "    <tr>\n",
       "      <th>2018-06-25</th>\n",
       "      <td>0.000584</td>\n",
       "      <td>0.006951</td>\n",
       "      <td>3.121192</td>\n",
       "      <td>0.008456</td>\n",
       "      <td>0.015865</td>\n",
       "      <td>2.605720</td>\n",
       "      <td>0.010157</td>\n",
       "      <td>0.017544</td>\n",
       "      <td>0.001516</td>\n",
       "      <td>2.251856</td>\n",
       "      <td>...</td>\n",
       "      <td>0.014022</td>\n",
       "      <td>0.001717</td>\n",
       "      <td>1.088600</td>\n",
       "      <td>0.005117</td>\n",
       "      <td>0.018235</td>\n",
       "      <td>0.001588</td>\n",
       "      <td>1.404887</td>\n",
       "      <td>0.004284</td>\n",
       "      <td>0.015538</td>\n",
       "      <td>0.0</td>\n",
       "    </tr>\n",
       "    <tr>\n",
       "      <th>2018-06-26</th>\n",
       "      <td>0.000429</td>\n",
       "      <td>0.027457</td>\n",
       "      <td>2.149270</td>\n",
       "      <td>0.008562</td>\n",
       "      <td>0.009961</td>\n",
       "      <td>1.823947</td>\n",
       "      <td>0.003667</td>\n",
       "      <td>0.017791</td>\n",
       "      <td>0.001836</td>\n",
       "      <td>2.250653</td>\n",
       "      <td>...</td>\n",
       "      <td>0.014377</td>\n",
       "      <td>0.002873</td>\n",
       "      <td>1.560273</td>\n",
       "      <td>0.011291</td>\n",
       "      <td>0.019762</td>\n",
       "      <td>0.001869</td>\n",
       "      <td>1.443733</td>\n",
       "      <td>0.002503</td>\n",
       "      <td>0.015563</td>\n",
       "      <td>0.0</td>\n",
       "    </tr>\n",
       "    <tr>\n",
       "      <th>2018-06-27</th>\n",
       "      <td>0.000383</td>\n",
       "      <td>0.002424</td>\n",
       "      <td>2.194309</td>\n",
       "      <td>0.009083</td>\n",
       "      <td>0.007377</td>\n",
       "      <td>1.501350</td>\n",
       "      <td>0.003537</td>\n",
       "      <td>0.017791</td>\n",
       "      <td>0.001555</td>\n",
       "      <td>2.116012</td>\n",
       "      <td>...</td>\n",
       "      <td>0.014361</td>\n",
       "      <td>0.001730</td>\n",
       "      <td>1.014573</td>\n",
       "      <td>0.003218</td>\n",
       "      <td>0.019650</td>\n",
       "      <td>0.001518</td>\n",
       "      <td>1.487356</td>\n",
       "      <td>0.002275</td>\n",
       "      <td>0.015607</td>\n",
       "      <td>0.0</td>\n",
       "    </tr>\n",
       "    <tr>\n",
       "      <th>2018-06-28</th>\n",
       "      <td>0.000457</td>\n",
       "      <td>0.002074</td>\n",
       "      <td>2.197821</td>\n",
       "      <td>0.009228</td>\n",
       "      <td>0.008941</td>\n",
       "      <td>1.757014</td>\n",
       "      <td>0.000537</td>\n",
       "      <td>0.017722</td>\n",
       "      <td>0.002217</td>\n",
       "      <td>2.526999</td>\n",
       "      <td>...</td>\n",
       "      <td>0.014232</td>\n",
       "      <td>0.001816</td>\n",
       "      <td>1.012004</td>\n",
       "      <td>0.002706</td>\n",
       "      <td>0.019903</td>\n",
       "      <td>0.001580</td>\n",
       "      <td>1.308010</td>\n",
       "      <td>0.001383</td>\n",
       "      <td>0.015305</td>\n",
       "      <td>0.0</td>\n",
       "    </tr>\n",
       "    <tr>\n",
       "      <th>2018-06-29</th>\n",
       "      <td>0.000889</td>\n",
       "      <td>0.008030</td>\n",
       "      <td>4.824791</td>\n",
       "      <td>0.009234</td>\n",
       "      <td>0.011891</td>\n",
       "      <td>2.687040</td>\n",
       "      <td>0.008031</td>\n",
       "      <td>0.017830</td>\n",
       "      <td>0.002428</td>\n",
       "      <td>3.527712</td>\n",
       "      <td>...</td>\n",
       "      <td>0.014479</td>\n",
       "      <td>0.003589</td>\n",
       "      <td>2.199880</td>\n",
       "      <td>0.011460</td>\n",
       "      <td>0.019573</td>\n",
       "      <td>0.002389</td>\n",
       "      <td>2.316317</td>\n",
       "      <td>0.007558</td>\n",
       "      <td>0.015851</td>\n",
       "      <td>0.0</td>\n",
       "    </tr>\n",
       "  </tbody>\n",
       "</table>\n",
       "<p>5 rows × 29 columns</p>\n",
       "</div>"
      ],
      "text/plain": [
       "            sz50_amihud  sz50_corwin and schultz   sz50_wu   sz_roll  \\\n",
       "2018-06-25     0.000584                 0.006951  3.121192  0.008456   \n",
       "2018-06-26     0.000429                 0.027457  2.149270  0.008562   \n",
       "2018-06-27     0.000383                 0.002424  2.194309  0.009083   \n",
       "2018-06-28     0.000457                 0.002074  2.197821  0.009228   \n",
       "2018-06-29     0.000889                 0.008030  4.824791  0.009234   \n",
       "\n",
       "            wdqa_amihud   wdqa_wu  wdqa_corwin and schultz  wdqa_roll  \\\n",
       "2018-06-25     0.015865  2.605720                 0.010157   0.017544   \n",
       "2018-06-26     0.009961  1.823947                 0.003667   0.017791   \n",
       "2018-06-27     0.007377  1.501350                 0.003537   0.017791   \n",
       "2018-06-28     0.008941  1.757014                 0.000537   0.017722   \n",
       "2018-06-29     0.011891  2.687040                 0.008031   0.017830   \n",
       "\n",
       "            hs300_amihud  hs300_wu ...   zz800_roll  zxb_amihud    zxb_wu  \\\n",
       "2018-06-25      0.001516  2.251856 ...     0.014022    0.001717  1.088600   \n",
       "2018-06-26      0.001836  2.250653 ...     0.014377    0.002873  1.560273   \n",
       "2018-06-27      0.001555  2.116012 ...     0.014361    0.001730  1.014573   \n",
       "2018-06-28      0.002217  2.526999 ...     0.014232    0.001816  1.012004   \n",
       "2018-06-29      0.002428  3.527712 ...     0.014479    0.003589  2.199880   \n",
       "\n",
       "            zxb_corwin and schultz  zxb_roll  cyb_amihud    cyb_wu  \\\n",
       "2018-06-25                0.005117  0.018235    0.001588  1.404887   \n",
       "2018-06-26                0.011291  0.019762    0.001869  1.443733   \n",
       "2018-06-27                0.003218  0.019650    0.001518  1.487356   \n",
       "2018-06-28                0.002706  0.019903    0.001580  1.308010   \n",
       "2018-06-29                0.011460  0.019573    0.002389  2.316317   \n",
       "\n",
       "            cyb_corwin and schultz  cyb_roll    z  \n",
       "2018-06-25                0.004284  0.015538  0.0  \n",
       "2018-06-26                0.002503  0.015563  0.0  \n",
       "2018-06-27                0.002275  0.015607  0.0  \n",
       "2018-06-28                0.001383  0.015305  0.0  \n",
       "2018-06-29                0.007558  0.015851  0.0  \n",
       "\n",
       "[5 rows x 29 columns]"
      ]
     },
     "execution_count": 381,
     "metadata": {},
     "output_type": "execute_result"
    }
   ],
   "source": [
    "st_li.tail()"
   ]
  },
  {
   "cell_type": "markdown",
   "metadata": {},
   "source": [
    "# 人民币资产和全球资产系统性风险"
   ]
  },
  {
   "cell_type": "code",
   "execution_count": 382,
   "metadata": {},
   "outputs": [],
   "source": [
    "risk = pd.read_excel('D:/Data/risk/systematic.xlsx')"
   ]
  },
  {
   "cell_type": "code",
   "execution_count": 383,
   "metadata": {},
   "outputs": [
    {
     "data": {
      "text/html": [
       "<div>\n",
       "<style scoped>\n",
       "    .dataframe tbody tr th:only-of-type {\n",
       "        vertical-align: middle;\n",
       "    }\n",
       "\n",
       "    .dataframe tbody tr th {\n",
       "        vertical-align: top;\n",
       "    }\n",
       "\n",
       "    .dataframe thead th {\n",
       "        text-align: right;\n",
       "    }\n",
       "</style>\n",
       "<table border=\"1\" class=\"dataframe\">\n",
       "  <thead>\n",
       "    <tr style=\"text-align: right;\">\n",
       "      <th></th>\n",
       "      <th>China</th>\n",
       "      <th>Global</th>\n",
       "    </tr>\n",
       "  </thead>\n",
       "  <tbody>\n",
       "    <tr>\n",
       "      <th>2018-06-28</th>\n",
       "      <td>0.720728</td>\n",
       "      <td>0.907726</td>\n",
       "    </tr>\n",
       "    <tr>\n",
       "      <th>2018-06-29</th>\n",
       "      <td>0.718705</td>\n",
       "      <td>0.907183</td>\n",
       "    </tr>\n",
       "    <tr>\n",
       "      <th>2018-07-02</th>\n",
       "      <td>0.716260</td>\n",
       "      <td>0.906777</td>\n",
       "    </tr>\n",
       "    <tr>\n",
       "      <th>2018-07-03</th>\n",
       "      <td>0.714132</td>\n",
       "      <td>0.906289</td>\n",
       "    </tr>\n",
       "    <tr>\n",
       "      <th>2018-07-04</th>\n",
       "      <td>0.711767</td>\n",
       "      <td>0.905747</td>\n",
       "    </tr>\n",
       "  </tbody>\n",
       "</table>\n",
       "</div>"
      ],
      "text/plain": [
       "               China    Global\n",
       "2018-06-28  0.720728  0.907726\n",
       "2018-06-29  0.718705  0.907183\n",
       "2018-07-02  0.716260  0.906777\n",
       "2018-07-03  0.714132  0.906289\n",
       "2018-07-04  0.711767  0.905747"
      ]
     },
     "execution_count": 383,
     "metadata": {},
     "output_type": "execute_result"
    }
   ],
   "source": [
    "risk.tail()"
   ]
  },
  {
   "cell_type": "code",
   "execution_count": 384,
   "metadata": {},
   "outputs": [],
   "source": [
    "risk['China z'] = risk['China'].rolling(window).apply(lambda x: (x[-1] - x.mean()) / x.std())\n",
    "risk['Global z'] = risk['Global'].rolling(window).apply(lambda x: (x[-1] - x.mean()) / x.std())"
   ]
  },
  {
   "cell_type": "markdown",
   "metadata": {},
   "source": [
    "# 股债相对收益率"
   ]
  },
  {
   "cell_type": "code",
   "execution_count": 385,
   "metadata": {},
   "outputs": [],
   "source": [
    "eyby = pd.read_excel('D:/workspace/zjsxzy_in_js/website/everyday-update/data/EYBY.xlsx')"
   ]
  },
  {
   "cell_type": "code",
   "execution_count": 386,
   "metadata": {},
   "outputs": [
    {
     "data": {
      "text/html": [
       "<div>\n",
       "<style scoped>\n",
       "    .dataframe tbody tr th:only-of-type {\n",
       "        vertical-align: middle;\n",
       "    }\n",
       "\n",
       "    .dataframe tbody tr th {\n",
       "        vertical-align: top;\n",
       "    }\n",
       "\n",
       "    .dataframe thead th {\n",
       "        text-align: right;\n",
       "    }\n",
       "</style>\n",
       "<table border=\"1\" class=\"dataframe\">\n",
       "  <thead>\n",
       "    <tr style=\"text-align: right;\">\n",
       "      <th></th>\n",
       "      <th>pe_ttm</th>\n",
       "      <th>ytm_b</th>\n",
       "      <th>close</th>\n",
       "    </tr>\n",
       "  </thead>\n",
       "  <tbody>\n",
       "    <tr>\n",
       "      <th>2018-06-28</th>\n",
       "      <td>15.5745</td>\n",
       "      <td>4.3617</td>\n",
       "      <td>3755.1617</td>\n",
       "    </tr>\n",
       "    <tr>\n",
       "      <th>2018-06-29</th>\n",
       "      <td>15.9904</td>\n",
       "      <td>4.3170</td>\n",
       "      <td>3860.3372</td>\n",
       "    </tr>\n",
       "    <tr>\n",
       "      <th>2018-07-02</th>\n",
       "      <td>15.6223</td>\n",
       "      <td>4.2948</td>\n",
       "      <td>3778.0198</td>\n",
       "    </tr>\n",
       "    <tr>\n",
       "      <th>2018-07-03</th>\n",
       "      <td>15.7146</td>\n",
       "      <td>4.2826</td>\n",
       "      <td>3802.3380</td>\n",
       "    </tr>\n",
       "    <tr>\n",
       "      <th>2018-07-04</th>\n",
       "      <td>15.5353</td>\n",
       "      <td>4.2803</td>\n",
       "      <td>3744.8972</td>\n",
       "    </tr>\n",
       "  </tbody>\n",
       "</table>\n",
       "</div>"
      ],
      "text/plain": [
       "             pe_ttm   ytm_b      close\n",
       "2018-06-28  15.5745  4.3617  3755.1617\n",
       "2018-06-29  15.9904  4.3170  3860.3372\n",
       "2018-07-02  15.6223  4.2948  3778.0198\n",
       "2018-07-03  15.7146  4.2826  3802.3380\n",
       "2018-07-04  15.5353  4.2803  3744.8972"
      ]
     },
     "execution_count": 386,
     "metadata": {},
     "output_type": "execute_result"
    }
   ],
   "source": [
    "eyby.tail()"
   ]
  },
  {
   "cell_type": "code",
   "execution_count": 387,
   "metadata": {},
   "outputs": [],
   "source": [
    "eyby = eyby.dropna()"
   ]
  },
  {
   "cell_type": "code",
   "execution_count": null,
   "metadata": {},
   "outputs": [],
   "source": [
    "eyby['spread'] = ((100. / eyby['pe_ttm']) - eyby['ytm_b']).rolling(window=5).mean()\n",
    "eyby['spread'] = eyby['spread'] / 100"
   ]
  },
  {
   "cell_type": "code",
   "execution_count": null,
   "metadata": {},
   "outputs": [],
   "source": [
    "eyby['z'] = eyby['spread'].rolling(window=window).apply(lambda x: (x[-1] - x.mean()) / x.std())"
   ]
  },
  {
   "cell_type": "markdown",
   "metadata": {},
   "source": [
    "# 市场一致度"
   ]
  },
  {
   "cell_type": "code",
   "execution_count": null,
   "metadata": {},
   "outputs": [],
   "source": [
    "cons = pd.read_excel('D:/workspace/zjsxzy_in_js/website/everyday-update/data/consistency.xlsx', index_col=0)"
   ]
  },
  {
   "cell_type": "code",
   "execution_count": null,
   "metadata": {},
   "outputs": [],
   "source": [
    "cons.tail()"
   ]
  },
  {
   "cell_type": "code",
   "execution_count": null,
   "metadata": {},
   "outputs": [],
   "source": [
    "cons = cons[cons.index >= '2005-01-01']"
   ]
  },
  {
   "cell_type": "code",
   "execution_count": null,
   "metadata": {},
   "outputs": [],
   "source": [
    "cons['z'] = cons['con60'].rolling(window=window).apply(lambda x: (x[-1] - x.mean()) / x.std())"
   ]
  },
  {
   "cell_type": "markdown",
   "metadata": {},
   "source": [
    "# 债券流动性"
   ]
  },
  {
   "cell_type": "code",
   "execution_count": null,
   "metadata": {},
   "outputs": [],
   "source": [
    "bo_li = pd.read_excel('D:/Data/risk/bond_liquidity.xlsx', index_col=0)"
   ]
  },
  {
   "cell_type": "code",
   "execution_count": null,
   "metadata": {},
   "outputs": [],
   "source": [
    "bo_li.tail()"
   ]
  },
  {
   "cell_type": "code",
   "execution_count": null,
   "metadata": {},
   "outputs": [],
   "source": [
    "bo_li['z'] = bo_li['ILLIQUIDITY'].rolling(window=window).apply(lambda x: (x[-1] - x.mean()) / x.std())"
   ]
  },
  {
   "cell_type": "code",
   "execution_count": null,
   "metadata": {},
   "outputs": [],
   "source": [
    "bo_li.loc[bo_li['z'].abs() < 2, 'z'] = 0"
   ]
  },
  {
   "cell_type": "markdown",
   "metadata": {},
   "source": [
    "# 点击量数据"
   ]
  },
  {
   "cell_type": "code",
   "execution_count": null,
   "metadata": {},
   "outputs": [],
   "source": [
    "click = pd.read_excel(u'D:/Data/risk/点击量数据.xlsx')"
   ]
  },
  {
   "cell_type": "code",
   "execution_count": null,
   "metadata": {},
   "outputs": [],
   "source": [
    "click.tail()"
   ]
  },
  {
   "cell_type": "code",
   "execution_count": null,
   "metadata": {},
   "outputs": [],
   "source": [
    "click = click.set_index('Date')"
   ]
  },
  {
   "cell_type": "code",
   "execution_count": null,
   "metadata": {},
   "outputs": [],
   "source": [
    "click['click'] = click['Page Clicks'].rolling(20).mean()"
   ]
  },
  {
   "cell_type": "code",
   "execution_count": null,
   "metadata": {},
   "outputs": [],
   "source": [
    "click['z'] = click['click'].rolling(window).apply(lambda x: (x[-1] - x.mean()) / x.std())"
   ]
  },
  {
   "cell_type": "code",
   "execution_count": null,
   "metadata": {},
   "outputs": [],
   "source": [
    "click['z'].plot(figsize=(16, 9))"
   ]
  },
  {
   "cell_type": "markdown",
   "metadata": {},
   "source": [
    "# 美欧经济意外指数之差"
   ]
  },
  {
   "cell_type": "code",
   "execution_count": null,
   "metadata": {},
   "outputs": [],
   "source": [
    "us_eu = pd.read_excel('D:/Data/macro/us/econ_accident.xlsx')"
   ]
  },
  {
   "cell_type": "code",
   "execution_count": null,
   "metadata": {},
   "outputs": [],
   "source": [
    "us_eu['diff'] = us_eu['us econ ac'] - us_eu['eu econ ac']"
   ]
  },
  {
   "cell_type": "markdown",
   "metadata": {},
   "source": [
    "# 铜油比"
   ]
  },
  {
   "cell_type": "code",
   "execution_count": null,
   "metadata": {},
   "outputs": [],
   "source": [
    "cop = pd.read_excel(u'D:/Data/industry/metal/LME铜三个月期货价格.xlsx')\n",
    "oil = pd.read_excel(u'D:/Data/industry/metal/Brent油价.xlsx')"
   ]
  },
  {
   "cell_type": "code",
   "execution_count": null,
   "metadata": {},
   "outputs": [],
   "source": [
    "cop_oil_ratio = (cop[cop.columns[0]] / oil[oil.columns[0]]).dropna()"
   ]
  },
  {
   "cell_type": "code",
   "execution_count": null,
   "metadata": {},
   "outputs": [],
   "source": [
    "cop_oil_z = cop_oil_ratio.rolling(window).apply(lambda x: (x[-1] - x.mean()) / x.std())"
   ]
  },
  {
   "cell_type": "markdown",
   "metadata": {},
   "source": [
    "# 画图"
   ]
  },
  {
   "cell_type": "code",
   "execution_count": null,
   "metadata": {},
   "outputs": [],
   "source": [
    "fig = plt.figure(figsize=(16, 36))\n",
    "row = 6\n",
    "\n",
    "ax1 = fig.add_subplot(row, 2, 1)\n",
    "ax1.plot(df.index, df['current return'], label=u'持有成本盈亏')\n",
    "ax1.plot(df.index, df['current return'].rolling(window=243).mean(), label=u'一年滚动均值')\n",
    "ax1.legend()\n",
    "ax1.set_title(u'持有成本盈亏', fontsize=15)\n",
    "vals = ax1.get_yticks()\n",
    "ax1.set_yticklabels(['{:3.2f}%'.format(x*100) for x in vals])\n",
    "\n",
    "ax2 = fig.add_subplot(row, 2, 2)\n",
    "ax2.plot(df.index, df['profit percentage'], label=u'持仓盈利占比')\n",
    "ax2.plot(df.index, df['profit percentage'].rolling(window=243).mean(), label=u'一年滚动均值')\n",
    "ax2.legend()\n",
    "ax2.set_title(u'持仓盈利占比', fontsize=15)\n",
    "vals = ax2.get_yticks()\n",
    "ax2.set_yticklabels(['{:3.2f}%'.format(x*100) for x in vals])\n",
    "\n",
    "ax3 = fig.add_subplot(row, 2, 3)\n",
    "ax3.plot(repo.index, repo['rolling mean'], c='blue')\n",
    "ax3.set_title(u'回购加权成交期限', fontsize=15)\n",
    "\n",
    "ax4 = fig.add_subplot(row, 2, 4)\n",
    "ax4.bar(bo_li.index, bo_li['z'].abs(), color='#99CCFF', width=5)\n",
    "ax4.set_title(u'债券流动性风险', fontsize=15)\n",
    "\n",
    "ax5 = fig.add_subplot(row, 2, 5)\n",
    "ax5.plot(risk.index, risk['China z'], c='#D53E4F')\n",
    "ax5.set_title(u'人民币资产系统性风险', fontsize=15)\n",
    "\n",
    "ax6 = fig.add_subplot(row, 2, 6)\n",
    "ax6.plot(risk.index, risk['Global z'], c='#D53E4F')\n",
    "ax6.set_title(u'全球资产系统性风险', fontsize=15)\n",
    "\n",
    "ax7 = fig.add_subplot(row, 2, 7)\n",
    "ax7.plot(eyby.index, eyby['spread'], label=u'股相对债收益率', c='#3366FF')\n",
    "ax7.legend()\n",
    "vals = ax7.get_yticks()\n",
    "ax7.set_yticklabels(['{:3.2f}%'.format(x*100) for x in vals])\n",
    "ax77 = ax7.twinx()\n",
    "ax77.plot(eyby.index, eyby['close'], label=u'万得全A', color='#FF6600', linewidth=1)\n",
    "ax77.legend(loc='upper left')\n",
    "ax7.set_title(u'股债相对收益率', fontsize=15)\n",
    "\n",
    "ax8 = fig.add_subplot(row, 2, 8)\n",
    "ax8.plot(cons.index, cons['z'], c='#3366FF')\n",
    "ax8.set_title(u'市场方向一致度', fontsize=15)\n",
    "\n",
    "ax9 = fig.add_subplot(row, 2, 9)\n",
    "ax9.bar(st_li.index, st_li['z'].abs(), color='#6666CC', width=5)\n",
    "ax9.set_title(u'股票流动性风险', fontsize=15)\n",
    "\n",
    "ax10 = fig.add_subplot(row, 2, 10)\n",
    "ax10.plot(click.index, click['z'], c='#FF9933')\n",
    "ax10.set_title(u'散户点击量', fontsize=15)\n",
    "\n",
    "ax11 = fig.add_subplot(row, 2, 11)\n",
    "ax11.plot(us_eu['diff'], color='#990000')\n",
    "ax11.set_title(u'美国与欧元区经济意外指数之差', fontsize=15)\n",
    "\n",
    "ax12 = fig.add_subplot(row, 2, 12)\n",
    "ax12.plot(cop_oil_ratio, color='#990000')\n",
    "ax12.set_title(u'铜油比', fontsize=15)"
   ]
  },
  {
   "cell_type": "code",
   "execution_count": null,
   "metadata": {},
   "outputs": [],
   "source": [
    "fig.savefig('plot.png', dpi=200, bbox_inches='tight')"
   ]
  },
  {
   "cell_type": "code",
   "execution_count": null,
   "metadata": {},
   "outputs": [],
   "source": []
  }
 ],
 "metadata": {
  "kernelspec": {
   "display_name": "Python 2",
   "language": "python",
   "name": "python2"
  },
  "language_info": {
   "codemirror_mode": {
    "name": "ipython",
    "version": 2
   },
   "file_extension": ".py",
   "mimetype": "text/x-python",
   "name": "python",
   "nbconvert_exporter": "python",
   "pygments_lexer": "ipython2",
   "version": "2.7.14"
  }
 },
 "nbformat": 4,
 "nbformat_minor": 2
}
