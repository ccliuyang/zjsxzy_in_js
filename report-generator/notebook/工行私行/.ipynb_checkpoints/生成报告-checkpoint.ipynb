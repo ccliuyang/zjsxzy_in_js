{
 "cells": [
  {
   "cell_type": "code",
   "execution_count": 254,
   "metadata": {},
   "outputs": [],
   "source": [
    "import xlsxwriter\n",
    "import datetime\n",
    "import pandas as pd"
   ]
  },
  {
   "cell_type": "code",
   "execution_count": 255,
   "metadata": {},
   "outputs": [],
   "source": [
    "today = datetime.date.today().strftime('%Y%m%d')"
   ]
  },
  {
   "cell_type": "code",
   "execution_count": 256,
   "metadata": {},
   "outputs": [],
   "source": [
    "window = 486"
   ]
  },
  {
   "cell_type": "code",
   "execution_count": 257,
   "metadata": {},
   "outputs": [],
   "source": [
    "fname = u'D:/report/工行私行/风险数据更新_%s.xlsx'%(today)"
   ]
  },
  {
   "cell_type": "code",
   "execution_count": 258,
   "metadata": {},
   "outputs": [],
   "source": [
    "workbook = xlsxwriter.Workbook(fname)\n",
    "worksheet = workbook.add_worksheet()"
   ]
  },
  {
   "cell_type": "markdown",
   "metadata": {},
   "source": [
    "# 插入数值"
   ]
  },
  {
   "cell_type": "markdown",
   "metadata": {},
   "source": [
    "### 设置格式"
   ]
  },
  {
   "cell_type": "code",
   "execution_count": 259,
   "metadata": {},
   "outputs": [],
   "source": [
    "col_format = workbook.add_format({'bold': True, 'align': 'center', 'font_name': 'Microsoft yahei', 'font_color': '#FFFFFF', 'bg_color': '#993333'})\n",
    "cell_format = workbook.add_format({'font_name': 'Microsoft yahei'})\n",
    "percent_format = workbook.add_format({'font_name': 'Microsoft yahei', 'num_format': '0.00%'})\n",
    "number_format = workbook.add_format({'font_name': 'Microsoft yahei', 'num_format': '0.00'})\n",
    "float_format = workbook.add_format({'font_name': 'Microsoft yahei', 'num_format': '0.0000'})\n",
    "highlight_format = workbook.add_format({'font_name': 'Microsoft yahei', 'num_format': '0.00', 'bg_color': '#FF3333'})\n",
    "inter_format = workbook.add_format({'font_name': 'Microsoft yahei', 'num_format': '#,##0'})"
   ]
  },
  {
   "cell_type": "code",
   "execution_count": 260,
   "metadata": {},
   "outputs": [
    {
     "data": {
      "text/plain": [
       "0"
      ]
     },
     "execution_count": 260,
     "metadata": {},
     "output_type": "execute_result"
    }
   ],
   "source": [
    "worksheet.write('A1', u'指标', col_format)\n",
    "worksheet.write('B1', u'数值', col_format)\n",
    "worksheet.write('C1', u'标准化', col_format)"
   ]
  },
  {
   "cell_type": "code",
   "execution_count": null,
   "metadata": {},
   "outputs": [],
   "source": []
  },
  {
   "cell_type": "markdown",
   "metadata": {},
   "source": [
    "### 持仓盈亏与盈亏占比"
   ]
  },
  {
   "cell_type": "code",
   "execution_count": 261,
   "metadata": {},
   "outputs": [],
   "source": [
    "df = pd.read_excel('D:/workspace/zjsxzy_in_js/website/everyday-update/data/881001.WI.xlsx')"
   ]
  },
  {
   "cell_type": "code",
   "execution_count": 262,
   "metadata": {},
   "outputs": [],
   "source": [
    "df['current return z'] = df['current return'].rolling(window).apply(lambda x: (x[-1] - x.mean()) / x.std())\n",
    "df['profit percentage z'] = df['profit percentage'].rolling(window).apply(lambda x: (x[-1] - x.mean()) / x.std())"
   ]
  },
  {
   "cell_type": "code",
   "execution_count": 263,
   "metadata": {},
   "outputs": [],
   "source": [
    "worksheet.write('A2', u'持有成本盈亏', cell_format)\n",
    "worksheet.write('B2', df['current return'][-1], percent_format)\n",
    "if df['current return z'][-1] > 2 or df['current return z'][-1] < -2:\n",
    "    worksheet.write('C2', df['current return z'][-1], highlight_format)\n",
    "else:\n",
    "    worksheet.write('C2', df['current return z'][-1], number_format)"
   ]
  },
  {
   "cell_type": "code",
   "execution_count": 264,
   "metadata": {},
   "outputs": [],
   "source": [
    "worksheet.write('A3', u'持仓盈亏占比', cell_format)\n",
    "worksheet.write('B3', df['profit percentage'][-1], percent_format)\n",
    "if df['profit percentage z'][-1] > 2 or df['profit percentage z'][-1] < -2:\n",
    "    worksheet.write('C2', df['profit percentage z'][-1], highlight_format)\n",
    "else:\n",
    "    worksheet.write('C3', df['profit percentage z'][-1], number_format)"
   ]
  },
  {
   "cell_type": "code",
   "execution_count": null,
   "metadata": {},
   "outputs": [],
   "source": []
  },
  {
   "cell_type": "markdown",
   "metadata": {},
   "source": [
    "### 回购加权成交期限"
   ]
  },
  {
   "cell_type": "code",
   "execution_count": 265,
   "metadata": {},
   "outputs": [],
   "source": [
    "repo = pd.read_excel('D:/Data/risk/weighted_repo.xlsx')"
   ]
  },
  {
   "cell_type": "code",
   "execution_count": 266,
   "metadata": {},
   "outputs": [],
   "source": [
    "repo = repo.dropna()"
   ]
  },
  {
   "cell_type": "code",
   "execution_count": 267,
   "metadata": {},
   "outputs": [],
   "source": [
    "repo['z'] = repo['rolling mean'].rolling(window).apply(lambda x: (x[-1] - x.mean()) / x.std())"
   ]
  },
  {
   "cell_type": "code",
   "execution_count": 268,
   "metadata": {},
   "outputs": [],
   "source": [
    "worksheet.write('A4', u'回购加权成交期限', cell_format)\n",
    "worksheet.write('B4', repo['weighted'][-1], number_format)\n",
    "if repo['z'][-1] > 2 or repo['z'][-1] < -2:\n",
    "    worksheet.write('C4', repo['z'][-1], highlight_format)\n",
    "else:\n",
    "    worksheet.write('C4', repo['z'][-1], number_format)"
   ]
  },
  {
   "cell_type": "markdown",
   "metadata": {},
   "source": [
    "### 股票流动性风险"
   ]
  },
  {
   "cell_type": "code",
   "execution_count": 269,
   "metadata": {},
   "outputs": [],
   "source": [
    "st_li = pd.read_excel('D:/workspace/zjsxzy_in_js/website/everyday-update/data/amihud_liquidity.xlsx')"
   ]
  },
  {
   "cell_type": "code",
   "execution_count": 270,
   "metadata": {},
   "outputs": [],
   "source": [
    "st_li['z'] = st_li['wdqa_corwin and schultz'].rolling(window).apply(lambda x: (x[-1] - x.mean()) / x.std())"
   ]
  },
  {
   "cell_type": "code",
   "execution_count": 271,
   "metadata": {},
   "outputs": [],
   "source": [
    "worksheet.write('A5', u'股票流动性风险', cell_format)\n",
    "worksheet.write('B5', st_li['wdqa_corwin and schultz'][-1], float_format)\n",
    "if st_li['z'][-1] > 2 or st_li['z'][-1] < -2:\n",
    "    worksheet.write('C5', st_li['z'][-1], highlight_format)\n",
    "else:\n",
    "    worksheet.write('C5', st_li['z'][-1], number_format)"
   ]
  },
  {
   "cell_type": "markdown",
   "metadata": {},
   "source": [
    "### 人民币与全球资产系统性风险"
   ]
  },
  {
   "cell_type": "code",
   "execution_count": 272,
   "metadata": {},
   "outputs": [],
   "source": [
    "risk = pd.read_excel('D:/Data/risk/systematic.xlsx')"
   ]
  },
  {
   "cell_type": "code",
   "execution_count": 273,
   "metadata": {},
   "outputs": [],
   "source": [
    "risk['China z'] = risk['China'].rolling(window).apply(lambda x: (x[-1] - x.mean()) / x.std())\n",
    "risk['Global z'] = risk['Global'].rolling(window).apply(lambda x: (x[-1] - x.mean()) / x.std())"
   ]
  },
  {
   "cell_type": "code",
   "execution_count": 274,
   "metadata": {},
   "outputs": [],
   "source": [
    "worksheet.write('A6', u'人民币资产系统性风险', cell_format)\n",
    "worksheet.write('B6', risk['China'][-1], percent_format)\n",
    "if risk['China z'][-1] > 2 or risk['China z'][-1] < -2:\n",
    "    worksheet.write('C6', risk['China z'][-1], highlight_format)\n",
    "else:\n",
    "    worksheet.write('C6', risk['China z'][-1], number_format)"
   ]
  },
  {
   "cell_type": "code",
   "execution_count": 275,
   "metadata": {},
   "outputs": [],
   "source": [
    "worksheet.write('A7', u'全球资产系统性风险', cell_format)\n",
    "worksheet.write('B7', risk['Global'][-1], percent_format)\n",
    "if risk['Global z'][-1] > 2 or risk['Global z'][-1] < -2:\n",
    "    worksheet.write('C7', risk['Global z'][-1], highlight_format)\n",
    "else:\n",
    "    worksheet.write('C7', risk['Global z'][-1], number_format)"
   ]
  },
  {
   "cell_type": "markdown",
   "metadata": {},
   "source": [
    "### 股债相对收益率"
   ]
  },
  {
   "cell_type": "code",
   "execution_count": 276,
   "metadata": {},
   "outputs": [],
   "source": [
    "eyby = pd.read_excel('D:/workspace/zjsxzy_in_js/website/everyday-update/data/EYBY.xlsx')"
   ]
  },
  {
   "cell_type": "code",
   "execution_count": 277,
   "metadata": {},
   "outputs": [],
   "source": [
    "eyby = eyby.dropna()"
   ]
  },
  {
   "cell_type": "code",
   "execution_count": 278,
   "metadata": {},
   "outputs": [],
   "source": [
    "eyby['spread'] = ((100. / eyby['pe_ttm']) - eyby['ytm_b']).rolling(window=5).mean()\n",
    "eyby['spread'] = eyby['spread'] / 100"
   ]
  },
  {
   "cell_type": "code",
   "execution_count": 279,
   "metadata": {},
   "outputs": [],
   "source": [
    "eyby['z'] = eyby['spread'].rolling(window=window).apply(lambda x: (x[-1] - x.mean()) / x.std())"
   ]
  },
  {
   "cell_type": "code",
   "execution_count": 280,
   "metadata": {},
   "outputs": [],
   "source": [
    "worksheet.write('A8', u'股债相对收益率', cell_format)\n",
    "worksheet.write('B8', eyby['spread'][-1], percent_format)\n",
    "if eyby['z'][-1] > 2 or eyby['z'][-1] < -2:\n",
    "    worksheet.write('C8', eyby['z'][-1], highlight_format)\n",
    "else:\n",
    "    worksheet.write('C8', eyby['z'][-1], number_format)"
   ]
  },
  {
   "cell_type": "markdown",
   "metadata": {},
   "source": [
    "### 市场方向一致度"
   ]
  },
  {
   "cell_type": "code",
   "execution_count": 281,
   "metadata": {},
   "outputs": [],
   "source": [
    "cons = pd.read_excel('D:/workspace/zjsxzy_in_js/website/everyday-update/data/consistency.xlsx', index_col=0)"
   ]
  },
  {
   "cell_type": "code",
   "execution_count": 282,
   "metadata": {},
   "outputs": [],
   "source": [
    "cons = cons[cons.index >= '2005-01-01']"
   ]
  },
  {
   "cell_type": "code",
   "execution_count": 283,
   "metadata": {},
   "outputs": [],
   "source": [
    "cons['z'] = cons['con60'].rolling(window=window).apply(lambda x: (x[-1] - x.mean()) / x.std())"
   ]
  },
  {
   "cell_type": "code",
   "execution_count": 284,
   "metadata": {},
   "outputs": [],
   "source": [
    "worksheet.write('A9', u'市场方向一致度', cell_format)\n",
    "worksheet.write('B9', cons['con60'][-1], percent_format)\n",
    "if cons['z'][-1] > 2 or cons['z'][-1] < -2:\n",
    "    worksheet.write('C9', cons['z'][-1], highlight_format)\n",
    "else:\n",
    "    worksheet.write('C9', cons['z'][-1], number_format)"
   ]
  },
  {
   "cell_type": "markdown",
   "metadata": {},
   "source": [
    "### 债券流动性"
   ]
  },
  {
   "cell_type": "code",
   "execution_count": 285,
   "metadata": {},
   "outputs": [],
   "source": [
    "bo_li = pd.read_excel('D:/Data/risk/bond_liquidity.xlsx', index_col=0)"
   ]
  },
  {
   "cell_type": "code",
   "execution_count": 286,
   "metadata": {},
   "outputs": [],
   "source": [
    "bo_li['z'] = bo_li['ILLIQUIDITY'].rolling(window=window).apply(lambda x: (x[-1] - x.mean()) / x.std())"
   ]
  },
  {
   "cell_type": "code",
   "execution_count": 287,
   "metadata": {},
   "outputs": [],
   "source": [
    "worksheet.write('A10', u'债券流动性风险', cell_format)\n",
    "worksheet.write('B10', bo_li['ILLIQUIDITY'][-1], number_format)\n",
    "if bo_li['z'][-1] > 2 or bo_li['z'][-1] < -2:\n",
    "    worksheet.write('C10', bo_li['z'][-1], highlight_format)\n",
    "else:\n",
    "    worksheet.write('C10', bo_li['z'][-1], number_format)"
   ]
  },
  {
   "cell_type": "markdown",
   "metadata": {},
   "source": [
    "### 散户点击量"
   ]
  },
  {
   "cell_type": "code",
   "execution_count": 288,
   "metadata": {},
   "outputs": [],
   "source": [
    "click = pd.read_excel(u'D:/Data/risk/点击量数据.xlsx')"
   ]
  },
  {
   "cell_type": "code",
   "execution_count": 289,
   "metadata": {},
   "outputs": [
    {
     "data": {
      "text/html": [
       "<div>\n",
       "<style scoped>\n",
       "    .dataframe tbody tr th:only-of-type {\n",
       "        vertical-align: middle;\n",
       "    }\n",
       "\n",
       "    .dataframe tbody tr th {\n",
       "        vertical-align: top;\n",
       "    }\n",
       "\n",
       "    .dataframe thead th {\n",
       "        text-align: right;\n",
       "    }\n",
       "</style>\n",
       "<table border=\"1\" class=\"dataframe\">\n",
       "  <thead>\n",
       "    <tr style=\"text-align: right;\">\n",
       "      <th></th>\n",
       "      <th>Date</th>\n",
       "      <th>Page Clicks</th>\n",
       "      <th># of Users</th>\n",
       "    </tr>\n",
       "  </thead>\n",
       "  <tbody>\n",
       "    <tr>\n",
       "      <th>1403</th>\n",
       "      <td>2018-06-13</td>\n",
       "      <td>3330237.0</td>\n",
       "      <td>945067.0</td>\n",
       "    </tr>\n",
       "    <tr>\n",
       "      <th>1404</th>\n",
       "      <td>2018-06-14</td>\n",
       "      <td>3231259.0</td>\n",
       "      <td>907441.0</td>\n",
       "    </tr>\n",
       "    <tr>\n",
       "      <th>1405</th>\n",
       "      <td>2018-06-15</td>\n",
       "      <td>3205477.0</td>\n",
       "      <td>911644.0</td>\n",
       "    </tr>\n",
       "    <tr>\n",
       "      <th>1406</th>\n",
       "      <td>2018-06-19</td>\n",
       "      <td>4076626.0</td>\n",
       "      <td>1216584.0</td>\n",
       "    </tr>\n",
       "    <tr>\n",
       "      <th>1407</th>\n",
       "      <td>2018-06-20</td>\n",
       "      <td>3487745.0</td>\n",
       "      <td>1097189.0</td>\n",
       "    </tr>\n",
       "  </tbody>\n",
       "</table>\n",
       "</div>"
      ],
      "text/plain": [
       "           Date  Page Clicks  # of Users\n",
       "1403 2018-06-13    3330237.0    945067.0\n",
       "1404 2018-06-14    3231259.0    907441.0\n",
       "1405 2018-06-15    3205477.0    911644.0\n",
       "1406 2018-06-19    4076626.0   1216584.0\n",
       "1407 2018-06-20    3487745.0   1097189.0"
      ]
     },
     "execution_count": 289,
     "metadata": {},
     "output_type": "execute_result"
    }
   ],
   "source": [
    "click.tail()"
   ]
  },
  {
   "cell_type": "code",
   "execution_count": 290,
   "metadata": {},
   "outputs": [],
   "source": [
    "click = click.set_index('Date')"
   ]
  },
  {
   "cell_type": "code",
   "execution_count": 291,
   "metadata": {},
   "outputs": [],
   "source": [
    "click['click'] = click['Page Clicks'].rolling(20).mean()"
   ]
  },
  {
   "cell_type": "code",
   "execution_count": 292,
   "metadata": {},
   "outputs": [],
   "source": [
    "click['z'] = click['click'].rolling(window).apply(lambda x: (x[-1] - x.mean()) / x.std())"
   ]
  },
  {
   "cell_type": "code",
   "execution_count": 293,
   "metadata": {},
   "outputs": [],
   "source": [
    "worksheet.write('A11', u'散户点击量', cell_format)\n",
    "worksheet.write('B11', click['Page Clicks'][-1], inter_format)\n",
    "if click['z'][-1] > 2 or click['z'][-1] < -2:\n",
    "    worksheet.write('C11', click['z'][-1], highlight_format)\n",
    "else:\n",
    "    worksheet.write('C11', click['z'][-1], number_format)"
   ]
  },
  {
   "cell_type": "markdown",
   "metadata": {},
   "source": [
    "# 美欧经济意外指数之差"
   ]
  },
  {
   "cell_type": "code",
   "execution_count": 294,
   "metadata": {},
   "outputs": [],
   "source": [
    "us_eu = pd.read_excel('D:/Data/macro/us/econ_accident.xlsx')"
   ]
  },
  {
   "cell_type": "code",
   "execution_count": 295,
   "metadata": {},
   "outputs": [],
   "source": [
    "us_eu['diff'] = us_eu['us econ ac'] - us_eu['eu econ ac']"
   ]
  },
  {
   "cell_type": "code",
   "execution_count": 296,
   "metadata": {},
   "outputs": [],
   "source": [
    "us_eu['z'] = us_eu['diff'].rolling(window).apply(lambda x: (x[-1] - x.mean()) / x.std())"
   ]
  },
  {
   "cell_type": "code",
   "execution_count": 297,
   "metadata": {},
   "outputs": [],
   "source": [
    "worksheet.write('A12', u'美欧经济意外指数之差', cell_format)\n",
    "worksheet.write('B12', us_eu['diff'][-1], number_format)\n",
    "if us_eu['z'][-1] > 2 or us_eu['z'][-1] < -2:\n",
    "    worksheet.write('C12', us_eu['z'][-1], highlight_format)\n",
    "else:\n",
    "    worksheet.write('C12', us_eu['z'][-1], number_format)"
   ]
  },
  {
   "cell_type": "markdown",
   "metadata": {},
   "source": [
    "# 铜油比"
   ]
  },
  {
   "cell_type": "code",
   "execution_count": 298,
   "metadata": {},
   "outputs": [],
   "source": [
    "cop = pd.read_excel(u'D:/Data/industry/metal/LME铜三个月期货价格.xlsx')\n",
    "oil = pd.read_excel(u'D:/Data/industry/metal/Brent油价.xlsx')"
   ]
  },
  {
   "cell_type": "code",
   "execution_count": 299,
   "metadata": {},
   "outputs": [],
   "source": [
    "cop_oil_ratio = (cop[cop.columns[0]] / oil[oil.columns[0]]).dropna()"
   ]
  },
  {
   "cell_type": "code",
   "execution_count": 300,
   "metadata": {},
   "outputs": [],
   "source": [
    "cop_oil_z = cop_oil_ratio.rolling(window).apply(lambda x: (x[-1] - x.mean()) / x.std())"
   ]
  },
  {
   "cell_type": "code",
   "execution_count": 301,
   "metadata": {},
   "outputs": [],
   "source": [
    "worksheet.write('A13', u'铜油比', cell_format)\n",
    "worksheet.write('B13', cop_oil_ratio[-1], number_format)\n",
    "if cop_oil_z[-1] > 2 or cop_oil_z[-1] < -2:\n",
    "    worksheet.write('C13', cop_oil_z[-1], highlight_format)\n",
    "else:\n",
    "    worksheet.write('C13', cop_oil_z[-1], number_format)"
   ]
  },
  {
   "cell_type": "markdown",
   "metadata": {},
   "source": [
    "### 设置第一列列宽"
   ]
  },
  {
   "cell_type": "code",
   "execution_count": 302,
   "metadata": {},
   "outputs": [
    {
     "data": {
      "text/plain": [
       "0"
      ]
     },
     "execution_count": 302,
     "metadata": {},
     "output_type": "execute_result"
    }
   ],
   "source": [
    "worksheet.set_column(0, 0, 20)\n",
    "worksheet.set_column(1, 1, 15)"
   ]
  },
  {
   "cell_type": "markdown",
   "metadata": {},
   "source": [
    "# 插入图片"
   ]
  },
  {
   "cell_type": "code",
   "execution_count": 303,
   "metadata": {},
   "outputs": [],
   "source": [
    "worksheet.insert_image('A16', 'plot.png',\n",
    "                        {'x_scale': 0.85, 'y_scale': 0.85})"
   ]
  },
  {
   "cell_type": "code",
   "execution_count": null,
   "metadata": {},
   "outputs": [],
   "source": []
  },
  {
   "cell_type": "code",
   "execution_count": null,
   "metadata": {},
   "outputs": [],
   "source": []
  },
  {
   "cell_type": "code",
   "execution_count": 304,
   "metadata": {},
   "outputs": [],
   "source": [
    "workbook.close()"
   ]
  },
  {
   "cell_type": "code",
   "execution_count": null,
   "metadata": {},
   "outputs": [],
   "source": []
  },
  {
   "cell_type": "code",
   "execution_count": null,
   "metadata": {},
   "outputs": [],
   "source": []
  }
 ],
 "metadata": {
  "kernelspec": {
   "display_name": "Python 2",
   "language": "python",
   "name": "python2"
  },
  "language_info": {
   "codemirror_mode": {
    "name": "ipython",
    "version": 2
   },
   "file_extension": ".py",
   "mimetype": "text/x-python",
   "name": "python",
   "nbconvert_exporter": "python",
   "pygments_lexer": "ipython2",
   "version": "2.7.14"
  }
 },
 "nbformat": 4,
 "nbformat_minor": 2
}
