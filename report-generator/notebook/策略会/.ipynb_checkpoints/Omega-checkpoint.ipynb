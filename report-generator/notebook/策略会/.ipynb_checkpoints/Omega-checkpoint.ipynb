{
 "cells": [
  {
   "cell_type": "code",
   "execution_count": 39,
   "metadata": {},
   "outputs": [],
   "source": [
    "import pandas as pd\n",
    "import matplotlib.pyplot as plt\n",
    "import empyrical\n",
    "from scipy import stats\n",
    "%matplotlib inline"
   ]
  },
  {
   "cell_type": "code",
   "execution_count": 91,
   "metadata": {},
   "outputs": [],
   "source": [
    "FOF_DIR = 'D:/workspace/data/FOF'"
   ]
  },
  {
   "cell_type": "code",
   "execution_count": 92,
   "metadata": {},
   "outputs": [],
   "source": [
    "df = pd.read_pickle('%s/stock_return.pkl'%(FOF_DIR))"
   ]
  },
  {
   "cell_type": "code",
   "execution_count": 93,
   "metadata": {},
   "outputs": [
    {
     "data": {
      "text/html": [
       "<div>\n",
       "<style scoped>\n",
       "    .dataframe tbody tr th:only-of-type {\n",
       "        vertical-align: middle;\n",
       "    }\n",
       "\n",
       "    .dataframe tbody tr th {\n",
       "        vertical-align: top;\n",
       "    }\n",
       "\n",
       "    .dataframe thead th {\n",
       "        text-align: right;\n",
       "    }\n",
       "</style>\n",
       "<table border=\"1\" class=\"dataframe\">\n",
       "  <thead>\n",
       "    <tr style=\"text-align: right;\">\n",
       "      <th></th>\n",
       "      <th>000042.OF</th>\n",
       "      <th>000051.OF</th>\n",
       "      <th>000059.OF</th>\n",
       "      <th>000082.OF</th>\n",
       "      <th>000176.OF</th>\n",
       "      <th>000309.OF</th>\n",
       "      <th>000311.OF</th>\n",
       "      <th>000312.OF</th>\n",
       "      <th>000368.OF</th>\n",
       "      <th>000373.OF</th>\n",
       "      <th>...</th>\n",
       "      <th>540010.OF</th>\n",
       "      <th>540012.OF</th>\n",
       "      <th>585001.OF</th>\n",
       "      <th>590007.OF</th>\n",
       "      <th>660008.OF</th>\n",
       "      <th>660011.OF</th>\n",
       "      <th>673090.OF</th>\n",
       "      <th>690008.OF</th>\n",
       "      <th>700002.OF</th>\n",
       "      <th>740101.OF</th>\n",
       "    </tr>\n",
       "  </thead>\n",
       "  <tbody>\n",
       "    <tr>\n",
       "      <th>2018-07-09</th>\n",
       "      <td>0.028252</td>\n",
       "      <td>0.027076</td>\n",
       "      <td>0.031906</td>\n",
       "      <td>0.029484</td>\n",
       "      <td>0.028591</td>\n",
       "      <td>0.026762</td>\n",
       "      <td>0.030922</td>\n",
       "      <td>0.027738</td>\n",
       "      <td>0.025260</td>\n",
       "      <td>0.031735</td>\n",
       "      <td>...</td>\n",
       "      <td>0.038151</td>\n",
       "      <td>0.027337</td>\n",
       "      <td>0.026112</td>\n",
       "      <td>0.025668</td>\n",
       "      <td>0.026404</td>\n",
       "      <td>0.021136</td>\n",
       "      <td>0.030854</td>\n",
       "      <td>0.021084</td>\n",
       "      <td>0.032463</td>\n",
       "      <td>0.026157</td>\n",
       "    </tr>\n",
       "    <tr>\n",
       "      <th>2018-07-10</th>\n",
       "      <td>0.005727</td>\n",
       "      <td>0.002636</td>\n",
       "      <td>0.007979</td>\n",
       "      <td>0.005569</td>\n",
       "      <td>0.003756</td>\n",
       "      <td>-0.003179</td>\n",
       "      <td>0.004821</td>\n",
       "      <td>0.001883</td>\n",
       "      <td>0.003408</td>\n",
       "      <td>0.007519</td>\n",
       "      <td>...</td>\n",
       "      <td>0.010709</td>\n",
       "      <td>0.001039</td>\n",
       "      <td>0.007540</td>\n",
       "      <td>0.006257</td>\n",
       "      <td>0.002820</td>\n",
       "      <td>0.005617</td>\n",
       "      <td>0.005146</td>\n",
       "      <td>0.011799</td>\n",
       "      <td>0.005468</td>\n",
       "      <td>0.003922</td>\n",
       "    </tr>\n",
       "    <tr>\n",
       "      <th>2018-07-11</th>\n",
       "      <td>-0.016315</td>\n",
       "      <td>-0.016652</td>\n",
       "      <td>-0.008312</td>\n",
       "      <td>-0.012658</td>\n",
       "      <td>-0.016050</td>\n",
       "      <td>-0.021046</td>\n",
       "      <td>-0.014925</td>\n",
       "      <td>-0.015871</td>\n",
       "      <td>-0.015143</td>\n",
       "      <td>-0.003392</td>\n",
       "      <td>...</td>\n",
       "      <td>-0.024491</td>\n",
       "      <td>-0.016960</td>\n",
       "      <td>-0.014967</td>\n",
       "      <td>-0.013472</td>\n",
       "      <td>-0.016022</td>\n",
       "      <td>-0.018441</td>\n",
       "      <td>-0.011180</td>\n",
       "      <td>-0.017493</td>\n",
       "      <td>-0.020394</td>\n",
       "      <td>-0.013672</td>\n",
       "    </tr>\n",
       "    <tr>\n",
       "      <th>2018-07-12</th>\n",
       "      <td>0.022699</td>\n",
       "      <td>0.022282</td>\n",
       "      <td>0.025843</td>\n",
       "      <td>0.022436</td>\n",
       "      <td>0.022989</td>\n",
       "      <td>0.029316</td>\n",
       "      <td>0.024351</td>\n",
       "      <td>0.022068</td>\n",
       "      <td>0.022345</td>\n",
       "      <td>0.022464</td>\n",
       "      <td>...</td>\n",
       "      <td>0.039171</td>\n",
       "      <td>0.020844</td>\n",
       "      <td>0.027540</td>\n",
       "      <td>0.024160</td>\n",
       "      <td>0.021826</td>\n",
       "      <td>0.025647</td>\n",
       "      <td>0.025148</td>\n",
       "      <td>0.014837</td>\n",
       "      <td>0.027065</td>\n",
       "      <td>0.022772</td>\n",
       "    </tr>\n",
       "    <tr>\n",
       "      <th>2018-07-13</th>\n",
       "      <td>0.007186</td>\n",
       "      <td>0.004359</td>\n",
       "      <td>0.015952</td>\n",
       "      <td>0.005486</td>\n",
       "      <td>0.005618</td>\n",
       "      <td>0.001899</td>\n",
       "      <td>0.006867</td>\n",
       "      <td>0.006298</td>\n",
       "      <td>0.007520</td>\n",
       "      <td>0.018642</td>\n",
       "      <td>...</td>\n",
       "      <td>0.017819</td>\n",
       "      <td>0.003104</td>\n",
       "      <td>0.008318</td>\n",
       "      <td>0.007179</td>\n",
       "      <td>0.004323</td>\n",
       "      <td>0.006004</td>\n",
       "      <td>0.013812</td>\n",
       "      <td>0.002924</td>\n",
       "      <td>0.008108</td>\n",
       "      <td>0.008712</td>\n",
       "    </tr>\n",
       "  </tbody>\n",
       "</table>\n",
       "<p>5 rows × 601 columns</p>\n",
       "</div>"
      ],
      "text/plain": [
       "            000042.OF  000051.OF  000059.OF  000082.OF  000176.OF  000309.OF  \\\n",
       "2018-07-09   0.028252   0.027076   0.031906   0.029484   0.028591   0.026762   \n",
       "2018-07-10   0.005727   0.002636   0.007979   0.005569   0.003756  -0.003179   \n",
       "2018-07-11  -0.016315  -0.016652  -0.008312  -0.012658  -0.016050  -0.021046   \n",
       "2018-07-12   0.022699   0.022282   0.025843   0.022436   0.022989   0.029316   \n",
       "2018-07-13   0.007186   0.004359   0.015952   0.005486   0.005618   0.001899   \n",
       "\n",
       "            000311.OF  000312.OF  000368.OF  000373.OF    ...      540010.OF  \\\n",
       "2018-07-09   0.030922   0.027738   0.025260   0.031735    ...       0.038151   \n",
       "2018-07-10   0.004821   0.001883   0.003408   0.007519    ...       0.010709   \n",
       "2018-07-11  -0.014925  -0.015871  -0.015143  -0.003392    ...      -0.024491   \n",
       "2018-07-12   0.024351   0.022068   0.022345   0.022464    ...       0.039171   \n",
       "2018-07-13   0.006867   0.006298   0.007520   0.018642    ...       0.017819   \n",
       "\n",
       "            540012.OF  585001.OF  590007.OF  660008.OF  660011.OF  673090.OF  \\\n",
       "2018-07-09   0.027337   0.026112   0.025668   0.026404   0.021136   0.030854   \n",
       "2018-07-10   0.001039   0.007540   0.006257   0.002820   0.005617   0.005146   \n",
       "2018-07-11  -0.016960  -0.014967  -0.013472  -0.016022  -0.018441  -0.011180   \n",
       "2018-07-12   0.020844   0.027540   0.024160   0.021826   0.025647   0.025148   \n",
       "2018-07-13   0.003104   0.008318   0.007179   0.004323   0.006004   0.013812   \n",
       "\n",
       "            690008.OF  700002.OF  740101.OF  \n",
       "2018-07-09   0.021084   0.032463   0.026157  \n",
       "2018-07-10   0.011799   0.005468   0.003922  \n",
       "2018-07-11  -0.017493  -0.020394  -0.013672  \n",
       "2018-07-12   0.014837   0.027065   0.022772  \n",
       "2018-07-13   0.002924   0.008108   0.008712  \n",
       "\n",
       "[5 rows x 601 columns]"
      ]
     },
     "execution_count": 93,
     "metadata": {},
     "output_type": "execute_result"
    }
   ],
   "source": [
    "df.tail()"
   ]
  },
  {
   "cell_type": "code",
   "execution_count": 94,
   "metadata": {},
   "outputs": [],
   "source": [
    "df = df[df.index >= '2016-03-01']"
   ]
  },
  {
   "cell_type": "code",
   "execution_count": 95,
   "metadata": {},
   "outputs": [],
   "source": [
    "df = df.dropna(axis=1)"
   ]
  },
  {
   "cell_type": "code",
   "execution_count": 96,
   "metadata": {},
   "outputs": [
    {
     "data": {
      "text/html": [
       "<div>\n",
       "<style scoped>\n",
       "    .dataframe tbody tr th:only-of-type {\n",
       "        vertical-align: middle;\n",
       "    }\n",
       "\n",
       "    .dataframe tbody tr th {\n",
       "        vertical-align: top;\n",
       "    }\n",
       "\n",
       "    .dataframe thead th {\n",
       "        text-align: right;\n",
       "    }\n",
       "</style>\n",
       "<table border=\"1\" class=\"dataframe\">\n",
       "  <thead>\n",
       "    <tr style=\"text-align: right;\">\n",
       "      <th></th>\n",
       "      <th>000042.OF</th>\n",
       "      <th>000051.OF</th>\n",
       "      <th>000059.OF</th>\n",
       "      <th>000082.OF</th>\n",
       "      <th>000176.OF</th>\n",
       "      <th>000309.OF</th>\n",
       "      <th>000311.OF</th>\n",
       "      <th>000312.OF</th>\n",
       "      <th>000368.OF</th>\n",
       "      <th>000373.OF</th>\n",
       "      <th>...</th>\n",
       "      <th>540009.OF</th>\n",
       "      <th>540010.OF</th>\n",
       "      <th>540012.OF</th>\n",
       "      <th>585001.OF</th>\n",
       "      <th>590007.OF</th>\n",
       "      <th>660008.OF</th>\n",
       "      <th>660011.OF</th>\n",
       "      <th>690008.OF</th>\n",
       "      <th>700002.OF</th>\n",
       "      <th>740101.OF</th>\n",
       "    </tr>\n",
       "  </thead>\n",
       "  <tbody>\n",
       "    <tr>\n",
       "      <th>2018-07-09</th>\n",
       "      <td>0.028252</td>\n",
       "      <td>0.027076</td>\n",
       "      <td>0.031906</td>\n",
       "      <td>0.029484</td>\n",
       "      <td>0.028591</td>\n",
       "      <td>0.026762</td>\n",
       "      <td>0.030922</td>\n",
       "      <td>0.027738</td>\n",
       "      <td>0.025260</td>\n",
       "      <td>0.031735</td>\n",
       "      <td>...</td>\n",
       "      <td>0.024434</td>\n",
       "      <td>0.038151</td>\n",
       "      <td>0.027337</td>\n",
       "      <td>0.026112</td>\n",
       "      <td>0.025668</td>\n",
       "      <td>0.026404</td>\n",
       "      <td>0.021136</td>\n",
       "      <td>0.021084</td>\n",
       "      <td>0.032463</td>\n",
       "      <td>0.026157</td>\n",
       "    </tr>\n",
       "    <tr>\n",
       "      <th>2018-07-10</th>\n",
       "      <td>0.005727</td>\n",
       "      <td>0.002636</td>\n",
       "      <td>0.007979</td>\n",
       "      <td>0.005569</td>\n",
       "      <td>0.003756</td>\n",
       "      <td>-0.003179</td>\n",
       "      <td>0.004821</td>\n",
       "      <td>0.001883</td>\n",
       "      <td>0.003408</td>\n",
       "      <td>0.007519</td>\n",
       "      <td>...</td>\n",
       "      <td>0.007744</td>\n",
       "      <td>0.010709</td>\n",
       "      <td>0.001039</td>\n",
       "      <td>0.007540</td>\n",
       "      <td>0.006257</td>\n",
       "      <td>0.002820</td>\n",
       "      <td>0.005617</td>\n",
       "      <td>0.011799</td>\n",
       "      <td>0.005468</td>\n",
       "      <td>0.003922</td>\n",
       "    </tr>\n",
       "    <tr>\n",
       "      <th>2018-07-11</th>\n",
       "      <td>-0.016315</td>\n",
       "      <td>-0.016652</td>\n",
       "      <td>-0.008312</td>\n",
       "      <td>-0.012658</td>\n",
       "      <td>-0.016050</td>\n",
       "      <td>-0.021046</td>\n",
       "      <td>-0.014925</td>\n",
       "      <td>-0.015871</td>\n",
       "      <td>-0.015143</td>\n",
       "      <td>-0.003392</td>\n",
       "      <td>...</td>\n",
       "      <td>-0.015061</td>\n",
       "      <td>-0.024491</td>\n",
       "      <td>-0.016960</td>\n",
       "      <td>-0.014967</td>\n",
       "      <td>-0.013472</td>\n",
       "      <td>-0.016022</td>\n",
       "      <td>-0.018441</td>\n",
       "      <td>-0.017493</td>\n",
       "      <td>-0.020394</td>\n",
       "      <td>-0.013672</td>\n",
       "    </tr>\n",
       "    <tr>\n",
       "      <th>2018-07-12</th>\n",
       "      <td>0.022699</td>\n",
       "      <td>0.022282</td>\n",
       "      <td>0.025843</td>\n",
       "      <td>0.022436</td>\n",
       "      <td>0.022989</td>\n",
       "      <td>0.029316</td>\n",
       "      <td>0.024351</td>\n",
       "      <td>0.022068</td>\n",
       "      <td>0.022345</td>\n",
       "      <td>0.022464</td>\n",
       "      <td>...</td>\n",
       "      <td>0.016852</td>\n",
       "      <td>0.039171</td>\n",
       "      <td>0.020844</td>\n",
       "      <td>0.027540</td>\n",
       "      <td>0.024160</td>\n",
       "      <td>0.021826</td>\n",
       "      <td>0.025647</td>\n",
       "      <td>0.014837</td>\n",
       "      <td>0.027065</td>\n",
       "      <td>0.022772</td>\n",
       "    </tr>\n",
       "    <tr>\n",
       "      <th>2018-07-13</th>\n",
       "      <td>0.007186</td>\n",
       "      <td>0.004359</td>\n",
       "      <td>0.015952</td>\n",
       "      <td>0.005486</td>\n",
       "      <td>0.005618</td>\n",
       "      <td>0.001899</td>\n",
       "      <td>0.006867</td>\n",
       "      <td>0.006298</td>\n",
       "      <td>0.007520</td>\n",
       "      <td>0.018642</td>\n",
       "      <td>...</td>\n",
       "      <td>0.005320</td>\n",
       "      <td>0.017819</td>\n",
       "      <td>0.003104</td>\n",
       "      <td>0.008318</td>\n",
       "      <td>0.007179</td>\n",
       "      <td>0.004323</td>\n",
       "      <td>0.006004</td>\n",
       "      <td>0.002924</td>\n",
       "      <td>0.008108</td>\n",
       "      <td>0.008712</td>\n",
       "    </tr>\n",
       "  </tbody>\n",
       "</table>\n",
       "<p>5 rows × 414 columns</p>\n",
       "</div>"
      ],
      "text/plain": [
       "            000042.OF  000051.OF  000059.OF  000082.OF  000176.OF  000309.OF  \\\n",
       "2018-07-09   0.028252   0.027076   0.031906   0.029484   0.028591   0.026762   \n",
       "2018-07-10   0.005727   0.002636   0.007979   0.005569   0.003756  -0.003179   \n",
       "2018-07-11  -0.016315  -0.016652  -0.008312  -0.012658  -0.016050  -0.021046   \n",
       "2018-07-12   0.022699   0.022282   0.025843   0.022436   0.022989   0.029316   \n",
       "2018-07-13   0.007186   0.004359   0.015952   0.005486   0.005618   0.001899   \n",
       "\n",
       "            000311.OF  000312.OF  000368.OF  000373.OF    ...      540009.OF  \\\n",
       "2018-07-09   0.030922   0.027738   0.025260   0.031735    ...       0.024434   \n",
       "2018-07-10   0.004821   0.001883   0.003408   0.007519    ...       0.007744   \n",
       "2018-07-11  -0.014925  -0.015871  -0.015143  -0.003392    ...      -0.015061   \n",
       "2018-07-12   0.024351   0.022068   0.022345   0.022464    ...       0.016852   \n",
       "2018-07-13   0.006867   0.006298   0.007520   0.018642    ...       0.005320   \n",
       "\n",
       "            540010.OF  540012.OF  585001.OF  590007.OF  660008.OF  660011.OF  \\\n",
       "2018-07-09   0.038151   0.027337   0.026112   0.025668   0.026404   0.021136   \n",
       "2018-07-10   0.010709   0.001039   0.007540   0.006257   0.002820   0.005617   \n",
       "2018-07-11  -0.024491  -0.016960  -0.014967  -0.013472  -0.016022  -0.018441   \n",
       "2018-07-12   0.039171   0.020844   0.027540   0.024160   0.021826   0.025647   \n",
       "2018-07-13   0.017819   0.003104   0.008318   0.007179   0.004323   0.006004   \n",
       "\n",
       "            690008.OF  700002.OF  740101.OF  \n",
       "2018-07-09   0.021084   0.032463   0.026157  \n",
       "2018-07-10   0.011799   0.005468   0.003922  \n",
       "2018-07-11  -0.017493  -0.020394  -0.013672  \n",
       "2018-07-12   0.014837   0.027065   0.022772  \n",
       "2018-07-13   0.002924   0.008108   0.008712  \n",
       "\n",
       "[5 rows x 414 columns]"
      ]
     },
     "execution_count": 96,
     "metadata": {},
     "output_type": "execute_result"
    }
   ],
   "source": [
    "df.tail()"
   ]
  },
  {
   "cell_type": "code",
   "execution_count": 116,
   "metadata": {},
   "outputs": [
    {
     "data": {
      "text/plain": [
       "<matplotlib.legend.Legend at 0x1a345cf8>"
      ]
     },
     "execution_count": 116,
     "metadata": {},
     "output_type": "execute_result"
    },
    {
     "data": {
      "image/png": "[encoded data removed]",
      "text/plain": [
       "<Figure size 1152x648 with 1 Axes>"
      ]
     },
     "metadata": {},
     "output_type": "display_data"
    }
   ],
   "source": [
    "code, code2 = '519606.OF', '000711.OF'\n",
    "(1+df[code]).cumprod().plot(figsize=(16, 9), color='blue', label=u'国泰金鑫（519606）')\n",
    "(1+df[code2]).cumprod().plot(figsize=(16, 9), color='red', label=u'嘉实医疗保健（000711）')\n",
    "plt.legend()"
   ]
  },
  {
   "cell_type": "code",
   "execution_count": 113,
   "metadata": {},
   "outputs": [],
   "source": [
    "mdf = pd.DataFrame(index=df.columns, \n",
    "                   columns=['return', 'vol', 'mean', 'std', 'skewness', 'kurtosis', 'sharpe', 'omega', 'mdd'])\n",
    "for col in df.columns:\n",
    "    mdf.loc[col, 'return'] = empyrical.annual_return(df[col])\n",
    "    mdf.loc[col, 'vol'] = empyrical.annual_volatility(df[col])\n",
    "    mdf.loc[col, 'sharpe'] = empyrical.sharpe_ratio(df[col])\n",
    "    mdf.loc[col, 'mean'] = df[col].mean()\n",
    "    mdf.loc[col, 'std'] = df[col].std()\n",
    "    mdf.loc[col, 'mdd'] = empyrical.max_drawdown(df[col])\n",
    "    mdf.loc[col, 'omega'] = empyrical.omega_ratio(df[col])\n",
    "    mdf.loc[col, 'skewness'] = stats.skew(df[col])\n",
    "    mdf.loc[col, 'kurtosis'] = stats.kurtosis(df[col])"
   ]
  },
  {
   "cell_type": "code",
   "execution_count": 100,
   "metadata": {},
   "outputs": [],
   "source": [
    "mdf = mdf.sort_values('sharpe', ascending=False)\n",
    "mdf['sharpe rank'] = range(1, mdf.shape[0] + 1)\n",
    "mdf = mdf.sort_values('omega', ascending=False)\n",
    "mdf['omega rank'] = range(1, mdf.shape[0] + 1)\n",
    "mdf['rank diff'] = mdf['sharpe rank'] - mdf['omega rank']"
   ]
  },
  {
   "cell_type": "code",
   "execution_count": 117,
   "metadata": {},
   "outputs": [],
   "source": [
    "# mdf.sort_values('sharpe', ascending=False).head(50)"
   ]
  },
  {
   "cell_type": "code",
   "execution_count": 118,
   "metadata": {},
   "outputs": [],
   "source": [
    "code, code2 = '519606.OF', '000711.OF'"
   ]
  },
  {
   "cell_type": "code",
   "execution_count": 119,
   "metadata": {},
   "outputs": [
    {
     "data": {
      "text/plain": [
       "return         0.243307\n",
       "vol            0.199148\n",
       "mean        0.000943135\n",
       "std           0.0125451\n",
       "skewness      -0.100405\n",
       "kurtosis        2.14145\n",
       "sharpe          1.19343\n",
       "omega           1.22955\n",
       "mdd           -0.289498\n",
       "Name: 519606.OF, dtype: object"
      ]
     },
     "execution_count": 119,
     "metadata": {},
     "output_type": "execute_result"
    }
   ],
   "source": [
    "mdf.loc[code]"
   ]
  },
  {
   "cell_type": "code",
   "execution_count": 120,
   "metadata": {},
   "outputs": [
    {
     "data": {
      "text/plain": [
       "return         0.225937\n",
       "vol            0.184458\n",
       "mean        0.000876042\n",
       "std           0.0116197\n",
       "skewness      -0.014212\n",
       "kurtosis        1.92032\n",
       "sharpe          1.19682\n",
       "omega           1.24109\n",
       "mdd           -0.133593\n",
       "Name: 000711.OF, dtype: object"
      ]
     },
     "execution_count": 120,
     "metadata": {},
     "output_type": "execute_result"
    }
   ],
   "source": [
    "mdf.loc[code2]"
   ]
  },
  {
   "cell_type": "code",
   "execution_count": 132,
   "metadata": {},
   "outputs": [
    {
     "data": {
      "text/plain": [
       "<matplotlib.legend.Legend at 0x2400e898>"
      ]
     },
     "execution_count": 132,
     "metadata": {},
     "output_type": "execute_result"
    },
    {
     "data": {
      "image/png": "[encoded data removed]",
      "text/plain": [
       "<Figure size 1152x648 with 1 Axes>"
      ]
     },
     "metadata": {},
     "output_type": "display_data"
    }
   ],
   "source": [
    "plt.figure(figsize=(16, 9))\n",
    "plt.hist(df[code], 150, color='blue', label=u'国泰金鑫（519606）')\n",
    "plt.hist(df[code2], 150, color='red', label=u'嘉实医疗保健（000711）')\n",
    "plt.legend()"
   ]
  },
  {
   "cell_type": "code",
   "execution_count": 54,
   "metadata": {},
   "outputs": [],
   "source": []
  },
  {
   "cell_type": "code",
   "execution_count": 55,
   "metadata": {},
   "outputs": [],
   "source": []
  },
  {
   "cell_type": "code",
   "execution_count": null,
   "metadata": {},
   "outputs": [],
   "source": []
  }
 ],
 "metadata": {
  "kernelspec": {
   "display_name": "Python 2",
   "language": "python",
   "name": "python2"
  },
  "language_info": {
   "codemirror_mode": {
    "name": "ipython",
    "version": 2
   },
   "file_extension": ".py",
   "mimetype": "text/x-python",
   "name": "python",
   "nbconvert_exporter": "python",
   "pygments_lexer": "ipython2",
   "version": "2.7.14"
  }
 },
 "nbformat": 4,
 "nbformat_minor": 2
}
