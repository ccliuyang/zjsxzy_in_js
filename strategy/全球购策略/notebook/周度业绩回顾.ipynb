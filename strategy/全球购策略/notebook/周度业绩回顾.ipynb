{
 "cells": [
  {
   "cell_type": "code",
   "execution_count": 1,
   "metadata": {},
   "outputs": [],
   "source": [
    "import datetime\n",
    "import pandas as pd\n",
    "import numpy as np\n",
    "import empyrical\n",
    "import matplotlib.pyplot as plt\n",
    "import os\n",
    "%matplotlib inline"
   ]
  },
  {
   "cell_type": "code",
   "execution_count": 2,
   "metadata": {},
   "outputs": [],
   "source": [
    "FUNDS = ['070037.OF', '160706.OF', '000008.OF', '000071.OF', '050025.OF']"
   ]
  },
  {
   "cell_type": "code",
   "execution_count": 3,
   "metadata": {},
   "outputs": [],
   "source": [
    "risk_free = 0.015 # 1年期定期存款利率\n",
    "DIR = u'\\\\\\\\hfm-pubshare\\HFM各部门共享\\Harvest嘉实全体员工\\策略孵化组\\多重风管分组审核\\zhangyang\\江苏银行全球购策略'\n",
    "WEIGHT_FILE = u'%s\\产品历史占比.xlsx'%(DIR)\n",
    "DAILY_DATA_FILE = u'%s/行情数据.xlsx'%(DIR)"
   ]
  },
  {
   "cell_type": "code",
   "execution_count": 4,
   "metadata": {},
   "outputs": [],
   "source": [
    "wdf = pd.read_excel(WEIGHT_FILE, skiprows=1, index_col=0, sheet_name='Sheet4')\n",
    "fdf = pd.read_excel(DAILY_DATA_FILE, sheet_name=u'基金')\n",
    "sdf = pd.read_excel(DAILY_DATA_FILE, sheet_name=u'基准')"
   ]
  },
  {
   "cell_type": "markdown",
   "metadata": {},
   "source": [
    "# 确定起始日期"
   ]
  },
  {
   "cell_type": "code",
   "execution_count": 5,
   "metadata": {},
   "outputs": [
    {
     "name": "stdout",
     "output_type": "stream",
     "text": [
      "2019-11-22 11:19:33.677476 2019-11-15 11:19:33.677476\n"
     ]
    }
   ],
   "source": [
    "start_date = '2016-11-17'\n",
    "today = datetime.datetime.today()\n",
    "this_friday = today - datetime.timedelta((today.weekday() - 4 + 7) % 7)\n",
    "last_friday = this_friday - datetime.timedelta(7)\n",
    "end_date = this_friday\n",
    "print(this_friday, last_friday)"
   ]
  },
  {
   "cell_type": "markdown",
   "metadata": {},
   "source": [
    "# 获取历史数据"
   ]
  },
  {
   "cell_type": "code",
   "execution_count": 6,
   "metadata": {},
   "outputs": [],
   "source": [
    "wdf = wdf[wdf.index >= start_date]"
   ]
  },
  {
   "cell_type": "code",
   "execution_count": 7,
   "metadata": {},
   "outputs": [],
   "source": [
    "df = fdf[(fdf.index >= start_date) & (fdf.index <= end_date)]"
   ]
  },
  {
   "cell_type": "code",
   "execution_count": 8,
   "metadata": {},
   "outputs": [
    {
     "data": {
      "text/html": [
       "<div>\n",
       "<style scoped>\n",
       "    .dataframe tbody tr th:only-of-type {\n",
       "        vertical-align: middle;\n",
       "    }\n",
       "\n",
       "    .dataframe tbody tr th {\n",
       "        vertical-align: top;\n",
       "    }\n",
       "\n",
       "    .dataframe thead th {\n",
       "        text-align: right;\n",
       "    }\n",
       "</style>\n",
       "<table border=\"1\" class=\"dataframe\">\n",
       "  <thead>\n",
       "    <tr style=\"text-align: right;\">\n",
       "      <th></th>\n",
       "      <th>070037.OF</th>\n",
       "      <th>160706.OF</th>\n",
       "      <th>000008.OF</th>\n",
       "      <th>000071.OF</th>\n",
       "      <th>050025.OF</th>\n",
       "    </tr>\n",
       "  </thead>\n",
       "  <tbody>\n",
       "    <tr>\n",
       "      <th>2019-11-18</th>\n",
       "      <td>1.156</td>\n",
       "      <td>1.1343</td>\n",
       "      <td>1.3266</td>\n",
       "      <td>1.4894</td>\n",
       "      <td>2.4690</td>\n",
       "    </tr>\n",
       "    <tr>\n",
       "      <th>2019-11-19</th>\n",
       "      <td>1.156</td>\n",
       "      <td>1.1451</td>\n",
       "      <td>1.3478</td>\n",
       "      <td>1.5110</td>\n",
       "      <td>2.4674</td>\n",
       "    </tr>\n",
       "    <tr>\n",
       "      <th>2019-11-20</th>\n",
       "      <td>1.156</td>\n",
       "      <td>1.1344</td>\n",
       "      <td>1.3405</td>\n",
       "      <td>1.5014</td>\n",
       "      <td>2.4619</td>\n",
       "    </tr>\n",
       "    <tr>\n",
       "      <th>2019-11-21</th>\n",
       "      <td>1.157</td>\n",
       "      <td>1.1293</td>\n",
       "      <td>1.3401</td>\n",
       "      <td>1.4819</td>\n",
       "      <td>2.4616</td>\n",
       "    </tr>\n",
       "    <tr>\n",
       "      <th>2019-11-22</th>\n",
       "      <td>1.157</td>\n",
       "      <td>1.1183</td>\n",
       "      <td>1.3293</td>\n",
       "      <td>1.4912</td>\n",
       "      <td>2.4694</td>\n",
       "    </tr>\n",
       "  </tbody>\n",
       "</table>\n",
       "</div>"
      ],
      "text/plain": [
       "            070037.OF  160706.OF  000008.OF  000071.OF  050025.OF\n",
       "2019-11-18      1.156     1.1343     1.3266     1.4894     2.4690\n",
       "2019-11-19      1.156     1.1451     1.3478     1.5110     2.4674\n",
       "2019-11-20      1.156     1.1344     1.3405     1.5014     2.4619\n",
       "2019-11-21      1.157     1.1293     1.3401     1.4819     2.4616\n",
       "2019-11-22      1.157     1.1183     1.3293     1.4912     2.4694"
      ]
     },
     "execution_count": 8,
     "metadata": {},
     "output_type": "execute_result"
    }
   ],
   "source": [
    "df.tail()"
   ]
  },
  {
   "cell_type": "code",
   "execution_count": 9,
   "metadata": {},
   "outputs": [],
   "source": [
    "rdf = df.pct_change()"
   ]
  },
  {
   "cell_type": "code",
   "execution_count": 10,
   "metadata": {},
   "outputs": [],
   "source": [
    "wdf.columns = rdf.columns"
   ]
  },
  {
   "cell_type": "code",
   "execution_count": 11,
   "metadata": {},
   "outputs": [
    {
     "data": {
      "text/html": [
       "<div>\n",
       "<style scoped>\n",
       "    .dataframe tbody tr th:only-of-type {\n",
       "        vertical-align: middle;\n",
       "    }\n",
       "\n",
       "    .dataframe tbody tr th {\n",
       "        vertical-align: top;\n",
       "    }\n",
       "\n",
       "    .dataframe thead th {\n",
       "        text-align: right;\n",
       "    }\n",
       "</style>\n",
       "<table border=\"1\" class=\"dataframe\">\n",
       "  <thead>\n",
       "    <tr style=\"text-align: right;\">\n",
       "      <th></th>\n",
       "      <th>070037.OF</th>\n",
       "      <th>160706.OF</th>\n",
       "      <th>000008.OF</th>\n",
       "      <th>000071.OF</th>\n",
       "      <th>050025.OF</th>\n",
       "    </tr>\n",
       "  </thead>\n",
       "  <tbody>\n",
       "    <tr>\n",
       "      <th>2016-11-17</th>\n",
       "      <td>0.1</td>\n",
       "      <td>0.0</td>\n",
       "      <td>0.0</td>\n",
       "      <td>0.225</td>\n",
       "      <td>0.675</td>\n",
       "    </tr>\n",
       "    <tr>\n",
       "      <th>2016-11-18</th>\n",
       "      <td>0.1</td>\n",
       "      <td>0.0</td>\n",
       "      <td>0.0</td>\n",
       "      <td>0.225</td>\n",
       "      <td>0.675</td>\n",
       "    </tr>\n",
       "    <tr>\n",
       "      <th>2016-11-21</th>\n",
       "      <td>0.1</td>\n",
       "      <td>0.0</td>\n",
       "      <td>0.0</td>\n",
       "      <td>0.225</td>\n",
       "      <td>0.675</td>\n",
       "    </tr>\n",
       "    <tr>\n",
       "      <th>2016-11-22</th>\n",
       "      <td>0.1</td>\n",
       "      <td>0.0</td>\n",
       "      <td>0.0</td>\n",
       "      <td>0.225</td>\n",
       "      <td>0.675</td>\n",
       "    </tr>\n",
       "    <tr>\n",
       "      <th>2016-11-23</th>\n",
       "      <td>0.1</td>\n",
       "      <td>0.0</td>\n",
       "      <td>0.0</td>\n",
       "      <td>0.225</td>\n",
       "      <td>0.675</td>\n",
       "    </tr>\n",
       "  </tbody>\n",
       "</table>\n",
       "</div>"
      ],
      "text/plain": [
       "            070037.OF  160706.OF  000008.OF  000071.OF  050025.OF\n",
       "2016-11-17        0.1        0.0        0.0      0.225      0.675\n",
       "2016-11-18        0.1        0.0        0.0      0.225      0.675\n",
       "2016-11-21        0.1        0.0        0.0      0.225      0.675\n",
       "2016-11-22        0.1        0.0        0.0      0.225      0.675\n",
       "2016-11-23        0.1        0.0        0.0      0.225      0.675"
      ]
     },
     "execution_count": 11,
     "metadata": {},
     "output_type": "execute_result"
    }
   ],
   "source": [
    "wdf.head()"
   ]
  },
  {
   "cell_type": "code",
   "execution_count": 12,
   "metadata": {},
   "outputs": [
    {
     "data": {
      "text/html": [
       "<div>\n",
       "<style scoped>\n",
       "    .dataframe tbody tr th:only-of-type {\n",
       "        vertical-align: middle;\n",
       "    }\n",
       "\n",
       "    .dataframe tbody tr th {\n",
       "        vertical-align: top;\n",
       "    }\n",
       "\n",
       "    .dataframe thead th {\n",
       "        text-align: right;\n",
       "    }\n",
       "</style>\n",
       "<table border=\"1\" class=\"dataframe\">\n",
       "  <thead>\n",
       "    <tr style=\"text-align: right;\">\n",
       "      <th></th>\n",
       "      <th>070037.OF</th>\n",
       "      <th>160706.OF</th>\n",
       "      <th>000008.OF</th>\n",
       "      <th>000071.OF</th>\n",
       "      <th>050025.OF</th>\n",
       "    </tr>\n",
       "  </thead>\n",
       "  <tbody>\n",
       "    <tr>\n",
       "      <th>2016-11-17</th>\n",
       "      <td>NaN</td>\n",
       "      <td>NaN</td>\n",
       "      <td>NaN</td>\n",
       "      <td>NaN</td>\n",
       "      <td>NaN</td>\n",
       "    </tr>\n",
       "    <tr>\n",
       "      <th>2016-11-18</th>\n",
       "      <td>-0.000842</td>\n",
       "      <td>-0.005116</td>\n",
       "      <td>-0.004526</td>\n",
       "      <td>0.004504</td>\n",
       "      <td>-0.000702</td>\n",
       "    </tr>\n",
       "    <tr>\n",
       "      <th>2016-11-21</th>\n",
       "      <td>0.000000</td>\n",
       "      <td>0.006479</td>\n",
       "      <td>0.001347</td>\n",
       "      <td>0.002740</td>\n",
       "      <td>0.009539</td>\n",
       "    </tr>\n",
       "    <tr>\n",
       "      <th>2016-11-22</th>\n",
       "      <td>0.000000</td>\n",
       "      <td>0.007562</td>\n",
       "      <td>0.007118</td>\n",
       "      <td>0.011013</td>\n",
       "      <td>-0.000638</td>\n",
       "    </tr>\n",
       "    <tr>\n",
       "      <th>2016-11-23</th>\n",
       "      <td>0.000843</td>\n",
       "      <td>0.001724</td>\n",
       "      <td>-0.004007</td>\n",
       "      <td>0.000819</td>\n",
       "      <td>0.002494</td>\n",
       "    </tr>\n",
       "  </tbody>\n",
       "</table>\n",
       "</div>"
      ],
      "text/plain": [
       "            070037.OF  160706.OF  000008.OF  000071.OF  050025.OF\n",
       "2016-11-17        NaN        NaN        NaN        NaN        NaN\n",
       "2016-11-18  -0.000842  -0.005116  -0.004526   0.004504  -0.000702\n",
       "2016-11-21   0.000000   0.006479   0.001347   0.002740   0.009539\n",
       "2016-11-22   0.000000   0.007562   0.007118   0.011013  -0.000638\n",
       "2016-11-23   0.000843   0.001724  -0.004007   0.000819   0.002494"
      ]
     },
     "execution_count": 12,
     "metadata": {},
     "output_type": "execute_result"
    }
   ],
   "source": [
    "rdf.head()"
   ]
  },
  {
   "cell_type": "code",
   "execution_count": 13,
   "metadata": {},
   "outputs": [
    {
     "name": "stdout",
     "output_type": "stream",
     "text": [
      "Append\n"
     ]
    }
   ],
   "source": [
    "if rdf.shape[0] > wdf.shape[0]: # 补充完整\n",
    "    print('Append')\n",
    "    app_df = pd.DataFrame(np.nan, columns=wdf.columns, index=rdf[rdf.index > wdf.index[-1]].index)\n",
    "    wdf = wdf.append(app_df)\n",
    "    wdf = wdf.fillna(method='ffill')\n",
    "elif rdf.shape[0] < wdf.shape[0]:\n",
    "    print('Cut')\n",
    "    wdf = wdf.loc[rdf.index]"
   ]
  },
  {
   "cell_type": "code",
   "execution_count": 14,
   "metadata": {},
   "outputs": [],
   "source": [
    "assert(rdf.shape == wdf.shape)"
   ]
  },
  {
   "cell_type": "markdown",
   "metadata": {},
   "source": [
    "# 计算组合和基准收益率"
   ]
  },
  {
   "cell_type": "code",
   "execution_count": 15,
   "metadata": {},
   "outputs": [],
   "source": [
    "portfolio_ret = (wdf * rdf).sum(axis=1)"
   ]
  },
  {
   "cell_type": "code",
   "execution_count": 16,
   "metadata": {},
   "outputs": [],
   "source": [
    "bench = sdf[(sdf.index >= start_date) & (sdf.index <= end_date)]"
   ]
  },
  {
   "cell_type": "code",
   "execution_count": 17,
   "metadata": {},
   "outputs": [],
   "source": [
    "bench = bench.pct_change().fillna(0)"
   ]
  },
  {
   "cell_type": "code",
   "execution_count": 18,
   "metadata": {},
   "outputs": [],
   "source": [
    "bench_ret = bench.mul(np.array([0.3, 0.3, 0.3, 0.1])).sum(axis=1)"
   ]
  },
  {
   "cell_type": "code",
   "execution_count": 19,
   "metadata": {},
   "outputs": [
    {
     "data": {
      "text/plain": [
       "'C:\\\\Users\\\\zhangyang01\\\\AppData\\\\Local\\\\Programs\\\\Python\\\\Python36-32\\\\lib\\\\site-packages\\\\matplotlib\\\\mpl-data\\\\matplotlibrc'"
      ]
     },
     "execution_count": 19,
     "metadata": {},
     "output_type": "execute_result"
    }
   ],
   "source": [
    "import matplotlib\n",
    "matplotlib.matplotlib_fname() #将会获得matplotlib包所在文件夹"
   ]
  },
  {
   "cell_type": "code",
   "execution_count": 20,
   "metadata": {},
   "outputs": [
    {
     "data": {
      "image/png": "[encoded data removed]",
      "text/plain": [
       "<Figure size 1152x648 with 1 Axes>"
      ]
     },
     "metadata": {},
     "output_type": "display_data"
    }
   ],
   "source": [
    "fig, ax = plt.subplots(figsize=(16, 9))\n",
    "\n",
    "lns1 = ax.plot((1 + portfolio_ret).cumprod(), color='blue', label=u'组合')\n",
    "lns2 = ax.plot((1 + bench_ret).cumprod(), color='red', label=u'基准')\n",
    "\n",
    "lns = lns1 + lns2\n",
    "labs = [l.get_label() for l in lns]\n",
    "ax.legend(lns, labs, frameon=False, fontsize=15, loc='upper center', ncol=4, bbox_to_anchor=(0.5, 1.0))\n",
    "\n",
    "ax.xaxis.set_tick_params(labelsize=15)\n",
    "ax.yaxis.set_tick_params(labelsize=15)\n",
    "vals = ax.get_yticks()\n",
    "ax.set_yticklabels(['{:2.2f}'.format(x) for x in vals])\n",
    "\n",
    "_ = ax.set_title(u'阿尔法策略历史模拟业绩', fontsize=25, y=1.02)"
   ]
  },
  {
   "cell_type": "markdown",
   "metadata": {},
   "source": [
    "### 计算净值"
   ]
  },
  {
   "cell_type": "code",
   "execution_count": 21,
   "metadata": {},
   "outputs": [],
   "source": [
    "nav = (1 + portfolio_ret).cumprod()"
   ]
  },
  {
   "cell_type": "markdown",
   "metadata": {},
   "source": [
    "# 输出结果到Excel Sheet"
   ]
  },
  {
   "cell_type": "code",
   "execution_count": 22,
   "metadata": {},
   "outputs": [],
   "source": [
    "results = pd.DataFrame(columns=[u'一键买全球'], \n",
    "                       index=[u'上周净值', u'本周净值', u'本周基准收益率', u'本周收益率', u'本周超额收益', \\\n",
    "                              u'年化收益率', u'年化波动率', u'最大回撤', u'夏普比率'])\n",
    "results.index.name = u'指标'"
   ]
  },
  {
   "cell_type": "code",
   "execution_count": 23,
   "metadata": {},
   "outputs": [],
   "source": [
    "results.loc[u'上周净值'] = '{:2.4f}'.format(nav[nav.index <= last_friday][-1])"
   ]
  },
  {
   "cell_type": "code",
   "execution_count": 24,
   "metadata": {},
   "outputs": [],
   "source": [
    "results.loc[u'本周净值'] = '{:2.4f}'.format(nav[nav.index <= this_friday][-1])"
   ]
  },
  {
   "cell_type": "code",
   "execution_count": 25,
   "metadata": {},
   "outputs": [],
   "source": [
    "b_ret = empyrical.cum_returns_final(bench_ret[(bench_ret.index > last_friday) & (bench_ret.index <= this_friday)])\n",
    "results.loc[u'本周基准收益率'] = '{:2.4f}%'.format(b_ret*100)"
   ]
  },
  {
   "cell_type": "code",
   "execution_count": 26,
   "metadata": {},
   "outputs": [],
   "source": [
    "p_ret = empyrical.cum_returns_final(portfolio_ret[(portfolio_ret.index > last_friday) & (portfolio_ret.index <= this_friday)])\n",
    "results.loc[u'本周收益率'] = '{:2.4f}%'.format(p_ret*100)"
   ]
  },
  {
   "cell_type": "code",
   "execution_count": 27,
   "metadata": {},
   "outputs": [],
   "source": [
    "results.loc[u'本周超额收益'] = '{:2.4f}%'.format((p_ret - b_ret)*100)"
   ]
  },
  {
   "cell_type": "code",
   "execution_count": 28,
   "metadata": {},
   "outputs": [],
   "source": [
    "results.loc[u'年化收益率'] = '{:2.2f}%'.format(empyrical.annual_return(portfolio_ret)*100)"
   ]
  },
  {
   "cell_type": "code",
   "execution_count": 29,
   "metadata": {},
   "outputs": [],
   "source": [
    "results.loc[u'年化波动率'] = '{:2.2f}%'.format(empyrical.annual_volatility(portfolio_ret)*100)"
   ]
  },
  {
   "cell_type": "code",
   "execution_count": 30,
   "metadata": {},
   "outputs": [],
   "source": [
    "results.loc[u'最大回撤'] = '{:2.2f}%'.format(empyrical.max_drawdown(portfolio_ret)*100)"
   ]
  },
  {
   "cell_type": "code",
   "execution_count": 31,
   "metadata": {},
   "outputs": [],
   "source": [
    "results.loc[u'夏普比率'] = '{:2.2f}'.format(empyrical.sharpe_ratio(portfolio_ret))"
   ]
  },
  {
   "cell_type": "code",
   "execution_count": 32,
   "metadata": {},
   "outputs": [
    {
     "data": {
      "text/html": [
       "<div>\n",
       "<style scoped>\n",
       "    .dataframe tbody tr th:only-of-type {\n",
       "        vertical-align: middle;\n",
       "    }\n",
       "\n",
       "    .dataframe tbody tr th {\n",
       "        vertical-align: top;\n",
       "    }\n",
       "\n",
       "    .dataframe thead th {\n",
       "        text-align: right;\n",
       "    }\n",
       "</style>\n",
       "<table border=\"1\" class=\"dataframe\">\n",
       "  <thead>\n",
       "    <tr style=\"text-align: right;\">\n",
       "      <th></th>\n",
       "      <th>一键买全球</th>\n",
       "    </tr>\n",
       "    <tr>\n",
       "      <th>指标</th>\n",
       "      <th></th>\n",
       "    </tr>\n",
       "  </thead>\n",
       "  <tbody>\n",
       "    <tr>\n",
       "      <th>上周净值</th>\n",
       "      <td>1.2214</td>\n",
       "    </tr>\n",
       "    <tr>\n",
       "      <th>本周净值</th>\n",
       "      <td>1.2257</td>\n",
       "    </tr>\n",
       "    <tr>\n",
       "      <th>本周基准收益率</th>\n",
       "      <td>0.0448%</td>\n",
       "    </tr>\n",
       "    <tr>\n",
       "      <th>本周收益率</th>\n",
       "      <td>0.3502%</td>\n",
       "    </tr>\n",
       "    <tr>\n",
       "      <th>本周超额收益</th>\n",
       "      <td>0.3054%</td>\n",
       "    </tr>\n",
       "    <tr>\n",
       "      <th>年化收益率</th>\n",
       "      <td>7.22%</td>\n",
       "    </tr>\n",
       "    <tr>\n",
       "      <th>年化波动率</th>\n",
       "      <td>11.60%</td>\n",
       "    </tr>\n",
       "    <tr>\n",
       "      <th>最大回撤</th>\n",
       "      <td>-19.78%</td>\n",
       "    </tr>\n",
       "    <tr>\n",
       "      <th>夏普比率</th>\n",
       "      <td>0.66</td>\n",
       "    </tr>\n",
       "  </tbody>\n",
       "</table>\n",
       "</div>"
      ],
      "text/plain": [
       "           一键买全球\n",
       "指标              \n",
       "上周净值      1.2214\n",
       "本周净值      1.2257\n",
       "本周基准收益率  0.0448%\n",
       "本周收益率    0.3502%\n",
       "本周超额收益   0.3054%\n",
       "年化收益率      7.22%\n",
       "年化波动率     11.60%\n",
       "最大回撤     -19.78%\n",
       "夏普比率        0.66"
      ]
     },
     "execution_count": 32,
     "metadata": {},
     "output_type": "execute_result"
    }
   ],
   "source": [
    "results"
   ]
  },
  {
   "cell_type": "code",
   "execution_count": 33,
   "metadata": {},
   "outputs": [],
   "source": [
    "DIR = u'\\\\\\\\hfm-pubshare\\HFM各部门共享\\Harvest嘉实全体员工\\策略孵化组\\多重风管分组审核\\zhangyang\\江苏银行全球购策略\\周度业绩回顾'\n",
    "fname = u'%s\\一键买全球周度业绩回顾-%s.xlsx'%(DIR, today.strftime('%Y-%m-%d'))"
   ]
  },
  {
   "cell_type": "code",
   "execution_count": 34,
   "metadata": {},
   "outputs": [],
   "source": [
    "results.to_excel(fname)"
   ]
  },
  {
   "cell_type": "code",
   "execution_count": 35,
   "metadata": {},
   "outputs": [],
   "source": [
    "fname = u'%s\\一键买全球周度业绩回顾.xlsx'%(DIR)"
   ]
  },
  {
   "cell_type": "code",
   "execution_count": 36,
   "metadata": {},
   "outputs": [],
   "source": [
    "results.to_excel(fname)"
   ]
  },
  {
   "cell_type": "code",
   "execution_count": null,
   "metadata": {},
   "outputs": [],
   "source": []
  }
 ],
 "metadata": {
  "kernelspec": {
   "display_name": "Python 3",
   "language": "python",
   "name": "python3"
  },
  "language_info": {
   "codemirror_mode": {
    "name": "ipython",
    "version": 3
   },
   "file_extension": ".py",
   "mimetype": "text/x-python",
   "name": "python",
   "nbconvert_exporter": "python",
   "pygments_lexer": "ipython3",
   "version": "3.6.5"
  }
 },
 "nbformat": 4,
 "nbformat_minor": 4
}
