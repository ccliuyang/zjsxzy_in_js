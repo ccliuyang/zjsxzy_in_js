{
 "cells": [
  {
   "cell_type": "code",
   "execution_count": 2,
   "metadata": {},
   "outputs": [],
   "source": [
    "import datetime\n",
    "import pandas as pd\n",
    "import numpy as np\n",
    "import empyrical\n",
    "import matplotlib.pyplot as plt\n",
    "from WindPy import w\n",
    "import os\n",
    "%matplotlib inline"
   ]
  },
  {
   "cell_type": "code",
   "execution_count": 3,
   "metadata": {},
   "outputs": [
    {
     "name": "stdout",
     "output_type": "stream",
     "text": [
      "Welcome to use Wind Quant API for Python (WindPy)!\n",
      "\n",
      "COPYRIGHT (C) 2017 WIND INFORMATION CO., LTD. ALL RIGHTS RESERVED.\n",
      "IN NO CIRCUMSTANCE SHALL WIND BE RESPONSIBLE FOR ANY DAMAGES OR LOSSES CAUSED BY USING WIND QUANT API FOR Python.\n"
     ]
    },
    {
     "data": {
      "text/plain": [
       ".ErrorCode=0\n",
       ".Data=[OK!]"
      ]
     },
     "execution_count": 3,
     "metadata": {},
     "output_type": "execute_result"
    }
   ],
   "source": [
    "w.start()"
   ]
  },
  {
   "cell_type": "markdown",
   "metadata": {},
   "source": [
    "# 定义常量"
   ]
  },
  {
   "cell_type": "code",
   "execution_count": 4,
   "metadata": {},
   "outputs": [],
   "source": [
    "risk_free = 0.015 # 1年期定期存款利率"
   ]
  },
  {
   "cell_type": "code",
   "execution_count": 5,
   "metadata": {},
   "outputs": [],
   "source": [
    "def sharpe_ratio(an_ret, an_vol, risk_free):\n",
    "    return (an_ret - risk_free) / an_vol"
   ]
  },
  {
   "cell_type": "code",
   "execution_count": 6,
   "metadata": {},
   "outputs": [],
   "source": [
    "today = datetime.datetime.today()"
   ]
  },
  {
   "cell_type": "code",
   "execution_count": 7,
   "metadata": {},
   "outputs": [],
   "source": [
    "# if datetime.date.weekday(today) == 4:\n",
    "#     next_date = today + datetime.timedelta(3)\n",
    "# else:\n",
    "#     next_date = today + datetime.timedelta(1)\n",
    "next_date = today # 在jupyter中生成的是当日的数据"
   ]
  },
  {
   "cell_type": "code",
   "execution_count": 8,
   "metadata": {},
   "outputs": [
    {
     "data": {
      "text/plain": [
       "'2019-11-21'"
      ]
     },
     "execution_count": 8,
     "metadata": {},
     "output_type": "execute_result"
    }
   ],
   "source": [
    "next_date.strftime(\"%Y-%m-%d\")"
   ]
  },
  {
   "cell_type": "code",
   "execution_count": 9,
   "metadata": {},
   "outputs": [],
   "source": [
    "DIR = u'D:/Data/江苏银行/%s'%(next_date.strftime('%Y%m%d'))\n",
    "if not os.path.exists(DIR):\n",
    "    os.mkdir(DIR)"
   ]
  },
  {
   "cell_type": "code",
   "execution_count": 10,
   "metadata": {},
   "outputs": [],
   "source": [
    "# SDIR = u'\\\\\\\\hfm-pubshare\\HFM各部门共享\\Harvest嘉实全体员工\\策略孵化组\\多重风管分组审核\\zhangyang\\江苏银行全球购策略\\数据'\n",
    "# if not os.path.exists(SDIR):\n",
    "#     os.mkdir(SDIR)"
   ]
  },
  {
   "cell_type": "markdown",
   "metadata": {},
   "source": [
    "#### 组合代码"
   ]
  },
  {
   "cell_type": "code",
   "execution_count": 11,
   "metadata": {},
   "outputs": [],
   "source": [
    "PORTFOLIO_CODE = 'JSJJ01'"
   ]
  },
  {
   "cell_type": "markdown",
   "metadata": {},
   "source": [
    "#### 组合名称"
   ]
  },
  {
   "cell_type": "code",
   "execution_count": 12,
   "metadata": {},
   "outputs": [],
   "source": [
    "PORTFOLIO_NAME = u'嘉实一键买全球策略'"
   ]
  },
  {
   "cell_type": "markdown",
   "metadata": {},
   "source": [
    "#### 基金公司对应TA代码"
   ]
  },
  {
   "cell_type": "code",
   "execution_count": 13,
   "metadata": {},
   "outputs": [],
   "source": [
    "COMP2TA = {u'嘉实基金': '07',\n",
    "           u'华夏基金': '03',\n",
    "           u'博时基金': '05',\n",
    "           u'鹏华基金': '06'}"
   ]
  },
  {
   "cell_type": "markdown",
   "metadata": {},
   "source": [
    "#### 基金产品列表"
   ]
  },
  {
   "cell_type": "code",
   "execution_count": 14,
   "metadata": {},
   "outputs": [],
   "source": [
    "# FUNDS = ['070037.OF', '160706.OF', '000008.OF', '070023.OF', '160716.OF', '000342.OF', '000341.OF', '000071.OF', '050025.OF', '000290.OF']\n",
    "# FUNDS = ['070002.OF', '070009.OF', '070012.OF', '070025.OF', '070026.OF'] # 测试1\n",
    "# FUNDS = ['070002.OF', '070012.OF', '070025.OF', '070026.OF', '070008.OF'] # 测试2\n",
    "FUNDS = ['070037.OF', '160706.OF', '000008.OF', '000071.OF', '050025.OF'] # 测试3"
   ]
  },
  {
   "cell_type": "markdown",
   "metadata": {},
   "source": [
    "#### 基金产品类型"
   ]
  },
  {
   "cell_type": "code",
   "execution_count": 15,
   "metadata": {},
   "outputs": [],
   "source": [
    "# FUND_TYPES = [2, 1, 1, 1, 1, 7, 7, 7, 7, 7]\n",
    "# FUND_TYPES = [1, 2, 7, 2, 2] # 测试1\n",
    "# FUND_TYPES = [1, 1, 7, 2, 2, 2] # 测试2\n",
    "FUND_TYPES = [2, 1, 1, 7, 7] # 测试3"
   ]
  },
  {
   "cell_type": "markdown",
   "metadata": {},
   "source": [
    "#### 基金公司名称"
   ]
  },
  {
   "cell_type": "code",
   "execution_count": 16,
   "metadata": {},
   "outputs": [],
   "source": [
    "# COMPS = [u'嘉实基金'] * 7 + [u'华夏基金', u'博时基金', u'鹏华基金']\n",
    "# COMPS = [u'嘉实基金'] * 5 # 测试1\n",
    "# COMPS = [u'嘉实基金'] * 5 # 测试2\n",
    "COMPS = [u'嘉实基金'] * 3 +  [u'华夏基金', u'博时基金'] # 测试3"
   ]
  },
  {
   "cell_type": "markdown",
   "metadata": {},
   "source": [
    "#### 基金产品名称"
   ]
  },
  {
   "cell_type": "code",
   "execution_count": 17,
   "metadata": {},
   "outputs": [],
   "source": [
    "FUND_NAMES = [w.wss(code, 'name_official').Data[0][0] for code in FUNDS]"
   ]
  },
  {
   "cell_type": "code",
   "execution_count": 18,
   "metadata": {},
   "outputs": [
    {
     "name": "stdout",
     "output_type": "stream",
     "text": [
      "嘉实纯债债券A\n",
      "嘉实沪深300指数(LOF)\n",
      "嘉实中证500ETF联接基金\n",
      "华夏恒生ETF联接\n",
      "博时标普500ETF联接(QDII)\n"
     ]
    }
   ],
   "source": [
    "for name in FUND_NAMES:\n",
    "    print name"
   ]
  },
  {
   "cell_type": "markdown",
   "metadata": {},
   "source": [
    "# 生成组合产品池文件"
   ]
  },
  {
   "cell_type": "code",
   "execution_count": 19,
   "metadata": {},
   "outputs": [],
   "source": [
    "lines = []\n",
    "for i, code in enumerate(FUNDS):\n",
    "    line = '|'.join([COMP2TA[COMPS[i]], COMPS[i], code.rstrip('.OF'), FUND_NAMES[i], str(FUND_TYPES[i])])\n",
    "    lines.append(line)"
   ]
  },
  {
   "cell_type": "code",
   "execution_count": 20,
   "metadata": {},
   "outputs": [],
   "source": [
    "fname = u'%s/COMB_PRD_00JSCL_%s.TXT'%(DIR, next_date.strftime('%Y%m%d'))\n",
    "with open(fname, 'w') as f:\n",
    "    f.write('\\n'.join(lines).encode('GBK'))\n",
    "fname = u'%s/COMB_PRD_00JSCL_%s.TXT.OK'%(DIR, next_date.strftime('%Y%m%d'))\n",
    "with open(fname, 'w') as f:\n",
    "    f.write('')"
   ]
  },
  {
   "cell_type": "code",
   "execution_count": 21,
   "metadata": {},
   "outputs": [],
   "source": [
    "# fname = u'%s/COMB_PRD_00JSCL_%s.TXT'%(SDIR, next_date.strftime('%Y%m%d'))\n",
    "# with open(fname, 'w') as f:\n",
    "#     f.write('\\n'.join(lines).encode('GBK'))\n",
    "# fname = u'%s/COMB_PRD_00JSCL_%s.TXT.OK'%(SDIR, next_date.strftime('%Y%m%d'))\n",
    "# with open(fname, 'w') as f:\n",
    "#     f.write('')"
   ]
  },
  {
   "cell_type": "markdown",
   "metadata": {},
   "source": [
    "# 生成组合信息文件"
   ]
  },
  {
   "cell_type": "code",
   "execution_count": 22,
   "metadata": {},
   "outputs": [],
   "source": [
    "# wdf = pd.read_excel(u'../data/产品历史占比.xlsx', skiprows=1, index_col=0, sheet_name='Sheet2')\n",
    "# wdf = pd.read_excel(u'../data/产品历史占比.xlsx', skiprows=1, index_col=0, sheet_name='Sheet1') # 测试1\n",
    "# wdf = pd.read_excel(u'../data/产品历史占比.xlsx', skiprows=1, index_col=0, sheet_name='Sheet3') # 测试2\n",
    "wdf = pd.read_excel(u'../data/产品历史占比.xlsx', skiprows=1, index_col=0, sheet_name='Sheet4') # 测试3"
   ]
  },
  {
   "cell_type": "code",
   "execution_count": 23,
   "metadata": {},
   "outputs": [],
   "source": [
    "wdf = wdf[wdf.index >= '2016-11-18'].dropna() # 最近一年"
   ]
  },
  {
   "cell_type": "code",
   "execution_count": 24,
   "metadata": {},
   "outputs": [
    {
     "data": {
      "text/html": [
       "<div>\n",
       "<style scoped>\n",
       "    .dataframe tbody tr th:only-of-type {\n",
       "        vertical-align: middle;\n",
       "    }\n",
       "\n",
       "    .dataframe tbody tr th {\n",
       "        vertical-align: top;\n",
       "    }\n",
       "\n",
       "    .dataframe thead th {\n",
       "        text-align: right;\n",
       "    }\n",
       "</style>\n",
       "<table border=\"1\" class=\"dataframe\">\n",
       "  <thead>\n",
       "    <tr style=\"text-align: right;\">\n",
       "      <th></th>\n",
       "      <th>070037</th>\n",
       "      <th>160706</th>\n",
       "      <th>000008</th>\n",
       "      <th>000071</th>\n",
       "      <th>050025</th>\n",
       "    </tr>\n",
       "  </thead>\n",
       "  <tbody>\n",
       "    <tr>\n",
       "      <th>2019-11-15</th>\n",
       "      <td>0.2</td>\n",
       "      <td>0.175439</td>\n",
       "      <td>0.175439</td>\n",
       "      <td>0.224561</td>\n",
       "      <td>0.224561</td>\n",
       "    </tr>\n",
       "    <tr>\n",
       "      <th>2019-11-18</th>\n",
       "      <td>0.2</td>\n",
       "      <td>0.175439</td>\n",
       "      <td>0.175439</td>\n",
       "      <td>0.224561</td>\n",
       "      <td>0.224561</td>\n",
       "    </tr>\n",
       "    <tr>\n",
       "      <th>2019-11-19</th>\n",
       "      <td>0.2</td>\n",
       "      <td>0.175439</td>\n",
       "      <td>0.175439</td>\n",
       "      <td>0.224561</td>\n",
       "      <td>0.224561</td>\n",
       "    </tr>\n",
       "    <tr>\n",
       "      <th>2019-11-20</th>\n",
       "      <td>0.2</td>\n",
       "      <td>0.175439</td>\n",
       "      <td>0.175439</td>\n",
       "      <td>0.224561</td>\n",
       "      <td>0.224561</td>\n",
       "    </tr>\n",
       "    <tr>\n",
       "      <th>2019-11-21</th>\n",
       "      <td>0.2</td>\n",
       "      <td>0.175439</td>\n",
       "      <td>0.175439</td>\n",
       "      <td>0.224561</td>\n",
       "      <td>0.224561</td>\n",
       "    </tr>\n",
       "  </tbody>\n",
       "</table>\n",
       "</div>"
      ],
      "text/plain": [
       "            070037    160706    000008    000071    050025\n",
       "2019-11-15     0.2  0.175439  0.175439  0.224561  0.224561\n",
       "2019-11-18     0.2  0.175439  0.175439  0.224561  0.224561\n",
       "2019-11-19     0.2  0.175439  0.175439  0.224561  0.224561\n",
       "2019-11-20     0.2  0.175439  0.175439  0.224561  0.224561\n",
       "2019-11-21     0.2  0.175439  0.175439  0.224561  0.224561"
      ]
     },
     "execution_count": 24,
     "metadata": {},
     "output_type": "execute_result"
    }
   ],
   "source": [
    "wdf.tail()"
   ]
  },
  {
   "cell_type": "code",
   "execution_count": 27,
   "metadata": {},
   "outputs": [],
   "source": [
    "elements = []\n",
    "elements.append(PORTFOLIO_CODE)                                             # 组合编号\n",
    "elements.append(PORTFOLIO_NAME)                                             # 组合名称\n",
    "elements.append(','.join([COMP2TA[c] for c in COMPS]))                      # TA代码\n",
    "elements.append(','.join(COMPS))                                            # TA名称\n",
    "elements.append(','.join([code.rstrip('.OF') for code in FUNDS]))           # 产品代码\n",
    "elements.append(','.join(FUND_NAMES))                                       # 产品名称\n",
    "elements.append(','.join([str(0)] * len(FUNDS)))                            # 产品属性\n",
    "elements.append(','.join(['%.8f'%(weight) for weight in wdf.iloc[-1]]))     # 产品占比\n",
    "elements.append('720-1800')                                                 # 投资期限\n",
    "elements.append('4')                                                        # 风险承受能力\n",
    "elements.append(today.strftime('%Y%m%d'))                                   # 组合调整日期\n",
    "elements.append(' ')                                                        # 组合调整说明\n",
    "elements.append(' ')                                                        # 投资金额\n",
    "elements.append(' ')                                                        # 策略方生效日期\n",
    "elements.append(' ')                                                        # 年龄\n",
    "elements.append('000001')                                                   # 策略维度类别\n",
    "elements.append(' ')                                                        # 组合区间信息传\n",
    "elements.append(' ')                                                        # 置信区间\n",
    "elements.append(' ')                                                        # 组合穿透产品底层后真实资产类型\n",
    "elements.append(' ')                                                        # 组合穿透产品底层后真实资产类型占比\n",
    "elements.append(' ')                                                        # 组合管理人代码\n",
    "elements.append(' ')                                                        # 组合管理人名称\n",
    "elements.append(' ')                                                        # 策略方案\n",
    "elements.append(' ')                                                        # 策略类型代码\n",
    "elements.append(' ')                                                        # 策略类型名称\n",
    "elements.append(' ')                                                        # 组合策略描述\n",
    "elements.append(' ')                                                        # 组合风险描述\n",
    "elements.append(' ')                                                        # 备用字段12\n",
    "elements.append(' ')                                                        # 备用字段13"
   ]
  },
  {
   "cell_type": "code",
   "execution_count": 28,
   "metadata": {},
   "outputs": [],
   "source": [
    "fname = u'%s/COMB_INFOR_00JSCL_%s.TXT'%(DIR, next_date.strftime('%Y%m%d'))\n",
    "with open(fname, 'w') as f:\n",
    "    f.write('|'.join(elements).encode('GBK'))\n",
    "fname = u'%s/COMB_INFOR_00JSCL_%s.TXT.OK'%(DIR, next_date.strftime('%Y%m%d'))\n",
    "with open(fname, 'w') as f:\n",
    "    f.write('')"
   ]
  },
  {
   "cell_type": "code",
   "execution_count": 29,
   "metadata": {},
   "outputs": [],
   "source": [
    "# fname = u'%s/COMB_INFOR_00JSCL_%s.TXT'%(SDIR, next_date.strftime('%Y%m%d'))\n",
    "# with open(fname, 'w') as f:\n",
    "#     f.write('|'.join(elements).encode('GBK'))\n",
    "# fname = u'%s/COMB_INFOR_00JSCL_%s.TXT.OK'%(SDIR, next_date.strftime('%Y%m%d'))\n",
    "# with open(fname, 'w') as f:\n",
    "#     f.write('')"
   ]
  },
  {
   "cell_type": "markdown",
   "metadata": {},
   "source": [
    "# 生成组合行情文件"
   ]
  },
  {
   "cell_type": "markdown",
   "metadata": {},
   "source": [
    "## 获取基金历史行情"
   ]
  },
  {
   "cell_type": "code",
   "execution_count": 30,
   "metadata": {},
   "outputs": [],
   "source": [
    "start_date, end_date = wdf.index[0], today - datetime.timedelta(2)"
   ]
  },
  {
   "cell_type": "code",
   "execution_count": 31,
   "metadata": {},
   "outputs": [],
   "source": [
    "data = w.wsd(FUNDS, 'nav', start_date, end_date)"
   ]
  },
  {
   "cell_type": "code",
   "execution_count": 32,
   "metadata": {},
   "outputs": [],
   "source": [
    "df = pd.DataFrame(np.array(data.Data).T, index=data.Times, columns=data.Codes)\n",
    "df.index = pd.to_datetime(df.index)"
   ]
  },
  {
   "cell_type": "code",
   "execution_count": 33,
   "metadata": {},
   "outputs": [],
   "source": [
    "rdf = df.pct_change()"
   ]
  },
  {
   "cell_type": "code",
   "execution_count": 34,
   "metadata": {},
   "outputs": [
    {
     "data": {
      "text/html": [
       "<div>\n",
       "<style scoped>\n",
       "    .dataframe tbody tr th:only-of-type {\n",
       "        vertical-align: middle;\n",
       "    }\n",
       "\n",
       "    .dataframe tbody tr th {\n",
       "        vertical-align: top;\n",
       "    }\n",
       "\n",
       "    .dataframe thead th {\n",
       "        text-align: right;\n",
       "    }\n",
       "</style>\n",
       "<table border=\"1\" class=\"dataframe\">\n",
       "  <thead>\n",
       "    <tr style=\"text-align: right;\">\n",
       "      <th></th>\n",
       "      <th>070037.OF</th>\n",
       "      <th>160706.OF</th>\n",
       "      <th>000008.OF</th>\n",
       "      <th>000071.OF</th>\n",
       "      <th>050025.OF</th>\n",
       "    </tr>\n",
       "  </thead>\n",
       "  <tbody>\n",
       "    <tr>\n",
       "      <th>2019-11-13</th>\n",
       "      <td>1.155</td>\n",
       "      <td>1.1320</td>\n",
       "      <td>1.3216</td>\n",
       "      <td>1.4831</td>\n",
       "      <td>2.4466</td>\n",
       "    </tr>\n",
       "    <tr>\n",
       "      <th>2019-11-14</th>\n",
       "      <td>1.155</td>\n",
       "      <td>1.1336</td>\n",
       "      <td>1.3308</td>\n",
       "      <td>1.4712</td>\n",
       "      <td>2.4508</td>\n",
       "    </tr>\n",
       "    <tr>\n",
       "      <th>2019-11-15</th>\n",
       "      <td>1.155</td>\n",
       "      <td>1.1258</td>\n",
       "      <td>1.3201</td>\n",
       "      <td>1.4711</td>\n",
       "      <td>2.4696</td>\n",
       "    </tr>\n",
       "    <tr>\n",
       "      <th>2019-11-18</th>\n",
       "      <td>1.156</td>\n",
       "      <td>1.1343</td>\n",
       "      <td>1.3266</td>\n",
       "      <td>1.4894</td>\n",
       "      <td>2.4690</td>\n",
       "    </tr>\n",
       "    <tr>\n",
       "      <th>2019-11-19</th>\n",
       "      <td>1.156</td>\n",
       "      <td>1.1451</td>\n",
       "      <td>1.3478</td>\n",
       "      <td>1.5110</td>\n",
       "      <td>2.4674</td>\n",
       "    </tr>\n",
       "  </tbody>\n",
       "</table>\n",
       "</div>"
      ],
      "text/plain": [
       "            070037.OF  160706.OF  000008.OF  000071.OF  050025.OF\n",
       "2019-11-13      1.155     1.1320     1.3216     1.4831     2.4466\n",
       "2019-11-14      1.155     1.1336     1.3308     1.4712     2.4508\n",
       "2019-11-15      1.155     1.1258     1.3201     1.4711     2.4696\n",
       "2019-11-18      1.156     1.1343     1.3266     1.4894     2.4690\n",
       "2019-11-19      1.156     1.1451     1.3478     1.5110     2.4674"
      ]
     },
     "execution_count": 34,
     "metadata": {},
     "output_type": "execute_result"
    }
   ],
   "source": [
    "df.tail()"
   ]
  },
  {
   "cell_type": "code",
   "execution_count": 35,
   "metadata": {},
   "outputs": [],
   "source": [
    "wdf.columns = rdf.columns"
   ]
  },
  {
   "cell_type": "code",
   "execution_count": 36,
   "metadata": {},
   "outputs": [
    {
     "name": "stdout",
     "output_type": "stream",
     "text": [
      "Cut\n"
     ]
    }
   ],
   "source": [
    "if rdf.shape[0] > wdf.shape[0]: # 补充完整\n",
    "    print('Append')\n",
    "    app_df = pd.DataFrame(np.nan, columns=wdf.columns, index=rdf[rdf.index > wdf.index[-1]].index)\n",
    "    wdf = wdf.append(app_df)\n",
    "    wdf = wdf.fillna(method='ffill')\n",
    "elif rdf.shape[0] < wdf.shape[0]:\n",
    "    print('Cut')\n",
    "    wdf = wdf.loc[rdf.index]"
   ]
  },
  {
   "cell_type": "code",
   "execution_count": 37,
   "metadata": {},
   "outputs": [],
   "source": [
    "assert(rdf.shape == wdf.shape)"
   ]
  },
  {
   "cell_type": "markdown",
   "metadata": {},
   "source": [
    "## 测算组合收益率"
   ]
  },
  {
   "cell_type": "code",
   "execution_count": 38,
   "metadata": {},
   "outputs": [],
   "source": [
    "portfolio_ret = (wdf * rdf).sum(axis=1)"
   ]
  },
  {
   "cell_type": "code",
   "execution_count": 39,
   "metadata": {},
   "outputs": [
    {
     "data": {
      "text/plain": [
       "2019-11-13   -0.003930\n",
       "2019-11-14    0.000053\n",
       "2019-11-15   -0.000910\n",
       "2019-11-18    0.005101\n",
       "2019-11-19    0.007585\n",
       "dtype: float64"
      ]
     },
     "execution_count": 39,
     "metadata": {},
     "output_type": "execute_result"
    }
   ],
   "source": [
    "portfolio_ret.tail()"
   ]
  },
  {
   "cell_type": "markdown",
   "metadata": {},
   "source": [
    "## 业绩基准"
   ]
  },
  {
   "cell_type": "code",
   "execution_count": 53,
   "metadata": {},
   "outputs": [],
   "source": [
    "bench_index = '000300.SH,HSI.HI,SPX.GI,H11001.CSI'\n",
    "data = w.wsd(bench_index, 'pct_chg', portfolio_ret.index[0], portfolio_ret.index[-1])"
   ]
  },
  {
   "cell_type": "code",
   "execution_count": 54,
   "metadata": {},
   "outputs": [],
   "source": [
    "bench = pd.DataFrame(np.array(data.Data).T / 100, index=data.Times, columns=bench_index.split(','))"
   ]
  },
  {
   "cell_type": "code",
   "execution_count": 55,
   "metadata": {},
   "outputs": [],
   "source": [
    "bench = bench.fillna(0)"
   ]
  },
  {
   "cell_type": "code",
   "execution_count": 56,
   "metadata": {},
   "outputs": [],
   "source": [
    "bench_ret = bench['000300.SH'] * 0.3 + bench['HSI.HI'] * 0.3 + bench['SPX.GI'] * 0.3 + bench['H11001.CSI'] * 0.1"
   ]
  },
  {
   "cell_type": "code",
   "execution_count": 57,
   "metadata": {},
   "outputs": [],
   "source": [
    "total_invest = 10000\n",
    "mu, sigma = empyrical.annual_return(portfolio_ret), empyrical.annual_volatility(portfolio_ret)\n",
    "rho = 1.65\n",
    "confidence = u'投资%d元，持有一年，模拟历史收益：%d元，90%%的概率下亏损不超过%d元'%\\\n",
    "            (total_invest, mu * total_invest, abs((mu - sigma) * rho * total_invest))"
   ]
  },
  {
   "cell_type": "code",
   "execution_count": 58,
   "metadata": {},
   "outputs": [],
   "source": [
    "elements = []\n",
    "elements.append(today.strftime(\"%Y%m%d\"))                                                      # 发布日期\n",
    "elements.append(PORTFOLIO_CODE)                                                                # 组合编号\n",
    "elements.append(PORTFOLIO_NAME)                                                                # 组合名称\n",
    "elements.append('%.8f'%(empyrical.annual_return(portfolio_ret)))                               # 组合年化收益率\n",
    "elements.append('%.8f'%(empyrical.annual_volatility(portfolio_ret)))                           # 组合年化波动率\n",
    "elements.append('%.8f'%(-empyrical.max_drawdown(portfolio_ret)))                               # 组合最大回撤率\n",
    "elements.append('%.8f'%(sharpe_ratio(empyrical.annual_return(portfolio_ret), \\\n",
    "                                     empyrical.annual_volatility(portfolio_ret), risk_free)))  # 夏普比率\n",
    "elements.append('%.8f'%(empyrical.cum_returns_final(bench_ret)))                               # 组合业绩基准收益率\n",
    "elements.append('%.8f'%(1 + empyrical.cum_returns_final(portfolio_ret)))                       # 组合净值\n",
    "elements.append('%.8f'%(1 + empyrical.cum_returns_final(portfolio_ret)))                       # 组合累计净值\n",
    "elements.append(' ')                                                                           # 组合规模\n",
    "elements.append('%.8f'%(portfolio_ret[-1]))                                                    # 组合日涨幅\n",
    "elements.append('%.8f'%(empyrical.cum_returns_final(portfolio_ret)))                           # 组合累计收益率\n",
    "elements.append('%.8f'%(empyrical.cum_returns_final(bench_ret)))                               # 业绩基准累计收益率\n",
    "elements.append('%s'%(confidence))                                                             # 置信区间\n",
    "elements.append('0,b')                                                                         # 业绩基准指数类型\n",
    "elements.append('0.9,0.1')                                                                     # 业绩基准指数类型占比\n",
    "elements.append(' ')                                                                           # 备用字段2\n",
    "elements.append(' ')                                                                           # 备用字段3\n",
    "elements.append(' ')                                                                           # 备用字段4\n",
    "elements.append(' ')                                                                           # 备用字段5\n",
    "elements.append('')                                                                            # 结束符"
   ]
  },
  {
   "cell_type": "code",
   "execution_count": 59,
   "metadata": {},
   "outputs": [],
   "source": [
    "bench_ret[0] = 0"
   ]
  },
  {
   "cell_type": "code",
   "execution_count": 60,
   "metadata": {},
   "outputs": [
    {
     "data": {
      "text/plain": [
       "0.23637104135631093"
      ]
     },
     "execution_count": 60,
     "metadata": {},
     "output_type": "execute_result"
    }
   ],
   "source": [
    "empyrical.cum_returns_final(portfolio_ret)"
   ]
  },
  {
   "cell_type": "code",
   "execution_count": 61,
   "metadata": {},
   "outputs": [],
   "source": [
    "fname = u'%s/COMB_MARKET_00JSCL_%s.TXT'%(DIR, next_date.strftime('%Y%m%d'))\n",
    "with open(fname, 'w') as f:\n",
    "    f.write('|'.join(elements).encode('GBK'))\n",
    "fname = u'%s/COMB_MARKET_00JSCL_%s.TXT.OK'%(DIR, next_date.strftime('%Y%m%d'))\n",
    "with open(fname, 'w') as f:\n",
    "    f.write('')"
   ]
  },
  {
   "cell_type": "code",
   "execution_count": 62,
   "metadata": {},
   "outputs": [],
   "source": [
    "# fname = u'%s/COMB_MARKET_00JSCL_%s.TXT'%(SDIR, next_date.strftime('%Y%m%d'))\n",
    "# with open(fname, 'w') as f:\n",
    "#     f.write('|'.join(elements).encode('GBK'))\n",
    "# fname = u'%s/COMB_MARKET_00JSCL_%s.TXT.OK'%(SDIR, next_date.strftime('%Y%m%d'))\n",
    "# with open(fname, 'w') as f:\n",
    "#     f.write('')"
   ]
  },
  {
   "cell_type": "code",
   "execution_count": 63,
   "metadata": {},
   "outputs": [
    {
     "data": {
      "image/png": "[encoded data removed]",
      "text/plain": [
       "<Figure size 1152x648 with 1 Axes>"
      ]
     },
     "metadata": {},
     "output_type": "display_data"
    }
   ],
   "source": [
    "fig, ax = plt.subplots(figsize=(16, 9))\n",
    "\n",
    "lns1 = ax.plot((1 + portfolio_ret).cumprod(), color='blue', label=u'组合')\n",
    "lns2 = ax.plot((1 + bench_ret).cumprod(), color='red', label=u'基准')\n",
    "\n",
    "lns = lns1 + lns2\n",
    "labs = [l.get_label() for l in lns]\n",
    "ax.legend(lns, labs, frameon=False, fontsize=15, loc='upper center', ncol=4, bbox_to_anchor=(0.5, 1.0))\n",
    "\n",
    "ax.xaxis.set_tick_params(labelsize=15)\n",
    "ax.yaxis.set_tick_params(labelsize=15)\n",
    "vals = ax.get_yticks()\n",
    "ax.set_yticklabels(['{:2.2f}'.format(x) for x in vals])\n",
    "\n",
    "_ = ax.set_title(u'阿尔法策略历史模拟业绩', fontsize=25, y=1.02)"
   ]
  },
  {
   "cell_type": "code",
   "execution_count": 64,
   "metadata": {},
   "outputs": [],
   "source": [
    "odf = pd.DataFrame({u'组合': ((1 + portfolio_ret).cumprod() - 1),\n",
    "                    u'基准': ((1 + bench_ret).cumprod() - 1)})"
   ]
  },
  {
   "cell_type": "code",
   "execution_count": 65,
   "metadata": {},
   "outputs": [],
   "source": [
    "odf.to_excel(u'../data/组合历史收益率.xlsx')"
   ]
  },
  {
   "cell_type": "code",
   "execution_count": null,
   "metadata": {},
   "outputs": [],
   "source": []
  }
 ],
 "metadata": {
  "kernelspec": {
   "display_name": "Python 2",
   "language": "python",
   "name": "python2"
  },
  "language_info": {
   "codemirror_mode": {
    "name": "ipython",
    "version": 2
   },
   "file_extension": ".py",
   "mimetype": "text/x-python",
   "name": "python",
   "nbconvert_exporter": "python",
   "pygments_lexer": "ipython2",
   "version": "2.7.14"
  }
 },
 "nbformat": 4,
 "nbformat_minor": 4
}
