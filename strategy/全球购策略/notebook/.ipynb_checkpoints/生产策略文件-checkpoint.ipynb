{
 "cells": [
  {
   "cell_type": "code",
   "execution_count": 102,
   "metadata": {},
   "outputs": [],
   "source": [
    "import datetime\n",
    "import pandas as pd\n",
    "import numpy as np\n",
    "import empyrical\n",
    "import matplotlib.pyplot as plt\n",
    "from WindPy import w\n",
    "import os\n",
    "%matplotlib inline"
   ]
  },
  {
   "cell_type": "code",
   "execution_count": 103,
   "metadata": {},
   "outputs": [
    {
     "data": {
      "text/plain": [
       ".ErrorCode=0\n",
       ".Data=[Already conntected!]"
      ]
     },
     "execution_count": 103,
     "metadata": {},
     "output_type": "execute_result"
    }
   ],
   "source": [
    "w.start()"
   ]
  },
  {
   "cell_type": "markdown",
   "metadata": {},
   "source": [
    "# 定义常量"
   ]
  },
  {
   "cell_type": "code",
   "execution_count": 104,
   "metadata": {},
   "outputs": [],
   "source": [
    "risk_free = 0.015 # 1年期定期存款利率"
   ]
  },
  {
   "cell_type": "code",
   "execution_count": 105,
   "metadata": {},
   "outputs": [],
   "source": [
    "def sharpe_ratio(an_ret, an_vol, risk_free):\n",
    "    return (an_ret - risk_free) / an_vol"
   ]
  },
  {
   "cell_type": "code",
   "execution_count": 106,
   "metadata": {},
   "outputs": [],
   "source": [
    "today = datetime.datetime.today()"
   ]
  },
  {
   "cell_type": "code",
   "execution_count": 107,
   "metadata": {},
   "outputs": [],
   "source": [
    "DIR = u'D:/Data/江苏银行/%s'%(today.strftime('%Y%m%d'))\n",
    "if not os.path.exists(DIR):\n",
    "    os.mkdir(DIR)"
   ]
  },
  {
   "cell_type": "markdown",
   "metadata": {},
   "source": [
    "#### 组合代码"
   ]
  },
  {
   "cell_type": "code",
   "execution_count": 108,
   "metadata": {},
   "outputs": [],
   "source": [
    "PORTFOLIO_CODE = 'JSJJ01'"
   ]
  },
  {
   "cell_type": "markdown",
   "metadata": {},
   "source": [
    "#### 组合名称"
   ]
  },
  {
   "cell_type": "code",
   "execution_count": 109,
   "metadata": {},
   "outputs": [],
   "source": [
    "PORTFOLIO_NAME = u'一键买全球'"
   ]
  },
  {
   "cell_type": "markdown",
   "metadata": {},
   "source": [
    "#### 基金公司对应TA代码"
   ]
  },
  {
   "cell_type": "code",
   "execution_count": 110,
   "metadata": {},
   "outputs": [],
   "source": [
    "COMP2TA = {u'嘉实基金': '07',\n",
    "           u'华夏基金': '03',\n",
    "           u'博时基金': '05',\n",
    "           u'鹏华基金': '06'}"
   ]
  },
  {
   "cell_type": "markdown",
   "metadata": {},
   "source": [
    "#### 基金产品列表"
   ]
  },
  {
   "cell_type": "code",
   "execution_count": 111,
   "metadata": {},
   "outputs": [],
   "source": [
    "FUNDS = ['070037.OF', '160706.OF', '000008.OF', '070023.OF', '160716.OF', '000342.OF', '000341.OF', '000071.OF', '050025.OF', '000290.OF']\n",
    "# FUNDS = ['070002.OF', '070009.OF', '070012.OF', '070025.OF', '070026.OF'] # 测试"
   ]
  },
  {
   "cell_type": "markdown",
   "metadata": {},
   "source": [
    "#### 基金产品类型"
   ]
  },
  {
   "cell_type": "code",
   "execution_count": 112,
   "metadata": {},
   "outputs": [],
   "source": [
    "FUND_TYPES = [2, 1, 1, 1, 1, 7, 7, 7, 7, 7]\n",
    "# FUND_TYPES = [1, 2, 7, 2, 2] # 测试"
   ]
  },
  {
   "cell_type": "markdown",
   "metadata": {},
   "source": [
    "#### 基金公司名称"
   ]
  },
  {
   "cell_type": "code",
   "execution_count": 113,
   "metadata": {},
   "outputs": [],
   "source": [
    "COMPS = [u'嘉实基金'] * 7 + [u'华夏基金', u'博时基金', u'鹏华基金']\n",
    "# COMPS = [u'嘉实基金'] * 5 # 测试"
   ]
  },
  {
   "cell_type": "markdown",
   "metadata": {},
   "source": [
    "#### 基金产品名称"
   ]
  },
  {
   "cell_type": "code",
   "execution_count": 114,
   "metadata": {},
   "outputs": [],
   "source": [
    "FUND_NAMES = [w.wss(code, 'name_official').Data[0][0] for code in FUNDS]"
   ]
  },
  {
   "cell_type": "code",
   "execution_count": 115,
   "metadata": {},
   "outputs": [
    {
     "name": "stdout",
     "output_type": "stream",
     "text": [
      "嘉实纯债债券A\n",
      "嘉实沪深300指数(LOF)\n",
      "嘉实中证500ETF联接基金\n",
      "嘉实深证基本面120联接\n",
      "嘉实基本面50指数(LOF)\n",
      "嘉实新兴市场A1\n",
      "嘉实新兴市场C2\n",
      "华夏恒生ETF联接\n",
      "博时标普500ETF联接(QDII)\n",
      "鹏华全球高收益债(QDII)\n"
     ]
    }
   ],
   "source": [
    "for name in FUND_NAMES:\n",
    "    print name"
   ]
  },
  {
   "cell_type": "markdown",
   "metadata": {},
   "source": [
    "# 生成组合产品池文件"
   ]
  },
  {
   "cell_type": "code",
   "execution_count": 116,
   "metadata": {},
   "outputs": [],
   "source": [
    "lines = []\n",
    "for i, code in enumerate(FUNDS):\n",
    "    line = '|'.join([COMP2TA[COMPS[i]], COMPS[i], code.rstrip('.OF'), FUND_NAMES[i], str(FUND_TYPES[i])])\n",
    "    lines.append(line)"
   ]
  },
  {
   "cell_type": "code",
   "execution_count": 117,
   "metadata": {},
   "outputs": [],
   "source": [
    "fname = u'%s/COMB_PRD_00JSCL_%s.TXT'%(DIR, today.strftime('%Y%m%d'))\n",
    "with open(fname, 'w') as f:\n",
    "    f.write('\\n'.join(lines).encode('GBK'))"
   ]
  },
  {
   "cell_type": "markdown",
   "metadata": {},
   "source": [
    "# 生成组合信息文件"
   ]
  },
  {
   "cell_type": "code",
   "execution_count": 120,
   "metadata": {},
   "outputs": [],
   "source": [
    "# wdf = pd.read_excel(u'../data/产品历史占比.xlsx', skiprows=1, index_col=0, sheet_name='Sheet2')\n",
    "wdf = pd.read_excel(u'../data/产品历史占比.xlsx', skiprows=1, index_col=0, sheet_name='Sheet2')"
   ]
  },
  {
   "cell_type": "code",
   "execution_count": 121,
   "metadata": {},
   "outputs": [
    {
     "data": {
      "text/html": [
       "<div>\n",
       "<style scoped>\n",
       "    .dataframe tbody tr th:only-of-type {\n",
       "        vertical-align: middle;\n",
       "    }\n",
       "\n",
       "    .dataframe tbody tr th {\n",
       "        vertical-align: top;\n",
       "    }\n",
       "\n",
       "    .dataframe thead th {\n",
       "        text-align: right;\n",
       "    }\n",
       "</style>\n",
       "<table border=\"1\" class=\"dataframe\">\n",
       "  <thead>\n",
       "    <tr style=\"text-align: right;\">\n",
       "      <th></th>\n",
       "      <th>070037</th>\n",
       "      <th>160706</th>\n",
       "      <th>000008</th>\n",
       "      <th>070023</th>\n",
       "      <th>160716</th>\n",
       "      <th>000342</th>\n",
       "      <th>000341</th>\n",
       "      <th>000071</th>\n",
       "      <th>050025</th>\n",
       "      <th>000290</th>\n",
       "    </tr>\n",
       "  </thead>\n",
       "  <tbody>\n",
       "    <tr>\n",
       "      <th>2019-09-11</th>\n",
       "      <td>0.05</td>\n",
       "      <td>0.075758</td>\n",
       "      <td>0.075758</td>\n",
       "      <td>0.075758</td>\n",
       "      <td>0.075758</td>\n",
       "      <td>0.05</td>\n",
       "      <td>0.05</td>\n",
       "      <td>0.30303</td>\n",
       "      <td>0.193939</td>\n",
       "      <td>0.05</td>\n",
       "    </tr>\n",
       "    <tr>\n",
       "      <th>2019-09-12</th>\n",
       "      <td>0.05</td>\n",
       "      <td>0.075758</td>\n",
       "      <td>0.075758</td>\n",
       "      <td>0.075758</td>\n",
       "      <td>0.075758</td>\n",
       "      <td>0.05</td>\n",
       "      <td>0.05</td>\n",
       "      <td>0.30303</td>\n",
       "      <td>0.193939</td>\n",
       "      <td>0.05</td>\n",
       "    </tr>\n",
       "    <tr>\n",
       "      <th>2019-09-16</th>\n",
       "      <td>0.05</td>\n",
       "      <td>0.075758</td>\n",
       "      <td>0.075758</td>\n",
       "      <td>0.075758</td>\n",
       "      <td>0.075758</td>\n",
       "      <td>0.05</td>\n",
       "      <td>0.05</td>\n",
       "      <td>0.30303</td>\n",
       "      <td>0.193939</td>\n",
       "      <td>0.05</td>\n",
       "    </tr>\n",
       "    <tr>\n",
       "      <th>2019-09-17</th>\n",
       "      <td>0.05</td>\n",
       "      <td>0.075758</td>\n",
       "      <td>0.075758</td>\n",
       "      <td>0.075758</td>\n",
       "      <td>0.075758</td>\n",
       "      <td>0.05</td>\n",
       "      <td>0.05</td>\n",
       "      <td>0.30303</td>\n",
       "      <td>0.193939</td>\n",
       "      <td>0.05</td>\n",
       "    </tr>\n",
       "    <tr>\n",
       "      <th>2019-09-18</th>\n",
       "      <td>0.05</td>\n",
       "      <td>0.075758</td>\n",
       "      <td>0.075758</td>\n",
       "      <td>0.075758</td>\n",
       "      <td>0.075758</td>\n",
       "      <td>0.05</td>\n",
       "      <td>0.05</td>\n",
       "      <td>0.30303</td>\n",
       "      <td>0.193939</td>\n",
       "      <td>0.05</td>\n",
       "    </tr>\n",
       "  </tbody>\n",
       "</table>\n",
       "</div>"
      ],
      "text/plain": [
       "            070037    160706    000008    070023    160716  000342  000341  \\\n",
       "2019-09-11    0.05  0.075758  0.075758  0.075758  0.075758    0.05    0.05   \n",
       "2019-09-12    0.05  0.075758  0.075758  0.075758  0.075758    0.05    0.05   \n",
       "2019-09-16    0.05  0.075758  0.075758  0.075758  0.075758    0.05    0.05   \n",
       "2019-09-17    0.05  0.075758  0.075758  0.075758  0.075758    0.05    0.05   \n",
       "2019-09-18    0.05  0.075758  0.075758  0.075758  0.075758    0.05    0.05   \n",
       "\n",
       "             000071    050025  000290  \n",
       "2019-09-11  0.30303  0.193939    0.05  \n",
       "2019-09-12  0.30303  0.193939    0.05  \n",
       "2019-09-16  0.30303  0.193939    0.05  \n",
       "2019-09-17  0.30303  0.193939    0.05  \n",
       "2019-09-18  0.30303  0.193939    0.05  "
      ]
     },
     "execution_count": 121,
     "metadata": {},
     "output_type": "execute_result"
    }
   ],
   "source": [
    "wdf.tail()"
   ]
  },
  {
   "cell_type": "code",
   "execution_count": 122,
   "metadata": {},
   "outputs": [],
   "source": [
    "elements = []\n",
    "elements.append(PORTFOLIO_CODE)                                             # 组合编号\n",
    "elements.append(PORTFOLIO_NAME)                                             # 组合名称\n",
    "elements.append(','.join([COMP2TA[c] for c in COMPS]))                      # TA代码\n",
    "elements.append(','.join(COMPS))                                            # TA名称\n",
    "elements.append(','.join([code.rstrip('.OF') for code in FUNDS]))           # 产品代码\n",
    "elements.append(','.join(FUND_NAMES))                                       # 产品名称\n",
    "elements.append(','.join([str(0)] * len(FUNDS)))                            # 产品属性\n",
    "elements.append(','.join(['%.8f'%(weight) for weight in wdf.iloc[-1]]))     # 产品占比\n",
    "elements.append('720-1800')                                                 # 投资期限\n",
    "elements.append('3')                                                        # 风险承受能力\n",
    "elements.append(today.strftime('%Y%m%d'))                                   # 组合调整日期\n",
    "elements.append(' ')                                                        # 组合调整说明\n",
    "elements.append(' ')                                                        # 投资金额\n",
    "elements.append(' ')                                                        # 策略方生效日期\n",
    "elements.append(' ')                                                        # 年龄\n",
    "elements.append('000001')                                                   # 策略维度类别\n",
    "elements.append(' ')                                                        # 组合区间信息传\n",
    "elements.append(' ')                                                        # 置信区间\n",
    "elements.append(' ')                                                        # 组合穿透产品底层后真实资产类型\n",
    "elements.append(' ')                                                        # 组合穿透产品底层后真实资产类型占比\n",
    "elements.append(' ')                                                        # 组合管理人代码\n",
    "elements.append(' ')                                                        # 组合管理人名称\n",
    "elements.append(' ')                                                        # 策略方案\n",
    "elements.append(' ')                                                        # 策略类型代码\n",
    "elements.append(' ')                                                        # 策略类型名称\n",
    "elements.append(' ')                                                        # 组合策略描述\n",
    "elements.append(' ')                                                        # 组合风险描述\n",
    "elements.append(' ')                                                        # 备用字段12\n",
    "elements.append(' ')                                                        # 备用字段13"
   ]
  },
  {
   "cell_type": "code",
   "execution_count": 123,
   "metadata": {},
   "outputs": [],
   "source": [
    "fname = u'%s/COMB_INFOR_00JSCL_%s.TXT'%(DIR, today.strftime('%Y%m%d'))\n",
    "with open(fname, 'w') as f:\n",
    "    f.write('|'.join(elements).encode('GBK'))"
   ]
  },
  {
   "cell_type": "markdown",
   "metadata": {},
   "source": [
    "# 生成组合行情文件"
   ]
  },
  {
   "cell_type": "markdown",
   "metadata": {},
   "source": [
    "## 获取基金历史行情"
   ]
  },
  {
   "cell_type": "code",
   "execution_count": 124,
   "metadata": {},
   "outputs": [],
   "source": [
    "start_date, end_date = wdf.index[0], wdf.index[-1]"
   ]
  },
  {
   "cell_type": "code",
   "execution_count": 125,
   "metadata": {},
   "outputs": [],
   "source": [
    "data = w.wsd(FUNDS, 'nav', start_date, end_date)"
   ]
  },
  {
   "cell_type": "code",
   "execution_count": 126,
   "metadata": {},
   "outputs": [],
   "source": [
    "df = pd.DataFrame(np.array(data.Data).T, index=data.Times, columns=data.Codes)"
   ]
  },
  {
   "cell_type": "code",
   "execution_count": 127,
   "metadata": {},
   "outputs": [],
   "source": [
    "rdf = df.pct_change()"
   ]
  },
  {
   "cell_type": "code",
   "execution_count": 128,
   "metadata": {},
   "outputs": [],
   "source": [
    "assert(rdf.shape == wdf.shape)"
   ]
  },
  {
   "cell_type": "code",
   "execution_count": 129,
   "metadata": {},
   "outputs": [],
   "source": [
    "wdf.columns = rdf.columns"
   ]
  },
  {
   "cell_type": "code",
   "execution_count": 130,
   "metadata": {},
   "outputs": [],
   "source": [
    "portfolio_ret = (wdf * rdf).sum(axis=1)"
   ]
  },
  {
   "cell_type": "code",
   "execution_count": 131,
   "metadata": {},
   "outputs": [
    {
     "data": {
      "text/plain": [
       "2019-09-11    0.005100\n",
       "2019-09-12    0.003049\n",
       "2019-09-16   -0.002456\n",
       "2019-09-17   -0.007183\n",
       "2019-09-18    0.000285\n",
       "dtype: float64"
      ]
     },
     "execution_count": 131,
     "metadata": {},
     "output_type": "execute_result"
    }
   ],
   "source": [
    "portfolio_ret.tail()"
   ]
  },
  {
   "cell_type": "markdown",
   "metadata": {},
   "source": [
    "## 业绩基准"
   ]
  },
  {
   "cell_type": "code",
   "execution_count": 132,
   "metadata": {},
   "outputs": [],
   "source": [
    "bench_index = '000300.SH,H11001.CSI'\n",
    "data = w.wsd(bench_index, 'pct_chg', portfolio_ret.index[0], portfolio_ret.index[-1])"
   ]
  },
  {
   "cell_type": "code",
   "execution_count": 133,
   "metadata": {},
   "outputs": [],
   "source": [
    "bench = pd.DataFrame(np.array(data.Data).T / 100, index=data.Times, columns=bench_index.split(','))"
   ]
  },
  {
   "cell_type": "code",
   "execution_count": 134,
   "metadata": {},
   "outputs": [],
   "source": [
    "bench_ret = bench['000300.SH'] * 0.9 + bench['H11001.CSI'] * 0.1"
   ]
  },
  {
   "cell_type": "code",
   "execution_count": 135,
   "metadata": {},
   "outputs": [],
   "source": [
    "total_invest = 10000\n",
    "mu, sigma = empyrical.annual_return(portfolio_ret), empyrical.annual_volatility(portfolio_ret)\n",
    "rho = 1.65\n",
    "confidence = u'投资%d元，持有一年，模拟历史收益：%d元，90%%的概率下亏损不超过%d元'%\\\n",
    "            (total_invest, mu * total_invest, abs((mu - sigma) * rho * total_invest))"
   ]
  },
  {
   "cell_type": "code",
   "execution_count": 136,
   "metadata": {},
   "outputs": [],
   "source": [
    "elements = []\n",
    "elements.append(today.strftime(\"%Y%m%d\"))                                                      # 发布日期\n",
    "elements.append(PORTFOLIO_CODE)                                                                # 组合编号\n",
    "elements.append(PORTFOLIO_NAME)                                                                # 组合名称\n",
    "elements.append('%.8f'%(empyrical.annual_return(portfolio_ret)))                               # 组合年化收益率\n",
    "elements.append('%.8f'%(empyrical.annual_volatility(portfolio_ret)))                           # 组合年化波动率\n",
    "elements.append('%.8f'%(-empyrical.max_drawdown(portfolio_ret)))                               # 组合最大回撤率\n",
    "elements.append('%.8f'%(sharpe_ratio(empyrical.annual_return(portfolio_ret), \\\n",
    "                                     empyrical.annual_volatility(portfolio_ret), risk_free)))  # 夏普比率\n",
    "elements.append('%.8f'%(empyrical.cum_returns_final(bench_ret)))                               # 组合业绩基准收益率\n",
    "elements.append('%.8f'%(1 + empyrical.cum_returns_final(portfolio_ret)))                       # 组合净值\n",
    "elements.append('%.8f'%(1 + empyrical.cum_returns_final(portfolio_ret)))                       # 组合累计净值\n",
    "elements.append(' ')                                                                           # 组合规模\n",
    "elements.append('%.8f'%(portfolio_ret[-1]))                                                    # 组合日涨幅\n",
    "elements.append('%.8f'%(empyrical.cum_returns_final(portfolio_ret)))                           # 组合累计收益率\n",
    "elements.append('%.8f'%(empyrical.cum_returns_final(bench_ret)))                               # 业绩基准累计收益率\n",
    "elements.append('%s'%(confidence))                                                             # 置信区间\n",
    "elements.append('0,b')                                                                         # 业绩基准指数类型\n",
    "elements.append('0.9,0.1')                                                                     # 业绩基准指数类型占比\n",
    "elements.append(' ')                                                                           # 备用字段2\n",
    "elements.append(' ')                                                                           # 备用字段3\n",
    "elements.append(' ')                                                                           # 备用字段4\n",
    "elements.append(' ')                                                                           # 备用字段5\n",
    "elements.append('')                                                                            # 结束符"
   ]
  },
  {
   "cell_type": "code",
   "execution_count": 137,
   "metadata": {},
   "outputs": [],
   "source": [
    "fname = u'%s/COMB_MARKET_00JSCL_%s.TXT'%(DIR, today.strftime('%Y%m%d'))\n",
    "with open(fname, 'w') as f:\n",
    "    f.write('|'.join(elements).encode('GBK'))"
   ]
  },
  {
   "cell_type": "code",
   "execution_count": null,
   "metadata": {},
   "outputs": [],
   "source": []
  }
 ],
 "metadata": {
  "kernelspec": {
   "display_name": "Python 2",
   "language": "python",
   "name": "python2"
  },
  "language_info": {
   "codemirror_mode": {
    "name": "ipython",
    "version": 2
   },
   "file_extension": ".py",
   "mimetype": "text/x-python",
   "name": "python",
   "nbconvert_exporter": "python",
   "pygments_lexer": "ipython2",
   "version": "2.7.14"
  }
 },
 "nbformat": 4,
 "nbformat_minor": 4
}
