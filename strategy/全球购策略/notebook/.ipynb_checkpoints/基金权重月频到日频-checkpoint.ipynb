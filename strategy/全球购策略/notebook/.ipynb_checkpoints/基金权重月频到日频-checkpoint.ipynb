{
 "cells": [
  {
   "cell_type": "code",
   "execution_count": 3,
   "metadata": {},
   "outputs": [],
   "source": [
    "import pandas as pd\n",
    "import numpy as np\n",
    "import datetime\n",
    "from WindPy import w"
   ]
  },
  {
   "cell_type": "code",
   "execution_count": 4,
   "metadata": {},
   "outputs": [
    {
     "data": {
      "text/plain": [
       ".ErrorCode=0\n",
       ".Data=[Already conntected!]"
      ]
     },
     "execution_count": 4,
     "metadata": {},
     "output_type": "execute_result"
    }
   ],
   "source": [
    "w.start()"
   ]
  },
  {
   "cell_type": "code",
   "execution_count": 5,
   "metadata": {},
   "outputs": [],
   "source": [
    "start_date, today = '2018-10-01', datetime.datetime.today()"
   ]
  },
  {
   "cell_type": "code",
   "execution_count": 7,
   "metadata": {},
   "outputs": [],
   "source": [
    "dates = w.tdays(start_date, today - datetime.timedelta(1))"
   ]
  },
  {
   "cell_type": "code",
   "execution_count": 8,
   "metadata": {},
   "outputs": [
    {
     "data": {
      "text/plain": [
       ".ErrorCode=0\n",
       ".Codes=[]\n",
       ".Fields=[]\n",
       ".Times=[20181008,20181009,20181010,20181011,20181012,20181015,20181016,20181017,20181018,20181019,...]\n",
       ".Data=[[2018-10-08 00:00:00,2018-10-09 00:00:00,2018-10-10 00:00:00,2018-10-11 00:00:00,2018-10-12 00:00:00,2018-10-15 00:00:00,2018-10-16 00:00:00,2018-10-17 00:00:00,2018-10-18 00:00:00,2018-10-19 00:00:00,...]]"
      ]
     },
     "execution_count": 8,
     "metadata": {},
     "output_type": "execute_result"
    }
   ],
   "source": [
    "dates"
   ]
  },
  {
   "cell_type": "code",
   "execution_count": 9,
   "metadata": {},
   "outputs": [],
   "source": [
    "FUNDS = ['070037.OF', '160706.OF', '000008.OF', '070023.OF', '160716.OF', '000342.OF', '000341.OF', '000071.OF', '050025.OF', '000290.OF']"
   ]
  },
  {
   "cell_type": "code",
   "execution_count": 24,
   "metadata": {},
   "outputs": [],
   "source": [
    "df = pd.DataFrame(columns=FUNDS, index=dates.Data[0])"
   ]
  },
  {
   "cell_type": "code",
   "execution_count": 25,
   "metadata": {},
   "outputs": [],
   "source": [
    "wdf = pd.read_excel('../data/weight.xlsx')"
   ]
  },
  {
   "cell_type": "code",
   "execution_count": 31,
   "metadata": {},
   "outputs": [],
   "source": [
    "for date in df.index:\n",
    "    weight = wdf[wdf.index < date].iloc[-1]\n",
    "    fund_weight = np.array([weight['LUATTRUU Index'] / 4,\n",
    "                            weight['Wind Index'] / 4,\n",
    "                            weight['Wind Index'] / 4,\n",
    "                            weight['Wind Index'] / 4,\n",
    "                            weight['Wind Index'] / 4,\n",
    "                            weight['LUATTRUU Index'] / 4,\n",
    "                            weight['LUATTRUU Index'] / 4,\n",
    "                            weight['HSI Index'],\n",
    "                            weight['SPXT  Index'],\n",
    "                            weight['LUATTRUU Index'] / 4])\n",
    "    df.loc[date] = fund_weight"
   ]
  },
  {
   "cell_type": "code",
   "execution_count": 33,
   "metadata": {},
   "outputs": [],
   "source": [
    "df.to_excel('../data/fund_weight.xlsx')"
   ]
  },
  {
   "cell_type": "code",
   "execution_count": null,
   "metadata": {},
   "outputs": [],
   "source": []
  }
 ],
 "metadata": {
  "kernelspec": {
   "display_name": "Python 2",
   "language": "python",
   "name": "python2"
  },
  "language_info": {
   "codemirror_mode": {
    "name": "ipython",
    "version": 2
   },
   "file_extension": ".py",
   "mimetype": "text/x-python",
   "name": "python",
   "nbconvert_exporter": "python",
   "pygments_lexer": "ipython2",
   "version": "2.7.14"
  }
 },
 "nbformat": 4,
 "nbformat_minor": 4
}
