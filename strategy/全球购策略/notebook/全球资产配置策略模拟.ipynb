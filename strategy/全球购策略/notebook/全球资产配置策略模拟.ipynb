{
 "cells": [
  {
   "cell_type": "code",
   "execution_count": 1,
   "metadata": {},
   "outputs": [],
   "source": [
    "import pandas as pd\n",
    "import numpy as np\n",
    "import matplotlib.pyplot as plt\n",
    "import empyrical\n",
    "%matplotlib inline"
   ]
  },
  {
   "cell_type": "code",
   "execution_count": 2,
   "metadata": {},
   "outputs": [],
   "source": [
    "def metric(ret):\n",
    "    an_ret = empyrical.annual_return(ret, period='monthly')\n",
    "    vol = empyrical.annual_volatility(ret, period='monthly')\n",
    "    maxdraw = empyrical.max_drawdown(ret)\n",
    "    print('Annual return: %.2f%%'%(an_ret*100))\n",
    "    print('Sharpe ratio: %.2f'%(an_ret / vol))\n",
    "    print('Annual volatility: %.2f%%'%(vol*100))\n",
    "    print('Max drawdown: %.2f%%'%(maxdraw*100))"
   ]
  },
  {
   "cell_type": "markdown",
   "metadata": {},
   "source": [
    "# 读取数据"
   ]
  },
  {
   "cell_type": "code",
   "execution_count": 3,
   "metadata": {},
   "outputs": [],
   "source": [
    "wind = pd.read_excel('../data/wind.xlsx', index_col=0)"
   ]
  },
  {
   "cell_type": "code",
   "execution_count": 4,
   "metadata": {},
   "outputs": [
    {
     "data": {
      "text/html": [
       "<div>\n",
       "<style scoped>\n",
       "    .dataframe tbody tr th:only-of-type {\n",
       "        vertical-align: middle;\n",
       "    }\n",
       "\n",
       "    .dataframe tbody tr th {\n",
       "        vertical-align: top;\n",
       "    }\n",
       "\n",
       "    .dataframe thead th {\n",
       "        text-align: right;\n",
       "    }\n",
       "</style>\n",
       "<table border=\"1\" class=\"dataframe\">\n",
       "  <thead>\n",
       "    <tr style=\"text-align: right;\">\n",
       "      <th></th>\n",
       "      <th>Wind Index</th>\n",
       "      <th>Wind Index PE</th>\n",
       "    </tr>\n",
       "    <tr>\n",
       "      <th>881001.WI</th>\n",
       "      <th></th>\n",
       "      <th></th>\n",
       "    </tr>\n",
       "  </thead>\n",
       "  <tbody>\n",
       "    <tr>\n",
       "      <th>2019-04-30</th>\n",
       "      <td>4180.4348</td>\n",
       "      <td>17.776800</td>\n",
       "    </tr>\n",
       "    <tr>\n",
       "      <th>2019-05-31</th>\n",
       "      <td>3913.6616</td>\n",
       "      <td>16.662600</td>\n",
       "    </tr>\n",
       "    <tr>\n",
       "      <th>2019-06-28</th>\n",
       "      <td>4045.6673</td>\n",
       "      <td>17.120399</td>\n",
       "    </tr>\n",
       "    <tr>\n",
       "      <th>2019-07-31</th>\n",
       "      <td>4041.1186</td>\n",
       "      <td>16.937901</td>\n",
       "    </tr>\n",
       "    <tr>\n",
       "      <th>2019-08-30</th>\n",
       "      <td>4011.1518</td>\n",
       "      <td>16.622400</td>\n",
       "    </tr>\n",
       "  </tbody>\n",
       "</table>\n",
       "</div>"
      ],
      "text/plain": [
       "            Wind Index  Wind Index PE\n",
       "881001.WI                            \n",
       "2019-04-30   4180.4348      17.776800\n",
       "2019-05-31   3913.6616      16.662600\n",
       "2019-06-28   4045.6673      17.120399\n",
       "2019-07-31   4041.1186      16.937901\n",
       "2019-08-30   4011.1518      16.622400"
      ]
     },
     "execution_count": 4,
     "metadata": {},
     "output_type": "execute_result"
    }
   ],
   "source": [
    "wind.tail()"
   ]
  },
  {
   "cell_type": "code",
   "execution_count": 5,
   "metadata": {},
   "outputs": [],
   "source": [
    "df = pd.read_excel(u'../data/global strategy data.xlsx', sheet_name='data', index_col=0)"
   ]
  },
  {
   "cell_type": "code",
   "execution_count": 6,
   "metadata": {},
   "outputs": [
    {
     "data": {
      "text/html": [
       "<div>\n",
       "<style scoped>\n",
       "    .dataframe tbody tr th:only-of-type {\n",
       "        vertical-align: middle;\n",
       "    }\n",
       "\n",
       "    .dataframe tbody tr th {\n",
       "        vertical-align: top;\n",
       "    }\n",
       "\n",
       "    .dataframe thead th {\n",
       "        text-align: right;\n",
       "    }\n",
       "</style>\n",
       "<table border=\"1\" class=\"dataframe\">\n",
       "  <thead>\n",
       "    <tr style=\"text-align: right;\">\n",
       "      <th></th>\n",
       "      <th>SHCOMP Index</th>\n",
       "      <th>HSI Index</th>\n",
       "      <th>SPXT  Index</th>\n",
       "      <th>LUATTRUU Index</th>\n",
       "      <th>CNDR1Y index</th>\n",
       "      <th>SHCOMP Index PE</th>\n",
       "      <th>HSI Index PE</th>\n",
       "      <th>SPX Index PE</th>\n",
       "      <th>FDTRMID Index</th>\n",
       "    </tr>\n",
       "    <tr>\n",
       "      <th>1997-12-31 00:00:00</th>\n",
       "      <th></th>\n",
       "      <th></th>\n",
       "      <th></th>\n",
       "      <th></th>\n",
       "      <th></th>\n",
       "      <th></th>\n",
       "      <th></th>\n",
       "      <th></th>\n",
       "      <th></th>\n",
       "    </tr>\n",
       "  </thead>\n",
       "  <tbody>\n",
       "    <tr>\n",
       "      <th>2019-04-30</th>\n",
       "      <td>650.8755</td>\n",
       "      <td>52252.3762</td>\n",
       "      <td>39693.63159</td>\n",
       "      <td>2258.236</td>\n",
       "      <td>1.5</td>\n",
       "      <td>14.8309</td>\n",
       "      <td>11.6566</td>\n",
       "      <td>19.3402</td>\n",
       "      <td>2.375</td>\n",
       "    </tr>\n",
       "    <tr>\n",
       "      <th>2019-05-31</th>\n",
       "      <td>599.5030</td>\n",
       "      <td>49097.8631</td>\n",
       "      <td>38111.11128</td>\n",
       "      <td>2311.308</td>\n",
       "      <td>1.5</td>\n",
       "      <td>13.9768</td>\n",
       "      <td>10.5584</td>\n",
       "      <td>18.1155</td>\n",
       "      <td>2.375</td>\n",
       "    </tr>\n",
       "    <tr>\n",
       "      <th>2019-06-28</th>\n",
       "      <td>625.3280</td>\n",
       "      <td>52291.8692</td>\n",
       "      <td>40570.77110</td>\n",
       "      <td>2332.635</td>\n",
       "      <td>1.5</td>\n",
       "      <td>14.3378</td>\n",
       "      <td>11.0875</td>\n",
       "      <td>19.2349</td>\n",
       "      <td>2.375</td>\n",
       "    </tr>\n",
       "    <tr>\n",
       "      <th>2019-07-31</th>\n",
       "      <td>619.6391</td>\n",
       "      <td>51107.6316</td>\n",
       "      <td>41258.18091</td>\n",
       "      <td>2329.893</td>\n",
       "      <td>1.5</td>\n",
       "      <td>14.1668</td>\n",
       "      <td>10.7904</td>\n",
       "      <td>19.4985</td>\n",
       "      <td>2.125</td>\n",
       "    </tr>\n",
       "    <tr>\n",
       "      <th>2019-08-30</th>\n",
       "      <td>587.3439</td>\n",
       "      <td>49300.7465</td>\n",
       "      <td>42211.86264</td>\n",
       "      <td>2409.096</td>\n",
       "      <td>1.5</td>\n",
       "      <td>13.9845</td>\n",
       "      <td>9.9929</td>\n",
       "      <td>19.1597</td>\n",
       "      <td>2.125</td>\n",
       "    </tr>\n",
       "  </tbody>\n",
       "</table>\n",
       "</div>"
      ],
      "text/plain": [
       "                     SHCOMP Index   HSI Index  SPXT  Index  LUATTRUU Index  \\\n",
       "1997-12-31 00:00:00                                                          \n",
       "2019-04-30               650.8755  52252.3762  39693.63159        2258.236   \n",
       "2019-05-31               599.5030  49097.8631  38111.11128        2311.308   \n",
       "2019-06-28               625.3280  52291.8692  40570.77110        2332.635   \n",
       "2019-07-31               619.6391  51107.6316  41258.18091        2329.893   \n",
       "2019-08-30               587.3439  49300.7465  42211.86264        2409.096   \n",
       "\n",
       "                     CNDR1Y index  SHCOMP Index PE  HSI Index PE  \\\n",
       "1997-12-31 00:00:00                                                \n",
       "2019-04-30                    1.5          14.8309       11.6566   \n",
       "2019-05-31                    1.5          13.9768       10.5584   \n",
       "2019-06-28                    1.5          14.3378       11.0875   \n",
       "2019-07-31                    1.5          14.1668       10.7904   \n",
       "2019-08-30                    1.5          13.9845        9.9929   \n",
       "\n",
       "                     SPX Index PE  FDTRMID Index  \n",
       "1997-12-31 00:00:00                               \n",
       "2019-04-30                19.3402          2.375  \n",
       "2019-05-31                18.1155          2.375  \n",
       "2019-06-28                19.2349          2.375  \n",
       "2019-07-31                19.4985          2.125  \n",
       "2019-08-30                19.1597          2.125  "
      ]
     },
     "execution_count": 6,
     "metadata": {},
     "output_type": "execute_result"
    }
   ],
   "source": [
    "df.tail()"
   ]
  },
  {
   "cell_type": "code",
   "execution_count": 7,
   "metadata": {},
   "outputs": [],
   "source": [
    "df = df.merge(wind, left_index=True, right_index=True)"
   ]
  },
  {
   "cell_type": "code",
   "execution_count": 8,
   "metadata": {},
   "outputs": [],
   "source": [
    "a_stock, hk_stock, us_stock = 'Wind Index', 'HSI Index', 'SPXT  Index'\n",
    "asset_columns = [a_stock, hk_stock, us_stock, 'LUATTRUU Index']"
   ]
  },
  {
   "cell_type": "code",
   "execution_count": 9,
   "metadata": {},
   "outputs": [],
   "source": [
    "assets_ret = df[asset_columns].pct_change()"
   ]
  },
  {
   "cell_type": "code",
   "execution_count": 10,
   "metadata": {},
   "outputs": [],
   "source": [
    "fed_rate = df['FDTRMID Index']"
   ]
  },
  {
   "cell_type": "code",
   "execution_count": 11,
   "metadata": {},
   "outputs": [
    {
     "data": {
      "text/html": [
       "<div>\n",
       "<style scoped>\n",
       "    .dataframe tbody tr th:only-of-type {\n",
       "        vertical-align: middle;\n",
       "    }\n",
       "\n",
       "    .dataframe tbody tr th {\n",
       "        vertical-align: top;\n",
       "    }\n",
       "\n",
       "    .dataframe thead th {\n",
       "        text-align: right;\n",
       "    }\n",
       "</style>\n",
       "<table border=\"1\" class=\"dataframe\">\n",
       "  <thead>\n",
       "    <tr style=\"text-align: right;\">\n",
       "      <th></th>\n",
       "      <th>Wind Index</th>\n",
       "      <th>HSI Index</th>\n",
       "      <th>SPXT  Index</th>\n",
       "      <th>LUATTRUU Index</th>\n",
       "    </tr>\n",
       "  </thead>\n",
       "  <tbody>\n",
       "    <tr>\n",
       "      <th>2019-04-30</th>\n",
       "      <td>-0.014403</td>\n",
       "      <td>0.026567</td>\n",
       "      <td>0.044008</td>\n",
       "      <td>-0.002776</td>\n",
       "    </tr>\n",
       "    <tr>\n",
       "      <th>2019-05-31</th>\n",
       "      <td>-0.063815</td>\n",
       "      <td>-0.060371</td>\n",
       "      <td>-0.039868</td>\n",
       "      <td>0.023502</td>\n",
       "    </tr>\n",
       "    <tr>\n",
       "      <th>2019-06-28</th>\n",
       "      <td>0.033729</td>\n",
       "      <td>0.065054</td>\n",
       "      <td>0.064539</td>\n",
       "      <td>0.009227</td>\n",
       "    </tr>\n",
       "    <tr>\n",
       "      <th>2019-07-31</th>\n",
       "      <td>-0.001124</td>\n",
       "      <td>-0.022647</td>\n",
       "      <td>0.016943</td>\n",
       "      <td>-0.001175</td>\n",
       "    </tr>\n",
       "    <tr>\n",
       "      <th>2019-08-30</th>\n",
       "      <td>-0.007415</td>\n",
       "      <td>-0.035355</td>\n",
       "      <td>0.023115</td>\n",
       "      <td>0.033994</td>\n",
       "    </tr>\n",
       "  </tbody>\n",
       "</table>\n",
       "</div>"
      ],
      "text/plain": [
       "            Wind Index  HSI Index  SPXT  Index  LUATTRUU Index\n",
       "2019-04-30   -0.014403   0.026567     0.044008       -0.002776\n",
       "2019-05-31   -0.063815  -0.060371    -0.039868        0.023502\n",
       "2019-06-28    0.033729   0.065054     0.064539        0.009227\n",
       "2019-07-31   -0.001124  -0.022647     0.016943       -0.001175\n",
       "2019-08-30   -0.007415  -0.035355     0.023115        0.033994"
      ]
     },
     "execution_count": 11,
     "metadata": {},
     "output_type": "execute_result"
    }
   ],
   "source": [
    "assets_ret.tail()"
   ]
  },
  {
   "cell_type": "markdown",
   "metadata": {},
   "source": [
    "# 计算估值偏离"
   ]
  },
  {
   "cell_type": "code",
   "execution_count": 12,
   "metadata": {},
   "outputs": [],
   "source": [
    "pe = df[['Wind Index PE', 'HSI Index PE', 'SPX Index PE']]"
   ]
  },
  {
   "cell_type": "code",
   "execution_count": 13,
   "metadata": {},
   "outputs": [],
   "source": [
    "pe_dev = (pe - pe.rolling(60).mean()) / pe.rolling(60).mean()"
   ]
  },
  {
   "cell_type": "code",
   "execution_count": 14,
   "metadata": {},
   "outputs": [],
   "source": [
    "pe_dev = pe_dev.dropna()"
   ]
  },
  {
   "cell_type": "code",
   "execution_count": 15,
   "metadata": {},
   "outputs": [
    {
     "data": {
      "text/html": [
       "<div>\n",
       "<style scoped>\n",
       "    .dataframe tbody tr th:only-of-type {\n",
       "        vertical-align: middle;\n",
       "    }\n",
       "\n",
       "    .dataframe tbody tr th {\n",
       "        vertical-align: top;\n",
       "    }\n",
       "\n",
       "    .dataframe thead th {\n",
       "        text-align: right;\n",
       "    }\n",
       "</style>\n",
       "<table border=\"1\" class=\"dataframe\">\n",
       "  <thead>\n",
       "    <tr style=\"text-align: right;\">\n",
       "      <th></th>\n",
       "      <th>Wind Index PE</th>\n",
       "      <th>HSI Index PE</th>\n",
       "      <th>SPX Index PE</th>\n",
       "    </tr>\n",
       "  </thead>\n",
       "  <tbody>\n",
       "    <tr>\n",
       "      <th>2019-04-30</th>\n",
       "      <td>17.776800</td>\n",
       "      <td>11.6566</td>\n",
       "      <td>19.3402</td>\n",
       "    </tr>\n",
       "    <tr>\n",
       "      <th>2019-05-31</th>\n",
       "      <td>16.662600</td>\n",
       "      <td>10.5584</td>\n",
       "      <td>18.1155</td>\n",
       "    </tr>\n",
       "    <tr>\n",
       "      <th>2019-06-28</th>\n",
       "      <td>17.120399</td>\n",
       "      <td>11.0875</td>\n",
       "      <td>19.2349</td>\n",
       "    </tr>\n",
       "    <tr>\n",
       "      <th>2019-07-31</th>\n",
       "      <td>16.937901</td>\n",
       "      <td>10.7904</td>\n",
       "      <td>19.4985</td>\n",
       "    </tr>\n",
       "    <tr>\n",
       "      <th>2019-08-30</th>\n",
       "      <td>16.622400</td>\n",
       "      <td>9.9929</td>\n",
       "      <td>19.1597</td>\n",
       "    </tr>\n",
       "  </tbody>\n",
       "</table>\n",
       "</div>"
      ],
      "text/plain": [
       "            Wind Index PE  HSI Index PE  SPX Index PE\n",
       "2019-04-30      17.776800       11.6566       19.3402\n",
       "2019-05-31      16.662600       10.5584       18.1155\n",
       "2019-06-28      17.120399       11.0875       19.2349\n",
       "2019-07-31      16.937901       10.7904       19.4985\n",
       "2019-08-30      16.622400        9.9929       19.1597"
      ]
     },
     "execution_count": 15,
     "metadata": {},
     "output_type": "execute_result"
    }
   ],
   "source": [
    "pe.tail()"
   ]
  },
  {
   "cell_type": "markdown",
   "metadata": {},
   "source": [
    "# 回测"
   ]
  },
  {
   "cell_type": "code",
   "execution_count": 16,
   "metadata": {},
   "outputs": [],
   "source": [
    "# 判断当前状态\n",
    "def regime_weight(date):\n",
    "    rate_change = fed_rate[fed_rate.index <= date].diff(3).iloc[-1]\n",
    "    if rate_change == 0:\n",
    "        return np.array([0.3, 0.3, 0.3, 0.1])\n",
    "    elif rate_change > 0:\n",
    "        return np.array([1./3, 1./3, 1./3, 0.])\n",
    "    else:\n",
    "        return np.array([0.8/3, 0.8/3, 0.8/3, 0.2])"
   ]
  },
  {
   "cell_type": "code",
   "execution_count": 17,
   "metadata": {},
   "outputs": [],
   "source": [
    "def weight_change(w, dev):\n",
    "    if dev < -0.3:\n",
    "        return w + 0.35\n",
    "    elif -0.3 <= dev and dev < -0.2:\n",
    "        return w + 0.25\n",
    "    elif -0.2 <= dev and dev < -0.1:\n",
    "        return w + 0.15\n",
    "    elif 0.1 <= dev and dev < 0.2:\n",
    "        return max(0, w - 0.15)\n",
    "    elif 0.2 <= dev and dev < 0.3:\n",
    "        return max(0, w - 0.25)\n",
    "    elif dev >= 0.3:\n",
    "        return max(0, w - 0.35)\n",
    "    else:\n",
    "        return w"
   ]
  },
  {
   "cell_type": "code",
   "execution_count": 23,
   "metadata": {},
   "outputs": [],
   "source": [
    "def calc_weight(date):\n",
    "#     print(date)\n",
    "    w = regime_weight(date)\n",
    "    current_pe_dev = pe_dev[pe_dev.index <= date].loc[date]\n",
    "    \n",
    "#     print(w)\n",
    "    \n",
    "    init_w = w[:3].sum()\n",
    "    w[0] = weight_change(w[0], current_pe_dev['Wind Index PE'])\n",
    "    w[1] = weight_change(w[1], current_pe_dev['HSI Index PE'])\n",
    "    w[2] = weight_change(w[2], current_pe_dev['SPX Index PE'])\n",
    "    \n",
    "#     print(w)\n",
    "\n",
    "    sum_w = w[:3].sum()\n",
    "    w[0] = w[0] * init_w / sum_w\n",
    "    w[1] = w[1] * init_w / sum_w\n",
    "    w[2] = w[2] * init_w / sum_w\n",
    "    \n",
    "#     print(w)\n",
    "\n",
    "    return w"
   ]
  },
  {
   "cell_type": "code",
   "execution_count": 24,
   "metadata": {},
   "outputs": [],
   "source": [
    "assets_ret = assets_ret[assets_ret.index >= '2012-01-01']"
   ]
  },
  {
   "cell_type": "code",
   "execution_count": 25,
   "metadata": {},
   "outputs": [],
   "source": [
    "weight = pd.DataFrame(columns=assets_ret.columns, index=assets_ret.index)\n",
    "n = assets_ret.shape[1]\n",
    "wb = np.zeros(n)\n",
    "\n",
    "for date in weight.index:\n",
    "    wb = calc_weight(date)\n",
    "    weight.loc[date] = wb"
   ]
  },
  {
   "cell_type": "code",
   "execution_count": 26,
   "metadata": {},
   "outputs": [],
   "source": [
    "portfolio = (weight.shift(1) * assets_ret).sum(axis=1)"
   ]
  },
  {
   "cell_type": "code",
   "execution_count": 27,
   "metadata": {},
   "outputs": [
    {
     "data": {
      "text/plain": [
       "2019-04-30    0.016574\n",
       "2019-05-31   -0.046866\n",
       "2019-06-28    0.047257\n",
       "2019-07-31   -0.002166\n",
       "2019-08-30    0.001448\n",
       "dtype: float64"
      ]
     },
     "execution_count": 27,
     "metadata": {},
     "output_type": "execute_result"
    }
   ],
   "source": [
    "portfolio.tail()"
   ]
  },
  {
   "cell_type": "code",
   "execution_count": 28,
   "metadata": {},
   "outputs": [],
   "source": [
    "portfolio = portfolio[portfolio != 0]"
   ]
  },
  {
   "cell_type": "code",
   "execution_count": 29,
   "metadata": {},
   "outputs": [
    {
     "name": "stdout",
     "output_type": "stream",
     "text": [
      "Annual return: 12.34%\n",
      "Sharpe ratio: 1.01\n",
      "Annual volatility: 12.18%\n",
      "Max drawdown: -15.67%\n"
     ]
    }
   ],
   "source": [
    "metric(portfolio)"
   ]
  },
  {
   "cell_type": "code",
   "execution_count": 30,
   "metadata": {},
   "outputs": [
    {
     "data": {
      "image/png": "[encoded data removed]",
      "text/plain": [
       "<Figure size 1152x648 with 1 Axes>"
      ]
     },
     "metadata": {},
     "output_type": "display_data"
    }
   ],
   "source": [
    "fig, ax = plt.subplots(figsize=(16, 9))\n",
    "\n",
    "lns1 = ax.plot((1 + portfolio).cumprod(), color='blue', label=u'净值')\n",
    "\n",
    "lns = lns1\n",
    "labs = [l.get_label() for l in lns]\n",
    "ax.legend(lns, labs, frameon=False, fontsize=15, loc='upper center', ncol=2, bbox_to_anchor=(0.5, 1.0))\n",
    "\n",
    "ax.xaxis.set_tick_params(labelsize=15)\n",
    "ax.yaxis.set_tick_params(labelsize=15)\n",
    "vals = ax.get_yticks()\n",
    "ax.set_yticklabels(['{:2.1f}'.format(x) for x in vals])\n",
    "\n",
    "_ = ax.set_title(u'全球购策略回测表现', fontsize=25, y=1.02)"
   ]
  },
  {
   "cell_type": "code",
   "execution_count": 31,
   "metadata": {},
   "outputs": [],
   "source": [
    "weight = weight.astype(np.float32)"
   ]
  },
  {
   "cell_type": "code",
   "execution_count": 32,
   "metadata": {},
   "outputs": [
    {
     "data": {
      "image/png": "[encoded data removed]",
      "text/plain": [
       "<Figure size 1152x648 with 1 Axes>"
      ]
     },
     "metadata": {},
     "output_type": "display_data"
    }
   ],
   "source": [
    "fig, ax = plt.subplots(figsize=(16, 9))\n",
    "_ = ax.stackplot(weight.index, \n",
    "                 weight['Wind Index'],\n",
    "                 weight['HSI Index'],\n",
    "                 weight['SPXT  Index'],\n",
    "                 weight['LUATTRUU Index'],\n",
    "                 labels=[u'上证', u'恒生', u'标普', u'美债'])\n",
    "ax.legend(fontsize=15)\n",
    "ax.xaxis.set_tick_params(labelsize=15)\n",
    "ax.yaxis.set_tick_params(labelsize=15)\n",
    "ax.set_ylabel(u'权重', fontsize=15)\n",
    "ax.set_xlabel(u'日期', fontsize=15)\n",
    "_ = ax.set_title(u'全球购策略历史权重', fontsize=25, y=1.02)"
   ]
  },
  {
   "cell_type": "code",
   "execution_count": 33,
   "metadata": {},
   "outputs": [
    {
     "data": {
      "text/html": [
       "<div>\n",
       "<style scoped>\n",
       "    .dataframe tbody tr th:only-of-type {\n",
       "        vertical-align: middle;\n",
       "    }\n",
       "\n",
       "    .dataframe tbody tr th {\n",
       "        vertical-align: top;\n",
       "    }\n",
       "\n",
       "    .dataframe thead th {\n",
       "        text-align: right;\n",
       "    }\n",
       "</style>\n",
       "<table border=\"1\" class=\"dataframe\">\n",
       "  <thead>\n",
       "    <tr style=\"text-align: right;\">\n",
       "      <th></th>\n",
       "      <th>Wind Index</th>\n",
       "      <th>HSI Index</th>\n",
       "      <th>SPXT  Index</th>\n",
       "      <th>LUATTRUU Index</th>\n",
       "    </tr>\n",
       "  </thead>\n",
       "  <tbody>\n",
       "    <tr>\n",
       "      <th>2019-04-30</th>\n",
       "      <td>0.300000</td>\n",
       "      <td>0.300000</td>\n",
       "      <td>0.300000</td>\n",
       "      <td>0.1</td>\n",
       "    </tr>\n",
       "    <tr>\n",
       "      <th>2019-05-31</th>\n",
       "      <td>0.385714</td>\n",
       "      <td>0.257143</td>\n",
       "      <td>0.257143</td>\n",
       "      <td>0.1</td>\n",
       "    </tr>\n",
       "    <tr>\n",
       "      <th>2019-06-28</th>\n",
       "      <td>0.300000</td>\n",
       "      <td>0.300000</td>\n",
       "      <td>0.300000</td>\n",
       "      <td>0.1</td>\n",
       "    </tr>\n",
       "    <tr>\n",
       "      <th>2019-07-31</th>\n",
       "      <td>0.350877</td>\n",
       "      <td>0.224561</td>\n",
       "      <td>0.224561</td>\n",
       "      <td>0.2</td>\n",
       "    </tr>\n",
       "    <tr>\n",
       "      <th>2019-08-30</th>\n",
       "      <td>0.303030</td>\n",
       "      <td>0.303030</td>\n",
       "      <td>0.193939</td>\n",
       "      <td>0.2</td>\n",
       "    </tr>\n",
       "  </tbody>\n",
       "</table>\n",
       "</div>"
      ],
      "text/plain": [
       "            Wind Index  HSI Index  SPXT  Index  LUATTRUU Index\n",
       "2019-04-30    0.300000   0.300000     0.300000             0.1\n",
       "2019-05-31    0.385714   0.257143     0.257143             0.1\n",
       "2019-06-28    0.300000   0.300000     0.300000             0.1\n",
       "2019-07-31    0.350877   0.224561     0.224561             0.2\n",
       "2019-08-30    0.303030   0.303030     0.193939             0.2"
      ]
     },
     "execution_count": 33,
     "metadata": {},
     "output_type": "execute_result"
    }
   ],
   "source": [
    "weight.tail()"
   ]
  },
  {
   "cell_type": "code",
   "execution_count": 34,
   "metadata": {},
   "outputs": [
    {
     "data": {
      "text/plain": [
       "'0.15151516'"
      ]
     },
     "execution_count": 34,
     "metadata": {},
     "output_type": "execute_result"
    }
   ],
   "source": [
    "'%.8f'%(weight['Wind Index'][-1] / 2)"
   ]
  },
  {
   "cell_type": "code",
   "execution_count": 35,
   "metadata": {},
   "outputs": [
    {
     "data": {
      "text/plain": [
       "'0.30303031'"
      ]
     },
     "execution_count": 35,
     "metadata": {},
     "output_type": "execute_result"
    }
   ],
   "source": [
    "'%.8f'%(weight['HSI Index'][-1])"
   ]
  },
  {
   "cell_type": "code",
   "execution_count": 36,
   "metadata": {},
   "outputs": [
    {
     "data": {
      "text/plain": [
       "'0.19393939'"
      ]
     },
     "execution_count": 36,
     "metadata": {},
     "output_type": "execute_result"
    }
   ],
   "source": [
    "'%.8f'%(weight['SPXT  Index'][-1])"
   ]
  },
  {
   "cell_type": "code",
   "execution_count": 37,
   "metadata": {},
   "outputs": [],
   "source": [
    "weight.to_excel('../data/weight.xlsx')"
   ]
  },
  {
   "cell_type": "code",
   "execution_count": null,
   "metadata": {},
   "outputs": [],
   "source": []
  }
 ],
 "metadata": {
  "kernelspec": {
   "display_name": "Python 2",
   "language": "python",
   "name": "python2"
  },
  "language_info": {
   "codemirror_mode": {
    "name": "ipython",
    "version": 2
   },
   "file_extension": ".py",
   "mimetype": "text/x-python",
   "name": "python",
   "nbconvert_exporter": "python",
   "pygments_lexer": "ipython2",
   "version": "2.7.14"
  }
 },
 "nbformat": 4,
 "nbformat_minor": 4
}
