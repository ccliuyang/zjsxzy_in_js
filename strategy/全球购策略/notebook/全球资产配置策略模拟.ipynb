{
 "cells": [
  {
   "cell_type": "code",
   "execution_count": 1,
   "metadata": {},
   "outputs": [],
   "source": [
    "import pandas as pd\n",
    "import numpy as np\n",
    "import matplotlib.pyplot as plt\n",
    "import empyrical\n",
    "%matplotlib inline"
   ]
  },
  {
   "cell_type": "code",
   "execution_count": 2,
   "metadata": {},
   "outputs": [],
   "source": [
    "def metric(ret):\n",
    "    an_ret = empyrical.annual_return(ret, period='monthly')\n",
    "    vol = empyrical.annual_volatility(ret, period='monthly')\n",
    "    maxdraw = empyrical.max_drawdown(ret)\n",
    "    print('Annual return: %.2f%%'%(an_ret*100))\n",
    "    print('Sharpe ratio: %.2f'%(an_ret / vol))\n",
    "    print('Annual volatility: %.2f%%'%(vol*100))\n",
    "    print('Max drawdown: %.2f%%'%(maxdraw*100))"
   ]
  },
  {
   "cell_type": "markdown",
   "metadata": {},
   "source": [
    "# 读取数据"
   ]
  },
  {
   "cell_type": "code",
   "execution_count": 3,
   "metadata": {},
   "outputs": [],
   "source": [
    "wind = pd.read_excel('../data/wind.xlsx', index_col=0)"
   ]
  },
  {
   "cell_type": "code",
   "execution_count": 4,
   "metadata": {},
   "outputs": [
    {
     "data": {
      "text/html": [
       "<div>\n",
       "<style scoped>\n",
       "    .dataframe tbody tr th:only-of-type {\n",
       "        vertical-align: middle;\n",
       "    }\n",
       "\n",
       "    .dataframe tbody tr th {\n",
       "        vertical-align: top;\n",
       "    }\n",
       "\n",
       "    .dataframe thead th {\n",
       "        text-align: right;\n",
       "    }\n",
       "</style>\n",
       "<table border=\"1\" class=\"dataframe\">\n",
       "  <thead>\n",
       "    <tr style=\"text-align: right;\">\n",
       "      <th></th>\n",
       "      <th>Wind Index</th>\n",
       "      <th>Wind Index PE</th>\n",
       "    </tr>\n",
       "    <tr>\n",
       "      <th>881001.WI</th>\n",
       "      <th></th>\n",
       "      <th></th>\n",
       "    </tr>\n",
       "  </thead>\n",
       "  <tbody>\n",
       "    <tr>\n",
       "      <th>1999-12-31</th>\n",
       "      <td>1000.0000</td>\n",
       "      <td>51.163799</td>\n",
       "    </tr>\n",
       "    <tr>\n",
       "      <th>2000-01-31</th>\n",
       "      <td>1160.7866</td>\n",
       "      <td>57.742001</td>\n",
       "    </tr>\n",
       "    <tr>\n",
       "      <th>2000-02-29</th>\n",
       "      <td>1302.4944</td>\n",
       "      <td>62.953602</td>\n",
       "    </tr>\n",
       "    <tr>\n",
       "      <th>2000-03-31</th>\n",
       "      <td>1374.5922</td>\n",
       "      <td>65.095001</td>\n",
       "    </tr>\n",
       "    <tr>\n",
       "      <th>2000-04-28</th>\n",
       "      <td>1392.4219</td>\n",
       "      <td>63.999599</td>\n",
       "    </tr>\n",
       "  </tbody>\n",
       "</table>\n",
       "</div>"
      ],
      "text/plain": [
       "            Wind Index  Wind Index PE\n",
       "881001.WI                            \n",
       "1999-12-31   1000.0000      51.163799\n",
       "2000-01-31   1160.7866      57.742001\n",
       "2000-02-29   1302.4944      62.953602\n",
       "2000-03-31   1374.5922      65.095001\n",
       "2000-04-28   1392.4219      63.999599"
      ]
     },
     "execution_count": 4,
     "metadata": {},
     "output_type": "execute_result"
    }
   ],
   "source": [
    "wind.head()"
   ]
  },
  {
   "cell_type": "code",
   "execution_count": 5,
   "metadata": {},
   "outputs": [],
   "source": [
    "df = pd.read_excel(u'../data/global strategy data.xlsx', sheet_name='data', skiprows=3, index_col=0)"
   ]
  },
  {
   "cell_type": "code",
   "execution_count": 6,
   "metadata": {},
   "outputs": [
    {
     "data": {
      "text/html": [
       "<div>\n",
       "<style scoped>\n",
       "    .dataframe tbody tr th:only-of-type {\n",
       "        vertical-align: middle;\n",
       "    }\n",
       "\n",
       "    .dataframe tbody tr th {\n",
       "        vertical-align: top;\n",
       "    }\n",
       "\n",
       "    .dataframe thead th {\n",
       "        text-align: right;\n",
       "    }\n",
       "</style>\n",
       "<table border=\"1\" class=\"dataframe\">\n",
       "  <thead>\n",
       "    <tr style=\"text-align: right;\">\n",
       "      <th></th>\n",
       "      <th>SHCOMP Index</th>\n",
       "      <th>HSI Index</th>\n",
       "      <th>SPXT  Index</th>\n",
       "      <th>LUATTRUU Index</th>\n",
       "      <th>CNDR1Y index</th>\n",
       "      <th>SHCOMP Index PE</th>\n",
       "      <th>HSI Index PE</th>\n",
       "      <th>SPX Index PE</th>\n",
       "      <th>FDTRMID Index</th>\n",
       "    </tr>\n",
       "    <tr>\n",
       "      <th></th>\n",
       "      <th></th>\n",
       "      <th></th>\n",
       "      <th></th>\n",
       "      <th></th>\n",
       "      <th></th>\n",
       "      <th></th>\n",
       "      <th></th>\n",
       "      <th></th>\n",
       "      <th></th>\n",
       "    </tr>\n",
       "  </thead>\n",
       "  <tbody>\n",
       "    <tr>\n",
       "      <th>1998-01-30</th>\n",
       "      <td>147.7269</td>\n",
       "      <td>9899.9921</td>\n",
       "      <td>10871.21858</td>\n",
       "      <td>907.55</td>\n",
       "      <td>5.67</td>\n",
       "      <td>37.9330</td>\n",
       "      <td>8.2468</td>\n",
       "      <td>22.3680</td>\n",
       "      <td>5.5</td>\n",
       "    </tr>\n",
       "    <tr>\n",
       "      <th>1998-02-27</th>\n",
       "      <td>145.7360</td>\n",
       "      <td>12281.7879</td>\n",
       "      <td>11655.87159</td>\n",
       "      <td>904.85</td>\n",
       "      <td>5.67</td>\n",
       "      <td>37.4248</td>\n",
       "      <td>10.2275</td>\n",
       "      <td>23.9623</td>\n",
       "      <td>5.5</td>\n",
       "    </tr>\n",
       "    <tr>\n",
       "      <th>1998-03-31</th>\n",
       "      <td>150.0403</td>\n",
       "      <td>12394.0860</td>\n",
       "      <td>12253.33916</td>\n",
       "      <td>907.32</td>\n",
       "      <td>5.22</td>\n",
       "      <td>38.5320</td>\n",
       "      <td>10.2081</td>\n",
       "      <td>25.0065</td>\n",
       "      <td>5.5</td>\n",
       "    </tr>\n",
       "    <tr>\n",
       "      <th>1998-04-30</th>\n",
       "      <td>162.3269</td>\n",
       "      <td>11214.0025</td>\n",
       "      <td>12374.52510</td>\n",
       "      <td>911.36</td>\n",
       "      <td>5.22</td>\n",
       "      <td>41.6718</td>\n",
       "      <td>9.2122</td>\n",
       "      <td>25.3444</td>\n",
       "      <td>5.5</td>\n",
       "    </tr>\n",
       "    <tr>\n",
       "      <th>1998-05-29</th>\n",
       "      <td>170.6034</td>\n",
       "      <td>9704.1920</td>\n",
       "      <td>12163.88960</td>\n",
       "      <td>920.83</td>\n",
       "      <td>5.22</td>\n",
       "      <td>43.7736</td>\n",
       "      <td>7.9253</td>\n",
       "      <td>25.0354</td>\n",
       "      <td>5.5</td>\n",
       "    </tr>\n",
       "  </tbody>\n",
       "</table>\n",
       "</div>"
      ],
      "text/plain": [
       "            SHCOMP Index   HSI Index  SPXT  Index  LUATTRUU Index  \\\n",
       "                                                                    \n",
       "1998-01-30      147.7269   9899.9921  10871.21858          907.55   \n",
       "1998-02-27      145.7360  12281.7879  11655.87159          904.85   \n",
       "1998-03-31      150.0403  12394.0860  12253.33916          907.32   \n",
       "1998-04-30      162.3269  11214.0025  12374.52510          911.36   \n",
       "1998-05-29      170.6034   9704.1920  12163.88960          920.83   \n",
       "\n",
       "            CNDR1Y index  SHCOMP Index PE  HSI Index PE  SPX Index PE  \\\n",
       "                                                                        \n",
       "1998-01-30          5.67          37.9330        8.2468       22.3680   \n",
       "1998-02-27          5.67          37.4248       10.2275       23.9623   \n",
       "1998-03-31          5.22          38.5320       10.2081       25.0065   \n",
       "1998-04-30          5.22          41.6718        9.2122       25.3444   \n",
       "1998-05-29          5.22          43.7736        7.9253       25.0354   \n",
       "\n",
       "            FDTRMID Index  \n",
       "                           \n",
       "1998-01-30            5.5  \n",
       "1998-02-27            5.5  \n",
       "1998-03-31            5.5  \n",
       "1998-04-30            5.5  \n",
       "1998-05-29            5.5  "
      ]
     },
     "execution_count": 6,
     "metadata": {},
     "output_type": "execute_result"
    }
   ],
   "source": [
    "df.head()"
   ]
  },
  {
   "cell_type": "code",
   "execution_count": 7,
   "metadata": {},
   "outputs": [],
   "source": [
    "df = df.merge(wind, left_index=True, right_index=True)"
   ]
  },
  {
   "cell_type": "code",
   "execution_count": 8,
   "metadata": {},
   "outputs": [],
   "source": [
    "a_stock, hk_stock, us_stock = 'Wind Index', 'HSI Index', 'SPXT  Index'\n",
    "asset_columns = [a_stock, hk_stock, us_stock, 'LUATTRUU Index']"
   ]
  },
  {
   "cell_type": "code",
   "execution_count": 9,
   "metadata": {},
   "outputs": [],
   "source": [
    "assets_ret = df[asset_columns].pct_change()"
   ]
  },
  {
   "cell_type": "code",
   "execution_count": 10,
   "metadata": {},
   "outputs": [],
   "source": [
    "fed_rate = df['FDTRMID Index']"
   ]
  },
  {
   "cell_type": "markdown",
   "metadata": {},
   "source": [
    "# 计算估值偏离"
   ]
  },
  {
   "cell_type": "code",
   "execution_count": 11,
   "metadata": {},
   "outputs": [],
   "source": [
    "pe = df[['Wind Index PE', 'HSI Index PE', 'SPX Index PE']]"
   ]
  },
  {
   "cell_type": "code",
   "execution_count": 12,
   "metadata": {},
   "outputs": [],
   "source": [
    "pe_dev = (pe - pe.rolling(60).mean()) / pe.rolling(60).mean()"
   ]
  },
  {
   "cell_type": "code",
   "execution_count": 13,
   "metadata": {},
   "outputs": [],
   "source": [
    "pe_dev = pe_dev.dropna()"
   ]
  },
  {
   "cell_type": "markdown",
   "metadata": {},
   "source": [
    "# 回测"
   ]
  },
  {
   "cell_type": "code",
   "execution_count": 14,
   "metadata": {},
   "outputs": [],
   "source": [
    "# 判断当前状态\n",
    "def regime_weight(date):\n",
    "    rate_change = fed_rate[fed_rate.index <= date].diff(3).iloc[-1]\n",
    "    if rate_change == 0:\n",
    "        return np.array([0.3, 0.3, 0.3, 0.1])\n",
    "    elif rate_change > 0:\n",
    "        return np.array([1./3, 1./3, 1./3, 0.])\n",
    "    else:\n",
    "        return np.array([0.8/3, 0.8/3, 0.8/3, 0.2])"
   ]
  },
  {
   "cell_type": "code",
   "execution_count": 15,
   "metadata": {},
   "outputs": [],
   "source": [
    "def weight_change(w, dev):\n",
    "    if dev < -0.3:\n",
    "        return w + 0.35\n",
    "    elif -0.3 <= dev and dev < -0.2:\n",
    "        return w + 0.25\n",
    "    elif -0.2 <= dev and dev < -0.1:\n",
    "        return w + 0.15\n",
    "    elif 0.1 <= dev and dev < 0.2:\n",
    "        return max(0, w - 0.15)\n",
    "    elif 0.2 <= dev and dev < 0.3:\n",
    "        return max(0, w - 0.25)\n",
    "    elif dev >= 0.3:\n",
    "        return max(0, w - 0.35)\n",
    "    else:\n",
    "        return w"
   ]
  },
  {
   "cell_type": "code",
   "execution_count": 16,
   "metadata": {},
   "outputs": [],
   "source": [
    "def calc_weight(date):\n",
    "#     print(date)\n",
    "    w = regime_weight(date)\n",
    "    current_pe_dev = pe_dev[pe_dev.index <= date].loc[date]\n",
    "    \n",
    "#     print(w)\n",
    "    \n",
    "    init_w = w[:3].sum()\n",
    "    w[0] = weight_change(w[0], current_pe_dev['Wind Index PE'])\n",
    "    w[1] = weight_change(w[1], current_pe_dev['HSI Index PE'])\n",
    "    w[2] = weight_change(w[2], current_pe_dev['SPX Index PE'])\n",
    "    \n",
    "#     print(w)\n",
    "\n",
    "    sum_w = w[:3].sum()\n",
    "    w[0] = w[0] * init_w / sum_w\n",
    "    w[1] = w[1] * init_w / sum_w\n",
    "    w[2] = w[2] * init_w / sum_w\n",
    "    \n",
    "#     print(w)\n",
    "\n",
    "    return w"
   ]
  },
  {
   "cell_type": "code",
   "execution_count": 17,
   "metadata": {},
   "outputs": [],
   "source": [
    "assets_ret = assets_ret[assets_ret.index >= '2012-01-01']"
   ]
  },
  {
   "cell_type": "code",
   "execution_count": 18,
   "metadata": {},
   "outputs": [],
   "source": [
    "weight = pd.DataFrame(columns=assets_ret.columns, index=assets_ret.index)\n",
    "n = assets_ret.shape[1]\n",
    "wb = np.zeros(n)\n",
    "\n",
    "for date in weight.index:\n",
    "    wb = calc_weight(date)\n",
    "    weight.loc[date] = wb"
   ]
  },
  {
   "cell_type": "code",
   "execution_count": 19,
   "metadata": {},
   "outputs": [],
   "source": [
    "portfolio = (weight.shift(1) * assets_ret).sum(axis=1)"
   ]
  },
  {
   "cell_type": "code",
   "execution_count": 20,
   "metadata": {},
   "outputs": [
    {
     "data": {
      "text/plain": [
       "2018-12-31   -0.056939\n",
       "2019-01-31    0.042579\n",
       "2019-02-28    0.098394\n",
       "2019-03-29    0.045384\n",
       "2019-04-30    0.016574\n",
       "dtype: float64"
      ]
     },
     "execution_count": 20,
     "metadata": {},
     "output_type": "execute_result"
    }
   ],
   "source": [
    "portfolio.tail()"
   ]
  },
  {
   "cell_type": "code",
   "execution_count": 21,
   "metadata": {},
   "outputs": [],
   "source": [
    "portfolio = portfolio[portfolio != 0]"
   ]
  },
  {
   "cell_type": "code",
   "execution_count": 22,
   "metadata": {},
   "outputs": [
    {
     "name": "stdout",
     "output_type": "stream",
     "text": [
      "Annual return: 12.98%\n",
      "Sharpe ratio: 1.07\n",
      "Annual volatility: 12.18%\n",
      "Max drawdown: -15.67%\n"
     ]
    }
   ],
   "source": [
    "metric(portfolio)"
   ]
  },
  {
   "cell_type": "code",
   "execution_count": 23,
   "metadata": {},
   "outputs": [
    {
     "data": {
      "image/png": "[encoded data removed]",
      "text/plain": [
       "<Figure size 1152x648 with 1 Axes>"
      ]
     },
     "metadata": {},
     "output_type": "display_data"
    }
   ],
   "source": [
    "fig, ax = plt.subplots(figsize=(16, 9))\n",
    "\n",
    "lns1 = ax.plot((1 + portfolio).cumprod(), color='blue', label=u'净值')\n",
    "\n",
    "lns = lns1\n",
    "labs = [l.get_label() for l in lns]\n",
    "ax.legend(lns, labs, frameon=False, fontsize=15, loc='upper center', ncol=2, bbox_to_anchor=(0.5, 1.0))\n",
    "\n",
    "ax.xaxis.set_tick_params(labelsize=15)\n",
    "ax.yaxis.set_tick_params(labelsize=15)\n",
    "vals = ax.get_yticks()\n",
    "ax.set_yticklabels(['{:2.1f}'.format(x) for x in vals])\n",
    "\n",
    "_ = ax.set_title(u'全球购策略回测表现', fontsize=25, y=1.02)"
   ]
  },
  {
   "cell_type": "code",
   "execution_count": 24,
   "metadata": {},
   "outputs": [],
   "source": [
    "weight = weight.astype(np.float32)"
   ]
  },
  {
   "cell_type": "code",
   "execution_count": 25,
   "metadata": {},
   "outputs": [
    {
     "data": {
      "image/png": "[encoded data removed]",
      "text/plain": [
       "<Figure size 1152x648 with 1 Axes>"
      ]
     },
     "metadata": {},
     "output_type": "display_data"
    }
   ],
   "source": [
    "fig, ax = plt.subplots(figsize=(16, 9))\n",
    "_ = ax.stackplot(weight.index, \n",
    "                 weight['Wind Index'],\n",
    "                 weight['HSI Index'],\n",
    "                 weight['SPXT  Index'],\n",
    "                 weight['LUATTRUU Index'],\n",
    "                 labels=[u'上证', u'恒生', u'标普', u'美债'])\n",
    "ax.legend(fontsize=15)\n",
    "ax.xaxis.set_tick_params(labelsize=15)\n",
    "ax.yaxis.set_tick_params(labelsize=15)\n",
    "ax.set_ylabel(u'权重', fontsize=15)\n",
    "ax.set_xlabel(u'日期', fontsize=15)\n",
    "_ = ax.set_title(u'全球购策略历史权重', fontsize=25, y=1.02)"
   ]
  },
  {
   "cell_type": "code",
   "execution_count": 26,
   "metadata": {},
   "outputs": [
    {
     "data": {
      "text/html": [
       "<div>\n",
       "<style scoped>\n",
       "    .dataframe tbody tr th:only-of-type {\n",
       "        vertical-align: middle;\n",
       "    }\n",
       "\n",
       "    .dataframe tbody tr th {\n",
       "        vertical-align: top;\n",
       "    }\n",
       "\n",
       "    .dataframe thead th {\n",
       "        text-align: right;\n",
       "    }\n",
       "</style>\n",
       "<table border=\"1\" class=\"dataframe\">\n",
       "  <thead>\n",
       "    <tr style=\"text-align: right;\">\n",
       "      <th></th>\n",
       "      <th>Wind Index</th>\n",
       "      <th>HSI Index</th>\n",
       "      <th>SPXT  Index</th>\n",
       "      <th>LUATTRUU Index</th>\n",
       "    </tr>\n",
       "  </thead>\n",
       "  <tbody>\n",
       "    <tr>\n",
       "      <th>2018-12-31</th>\n",
       "      <td>0.376344</td>\n",
       "      <td>0.311828</td>\n",
       "      <td>0.311828</td>\n",
       "      <td>0.0</td>\n",
       "    </tr>\n",
       "    <tr>\n",
       "      <th>2019-01-31</th>\n",
       "      <td>0.466667</td>\n",
       "      <td>0.266667</td>\n",
       "      <td>0.266667</td>\n",
       "      <td>0.0</td>\n",
       "    </tr>\n",
       "    <tr>\n",
       "      <th>2019-02-28</th>\n",
       "      <td>0.420290</td>\n",
       "      <td>0.289855</td>\n",
       "      <td>0.289855</td>\n",
       "      <td>0.0</td>\n",
       "    </tr>\n",
       "    <tr>\n",
       "      <th>2019-03-29</th>\n",
       "      <td>0.300000</td>\n",
       "      <td>0.300000</td>\n",
       "      <td>0.300000</td>\n",
       "      <td>0.1</td>\n",
       "    </tr>\n",
       "    <tr>\n",
       "      <th>2019-04-30</th>\n",
       "      <td>0.300000</td>\n",
       "      <td>0.300000</td>\n",
       "      <td>0.300000</td>\n",
       "      <td>0.1</td>\n",
       "    </tr>\n",
       "  </tbody>\n",
       "</table>\n",
       "</div>"
      ],
      "text/plain": [
       "            Wind Index  HSI Index  SPXT  Index  LUATTRUU Index\n",
       "2018-12-31    0.376344   0.311828     0.311828             0.0\n",
       "2019-01-31    0.466667   0.266667     0.266667             0.0\n",
       "2019-02-28    0.420290   0.289855     0.289855             0.0\n",
       "2019-03-29    0.300000   0.300000     0.300000             0.1\n",
       "2019-04-30    0.300000   0.300000     0.300000             0.1"
      ]
     },
     "execution_count": 26,
     "metadata": {},
     "output_type": "execute_result"
    }
   ],
   "source": [
    "weight.tail()"
   ]
  },
  {
   "cell_type": "code",
   "execution_count": 247,
   "metadata": {},
   "outputs": [],
   "source": [
    "df.to_excel('C:/Users/zhangyang01/Desktop/global strategy.xlsx')"
   ]
  },
  {
   "cell_type": "code",
   "execution_count": 259,
   "metadata": {},
   "outputs": [],
   "source": [
    "weight.to_excel('C:/Users/zhangyang01/Desktop/weight.xlsx')"
   ]
  },
  {
   "cell_type": "code",
   "execution_count": 260,
   "metadata": {},
   "outputs": [],
   "source": [
    "portfolio.to_excel('C:/Users/zhangyang01/Desktop/portfolio.xlsx')"
   ]
  },
  {
   "cell_type": "code",
   "execution_count": null,
   "metadata": {},
   "outputs": [],
   "source": []
  }
 ],
 "metadata": {
  "kernelspec": {
   "display_name": "Python 2",
   "language": "python",
   "name": "python2"
  },
  "language_info": {
   "codemirror_mode": {
    "name": "ipython",
    "version": 2
   },
   "file_extension": ".py",
   "mimetype": "text/x-python",
   "name": "python",
   "nbconvert_exporter": "python",
   "pygments_lexer": "ipython2",
   "version": "2.7.14"
  }
 },
 "nbformat": 4,
 "nbformat_minor": 2
}
