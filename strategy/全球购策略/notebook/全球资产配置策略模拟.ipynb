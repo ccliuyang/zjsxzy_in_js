{
 "cells": [
  {
   "cell_type": "code",
   "execution_count": 1,
   "metadata": {},
   "outputs": [],
   "source": [
    "import pandas as pd\n",
    "import numpy as np\n",
    "import matplotlib.pyplot as plt\n",
    "import empyrical\n",
    "%matplotlib inline"
   ]
  },
  {
   "cell_type": "code",
   "execution_count": 2,
   "metadata": {},
   "outputs": [],
   "source": [
    "def metric(ret):\n",
    "    an_ret = empyrical.annual_return(ret, period='monthly')\n",
    "    vol = empyrical.annual_volatility(ret, period='monthly')\n",
    "    maxdraw = empyrical.max_drawdown(ret)\n",
    "    print('Annual return: %.2f%%'%(an_ret*100))\n",
    "    print('Sharpe ratio: %.2f'%(an_ret / vol))\n",
    "    print('Annual volatility: %.2f%%'%(vol*100))\n",
    "    print('Max drawdown: %.2f%%'%(maxdraw*100))"
   ]
  },
  {
   "cell_type": "markdown",
   "metadata": {},
   "source": [
    "# 读取数据"
   ]
  },
  {
   "cell_type": "code",
   "execution_count": 44,
   "metadata": {},
   "outputs": [],
   "source": [
    "wind = pd.read_excel('../data/wind.xlsx', index_col=0)"
   ]
  },
  {
   "cell_type": "code",
   "execution_count": 45,
   "metadata": {},
   "outputs": [
    {
     "data": {
      "text/html": [
       "<div>\n",
       "<style scoped>\n",
       "    .dataframe tbody tr th:only-of-type {\n",
       "        vertical-align: middle;\n",
       "    }\n",
       "\n",
       "    .dataframe tbody tr th {\n",
       "        vertical-align: top;\n",
       "    }\n",
       "\n",
       "    .dataframe thead th {\n",
       "        text-align: right;\n",
       "    }\n",
       "</style>\n",
       "<table border=\"1\" class=\"dataframe\">\n",
       "  <thead>\n",
       "    <tr style=\"text-align: right;\">\n",
       "      <th></th>\n",
       "      <th>Wind Index</th>\n",
       "      <th>Wind Index PE</th>\n",
       "    </tr>\n",
       "    <tr>\n",
       "      <th>881001.WI</th>\n",
       "      <th></th>\n",
       "      <th></th>\n",
       "    </tr>\n",
       "  </thead>\n",
       "  <tbody>\n",
       "    <tr>\n",
       "      <th>2019-01-31</th>\n",
       "      <td>3333.4650</td>\n",
       "      <td>13.634300</td>\n",
       "    </tr>\n",
       "    <tr>\n",
       "      <th>2019-02-28</th>\n",
       "      <td>3928.2468</td>\n",
       "      <td>16.445101</td>\n",
       "    </tr>\n",
       "    <tr>\n",
       "      <th>2019-03-29</th>\n",
       "      <td>4241.5262</td>\n",
       "      <td>17.484501</td>\n",
       "    </tr>\n",
       "    <tr>\n",
       "      <th>2019-04-30</th>\n",
       "      <td>4180.4348</td>\n",
       "      <td>17.776800</td>\n",
       "    </tr>\n",
       "    <tr>\n",
       "      <th>2019-05-31</th>\n",
       "      <td>3913.6616</td>\n",
       "      <td>16.662600</td>\n",
       "    </tr>\n",
       "  </tbody>\n",
       "</table>\n",
       "</div>"
      ],
      "text/plain": [
       "            Wind Index  Wind Index PE\n",
       "881001.WI                            \n",
       "2019-01-31   3333.4650      13.634300\n",
       "2019-02-28   3928.2468      16.445101\n",
       "2019-03-29   4241.5262      17.484501\n",
       "2019-04-30   4180.4348      17.776800\n",
       "2019-05-31   3913.6616      16.662600"
      ]
     },
     "execution_count": 45,
     "metadata": {},
     "output_type": "execute_result"
    }
   ],
   "source": [
    "wind.tail()"
   ]
  },
  {
   "cell_type": "code",
   "execution_count": 53,
   "metadata": {},
   "outputs": [],
   "source": [
    "df = pd.read_excel(u'../data/global strategy data.xlsx', sheet_name='data', index_col=0)"
   ]
  },
  {
   "cell_type": "code",
   "execution_count": 54,
   "metadata": {},
   "outputs": [
    {
     "data": {
      "text/html": [
       "<div>\n",
       "<style scoped>\n",
       "    .dataframe tbody tr th:only-of-type {\n",
       "        vertical-align: middle;\n",
       "    }\n",
       "\n",
       "    .dataframe tbody tr th {\n",
       "        vertical-align: top;\n",
       "    }\n",
       "\n",
       "    .dataframe thead th {\n",
       "        text-align: right;\n",
       "    }\n",
       "</style>\n",
       "<table border=\"1\" class=\"dataframe\">\n",
       "  <thead>\n",
       "    <tr style=\"text-align: right;\">\n",
       "      <th></th>\n",
       "      <th>SHCOMP Index</th>\n",
       "      <th>HSI Index</th>\n",
       "      <th>SPXT  Index</th>\n",
       "      <th>LUATTRUU Index</th>\n",
       "      <th>CNDR1Y index</th>\n",
       "      <th>SHCOMP Index PE</th>\n",
       "      <th>HSI Index PE</th>\n",
       "      <th>SPX Index PE</th>\n",
       "      <th>FDTRMID Index</th>\n",
       "    </tr>\n",
       "    <tr>\n",
       "      <th>1997-12-31 00:00:00</th>\n",
       "      <th></th>\n",
       "      <th></th>\n",
       "      <th></th>\n",
       "      <th></th>\n",
       "      <th></th>\n",
       "      <th></th>\n",
       "      <th></th>\n",
       "      <th></th>\n",
       "      <th></th>\n",
       "    </tr>\n",
       "  </thead>\n",
       "  <tbody>\n",
       "    <tr>\n",
       "      <th>2019-01-31</th>\n",
       "      <td>3679.0522</td>\n",
       "      <td>48715.9387</td>\n",
       "      <td>36072.47445</td>\n",
       "      <td>2228.135</td>\n",
       "      <td>1.5</td>\n",
       "      <td>12.7806</td>\n",
       "      <td>10.8350</td>\n",
       "      <td>17.8226</td>\n",
       "      <td>2.375</td>\n",
       "    </tr>\n",
       "    <tr>\n",
       "      <th>2019-02-28</th>\n",
       "      <td>4186.3485</td>\n",
       "      <td>49965.6539</td>\n",
       "      <td>37193.47711</td>\n",
       "      <td>2222.100</td>\n",
       "      <td>1.5</td>\n",
       "      <td>14.5389</td>\n",
       "      <td>11.1028</td>\n",
       "      <td>18.3580</td>\n",
       "      <td>2.375</td>\n",
       "    </tr>\n",
       "    <tr>\n",
       "      <th>2019-03-29</th>\n",
       "      <td>4399.9193</td>\n",
       "      <td>50900.1080</td>\n",
       "      <td>38020.42197</td>\n",
       "      <td>2264.523</td>\n",
       "      <td>1.5</td>\n",
       "      <td>14.9193</td>\n",
       "      <td>11.4046</td>\n",
       "      <td>18.6156</td>\n",
       "      <td>2.375</td>\n",
       "    </tr>\n",
       "    <tr>\n",
       "      <th>2019-04-30</th>\n",
       "      <td>4383.5161</td>\n",
       "      <td>52252.3762</td>\n",
       "      <td>39693.63159</td>\n",
       "      <td>2258.236</td>\n",
       "      <td>1.5</td>\n",
       "      <td>14.8728</td>\n",
       "      <td>11.6589</td>\n",
       "      <td>19.3267</td>\n",
       "      <td>2.375</td>\n",
       "    </tr>\n",
       "    <tr>\n",
       "      <th>2019-05-31</th>\n",
       "      <td>4139.6283</td>\n",
       "      <td>49097.8631</td>\n",
       "      <td>38111.11128</td>\n",
       "      <td>2311.308</td>\n",
       "      <td>1.5</td>\n",
       "      <td>14.0159</td>\n",
       "      <td>10.5605</td>\n",
       "      <td>18.0404</td>\n",
       "      <td>2.375</td>\n",
       "    </tr>\n",
       "  </tbody>\n",
       "</table>\n",
       "</div>"
      ],
      "text/plain": [
       "                     SHCOMP Index   HSI Index  SPXT  Index  LUATTRUU Index  \\\n",
       "1997-12-31 00:00:00                                                          \n",
       "2019-01-31              3679.0522  48715.9387  36072.47445        2228.135   \n",
       "2019-02-28              4186.3485  49965.6539  37193.47711        2222.100   \n",
       "2019-03-29              4399.9193  50900.1080  38020.42197        2264.523   \n",
       "2019-04-30              4383.5161  52252.3762  39693.63159        2258.236   \n",
       "2019-05-31              4139.6283  49097.8631  38111.11128        2311.308   \n",
       "\n",
       "                     CNDR1Y index  SHCOMP Index PE  HSI Index PE  \\\n",
       "1997-12-31 00:00:00                                                \n",
       "2019-01-31                    1.5          12.7806       10.8350   \n",
       "2019-02-28                    1.5          14.5389       11.1028   \n",
       "2019-03-29                    1.5          14.9193       11.4046   \n",
       "2019-04-30                    1.5          14.8728       11.6589   \n",
       "2019-05-31                    1.5          14.0159       10.5605   \n",
       "\n",
       "                     SPX Index PE  FDTRMID Index  \n",
       "1997-12-31 00:00:00                               \n",
       "2019-01-31                17.8226          2.375  \n",
       "2019-02-28                18.3580          2.375  \n",
       "2019-03-29                18.6156          2.375  \n",
       "2019-04-30                19.3267          2.375  \n",
       "2019-05-31                18.0404          2.375  "
      ]
     },
     "execution_count": 54,
     "metadata": {},
     "output_type": "execute_result"
    }
   ],
   "source": [
    "df.tail()"
   ]
  },
  {
   "cell_type": "code",
   "execution_count": 55,
   "metadata": {},
   "outputs": [],
   "source": [
    "df = df.merge(wind, left_index=True, right_index=True)"
   ]
  },
  {
   "cell_type": "code",
   "execution_count": 56,
   "metadata": {},
   "outputs": [],
   "source": [
    "a_stock, hk_stock, us_stock = 'Wind Index', 'HSI Index', 'SPXT  Index'\n",
    "asset_columns = [a_stock, hk_stock, us_stock, 'LUATTRUU Index']"
   ]
  },
  {
   "cell_type": "code",
   "execution_count": 57,
   "metadata": {},
   "outputs": [],
   "source": [
    "assets_ret = df[asset_columns].pct_change()"
   ]
  },
  {
   "cell_type": "code",
   "execution_count": 58,
   "metadata": {},
   "outputs": [],
   "source": [
    "fed_rate = df['FDTRMID Index']"
   ]
  },
  {
   "cell_type": "markdown",
   "metadata": {},
   "source": [
    "# 计算估值偏离"
   ]
  },
  {
   "cell_type": "code",
   "execution_count": 59,
   "metadata": {},
   "outputs": [],
   "source": [
    "pe = df[['Wind Index PE', 'HSI Index PE', 'SPX Index PE']]"
   ]
  },
  {
   "cell_type": "code",
   "execution_count": 60,
   "metadata": {},
   "outputs": [],
   "source": [
    "pe_dev = (pe - pe.rolling(60).mean()) / pe.rolling(60).mean()"
   ]
  },
  {
   "cell_type": "code",
   "execution_count": 61,
   "metadata": {},
   "outputs": [],
   "source": [
    "pe_dev = pe_dev.dropna()"
   ]
  },
  {
   "cell_type": "markdown",
   "metadata": {},
   "source": [
    "# 回测"
   ]
  },
  {
   "cell_type": "code",
   "execution_count": 62,
   "metadata": {},
   "outputs": [],
   "source": [
    "# 判断当前状态\n",
    "def regime_weight(date):\n",
    "    rate_change = fed_rate[fed_rate.index <= date].diff(3).iloc[-1]\n",
    "    if rate_change == 0:\n",
    "        return np.array([0.3, 0.3, 0.3, 0.1])\n",
    "    elif rate_change > 0:\n",
    "        return np.array([1./3, 1./3, 1./3, 0.])\n",
    "    else:\n",
    "        return np.array([0.8/3, 0.8/3, 0.8/3, 0.2])"
   ]
  },
  {
   "cell_type": "code",
   "execution_count": 63,
   "metadata": {},
   "outputs": [],
   "source": [
    "def weight_change(w, dev):\n",
    "    if dev < -0.3:\n",
    "        return w + 0.35\n",
    "    elif -0.3 <= dev and dev < -0.2:\n",
    "        return w + 0.25\n",
    "    elif -0.2 <= dev and dev < -0.1:\n",
    "        return w + 0.15\n",
    "    elif 0.1 <= dev and dev < 0.2:\n",
    "        return max(0, w - 0.15)\n",
    "    elif 0.2 <= dev and dev < 0.3:\n",
    "        return max(0, w - 0.25)\n",
    "    elif dev >= 0.3:\n",
    "        return max(0, w - 0.35)\n",
    "    else:\n",
    "        return w"
   ]
  },
  {
   "cell_type": "code",
   "execution_count": 64,
   "metadata": {},
   "outputs": [],
   "source": [
    "def calc_weight(date):\n",
    "#     print(date)\n",
    "    w = regime_weight(date)\n",
    "    current_pe_dev = pe_dev[pe_dev.index <= date].loc[date]\n",
    "    \n",
    "#     print(w)\n",
    "    \n",
    "    init_w = w[:3].sum()\n",
    "    w[0] = weight_change(w[0], current_pe_dev['Wind Index PE'])\n",
    "    w[1] = weight_change(w[1], current_pe_dev['HSI Index PE'])\n",
    "    w[2] = weight_change(w[2], current_pe_dev['SPX Index PE'])\n",
    "    \n",
    "#     print(w)\n",
    "\n",
    "    sum_w = w[:3].sum()\n",
    "    w[0] = w[0] * init_w / sum_w\n",
    "    w[1] = w[1] * init_w / sum_w\n",
    "    w[2] = w[2] * init_w / sum_w\n",
    "    \n",
    "#     print(w)\n",
    "\n",
    "    return w"
   ]
  },
  {
   "cell_type": "code",
   "execution_count": 65,
   "metadata": {},
   "outputs": [],
   "source": [
    "assets_ret = assets_ret[assets_ret.index >= '2012-01-01']"
   ]
  },
  {
   "cell_type": "code",
   "execution_count": 66,
   "metadata": {},
   "outputs": [],
   "source": [
    "weight = pd.DataFrame(columns=assets_ret.columns, index=assets_ret.index)\n",
    "n = assets_ret.shape[1]\n",
    "wb = np.zeros(n)\n",
    "\n",
    "for date in weight.index:\n",
    "    wb = calc_weight(date)\n",
    "    weight.loc[date] = wb"
   ]
  },
  {
   "cell_type": "code",
   "execution_count": 67,
   "metadata": {},
   "outputs": [],
   "source": [
    "portfolio = (weight.shift(1) * assets_ret).sum(axis=1)"
   ]
  },
  {
   "cell_type": "code",
   "execution_count": 68,
   "metadata": {},
   "outputs": [
    {
     "data": {
      "text/plain": [
       "2019-01-31    0.042579\n",
       "2019-02-28    0.098394\n",
       "2019-03-29    0.045384\n",
       "2019-04-30    0.016574\n",
       "2019-05-31   -0.046866\n",
       "dtype: float64"
      ]
     },
     "execution_count": 68,
     "metadata": {},
     "output_type": "execute_result"
    }
   ],
   "source": [
    "portfolio.tail()"
   ]
  },
  {
   "cell_type": "code",
   "execution_count": 69,
   "metadata": {},
   "outputs": [],
   "source": [
    "portfolio = portfolio[portfolio != 0]"
   ]
  },
  {
   "cell_type": "code",
   "execution_count": 70,
   "metadata": {},
   "outputs": [
    {
     "name": "stdout",
     "output_type": "stream",
     "text": [
      "Annual return: 12.09%\n",
      "Sharpe ratio: 0.98\n",
      "Annual volatility: 12.30%\n",
      "Max drawdown: -15.67%\n"
     ]
    }
   ],
   "source": [
    "metric(portfolio)"
   ]
  },
  {
   "cell_type": "code",
   "execution_count": 71,
   "metadata": {},
   "outputs": [
    {
     "data": {
      "image/png": "[encoded data removed]",
      "text/plain": [
       "<Figure size 1152x648 with 1 Axes>"
      ]
     },
     "metadata": {},
     "output_type": "display_data"
    }
   ],
   "source": [
    "fig, ax = plt.subplots(figsize=(16, 9))\n",
    "\n",
    "lns1 = ax.plot((1 + portfolio).cumprod(), color='blue', label=u'净值')\n",
    "\n",
    "lns = lns1\n",
    "labs = [l.get_label() for l in lns]\n",
    "ax.legend(lns, labs, frameon=False, fontsize=15, loc='upper center', ncol=2, bbox_to_anchor=(0.5, 1.0))\n",
    "\n",
    "ax.xaxis.set_tick_params(labelsize=15)\n",
    "ax.yaxis.set_tick_params(labelsize=15)\n",
    "vals = ax.get_yticks()\n",
    "ax.set_yticklabels(['{:2.1f}'.format(x) for x in vals])\n",
    "\n",
    "_ = ax.set_title(u'全球购策略回测表现', fontsize=25, y=1.02)"
   ]
  },
  {
   "cell_type": "code",
   "execution_count": 72,
   "metadata": {},
   "outputs": [],
   "source": [
    "weight = weight.astype(np.float32)"
   ]
  },
  {
   "cell_type": "code",
   "execution_count": 73,
   "metadata": {},
   "outputs": [
    {
     "data": {
      "image/png": "[encoded data removed]",
      "text/plain": [
       "<Figure size 1152x648 with 1 Axes>"
      ]
     },
     "metadata": {},
     "output_type": "display_data"
    }
   ],
   "source": [
    "fig, ax = plt.subplots(figsize=(16, 9))\n",
    "_ = ax.stackplot(weight.index, \n",
    "                 weight['Wind Index'],\n",
    "                 weight['HSI Index'],\n",
    "                 weight['SPXT  Index'],\n",
    "                 weight['LUATTRUU Index'],\n",
    "                 labels=[u'上证', u'恒生', u'标普', u'美债'])\n",
    "ax.legend(fontsize=15)\n",
    "ax.xaxis.set_tick_params(labelsize=15)\n",
    "ax.yaxis.set_tick_params(labelsize=15)\n",
    "ax.set_ylabel(u'权重', fontsize=15)\n",
    "ax.set_xlabel(u'日期', fontsize=15)\n",
    "_ = ax.set_title(u'全球购策略历史权重', fontsize=25, y=1.02)"
   ]
  },
  {
   "cell_type": "code",
   "execution_count": 74,
   "metadata": {},
   "outputs": [
    {
     "data": {
      "text/html": [
       "<div>\n",
       "<style scoped>\n",
       "    .dataframe tbody tr th:only-of-type {\n",
       "        vertical-align: middle;\n",
       "    }\n",
       "\n",
       "    .dataframe tbody tr th {\n",
       "        vertical-align: top;\n",
       "    }\n",
       "\n",
       "    .dataframe thead th {\n",
       "        text-align: right;\n",
       "    }\n",
       "</style>\n",
       "<table border=\"1\" class=\"dataframe\">\n",
       "  <thead>\n",
       "    <tr style=\"text-align: right;\">\n",
       "      <th></th>\n",
       "      <th>Wind Index</th>\n",
       "      <th>HSI Index</th>\n",
       "      <th>SPXT  Index</th>\n",
       "      <th>LUATTRUU Index</th>\n",
       "    </tr>\n",
       "  </thead>\n",
       "  <tbody>\n",
       "    <tr>\n",
       "      <th>2019-01-31</th>\n",
       "      <td>0.466667</td>\n",
       "      <td>0.266667</td>\n",
       "      <td>0.266667</td>\n",
       "      <td>0.0</td>\n",
       "    </tr>\n",
       "    <tr>\n",
       "      <th>2019-02-28</th>\n",
       "      <td>0.420290</td>\n",
       "      <td>0.289855</td>\n",
       "      <td>0.289855</td>\n",
       "      <td>0.0</td>\n",
       "    </tr>\n",
       "    <tr>\n",
       "      <th>2019-03-29</th>\n",
       "      <td>0.300000</td>\n",
       "      <td>0.300000</td>\n",
       "      <td>0.300000</td>\n",
       "      <td>0.1</td>\n",
       "    </tr>\n",
       "    <tr>\n",
       "      <th>2019-04-30</th>\n",
       "      <td>0.300000</td>\n",
       "      <td>0.300000</td>\n",
       "      <td>0.300000</td>\n",
       "      <td>0.1</td>\n",
       "    </tr>\n",
       "    <tr>\n",
       "      <th>2019-05-31</th>\n",
       "      <td>0.385714</td>\n",
       "      <td>0.257143</td>\n",
       "      <td>0.257143</td>\n",
       "      <td>0.1</td>\n",
       "    </tr>\n",
       "  </tbody>\n",
       "</table>\n",
       "</div>"
      ],
      "text/plain": [
       "            Wind Index  HSI Index  SPXT  Index  LUATTRUU Index\n",
       "2019-01-31    0.466667   0.266667     0.266667             0.0\n",
       "2019-02-28    0.420290   0.289855     0.289855             0.0\n",
       "2019-03-29    0.300000   0.300000     0.300000             0.1\n",
       "2019-04-30    0.300000   0.300000     0.300000             0.1\n",
       "2019-05-31    0.385714   0.257143     0.257143             0.1"
      ]
     },
     "execution_count": 74,
     "metadata": {},
     "output_type": "execute_result"
    }
   ],
   "source": [
    "weight.tail()"
   ]
  },
  {
   "cell_type": "code",
   "execution_count": 76,
   "metadata": {},
   "outputs": [
    {
     "data": {
      "text/plain": [
       "'0.19285715'"
      ]
     },
     "execution_count": 76,
     "metadata": {},
     "output_type": "execute_result"
    }
   ],
   "source": [
    "'%.8f'%(weight['Wind Index'][-1] / 2)"
   ]
  },
  {
   "cell_type": "code",
   "execution_count": 78,
   "metadata": {},
   "outputs": [
    {
     "data": {
      "text/plain": [
       "'0.25714287'"
      ]
     },
     "execution_count": 78,
     "metadata": {},
     "output_type": "execute_result"
    }
   ],
   "source": [
    "'%.8f'%(weight['HSI Index'][-1])"
   ]
  },
  {
   "cell_type": "code",
   "execution_count": 79,
   "metadata": {},
   "outputs": [
    {
     "data": {
      "text/plain": [
       "'0.25714287'"
      ]
     },
     "execution_count": 79,
     "metadata": {},
     "output_type": "execute_result"
    }
   ],
   "source": [
    "'%.8f'%(weight['SPXT  Index'][-1])"
   ]
  },
  {
   "cell_type": "code",
   "execution_count": 80,
   "metadata": {},
   "outputs": [],
   "source": [
    "weight.to_excel('../data/weight.xlsx')"
   ]
  },
  {
   "cell_type": "code",
   "execution_count": null,
   "metadata": {},
   "outputs": [],
   "source": []
  }
 ],
 "metadata": {
  "kernelspec": {
   "display_name": "Python 2",
   "language": "python",
   "name": "python2"
  },
  "language_info": {
   "codemirror_mode": {
    "name": "ipython",
    "version": 2
   },
   "file_extension": ".py",
   "mimetype": "text/x-python",
   "name": "python",
   "nbconvert_exporter": "python",
   "pygments_lexer": "ipython2",
   "version": "2.7.14"
  }
 },
 "nbformat": 4,
 "nbformat_minor": 2
}
