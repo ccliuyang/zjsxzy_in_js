{
 "cells": [
  {
   "cell_type": "code",
   "execution_count": 42,
   "metadata": {},
   "outputs": [],
   "source": [
    "import datetime\n",
    "import pandas as pd\n",
    "import numpy as np\n",
    "import empyrical\n",
    "import matplotlib.pyplot as plt\n",
    "from WindPy import w\n",
    "import os\n",
    "%matplotlib inline"
   ]
  },
  {
   "cell_type": "code",
   "execution_count": 43,
   "metadata": {},
   "outputs": [
    {
     "data": {
      "text/plain": [
       ".ErrorCode=0\n",
       ".Data=[Already conntected!]"
      ]
     },
     "execution_count": 43,
     "metadata": {},
     "output_type": "execute_result"
    }
   ],
   "source": [
    "w.start()"
   ]
  },
  {
   "cell_type": "markdown",
   "metadata": {},
   "source": [
    "# 定义常量"
   ]
  },
  {
   "cell_type": "code",
   "execution_count": 44,
   "metadata": {},
   "outputs": [],
   "source": [
    "risk_free = 0.015 # 1年期定期存款利率"
   ]
  },
  {
   "cell_type": "code",
   "execution_count": 45,
   "metadata": {},
   "outputs": [],
   "source": [
    "def sharpe_ratio(an_ret, an_vol, risk_free):\n",
    "    return (an_ret - risk_free) / an_vol"
   ]
  },
  {
   "cell_type": "code",
   "execution_count": 46,
   "metadata": {},
   "outputs": [],
   "source": [
    "today = datetime.datetime.today()"
   ]
  },
  {
   "cell_type": "code",
   "execution_count": 47,
   "metadata": {},
   "outputs": [],
   "source": [
    "DIR = u'D:/Data/江苏银行/%s'%(today.strftime('%Y%m%d'))\n",
    "if not os.path.exists(DIR):\n",
    "    os.mkdir(DIR)"
   ]
  },
  {
   "cell_type": "markdown",
   "metadata": {},
   "source": [
    "#### 组合代码"
   ]
  },
  {
   "cell_type": "code",
   "execution_count": 48,
   "metadata": {},
   "outputs": [],
   "source": [
    "PORTFOLIO_CODE = 'JSJJ01'"
   ]
  },
  {
   "cell_type": "markdown",
   "metadata": {},
   "source": [
    "#### 组合名称"
   ]
  },
  {
   "cell_type": "code",
   "execution_count": 49,
   "metadata": {},
   "outputs": [],
   "source": [
    "PORTFOLIO_NAME = u'一键买全球'"
   ]
  },
  {
   "cell_type": "markdown",
   "metadata": {},
   "source": [
    "#### 基金公司对应TA代码"
   ]
  },
  {
   "cell_type": "code",
   "execution_count": 50,
   "metadata": {},
   "outputs": [],
   "source": [
    "COMP2TA = {u'嘉实基金': '07',\n",
    "           u'华夏基金': '03',\n",
    "           u'博时基金': '05',\n",
    "           u'鹏华基金': '06'}"
   ]
  },
  {
   "cell_type": "markdown",
   "metadata": {},
   "source": [
    "#### 基金产品列表"
   ]
  },
  {
   "cell_type": "code",
   "execution_count": 51,
   "metadata": {},
   "outputs": [],
   "source": [
    "# FUNDS = ['070037.OF', '160706.OF', '000008.OF', '070023.OF', '160716.OF', '000342.OF', '000341.OF', '000071.OF', '050025.OF', '000290.OF']\n",
    "# FUNDS = ['070002.OF', '070009.OF', '070012.OF', '070025.OF', '070026.OF'] # 测试1\n",
    "# FUNDS = ['070002.OF', '070012.OF', '070025.OF', '070026.OF'] # 测试2\n",
    "FUNDS = ['070037.OF', '160706.OF', '000008.OF', '000071.OF', '050025.OF'] # 测试3"
   ]
  },
  {
   "cell_type": "markdown",
   "metadata": {},
   "source": [
    "#### 基金产品类型"
   ]
  },
  {
   "cell_type": "code",
   "execution_count": 52,
   "metadata": {},
   "outputs": [],
   "source": [
    "# FUND_TYPES = [2, 1, 1, 1, 1, 7, 7, 7, 7, 7]\n",
    "# FUND_TYPES = [1, 2, 7, 2, 2] # 测试1\n",
    "# FUND_TYPES = [1, 1, 7, 2, 2] # 测试2\n",
    "FUND_TYPES = [2, 1, 1, 7, 7] # 测试3"
   ]
  },
  {
   "cell_type": "markdown",
   "metadata": {},
   "source": [
    "#### 基金公司名称"
   ]
  },
  {
   "cell_type": "code",
   "execution_count": 53,
   "metadata": {},
   "outputs": [],
   "source": [
    "# COMPS = [u'嘉实基金'] * 7 + [u'华夏基金', u'博时基金', u'鹏华基金']\n",
    "# COMPS = [u'嘉实基金'] * 5 # 测试1\n",
    "# COMPS = [u'嘉实基金'] * 4 # 测试2\n",
    "COMPS = [u'嘉实基金'] * 3 +  [u'华夏基金', u'博时基金'] # 测试3"
   ]
  },
  {
   "cell_type": "markdown",
   "metadata": {},
   "source": [
    "#### 基金产品名称"
   ]
  },
  {
   "cell_type": "code",
   "execution_count": 54,
   "metadata": {},
   "outputs": [],
   "source": [
    "FUND_NAMES = [w.wss(code, 'name_official').Data[0][0] for code in FUNDS]"
   ]
  },
  {
   "cell_type": "code",
   "execution_count": 55,
   "metadata": {},
   "outputs": [
    {
     "name": "stdout",
     "output_type": "stream",
     "text": [
      "嘉实纯债债券A\n",
      "嘉实沪深300指数(LOF)\n",
      "嘉实中证500ETF联接基金\n",
      "华夏恒生ETF联接\n",
      "博时标普500ETF联接(QDII)\n"
     ]
    }
   ],
   "source": [
    "for name in FUND_NAMES:\n",
    "    print name"
   ]
  },
  {
   "cell_type": "markdown",
   "metadata": {},
   "source": [
    "# 生成组合产品池文件"
   ]
  },
  {
   "cell_type": "code",
   "execution_count": 56,
   "metadata": {},
   "outputs": [],
   "source": [
    "lines = []\n",
    "for i, code in enumerate(FUNDS):\n",
    "    line = '|'.join([COMP2TA[COMPS[i]], COMPS[i], code.rstrip('.OF'), FUND_NAMES[i], str(FUND_TYPES[i])])\n",
    "    lines.append(line)"
   ]
  },
  {
   "cell_type": "code",
   "execution_count": 57,
   "metadata": {},
   "outputs": [],
   "source": [
    "fname = u'%s/COMB_PRD_00JSCL_%s.TXT'%(DIR, today.strftime('%Y%m%d'))\n",
    "with open(fname, 'w') as f:\n",
    "    f.write('\\n'.join(lines).encode('GBK'))\n",
    "fname = u'%s/COMB_PRD_00JSCL_%s.TXT.OK'%(DIR, today.strftime('%Y%m%d'))\n",
    "with open(fname, 'w') as f:\n",
    "    f.write('')"
   ]
  },
  {
   "cell_type": "markdown",
   "metadata": {},
   "source": [
    "# 生成组合信息文件"
   ]
  },
  {
   "cell_type": "code",
   "execution_count": 58,
   "metadata": {},
   "outputs": [],
   "source": [
    "# wdf = pd.read_excel(u'../data/产品历史占比.xlsx', skiprows=1, index_col=0, sheet_name='Sheet2')\n",
    "# wdf = pd.read_excel(u'../data/产品历史占比.xlsx', skiprows=1, index_col=0, sheet_name='Sheet1') # 测试1\n",
    "# wdf = pd.read_excel(u'../data/产品历史占比.xlsx', skiprows=1, index_col=0, sheet_name='Sheet3') # 测试2\n",
    "wdf = pd.read_excel(u'../data/产品历史占比.xlsx', skiprows=1, index_col=0, sheet_name='Sheet4') # 测试3"
   ]
  },
  {
   "cell_type": "code",
   "execution_count": 59,
   "metadata": {},
   "outputs": [
    {
     "data": {
      "text/html": [
       "<div>\n",
       "<style scoped>\n",
       "    .dataframe tbody tr th:only-of-type {\n",
       "        vertical-align: middle;\n",
       "    }\n",
       "\n",
       "    .dataframe tbody tr th {\n",
       "        vertical-align: top;\n",
       "    }\n",
       "\n",
       "    .dataframe thead th {\n",
       "        text-align: right;\n",
       "    }\n",
       "</style>\n",
       "<table border=\"1\" class=\"dataframe\">\n",
       "  <thead>\n",
       "    <tr style=\"text-align: right;\">\n",
       "      <th></th>\n",
       "      <th>070037</th>\n",
       "      <th>160706</th>\n",
       "      <th>000008</th>\n",
       "      <th>000071</th>\n",
       "      <th>050025</th>\n",
       "    </tr>\n",
       "  </thead>\n",
       "  <tbody>\n",
       "    <tr>\n",
       "      <th>2019-10-23</th>\n",
       "      <td>0.2</td>\n",
       "      <td>0.151515</td>\n",
       "      <td>0.151515</td>\n",
       "      <td>0.30303</td>\n",
       "      <td>0.193939</td>\n",
       "    </tr>\n",
       "    <tr>\n",
       "      <th>2019-10-24</th>\n",
       "      <td>0.2</td>\n",
       "      <td>0.151515</td>\n",
       "      <td>0.151515</td>\n",
       "      <td>0.30303</td>\n",
       "      <td>0.193939</td>\n",
       "    </tr>\n",
       "    <tr>\n",
       "      <th>2019-10-25</th>\n",
       "      <td>0.2</td>\n",
       "      <td>0.151515</td>\n",
       "      <td>0.151515</td>\n",
       "      <td>0.30303</td>\n",
       "      <td>0.193939</td>\n",
       "    </tr>\n",
       "    <tr>\n",
       "      <th>2019-10-28</th>\n",
       "      <td>0.2</td>\n",
       "      <td>0.151515</td>\n",
       "      <td>0.151515</td>\n",
       "      <td>0.30303</td>\n",
       "      <td>0.193939</td>\n",
       "    </tr>\n",
       "    <tr>\n",
       "      <th>2019-10-29</th>\n",
       "      <td>0.2</td>\n",
       "      <td>0.151515</td>\n",
       "      <td>0.151515</td>\n",
       "      <td>0.30303</td>\n",
       "      <td>0.193939</td>\n",
       "    </tr>\n",
       "  </tbody>\n",
       "</table>\n",
       "</div>"
      ],
      "text/plain": [
       "            070037    160706    000008   000071    050025\n",
       "2019-10-23     0.2  0.151515  0.151515  0.30303  0.193939\n",
       "2019-10-24     0.2  0.151515  0.151515  0.30303  0.193939\n",
       "2019-10-25     0.2  0.151515  0.151515  0.30303  0.193939\n",
       "2019-10-28     0.2  0.151515  0.151515  0.30303  0.193939\n",
       "2019-10-29     0.2  0.151515  0.151515  0.30303  0.193939"
      ]
     },
     "execution_count": 59,
     "metadata": {},
     "output_type": "execute_result"
    }
   ],
   "source": [
    "wdf.tail()"
   ]
  },
  {
   "cell_type": "code",
   "execution_count": 60,
   "metadata": {},
   "outputs": [],
   "source": [
    "wdf = wdf[wdf.index >= '2018-10-01'] # 最近一年"
   ]
  },
  {
   "cell_type": "code",
   "execution_count": 61,
   "metadata": {},
   "outputs": [],
   "source": [
    "elements = []\n",
    "elements.append(PORTFOLIO_CODE)                                             # 组合编号\n",
    "elements.append(PORTFOLIO_NAME)                                             # 组合名称\n",
    "elements.append(','.join([COMP2TA[c] for c in COMPS]))                      # TA代码\n",
    "elements.append(','.join(COMPS))                                            # TA名称\n",
    "elements.append(','.join([code.rstrip('.OF') for code in FUNDS]))           # 产品代码\n",
    "elements.append(','.join(FUND_NAMES))                                       # 产品名称\n",
    "elements.append(','.join([str(0)] * len(FUNDS)))                            # 产品属性\n",
    "elements.append(','.join(['%.8f'%(weight) for weight in wdf.iloc[-1]]))     # 产品占比\n",
    "elements.append('720-1800')                                                 # 投资期限\n",
    "elements.append('4')                                                        # 风险承受能力\n",
    "elements.append(today.strftime('%Y%m%d'))                                   # 组合调整日期\n",
    "elements.append(' ')                                                        # 组合调整说明\n",
    "elements.append(' ')                                                        # 投资金额\n",
    "elements.append(' ')                                                        # 策略方生效日期\n",
    "elements.append(' ')                                                        # 年龄\n",
    "elements.append('000001')                                                   # 策略维度类别\n",
    "elements.append(' ')                                                        # 组合区间信息传\n",
    "elements.append(' ')                                                        # 置信区间\n",
    "elements.append(' ')                                                        # 组合穿透产品底层后真实资产类型\n",
    "elements.append(' ')                                                        # 组合穿透产品底层后真实资产类型占比\n",
    "elements.append(' ')                                                        # 组合管理人代码\n",
    "elements.append(' ')                                                        # 组合管理人名称\n",
    "elements.append(' ')                                                        # 策略方案\n",
    "elements.append(' ')                                                        # 策略类型代码\n",
    "elements.append(' ')                                                        # 策略类型名称\n",
    "elements.append(' ')                                                        # 组合策略描述\n",
    "elements.append(' ')                                                        # 组合风险描述\n",
    "elements.append(' ')                                                        # 备用字段12\n",
    "elements.append(' ')                                                        # 备用字段13"
   ]
  },
  {
   "cell_type": "code",
   "execution_count": 62,
   "metadata": {},
   "outputs": [],
   "source": [
    "fname = u'%s/COMB_INFOR_00JSCL_%s.TXT'%(DIR, today.strftime('%Y%m%d'))\n",
    "with open(fname, 'w') as f:\n",
    "    f.write('|'.join(elements).encode('GBK'))\n",
    "fname = u'%s/COMB_INFOR_00JSCL_%s.TXT.OK'%(DIR, today.strftime('%Y%m%d'))\n",
    "with open(fname, 'w') as f:\n",
    "    f.write('')"
   ]
  },
  {
   "cell_type": "markdown",
   "metadata": {},
   "source": [
    "# 生成组合行情文件"
   ]
  },
  {
   "cell_type": "markdown",
   "metadata": {},
   "source": [
    "## 获取基金历史行情"
   ]
  },
  {
   "cell_type": "code",
   "execution_count": 63,
   "metadata": {},
   "outputs": [],
   "source": [
    "start_date, end_date = wdf.index[0], today - datetime.timedelta(1)"
   ]
  },
  {
   "cell_type": "code",
   "execution_count": 64,
   "metadata": {},
   "outputs": [],
   "source": [
    "data = w.wsd(FUNDS, 'nav', start_date, end_date)"
   ]
  },
  {
   "cell_type": "code",
   "execution_count": 65,
   "metadata": {},
   "outputs": [],
   "source": [
    "df = pd.DataFrame(np.array(data.Data).T, index=data.Times, columns=data.Codes)\n",
    "df.index = pd.to_datetime(df.index)"
   ]
  },
  {
   "cell_type": "code",
   "execution_count": 66,
   "metadata": {},
   "outputs": [],
   "source": [
    "rdf = df.pct_change()"
   ]
  },
  {
   "cell_type": "code",
   "execution_count": 67,
   "metadata": {},
   "outputs": [],
   "source": [
    "wdf.columns = rdf.columns"
   ]
  },
  {
   "cell_type": "code",
   "execution_count": 68,
   "metadata": {},
   "outputs": [
    {
     "name": "stdout",
     "output_type": "stream",
     "text": [
      "Append\n"
     ]
    }
   ],
   "source": [
    "if rdf.shape[0] > wdf.shape[0]: # 补充完整\n",
    "    print('Append')\n",
    "    app_df = pd.DataFrame(np.nan, columns=wdf.columns, index=rdf[rdf.index > wdf.index[-1]].index)\n",
    "    wdf = wdf.append(app_df)\n",
    "    wdf = wdf.fillna(method='ffill')"
   ]
  },
  {
   "cell_type": "code",
   "execution_count": 69,
   "metadata": {},
   "outputs": [],
   "source": [
    "assert(rdf.shape == wdf.shape)"
   ]
  },
  {
   "cell_type": "code",
   "execution_count": 70,
   "metadata": {},
   "outputs": [],
   "source": [
    "portfolio_ret = (wdf * rdf).sum(axis=1)"
   ]
  },
  {
   "cell_type": "code",
   "execution_count": 71,
   "metadata": {},
   "outputs": [
    {
     "data": {
      "text/plain": [
       "2019-10-25    0.001670\n",
       "2019-10-28    0.007090\n",
       "2019-10-29   -0.005130\n",
       "2019-10-30   -0.003311\n",
       "2019-10-31    0.001422\n",
       "dtype: float64"
      ]
     },
     "execution_count": 71,
     "metadata": {},
     "output_type": "execute_result"
    }
   ],
   "source": [
    "portfolio_ret.tail()"
   ]
  },
  {
   "cell_type": "markdown",
   "metadata": {},
   "source": [
    "## 业绩基准"
   ]
  },
  {
   "cell_type": "code",
   "execution_count": 72,
   "metadata": {},
   "outputs": [],
   "source": [
    "bench_index = '000300.SH,H11001.CSI'\n",
    "data = w.wsd(bench_index, 'pct_chg', portfolio_ret.index[0], portfolio_ret.index[-1])"
   ]
  },
  {
   "cell_type": "code",
   "execution_count": 73,
   "metadata": {},
   "outputs": [],
   "source": [
    "bench = pd.DataFrame(np.array(data.Data).T / 100, index=data.Times, columns=bench_index.split(','))"
   ]
  },
  {
   "cell_type": "code",
   "execution_count": 74,
   "metadata": {},
   "outputs": [],
   "source": [
    "bench_ret = bench['000300.SH'] * 0.9 + bench['H11001.CSI'] * 0.1"
   ]
  },
  {
   "cell_type": "code",
   "execution_count": 75,
   "metadata": {},
   "outputs": [],
   "source": [
    "total_invest = 10000\n",
    "mu, sigma = empyrical.annual_return(portfolio_ret), empyrical.annual_volatility(portfolio_ret)\n",
    "rho = 1.65\n",
    "confidence = u'投资%d元，持有一年，模拟历史收益：%d元，90%%的概率下亏损不超过%d元'%\\\n",
    "            (total_invest, mu * total_invest, abs((mu - sigma) * rho * total_invest))"
   ]
  },
  {
   "cell_type": "code",
   "execution_count": 76,
   "metadata": {},
   "outputs": [],
   "source": [
    "elements = []\n",
    "elements.append(today.strftime(\"%Y%m%d\"))                                                      # 发布日期\n",
    "elements.append(PORTFOLIO_CODE)                                                                # 组合编号\n",
    "elements.append(PORTFOLIO_NAME)                                                                # 组合名称\n",
    "elements.append('%.8f'%(empyrical.annual_return(portfolio_ret)))                               # 组合年化收益率\n",
    "elements.append('%.8f'%(empyrical.annual_volatility(portfolio_ret)))                           # 组合年化波动率\n",
    "elements.append('%.8f'%(-empyrical.max_drawdown(portfolio_ret)))                               # 组合最大回撤率\n",
    "elements.append('%.8f'%(sharpe_ratio(empyrical.annual_return(portfolio_ret), \\\n",
    "                                     empyrical.annual_volatility(portfolio_ret), risk_free)))  # 夏普比率\n",
    "elements.append('%.8f'%(empyrical.cum_returns_final(bench_ret)))                               # 组合业绩基准收益率\n",
    "elements.append('%.8f'%(1 + empyrical.cum_returns_final(portfolio_ret)))                       # 组合净值\n",
    "elements.append('%.8f'%(1 + empyrical.cum_returns_final(portfolio_ret)))                       # 组合累计净值\n",
    "elements.append(' ')                                                                           # 组合规模\n",
    "elements.append('%.8f'%(portfolio_ret[-1]))                                                    # 组合日涨幅\n",
    "elements.append('%.8f'%(empyrical.cum_returns_final(portfolio_ret)))                           # 组合累计收益率\n",
    "elements.append('%.8f'%(empyrical.cum_returns_final(bench_ret)))                               # 业绩基准累计收益率\n",
    "elements.append('%s'%(confidence))                                                             # 置信区间\n",
    "elements.append('0,b')                                                                         # 业绩基准指数类型\n",
    "elements.append('0.9,0.1')                                                                     # 业绩基准指数类型占比\n",
    "elements.append(' ')                                                                           # 备用字段2\n",
    "elements.append(' ')                                                                           # 备用字段3\n",
    "elements.append(' ')                                                                           # 备用字段4\n",
    "elements.append(' ')                                                                           # 备用字段5\n",
    "elements.append('')                                                                            # 结束符"
   ]
  },
  {
   "cell_type": "code",
   "execution_count": 77,
   "metadata": {},
   "outputs": [],
   "source": [
    "bench_ret[0] = 0"
   ]
  },
  {
   "cell_type": "code",
   "execution_count": 78,
   "metadata": {},
   "outputs": [
    {
     "data": {
      "text/plain": [
       "0.12345286201591232"
      ]
     },
     "execution_count": 78,
     "metadata": {},
     "output_type": "execute_result"
    }
   ],
   "source": [
    "empyrical.cum_returns_final(portfolio_ret)"
   ]
  },
  {
   "cell_type": "code",
   "execution_count": 79,
   "metadata": {},
   "outputs": [],
   "source": [
    "fname = u'%s/COMB_MARKET_00JSCL_%s.TXT'%(DIR, today.strftime('%Y%m%d'))\n",
    "with open(fname, 'w') as f:\n",
    "    f.write('|'.join(elements).encode('GBK'))\n",
    "fname = u'%s/COMB_MARKET_00JSCL_%s.TXT.OK'%(DIR, today.strftime('%Y%m%d'))\n",
    "with open(fname, 'w') as f:\n",
    "    f.write('')"
   ]
  },
  {
   "cell_type": "code",
   "execution_count": 80,
   "metadata": {},
   "outputs": [
    {
     "data": {
      "image/png": "[encoded data removed]",
      "text/plain": [
       "<Figure size 1152x648 with 1 Axes>"
      ]
     },
     "metadata": {},
     "output_type": "display_data"
    }
   ],
   "source": [
    "fig, ax = plt.subplots(figsize=(16, 9))\n",
    "\n",
    "lns1 = ax.plot((1 + portfolio_ret).cumprod(), color='blue', label=u'组合')\n",
    "lns2 = ax.plot((1 + bench_ret).cumprod(), color='red', label=u'基准')\n",
    "\n",
    "lns = lns1 + lns2\n",
    "labs = [l.get_label() for l in lns]\n",
    "ax.legend(lns, labs, frameon=False, fontsize=15, loc='upper center', ncol=4, bbox_to_anchor=(0.5, 1.0))\n",
    "\n",
    "ax.xaxis.set_tick_params(labelsize=15)\n",
    "ax.yaxis.set_tick_params(labelsize=15)\n",
    "vals = ax.get_yticks()\n",
    "ax.set_yticklabels(['{:2.2f}'.format(x) for x in vals])\n",
    "\n",
    "_ = ax.set_title(u'阿尔法策略历史模拟业绩', fontsize=25, y=1.02)"
   ]
  },
  {
   "cell_type": "code",
   "execution_count": 81,
   "metadata": {},
   "outputs": [],
   "source": [
    "odf = pd.DataFrame({u'组合': ((1 + portfolio_ret).cumprod() - 1),\n",
    "                    u'基准': ((1 + bench_ret).cumprod() - 1)})"
   ]
  },
  {
   "cell_type": "code",
   "execution_count": 82,
   "metadata": {},
   "outputs": [],
   "source": [
    "odf.to_excel(u'../data/组合历史收益率.xlsx')"
   ]
  },
  {
   "cell_type": "code",
   "execution_count": null,
   "metadata": {},
   "outputs": [],
   "source": []
  }
 ],
 "metadata": {
  "kernelspec": {
   "display_name": "Python 2",
   "language": "python",
   "name": "python2"
  },
  "language_info": {
   "codemirror_mode": {
    "name": "ipython",
    "version": 2
   },
   "file_extension": ".py",
   "mimetype": "text/x-python",
   "name": "python",
   "nbconvert_exporter": "python",
   "pygments_lexer": "ipython2",
   "version": "2.7.14"
  }
 },
 "nbformat": 4,
 "nbformat_minor": 4
}
