{
 "cells": [
  {
   "cell_type": "code",
   "execution_count": 1,
   "metadata": {
    "collapsed": true
   },
   "outputs": [],
   "source": [
    "import pandas as pd\n",
    "import numpy as np\n",
    "import empyrical\n",
    "import matplotlib.pyplot as plt\n",
    "%matplotlib inline"
   ]
  },
  {
   "cell_type": "code",
   "execution_count": 56,
   "metadata": {
    "collapsed": true
   },
   "outputs": [],
   "source": [
    "start_date = '2017-12-09'\n",
    "end_date = '2017-12-18'"
   ]
  },
  {
   "cell_type": "code",
   "execution_count": 57,
   "metadata": {
    "collapsed": true
   },
   "outputs": [],
   "source": [
    "DATA_DIR = 'D:/Data/index'"
   ]
  },
  {
   "cell_type": "markdown",
   "metadata": {},
   "source": [
    "# 主题收益率"
   ]
  },
  {
   "cell_type": "code",
   "execution_count": 58,
   "metadata": {
    "collapsed": true
   },
   "outputs": [],
   "source": [
    "df = pd.read_excel(u'D:/Data/list/主题行业.xlsx', index_col=0)"
   ]
  },
  {
   "cell_type": "code",
   "execution_count": 59,
   "metadata": {
    "collapsed": true
   },
   "outputs": [],
   "source": [
    "df[u'收益率'] = 0"
   ]
  },
  {
   "cell_type": "code",
   "execution_count": 60,
   "metadata": {
    "collapsed": true
   },
   "outputs": [],
   "source": [
    "for wind_code in df.index:\n",
    "    fname = '%s/%s.xlsx'%(DATA_DIR, wind_code)\n",
    "    nav = pd.read_excel(fname, index_col=0)\n",
    "    ret = nav.pct_change()\n",
    "    ret = ret[(ret.index >= start_date) & (ret.index <= end_date)]\n",
    "    df.loc[wind_code, u'收益率'] = empyrical.cum_returns_final(ret['close'])"
   ]
  },
  {
   "cell_type": "code",
   "execution_count": 61,
   "metadata": {},
   "outputs": [
    {
     "data": {
      "text/html": [
       "<div>\n",
       "<style>\n",
       "    .dataframe thead tr:only-child th {\n",
       "        text-align: right;\n",
       "    }\n",
       "\n",
       "    .dataframe thead th {\n",
       "        text-align: left;\n",
       "    }\n",
       "\n",
       "    .dataframe tbody tr th {\n",
       "        vertical-align: top;\n",
       "    }\n",
       "</style>\n",
       "<table border=\"1\" class=\"dataframe\">\n",
       "  <thead>\n",
       "    <tr style=\"text-align: right;\">\n",
       "      <th></th>\n",
       "      <th>名称</th>\n",
       "      <th>收益率</th>\n",
       "    </tr>\n",
       "    <tr>\n",
       "      <th>代码</th>\n",
       "      <th></th>\n",
       "      <th></th>\n",
       "    </tr>\n",
       "  </thead>\n",
       "  <tbody>\n",
       "    <tr>\n",
       "      <th>886025.WI</th>\n",
       "      <td>办公用品指数</td>\n",
       "      <td>0.046941</td>\n",
       "    </tr>\n",
       "    <tr>\n",
       "      <th>886043.WI</th>\n",
       "      <td>酒类指数</td>\n",
       "      <td>0.046719</td>\n",
       "    </tr>\n",
       "    <tr>\n",
       "      <th>886035.WI</th>\n",
       "      <td>家用电器指数</td>\n",
       "      <td>0.034504</td>\n",
       "    </tr>\n",
       "    <tr>\n",
       "      <th>886029.WI</th>\n",
       "      <td>机场指数</td>\n",
       "      <td>0.033696</td>\n",
       "    </tr>\n",
       "    <tr>\n",
       "      <th>886066.WI</th>\n",
       "      <td>燃气指数</td>\n",
       "      <td>0.031495</td>\n",
       "    </tr>\n",
       "  </tbody>\n",
       "</table>\n",
       "</div>"
      ],
      "text/plain": [
       "               名称       收益率\n",
       "代码                         \n",
       "886025.WI  办公用品指数  0.046941\n",
       "886043.WI    酒类指数  0.046719\n",
       "886035.WI  家用电器指数  0.034504\n",
       "886029.WI    机场指数  0.033696\n",
       "886066.WI    燃气指数  0.031495"
      ]
     },
     "execution_count": 61,
     "metadata": {},
     "output_type": "execute_result"
    }
   ],
   "source": [
    "df.sort_values(u'收益率', ascending=False).head()"
   ]
  },
  {
   "cell_type": "code",
   "execution_count": 62,
   "metadata": {
    "collapsed": true
   },
   "outputs": [],
   "source": [
    "df.sort_values(u'收益率', ascending=False).to_excel(u'../data/主题.xlsx')"
   ]
  },
  {
   "cell_type": "markdown",
   "metadata": {},
   "source": [
    "# 概念指数"
   ]
  },
  {
   "cell_type": "code",
   "execution_count": 63,
   "metadata": {
    "collapsed": true
   },
   "outputs": [],
   "source": [
    "df = pd.read_excel(u'D:/Data/list/概念板块.xlsx', index_col=0)"
   ]
  },
  {
   "cell_type": "code",
   "execution_count": 64,
   "metadata": {
    "collapsed": true
   },
   "outputs": [],
   "source": [
    "df[u'收益率'] = 0"
   ]
  },
  {
   "cell_type": "code",
   "execution_count": 65,
   "metadata": {
    "collapsed": true
   },
   "outputs": [],
   "source": [
    "for wind_code in df.index:\n",
    "    fname = '%s/%s.xlsx'%(DATA_DIR, wind_code)\n",
    "    nav = pd.read_excel(fname, index_col=0)\n",
    "#     print fname\n",
    "    ret = nav.pct_change()\n",
    "    ret = ret[(ret.index >= start_date) & (ret.index <= end_date)]\n",
    "    df.loc[wind_code, u'收益率'] = empyrical.cum_returns_final(ret['close'])"
   ]
  },
  {
   "cell_type": "code",
   "execution_count": 66,
   "metadata": {},
   "outputs": [
    {
     "data": {
      "text/html": [
       "<div>\n",
       "<style>\n",
       "    .dataframe thead tr:only-child th {\n",
       "        text-align: right;\n",
       "    }\n",
       "\n",
       "    .dataframe thead th {\n",
       "        text-align: left;\n",
       "    }\n",
       "\n",
       "    .dataframe tbody tr th {\n",
       "        vertical-align: top;\n",
       "    }\n",
       "</style>\n",
       "<table border=\"1\" class=\"dataframe\">\n",
       "  <thead>\n",
       "    <tr style=\"text-align: right;\">\n",
       "      <th></th>\n",
       "      <th>名称</th>\n",
       "      <th>收益率</th>\n",
       "    </tr>\n",
       "    <tr>\n",
       "      <th>代码</th>\n",
       "      <th></th>\n",
       "      <th></th>\n",
       "    </tr>\n",
       "  </thead>\n",
       "  <tbody>\n",
       "    <tr>\n",
       "      <th>884246.WI</th>\n",
       "      <td>打板指数</td>\n",
       "      <td>0.102907</td>\n",
       "    </tr>\n",
       "    <tr>\n",
       "      <th>884227.WI</th>\n",
       "      <td>新零售指数</td>\n",
       "      <td>0.076104</td>\n",
       "    </tr>\n",
       "    <tr>\n",
       "      <th>884223.WI</th>\n",
       "      <td>小程序指数</td>\n",
       "      <td>0.051226</td>\n",
       "    </tr>\n",
       "    <tr>\n",
       "      <th>884131.WI</th>\n",
       "      <td>大数据指数</td>\n",
       "      <td>0.046725</td>\n",
       "    </tr>\n",
       "    <tr>\n",
       "      <th>884169.WI</th>\n",
       "      <td>去IOE指数</td>\n",
       "      <td>0.041796</td>\n",
       "    </tr>\n",
       "  </tbody>\n",
       "</table>\n",
       "</div>"
      ],
      "text/plain": [
       "               名称       收益率\n",
       "代码                         \n",
       "884246.WI    打板指数  0.102907\n",
       "884227.WI   新零售指数  0.076104\n",
       "884223.WI   小程序指数  0.051226\n",
       "884131.WI   大数据指数  0.046725\n",
       "884169.WI  去IOE指数  0.041796"
      ]
     },
     "execution_count": 66,
     "metadata": {},
     "output_type": "execute_result"
    }
   ],
   "source": [
    "df.sort_values(u'收益率', ascending=False).head()"
   ]
  },
  {
   "cell_type": "code",
   "execution_count": 67,
   "metadata": {
    "collapsed": true
   },
   "outputs": [],
   "source": [
    "df.sort_values(u'收益率', ascending=False).to_excel(u'../data/概念.xlsx')"
   ]
  },
  {
   "cell_type": "markdown",
   "metadata": {},
   "source": [
    "# 版块指数"
   ]
  },
  {
   "cell_type": "code",
   "execution_count": 68,
   "metadata": {
    "collapsed": true
   },
   "outputs": [],
   "source": [
    "df = pd.read_excel(u'D:/Data/list/板块指数.xlsx', index_col=0)"
   ]
  },
  {
   "cell_type": "code",
   "execution_count": 69,
   "metadata": {
    "collapsed": true
   },
   "outputs": [],
   "source": [
    "df[u'收益率'] = 0"
   ]
  },
  {
   "cell_type": "code",
   "execution_count": 70,
   "metadata": {
    "collapsed": true
   },
   "outputs": [],
   "source": [
    "for wind_code in df.index:\n",
    "    fname = '%s/%s.xlsx'%(DATA_DIR, wind_code)\n",
    "    nav = pd.read_excel(fname, index_col=0)\n",
    "    ret = nav.pct_change()\n",
    "    ret = ret[(ret.index >= start_date) & (ret.index <= end_date)]\n",
    "    df.loc[wind_code, u'收益率'] = empyrical.cum_returns_final(ret['close'])"
   ]
  },
  {
   "cell_type": "code",
   "execution_count": 71,
   "metadata": {},
   "outputs": [
    {
     "data": {
      "text/html": [
       "<div>\n",
       "<style>\n",
       "    .dataframe thead tr:only-child th {\n",
       "        text-align: right;\n",
       "    }\n",
       "\n",
       "    .dataframe thead th {\n",
       "        text-align: left;\n",
       "    }\n",
       "\n",
       "    .dataframe tbody tr th {\n",
       "        vertical-align: top;\n",
       "    }\n",
       "</style>\n",
       "<table border=\"1\" class=\"dataframe\">\n",
       "  <thead>\n",
       "    <tr style=\"text-align: right;\">\n",
       "      <th></th>\n",
       "      <th>名称</th>\n",
       "      <th>收益率</th>\n",
       "    </tr>\n",
       "    <tr>\n",
       "      <th>代码</th>\n",
       "      <th></th>\n",
       "      <th></th>\n",
       "    </tr>\n",
       "  </thead>\n",
       "  <tbody>\n",
       "    <tr>\n",
       "      <th>399101.SZ</th>\n",
       "      <td>中小板综</td>\n",
       "      <td>0.007418</td>\n",
       "    </tr>\n",
       "    <tr>\n",
       "      <th>000852.SH</th>\n",
       "      <td>中证1000</td>\n",
       "      <td>0.006322</td>\n",
       "    </tr>\n",
       "    <tr>\n",
       "      <th>000905.SH</th>\n",
       "      <td>中证500</td>\n",
       "      <td>0.005258</td>\n",
       "    </tr>\n",
       "    <tr>\n",
       "      <th>399106.SZ</th>\n",
       "      <td>深证综指</td>\n",
       "      <td>0.005125</td>\n",
       "    </tr>\n",
       "    <tr>\n",
       "      <th>399102.SZ</th>\n",
       "      <td>创业板综</td>\n",
       "      <td>0.003120</td>\n",
       "    </tr>\n",
       "  </tbody>\n",
       "</table>\n",
       "</div>"
      ],
      "text/plain": [
       "               名称       收益率\n",
       "代码                         \n",
       "399101.SZ    中小板综  0.007418\n",
       "000852.SH  中证1000  0.006322\n",
       "000905.SH   中证500  0.005258\n",
       "399106.SZ    深证综指  0.005125\n",
       "399102.SZ    创业板综  0.003120"
      ]
     },
     "execution_count": 71,
     "metadata": {},
     "output_type": "execute_result"
    }
   ],
   "source": [
    "df.sort_values(u'收益率', ascending=False).head()"
   ]
  },
  {
   "cell_type": "code",
   "execution_count": 72,
   "metadata": {
    "collapsed": true
   },
   "outputs": [],
   "source": [
    "df.sort_values(u'收益率', ascending=False).to_excel(u'../data/板块.xlsx')"
   ]
  },
  {
   "cell_type": "markdown",
   "metadata": {},
   "source": [
    "# 基金公司排名"
   ]
  },
  {
   "cell_type": "code",
   "execution_count": 73,
   "metadata": {
    "collapsed": true
   },
   "outputs": [],
   "source": [
    "nav_fname = u'D:/workspace/data/FOF/comp_ret.xlsx'\n",
    "df = pd.read_excel(nav_fname)\n",
    "fund_comp = pd.read_excel(u'D:/Data/list/基金公司.xlsx')\n",
    "df = df[fund_comp[u'名称']]\n",
    "df.columns = [col.replace(u'基金管理有限公司', '').replace(u'基金管理股份', '').replace(u'基金管理有限责任', '').replace(u'有限公司', '') \n",
    "              for col in df.columns]"
   ]
  },
  {
   "cell_type": "code",
   "execution_count": 74,
   "metadata": {
    "collapsed": true
   },
   "outputs": [],
   "source": [
    "df = df[(df.index >= start_date) & (df.index <= end_date)]"
   ]
  },
  {
   "cell_type": "code",
   "execution_count": 75,
   "metadata": {
    "collapsed": true
   },
   "outputs": [],
   "source": [
    "ret_df = pd.DataFrame({u'名称': df.columns, u'收益率': 0}, index=df.columns)"
   ]
  },
  {
   "cell_type": "code",
   "execution_count": 76,
   "metadata": {
    "collapsed": true
   },
   "outputs": [],
   "source": [
    "for col in df.columns:\n",
    "    ret_df.loc[col, u'收益率'] = empyrical.cum_returns_final(df[col])"
   ]
  },
  {
   "cell_type": "code",
   "execution_count": 77,
   "metadata": {},
   "outputs": [
    {
     "data": {
      "text/html": [
       "<div>\n",
       "<style>\n",
       "    .dataframe thead tr:only-child th {\n",
       "        text-align: right;\n",
       "    }\n",
       "\n",
       "    .dataframe thead th {\n",
       "        text-align: left;\n",
       "    }\n",
       "\n",
       "    .dataframe tbody tr th {\n",
       "        vertical-align: top;\n",
       "    }\n",
       "</style>\n",
       "<table border=\"1\" class=\"dataframe\">\n",
       "  <thead>\n",
       "    <tr style=\"text-align: right;\">\n",
       "      <th></th>\n",
       "      <th>名称</th>\n",
       "      <th>收益率</th>\n",
       "    </tr>\n",
       "  </thead>\n",
       "  <tbody>\n",
       "    <tr>\n",
       "      <th>银华</th>\n",
       "      <td>银华</td>\n",
       "      <td>0.015393</td>\n",
       "    </tr>\n",
       "    <tr>\n",
       "      <th>交银施罗德</th>\n",
       "      <td>交银施罗德</td>\n",
       "      <td>0.014608</td>\n",
       "    </tr>\n",
       "    <tr>\n",
       "      <th>民生加银</th>\n",
       "      <td>民生加银</td>\n",
       "      <td>0.009735</td>\n",
       "    </tr>\n",
       "    <tr>\n",
       "      <th>富国</th>\n",
       "      <td>富国</td>\n",
       "      <td>0.009399</td>\n",
       "    </tr>\n",
       "    <tr>\n",
       "      <th>中银</th>\n",
       "      <td>中银</td>\n",
       "      <td>0.009360</td>\n",
       "    </tr>\n",
       "  </tbody>\n",
       "</table>\n",
       "</div>"
      ],
      "text/plain": [
       "          名称       收益率\n",
       "银华        银华  0.015393\n",
       "交银施罗德  交银施罗德  0.014608\n",
       "民生加银    民生加银  0.009735\n",
       "富国        富国  0.009399\n",
       "中银        中银  0.009360"
      ]
     },
     "execution_count": 77,
     "metadata": {},
     "output_type": "execute_result"
    }
   ],
   "source": [
    "ret_df.sort_values(u'收益率', ascending=False).head()"
   ]
  },
  {
   "cell_type": "code",
   "execution_count": 78,
   "metadata": {
    "collapsed": true
   },
   "outputs": [],
   "source": [
    "ret_df.sort_values(u'收益率', ascending=False).to_excel(u'../data/基金公司.xlsx')"
   ]
  },
  {
   "cell_type": "markdown",
   "metadata": {},
   "source": [
    "# 基金公司与主题指数相关性"
   ]
  },
  {
   "cell_type": "code",
   "execution_count": 79,
   "metadata": {
    "collapsed": true
   },
   "outputs": [],
   "source": [
    "nav_fname = u'D:/workspace/data/FOF/comp_ret.xlsx'\n",
    "df = pd.read_excel(nav_fname)\n",
    "fund_comp = pd.read_excel(u'D:/Data/list/基金公司.xlsx')\n",
    "df = df[fund_comp[u'名称']]\n",
    "df.columns = [col.replace(u'基金管理有限公司', '').replace(u'基金管理股份', '').replace(u'基金管理有限责任', '').replace(u'有限公司', '') \n",
    "              for col in df.columns]"
   ]
  },
  {
   "cell_type": "code",
   "execution_count": 80,
   "metadata": {
    "collapsed": true
   },
   "outputs": [],
   "source": [
    "fund_comp = pd.read_excel(u'../data/基金公司.xlsx')\n",
    "df = df[fund_comp[u'名称']]"
   ]
  },
  {
   "cell_type": "code",
   "execution_count": 81,
   "metadata": {
    "collapsed": true
   },
   "outputs": [],
   "source": [
    "df = df[(df.index >= start_date) & (df.index <= end_date)]"
   ]
  },
  {
   "cell_type": "code",
   "execution_count": 82,
   "metadata": {
    "collapsed": true
   },
   "outputs": [],
   "source": [
    "theme = pd.read_excel(u'../data/主题.xlsx', index_col=0)"
   ]
  },
  {
   "cell_type": "code",
   "execution_count": 83,
   "metadata": {
    "collapsed": true
   },
   "outputs": [],
   "source": [
    "cor_df = pd.DataFrame(index=theme[u'名称'], columns=df.columns)"
   ]
  },
  {
   "cell_type": "code",
   "execution_count": 84,
   "metadata": {},
   "outputs": [
    {
     "name": "stdout",
     "output_type": "stream",
     "text": [
      "办公用品指数\n",
      "酒类指数\n",
      "家用电器指数\n",
      "机场指数\n",
      "燃气指数\n",
      "贵金属指数\n",
      "石油化工指数\n",
      "教育指数\n",
      "发电设备指数\n",
      "半导体指数\n",
      "零售指数\n",
      "食品指数\n",
      "软件指数\n",
      "医疗保健指数\n",
      "农业指数\n",
      "摩托车指数\n",
      "汽车指数\n",
      "日用化工指数\n",
      "制药指数\n",
      "化纤指数\n",
      "环保指数\n",
      "互联网指数\n",
      "工程机械指数\n",
      "精细化工指数\n",
      "电脑硬件指数\n",
      "工业机械指数\n",
      "水务指数\n",
      "生物科技指数\n",
      "化肥农药指数\n",
      "航天军工指数\n",
      "文化传媒指数\n",
      "通信设备指数\n",
      "能源设备指数\n",
      "基本金属指数\n",
      "林木指数\n",
      "商业服务指数\n",
      "陆路运输指数\n",
      "汽车零部件指数\n",
      "航空指数\n",
      "家居用品指数\n",
      "纺织服装指数\n",
      "综合类指数\n",
      "贸易指数\n",
      "化工原料指数\n",
      "电工电网指数\n",
      "公路指数\n",
      "电力指数\n",
      "包装指数\n",
      "海运指数\n",
      "休闲用品指数\n",
      "造纸指数\n",
      "重型机械指数\n",
      "电子元器件指数\n",
      "软饮料指数\n",
      "石油天然气指数\n",
      "港口指数\n",
      "房地产指数\n",
      "建筑指数\n",
      "餐饮旅游指数\n",
      "建材指数\n",
      "煤炭指数\n",
      "保险指数\n",
      "多元金融指数\n",
      "银行指数\n",
      "钢铁指数\n",
      "电信指数\n",
      "券商指数\n"
     ]
    }
   ],
   "source": [
    "for wind_code in theme.index:\n",
    "    fname = '%s/%s.xlsx'%(DATA_DIR, wind_code)\n",
    "    nav = pd.read_excel(fname, index_col=0)\n",
    "    ret = nav.pct_change()\n",
    "    ret = ret[(ret.index >= start_date) & (ret.index <= end_date)]['close']\n",
    "    for col in df.columns:\n",
    "        series = df[col]\n",
    "        cor_df.loc[theme.loc[wind_code, u'名称'], col] = (1+ret).cumprod().corr((1+series).cumprod())\n",
    "    print theme.loc[wind_code, u'名称']"
   ]
  },
  {
   "cell_type": "code",
   "execution_count": 85,
   "metadata": {
    "collapsed": true
   },
   "outputs": [],
   "source": [
    "cor_df.to_excel(u'../data/基金公司-主题.xlsx')"
   ]
  },
  {
   "cell_type": "code",
   "execution_count": 86,
   "metadata": {
    "collapsed": true
   },
   "outputs": [],
   "source": [
    "beta_df = pd.DataFrame(index=theme[u'名称'], columns=df.columns)"
   ]
  },
  {
   "cell_type": "code",
   "execution_count": 87,
   "metadata": {
    "collapsed": true
   },
   "outputs": [],
   "source": [
    "?empyrical.beta"
   ]
  },
  {
   "cell_type": "code",
   "execution_count": 88,
   "metadata": {},
   "outputs": [
    {
     "name": "stdout",
     "output_type": "stream",
     "text": [
      "办公用品指数\n",
      "酒类指数\n",
      "家用电器指数\n",
      "机场指数\n",
      "燃气指数\n",
      "贵金属指数\n",
      "石油化工指数\n",
      "教育指数\n",
      "发电设备指数\n",
      "半导体指数\n",
      "零售指数\n",
      "食品指数\n",
      "软件指数\n",
      "医疗保健指数\n",
      "农业指数\n",
      "摩托车指数\n",
      "汽车指数\n",
      "日用化工指数\n",
      "制药指数\n",
      "化纤指数\n",
      "环保指数\n",
      "互联网指数\n",
      "工程机械指数\n",
      "精细化工指数\n",
      "电脑硬件指数\n",
      "工业机械指数\n",
      "水务指数\n",
      "生物科技指数\n",
      "化肥农药指数\n",
      "航天军工指数\n",
      "文化传媒指数\n",
      "通信设备指数\n",
      "能源设备指数\n",
      "基本金属指数\n",
      "林木指数\n",
      "商业服务指数\n",
      "陆路运输指数\n",
      "汽车零部件指数\n",
      "航空指数\n",
      "家居用品指数\n",
      "纺织服装指数\n",
      "综合类指数\n",
      "贸易指数\n",
      "化工原料指数\n",
      "电工电网指数\n",
      "公路指数\n",
      "电力指数\n",
      "包装指数\n",
      "海运指数\n",
      "休闲用品指数\n",
      "造纸指数\n",
      "重型机械指数\n",
      "电子元器件指数\n",
      "软饮料指数\n",
      "石油天然气指数\n",
      "港口指数\n",
      "房地产指数\n",
      "建筑指数\n",
      "餐饮旅游指数\n",
      "建材指数\n",
      "煤炭指数\n",
      "保险指数\n",
      "多元金融指数\n",
      "银行指数\n",
      "钢铁指数\n",
      "电信指数\n",
      "券商指数\n"
     ]
    }
   ],
   "source": [
    "for wind_code in theme.index:\n",
    "    fname = '%s/%s.xlsx'%(DATA_DIR, wind_code)\n",
    "    nav = pd.read_excel(fname, index_col=0)\n",
    "    ret = nav.pct_change()\n",
    "    ret = ret[(ret.index >= start_date) & (ret.index <= end_date)]['close']\n",
    "    for col in df.columns:\n",
    "        series = df[col]\n",
    "        beta_df.loc[theme.loc[wind_code, u'名称'], col] = empyrical.beta(series, ret)\n",
    "    print theme.loc[wind_code, u'名称']"
   ]
  },
  {
   "cell_type": "code",
   "execution_count": 89,
   "metadata": {
    "collapsed": true
   },
   "outputs": [],
   "source": [
    "beta_df.to_excel(u'../data/基金公司-主题-beta.xlsx')"
   ]
  },
  {
   "cell_type": "markdown",
   "metadata": {},
   "source": [
    "# 基金公司与概念指数相关性"
   ]
  },
  {
   "cell_type": "code",
   "execution_count": 110,
   "metadata": {
    "collapsed": true
   },
   "outputs": [],
   "source": [
    "nav_fname = u'D:/workspace/data/FOF/comp_ret.xlsx'\n",
    "df = pd.read_excel(nav_fname)\n",
    "fund_comp = pd.read_excel(u'D:/Data/list/基金公司.xlsx')\n",
    "df = df[fund_comp[u'名称']]\n",
    "df.columns = [col.replace(u'基金管理有限公司', '').replace(u'基金管理股份', '').replace(u'基金管理有限责任', '').replace(u'有限公司', '') \n",
    "              for col in df.columns]"
   ]
  },
  {
   "cell_type": "code",
   "execution_count": 111,
   "metadata": {
    "collapsed": true
   },
   "outputs": [],
   "source": [
    "fund_comp = pd.read_excel(u'../data/基金公司.xlsx')\n",
    "df = df[fund_comp[u'名称']]"
   ]
  },
  {
   "cell_type": "code",
   "execution_count": 112,
   "metadata": {
    "collapsed": true
   },
   "outputs": [],
   "source": [
    "df = df[(df.index >= start_date) & (df.index <= end_date)]"
   ]
  },
  {
   "cell_type": "code",
   "execution_count": 113,
   "metadata": {
    "collapsed": true
   },
   "outputs": [],
   "source": [
    "concept = pd.read_excel(u'../data/概念.xlsx', index_col=0)"
   ]
  },
  {
   "cell_type": "code",
   "execution_count": 114,
   "metadata": {
    "collapsed": true
   },
   "outputs": [],
   "source": [
    "cor_df = pd.DataFrame(index=concept[u'名称'], columns=df.columns)"
   ]
  },
  {
   "cell_type": "code",
   "execution_count": 95,
   "metadata": {},
   "outputs": [
    {
     "name": "stdout",
     "output_type": "stream",
     "text": [
      "打板指数\n",
      "新零售指数\n",
      "小程序指数\n",
      "大数据指数\n",
      "去IOE指数\n",
      "北部湾自贸区指数\n",
      "O2O指数\n",
      "人工智能指数\n",
      "智能IC卡指数\n",
      "区块链指数\n",
      "钛白粉指数\n",
      "黄金珠宝指数\n",
      "生物识别指数\n",
      "云计算指数\n",
      "基因检测指数\n",
      "ST概念指数\n",
      "芯片国产化指数\n",
      "征信指数\n",
      "物联网指数\n",
      "抗癌指数\n",
      "网红经济指数\n",
      "网络彩票指数\n",
      "3D传感指数\n",
      "电子商务指数\n",
      "白马股指数\n",
      "保底增持指数\n",
      "卫星导航指数\n",
      "新疆区域振兴指数\n",
      "智能交通指数\n",
      "网络安全指数\n",
      "汽车后市场指数\n",
      "新三板指数\n",
      "太阳能发电指数\n",
      "移动支付指数\n",
      "机器人指数\n",
      "3D打印指数\n",
      "健康中国指数\n",
      "赛马指数\n",
      "IPV6指数\n",
      "页岩气和煤层气指数\n",
      "PM2.5指数\n",
      "在线教育指数\n",
      "LNG指数\n",
      "互联网金融指数\n",
      "新能源汽车指数\n",
      "西藏振兴指数\n",
      "高端装备制造指数\n",
      "跨境电商指数\n",
      "维生素指数\n",
      "第三方支付指数\n",
      "二胎政策指数\n",
      "互联网营销指数\n",
      "共享汽车指数\n",
      "智慧城市指数\n",
      "污水处理指数\n",
      "雄安新区指数\n",
      "智能家居指数\n",
      "智慧医疗指数\n",
      "能源互联网指数\n",
      "装配式建筑指数\n",
      "生物疫苗指数\n",
      "上海国资改革指数\n",
      "房屋租赁指数\n",
      "土地流转指数\n",
      "新能源指数\n",
      "国企混改指数\n",
      "上海本地重组指数\n",
      "工业4.0指数\n",
      "可燃冰指数\n",
      "合同能源管理指数\n",
      "职业教育指数\n",
      "高校指数\n",
      "风力发电指数\n",
      "锂电池指数\n",
      "IP流量变现指数\n",
      "中日韩自贸区指数\n",
      "移动转售指数\n",
      "虚拟现实指数\n",
      "小金属指数\n",
      "传感器指数\n",
      "丝绸之路指数\n",
      "海南旅游岛指数\n",
      "最小市值指数\n",
      "环保概念指数\n",
      "通用航空指数\n",
      "安防监控指数\n",
      "生物育种指数\n",
      "重组指数\n",
      "养老产业指数\n",
      "质押式回购指数\n",
      "员工持股指数\n",
      "京津冀一体化指数\n",
      "浦东新区指数\n",
      "国家队指数\n",
      "股权转让指数\n",
      "动漫指数\n",
      "医药电商指数\n",
      "文化传媒概念指数\n",
      "创投指数\n",
      "金融改革指数\n",
      "智能汽车指数\n",
      "鸡指数\n",
      "智能电网指数\n",
      "蓝宝石指数\n",
      "举牌指数\n",
      "融资融券指数\n",
      "债转股指数\n",
      "行业龙头指数\n",
      "扶贫指数\n",
      "高送转概念指数\n",
      "迪士尼指数\n",
      "智能物流指数\n",
      "冷链物流指数\n",
      "航母指数\n",
      "国资改革指数\n",
      "无人机指数\n",
      "民营银行指数\n",
      "军民融合指数\n",
      "猪指数\n",
      "高铁指数\n",
      "垃圾发电指数\n",
      "电子竞技指数\n",
      "装饰园林指数\n",
      "粤港澳大湾区指数\n",
      "新材料指数\n",
      "小盘成长指数\n",
      "建筑节能指数\n",
      "中小创蓝筹指数\n",
      "乙醇汽油指数\n",
      "二线龙头指数\n",
      "增持指数\n",
      "PPP指数\n",
      "天津自贸区指数\n",
      "量子通信指数\n",
      "证金概念指数\n",
      "移动互联网指数\n",
      "民营医院指数\n",
      "体育指数\n",
      "OLED指数\n",
      "一线龙头指数\n",
      "禽流感指数\n",
      "海绵城市指数\n",
      "福建自贸区指数\n",
      "石墨烯指数\n",
      "燃料电池指数\n",
      "5G指数\n",
      "一带一路指数\n",
      "智能穿戴指数\n",
      "宽带提速指数\n",
      "智慧农业指数\n",
      "粤港澳自贸区指数\n",
      "油气改革指数\n",
      "参股金融指数\n",
      "特色小镇指数\n",
      "稀土永磁指数\n",
      "MSCI概念指数\n",
      "绿色节能照明指数\n",
      "网络游戏指数\n",
      "长江经济带指数\n",
      "核能核电指数\n",
      "大央企重组指数\n",
      "沪股通50指数\n",
      "水利水电建设指数\n",
      "食品安全指数\n",
      "智能电视指数\n",
      "充电桩指数\n",
      "染料指数\n",
      "苹果指数\n",
      "在线旅游指数\n",
      "特高压指数\n",
      "广东国资改革指数\n",
      "金控平台指数\n",
      "4G指数\n",
      "特斯拉指数\n",
      "煤电重组指数\n",
      "上海自贸区指数\n",
      "三网融合指数\n",
      "超级电容指数\n",
      "美丽中国指数\n",
      "共享单车指数\n",
      "次新股指数\n",
      "无线充电指数\n"
     ]
    }
   ],
   "source": [
    "for wind_code in concept.index:\n",
    "    fname = '%s/%s.xlsx'%(DATA_DIR, wind_code)\n",
    "    nav = pd.read_excel(fname, index_col=0)\n",
    "    ret = nav.pct_change()\n",
    "    ret = ret[(ret.index >= start_date) & (ret.index <= end_date)]['close']\n",
    "    for col in df.columns:\n",
    "        series = df[col]\n",
    "        cor_df.loc[concept.loc[wind_code, u'名称'], col] = (1+ret).cumprod().corr((1+series).cumprod())\n",
    "    print concept.loc[wind_code, u'名称']"
   ]
  },
  {
   "cell_type": "code",
   "execution_count": 96,
   "metadata": {
    "collapsed": true
   },
   "outputs": [],
   "source": [
    "cor_df.to_excel(u'../data/基金公司-概念.xlsx')"
   ]
  },
  {
   "cell_type": "code",
   "execution_count": 97,
   "metadata": {
    "collapsed": true
   },
   "outputs": [],
   "source": [
    "beta_df = pd.DataFrame(index=concept[u'名称'], columns=df.columns)"
   ]
  },
  {
   "cell_type": "code",
   "execution_count": 98,
   "metadata": {},
   "outputs": [
    {
     "name": "stdout",
     "output_type": "stream",
     "text": [
      "打板指数\n",
      "新零售指数\n",
      "小程序指数\n",
      "大数据指数\n",
      "去IOE指数\n",
      "北部湾自贸区指数\n",
      "O2O指数\n",
      "人工智能指数\n",
      "智能IC卡指数\n",
      "区块链指数\n",
      "钛白粉指数\n",
      "黄金珠宝指数\n",
      "生物识别指数\n",
      "云计算指数\n",
      "基因检测指数\n",
      "ST概念指数\n",
      "芯片国产化指数\n",
      "征信指数\n",
      "物联网指数\n",
      "抗癌指数\n",
      "网红经济指数\n",
      "网络彩票指数\n",
      "3D传感指数\n",
      "电子商务指数\n",
      "白马股指数\n",
      "保底增持指数\n",
      "卫星导航指数\n",
      "新疆区域振兴指数\n",
      "智能交通指数\n",
      "网络安全指数\n",
      "汽车后市场指数\n",
      "新三板指数\n",
      "太阳能发电指数\n",
      "移动支付指数\n",
      "机器人指数\n",
      "3D打印指数\n",
      "健康中国指数\n",
      "赛马指数\n",
      "IPV6指数\n",
      "页岩气和煤层气指数\n",
      "PM2.5指数\n",
      "在线教育指数\n",
      "LNG指数\n",
      "互联网金融指数\n",
      "新能源汽车指数\n",
      "西藏振兴指数\n",
      "高端装备制造指数\n",
      "跨境电商指数\n",
      "维生素指数\n",
      "第三方支付指数\n",
      "二胎政策指数\n",
      "互联网营销指数\n",
      "共享汽车指数\n",
      "智慧城市指数\n",
      "污水处理指数\n",
      "雄安新区指数\n",
      "智能家居指数\n",
      "智慧医疗指数\n",
      "能源互联网指数\n",
      "装配式建筑指数\n",
      "生物疫苗指数\n",
      "上海国资改革指数\n",
      "房屋租赁指数\n",
      "土地流转指数\n",
      "新能源指数\n",
      "国企混改指数\n",
      "上海本地重组指数\n",
      "工业4.0指数\n",
      "可燃冰指数\n",
      "合同能源管理指数\n",
      "职业教育指数\n",
      "高校指数\n",
      "风力发电指数\n",
      "锂电池指数\n",
      "IP流量变现指数\n",
      "中日韩自贸区指数\n",
      "移动转售指数\n",
      "虚拟现实指数\n",
      "小金属指数\n",
      "传感器指数\n",
      "丝绸之路指数\n",
      "海南旅游岛指数\n",
      "最小市值指数\n",
      "环保概念指数\n",
      "通用航空指数\n",
      "安防监控指数\n",
      "生物育种指数\n",
      "重组指数\n",
      "养老产业指数\n",
      "质押式回购指数\n",
      "员工持股指数\n",
      "京津冀一体化指数\n",
      "浦东新区指数\n",
      "国家队指数\n",
      "股权转让指数\n",
      "动漫指数\n",
      "医药电商指数\n",
      "文化传媒概念指数\n",
      "创投指数\n",
      "金融改革指数\n",
      "智能汽车指数\n",
      "鸡指数\n",
      "智能电网指数\n",
      "蓝宝石指数\n",
      "举牌指数\n",
      "融资融券指数\n",
      "债转股指数\n",
      "行业龙头指数\n",
      "扶贫指数\n",
      "高送转概念指数\n",
      "迪士尼指数\n",
      "智能物流指数\n",
      "冷链物流指数\n",
      "航母指数\n",
      "国资改革指数\n",
      "无人机指数\n",
      "民营银行指数\n",
      "军民融合指数\n",
      "猪指数\n",
      "高铁指数\n",
      "垃圾发电指数\n",
      "电子竞技指数\n",
      "装饰园林指数\n",
      "粤港澳大湾区指数\n",
      "新材料指数\n",
      "小盘成长指数\n",
      "建筑节能指数\n",
      "中小创蓝筹指数\n",
      "乙醇汽油指数\n",
      "二线龙头指数\n",
      "增持指数\n",
      "PPP指数\n",
      "天津自贸区指数\n",
      "量子通信指数\n",
      "证金概念指数\n",
      "移动互联网指数\n",
      "民营医院指数\n",
      "体育指数\n",
      "OLED指数\n",
      "一线龙头指数\n",
      "禽流感指数\n",
      "海绵城市指数\n",
      "福建自贸区指数\n",
      "石墨烯指数\n",
      "燃料电池指数\n",
      "5G指数\n",
      "一带一路指数\n",
      "智能穿戴指数\n",
      "宽带提速指数\n",
      "智慧农业指数\n",
      "粤港澳自贸区指数\n",
      "油气改革指数\n",
      "参股金融指数\n",
      "特色小镇指数\n",
      "稀土永磁指数\n",
      "MSCI概念指数\n",
      "绿色节能照明指数\n",
      "网络游戏指数\n",
      "长江经济带指数\n",
      "核能核电指数\n",
      "大央企重组指数\n",
      "沪股通50指数\n",
      "水利水电建设指数\n",
      "食品安全指数\n",
      "智能电视指数\n",
      "充电桩指数\n",
      "染料指数\n",
      "苹果指数\n",
      "在线旅游指数\n",
      "特高压指数\n",
      "广东国资改革指数\n",
      "金控平台指数\n",
      "4G指数\n",
      "特斯拉指数\n",
      "煤电重组指数\n",
      "上海自贸区指数\n",
      "三网融合指数\n",
      "超级电容指数\n",
      "美丽中国指数\n",
      "共享单车指数\n",
      "次新股指数\n",
      "无线充电指数\n"
     ]
    }
   ],
   "source": [
    "for wind_code in concept.index:\n",
    "    fname = '%s/%s.xlsx'%(DATA_DIR, wind_code)\n",
    "    nav = pd.read_excel(fname, index_col=0)\n",
    "    ret = nav.pct_change()\n",
    "    ret = ret[(ret.index >= start_date) & (ret.index <= end_date)]['close']\n",
    "    for col in df.columns:\n",
    "        series = df[col]\n",
    "        beta_df.loc[concept.loc[wind_code, u'名称'], col] = empyrical.beta(series, ret)\n",
    "    print concept.loc[wind_code, u'名称']"
   ]
  },
  {
   "cell_type": "code",
   "execution_count": 99,
   "metadata": {
    "collapsed": true
   },
   "outputs": [],
   "source": [
    "beta_df.to_excel(u'../data/基金公司-概念-beta.xlsx')"
   ]
  },
  {
   "cell_type": "markdown",
   "metadata": {
    "collapsed": true
   },
   "source": [
    "# 基金公司与板块指数相关性"
   ]
  },
  {
   "cell_type": "code",
   "execution_count": 100,
   "metadata": {
    "collapsed": true
   },
   "outputs": [],
   "source": [
    "nav_fname = u'D:/workspace/data/FOF/comp_ret.xlsx'\n",
    "df = pd.read_excel(nav_fname)\n",
    "fund_comp = pd.read_excel(u'D:/Data/list/基金公司.xlsx')\n",
    "df = df[fund_comp[u'名称']]\n",
    "df.columns = [col.replace(u'基金管理有限公司', '').replace(u'基金管理股份', '').replace(u'基金管理有限责任', '').replace(u'有限公司', '') \n",
    "              for col in df.columns]"
   ]
  },
  {
   "cell_type": "code",
   "execution_count": 101,
   "metadata": {
    "collapsed": true
   },
   "outputs": [],
   "source": [
    "fund_comp = pd.read_excel(u'../data/基金公司.xlsx')\n",
    "df = df[fund_comp[u'名称']]"
   ]
  },
  {
   "cell_type": "code",
   "execution_count": 102,
   "metadata": {
    "collapsed": true
   },
   "outputs": [],
   "source": [
    "df = df[(df.index >= start_date) & (df.index <= end_date)]"
   ]
  },
  {
   "cell_type": "code",
   "execution_count": 103,
   "metadata": {
    "collapsed": true
   },
   "outputs": [],
   "source": [
    "sector = pd.read_excel(u'../data/板块.xlsx', index_col=0)"
   ]
  },
  {
   "cell_type": "code",
   "execution_count": 104,
   "metadata": {
    "collapsed": true
   },
   "outputs": [],
   "source": [
    "cor_df = pd.DataFrame(index=sector[u'名称'], columns=df.columns)"
   ]
  },
  {
   "cell_type": "code",
   "execution_count": 105,
   "metadata": {},
   "outputs": [
    {
     "name": "stdout",
     "output_type": "stream",
     "text": [
      "中小板综\n",
      "中证1000\n",
      "中证500\n",
      "深证综指\n",
      "创业板综\n",
      "万得全A\n",
      "中证800\n",
      "沪深300\n",
      "上证综指\n",
      "中证100\n",
      "上证50\n"
     ]
    }
   ],
   "source": [
    "for wind_code in sector.index:\n",
    "    fname = '%s/%s.xlsx'%(DATA_DIR, wind_code)\n",
    "    nav = pd.read_excel(fname, index_col=0)\n",
    "    ret = nav.pct_change()\n",
    "    ret = ret[(ret.index >= start_date) & (ret.index <= end_date)]['close']\n",
    "    for col in df.columns:\n",
    "        series = df[col]\n",
    "        cor_df.loc[sector.loc[wind_code, u'名称'], col] = (1+ret).cumprod().corr((1+series).cumprod())\n",
    "    print sector.loc[wind_code, u'名称']"
   ]
  },
  {
   "cell_type": "code",
   "execution_count": 106,
   "metadata": {
    "collapsed": true
   },
   "outputs": [],
   "source": [
    "cor_df.to_excel(u'../data/基金公司-板块.xlsx')"
   ]
  },
  {
   "cell_type": "code",
   "execution_count": 107,
   "metadata": {
    "collapsed": true
   },
   "outputs": [],
   "source": [
    "beta_df = pd.DataFrame(index=sector[u'名称'], columns=df.columns)"
   ]
  },
  {
   "cell_type": "code",
   "execution_count": 108,
   "metadata": {},
   "outputs": [
    {
     "name": "stdout",
     "output_type": "stream",
     "text": [
      "中小板综\n",
      "中证1000\n",
      "中证500\n",
      "深证综指\n",
      "创业板综\n",
      "万得全A\n",
      "中证800\n",
      "沪深300\n",
      "上证综指\n",
      "中证100\n",
      "上证50\n"
     ]
    }
   ],
   "source": [
    "for wind_code in sector.index:\n",
    "    fname = '%s/%s.xlsx'%(DATA_DIR, wind_code)\n",
    "    nav = pd.read_excel(fname, index_col=0)\n",
    "    ret = nav.pct_change()\n",
    "    ret = ret[(ret.index >= start_date) & (ret.index <= end_date)]['close']\n",
    "    for col in df.columns:\n",
    "        series = df[col]\n",
    "        beta_df.loc[sector.loc[wind_code, u'名称'], col] = empyrical.beta(series, ret)\n",
    "    print sector.loc[wind_code, u'名称']"
   ]
  },
  {
   "cell_type": "code",
   "execution_count": 109,
   "metadata": {
    "collapsed": true
   },
   "outputs": [],
   "source": [
    "beta_df.to_excel(u'../data/基金公司-板块-beta.xlsx')"
   ]
  },
  {
   "cell_type": "code",
   "execution_count": null,
   "metadata": {
    "collapsed": true
   },
   "outputs": [],
   "source": []
  },
  {
   "cell_type": "code",
   "execution_count": null,
   "metadata": {
    "collapsed": true
   },
   "outputs": [],
   "source": []
  }
 ],
 "metadata": {
  "anaconda-cloud": {},
  "kernelspec": {
   "display_name": "Python 2",
   "language": "python",
   "name": "python2"
  },
  "language_info": {
   "codemirror_mode": {
    "name": "ipython",
    "version": 2
   },
   "file_extension": ".py",
   "mimetype": "text/x-python",
   "name": "python",
   "nbconvert_exporter": "python",
   "pygments_lexer": "ipython2",
   "version": "2.7.14"
  }
 },
 "nbformat": 4,
 "nbformat_minor": 1
}
