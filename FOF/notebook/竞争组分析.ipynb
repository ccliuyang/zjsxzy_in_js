{
 "cells": [
  {
   "cell_type": "code",
   "execution_count": 119,
   "metadata": {
    "collapsed": true
   },
   "outputs": [],
   "source": [
    "import pandas as pd\n",
    "import numpy as np\n",
    "import empyrical\n",
    "import matplotlib.pyplot as plt\n",
    "%matplotlib inline"
   ]
  },
  {
   "cell_type": "code",
   "execution_count": 120,
   "metadata": {
    "collapsed": true
   },
   "outputs": [],
   "source": [
    "start_date = '2019-02-25'\n",
    "end_date = '2019-03-04'"
   ]
  },
  {
   "cell_type": "code",
   "execution_count": 121,
   "metadata": {
    "collapsed": true
   },
   "outputs": [],
   "source": [
    "DATA_DIR = 'D:/Data/index'"
   ]
  },
  {
   "cell_type": "markdown",
   "metadata": {},
   "source": [
    "# 主题收益率"
   ]
  },
  {
   "cell_type": "code",
   "execution_count": 122,
   "metadata": {
    "collapsed": true
   },
   "outputs": [],
   "source": [
    "df = pd.read_excel(u'D:/Data/list/主题行业.xlsx', index_col=0)"
   ]
  },
  {
   "cell_type": "code",
   "execution_count": 123,
   "metadata": {
    "collapsed": true
   },
   "outputs": [],
   "source": [
    "df[u'收益率'] = 0"
   ]
  },
  {
   "cell_type": "code",
   "execution_count": 124,
   "metadata": {
    "collapsed": true
   },
   "outputs": [],
   "source": [
    "for wind_code in df.index:\n",
    "    fname = '%s/%s.xlsx'%(DATA_DIR, wind_code)\n",
    "    nav = pd.read_excel(fname, index_col=0)\n",
    "    ret = nav.pct_change()\n",
    "    ret = ret[(ret.index >= start_date) & (ret.index <= end_date)]\n",
    "    df.loc[wind_code, u'收益率'] = empyrical.cum_returns_final(ret['close'])"
   ]
  },
  {
   "cell_type": "code",
   "execution_count": 125,
   "metadata": {},
   "outputs": [
    {
     "data": {
      "text/html": [
       "<div>\n",
       "<style scoped>\n",
       "    .dataframe tbody tr th:only-of-type {\n",
       "        vertical-align: middle;\n",
       "    }\n",
       "\n",
       "    .dataframe tbody tr th {\n",
       "        vertical-align: top;\n",
       "    }\n",
       "\n",
       "    .dataframe thead th {\n",
       "        text-align: right;\n",
       "    }\n",
       "</style>\n",
       "<table border=\"1\" class=\"dataframe\">\n",
       "  <thead>\n",
       "    <tr style=\"text-align: right;\">\n",
       "      <th></th>\n",
       "      <th>名称</th>\n",
       "      <th>收益率</th>\n",
       "    </tr>\n",
       "    <tr>\n",
       "      <th>代码</th>\n",
       "      <th></th>\n",
       "      <th></th>\n",
       "    </tr>\n",
       "  </thead>\n",
       "  <tbody>\n",
       "    <tr>\n",
       "      <th>886053.WI</th>\n",
       "      <td>多元金融指数</td>\n",
       "      <td>0.110376</td>\n",
       "    </tr>\n",
       "    <tr>\n",
       "      <th>886027.WI</th>\n",
       "      <td>海运指数</td>\n",
       "      <td>0.098243</td>\n",
       "    </tr>\n",
       "    <tr>\n",
       "      <th>886052.WI</th>\n",
       "      <td>银行指数</td>\n",
       "      <td>0.090427</td>\n",
       "    </tr>\n",
       "    <tr>\n",
       "      <th>886055.WI</th>\n",
       "      <td>保险指数</td>\n",
       "      <td>0.087455</td>\n",
       "    </tr>\n",
       "    <tr>\n",
       "      <th>886012.WI</th>\n",
       "      <td>钢铁指数</td>\n",
       "      <td>0.086630</td>\n",
       "    </tr>\n",
       "  </tbody>\n",
       "</table>\n",
       "</div>"
      ],
      "text/plain": [
       "               名称       收益率\n",
       "代码                         \n",
       "886053.WI  多元金融指数  0.110376\n",
       "886027.WI    海运指数  0.098243\n",
       "886052.WI    银行指数  0.090427\n",
       "886055.WI    保险指数  0.087455\n",
       "886012.WI    钢铁指数  0.086630"
      ]
     },
     "execution_count": 125,
     "metadata": {},
     "output_type": "execute_result"
    }
   ],
   "source": [
    "df.sort_values(u'收益率', ascending=False).head()"
   ]
  },
  {
   "cell_type": "code",
   "execution_count": 126,
   "metadata": {
    "collapsed": true
   },
   "outputs": [],
   "source": [
    "df.sort_values(u'收益率', ascending=False).to_excel(u'../data/主题.xlsx')"
   ]
  },
  {
   "cell_type": "markdown",
   "metadata": {},
   "source": [
    "# 概念指数"
   ]
  },
  {
   "cell_type": "code",
   "execution_count": 127,
   "metadata": {
    "collapsed": true
   },
   "outputs": [],
   "source": [
    "df = pd.read_excel(u'D:/Data/list/概念板块.xlsx', index_col=0)"
   ]
  },
  {
   "cell_type": "code",
   "execution_count": 128,
   "metadata": {
    "collapsed": true
   },
   "outputs": [],
   "source": [
    "df[u'收益率'] = 0"
   ]
  },
  {
   "cell_type": "code",
   "execution_count": 129,
   "metadata": {
    "collapsed": true
   },
   "outputs": [],
   "source": [
    "for wind_code in df.index:\n",
    "    fname = '%s/%s.xlsx'%(DATA_DIR, wind_code)\n",
    "    nav = pd.read_excel(fname, index_col=0)\n",
    "#     print fname\n",
    "    ret = nav.pct_change()\n",
    "    ret = ret[(ret.index >= start_date) & (ret.index <= end_date)]\n",
    "    df.loc[wind_code, u'收益率'] = empyrical.cum_returns_final(ret['close'])"
   ]
  },
  {
   "cell_type": "code",
   "execution_count": 130,
   "metadata": {},
   "outputs": [
    {
     "data": {
      "text/html": [
       "<div>\n",
       "<style scoped>\n",
       "    .dataframe tbody tr th:only-of-type {\n",
       "        vertical-align: middle;\n",
       "    }\n",
       "\n",
       "    .dataframe tbody tr th {\n",
       "        vertical-align: top;\n",
       "    }\n",
       "\n",
       "    .dataframe thead th {\n",
       "        text-align: right;\n",
       "    }\n",
       "</style>\n",
       "<table border=\"1\" class=\"dataframe\">\n",
       "  <thead>\n",
       "    <tr style=\"text-align: right;\">\n",
       "      <th></th>\n",
       "      <th>名称</th>\n",
       "      <th>收益率</th>\n",
       "    </tr>\n",
       "    <tr>\n",
       "      <th>代码</th>\n",
       "      <th></th>\n",
       "      <th></th>\n",
       "    </tr>\n",
       "  </thead>\n",
       "  <tbody>\n",
       "    <tr>\n",
       "      <th>884204.WI</th>\n",
       "      <td>金控平台指数</td>\n",
       "      <td>0.110577</td>\n",
       "    </tr>\n",
       "    <tr>\n",
       "      <th>884185.WI</th>\n",
       "      <td>高送转概念指数</td>\n",
       "      <td>0.109880</td>\n",
       "    </tr>\n",
       "    <tr>\n",
       "      <th>884246.WI</th>\n",
       "      <td>打板指数</td>\n",
       "      <td>0.100708</td>\n",
       "    </tr>\n",
       "    <tr>\n",
       "      <th>884136.WI</th>\n",
       "      <td>互联网金融指数</td>\n",
       "      <td>0.099561</td>\n",
       "    </tr>\n",
       "    <tr>\n",
       "      <th>884212.WI</th>\n",
       "      <td>征信指数</td>\n",
       "      <td>0.098643</td>\n",
       "    </tr>\n",
       "  </tbody>\n",
       "</table>\n",
       "</div>"
      ],
      "text/plain": [
       "                名称       收益率\n",
       "代码                          \n",
       "884204.WI   金控平台指数  0.110577\n",
       "884185.WI  高送转概念指数  0.109880\n",
       "884246.WI     打板指数  0.100708\n",
       "884136.WI  互联网金融指数  0.099561\n",
       "884212.WI     征信指数  0.098643"
      ]
     },
     "execution_count": 130,
     "metadata": {},
     "output_type": "execute_result"
    }
   ],
   "source": [
    "df.sort_values(u'收益率', ascending=False).head()"
   ]
  },
  {
   "cell_type": "code",
   "execution_count": 131,
   "metadata": {
    "collapsed": true
   },
   "outputs": [],
   "source": [
    "df.sort_values(u'收益率', ascending=False).to_excel(u'../data/概念.xlsx')"
   ]
  },
  {
   "cell_type": "markdown",
   "metadata": {},
   "source": [
    "# 版块指数"
   ]
  },
  {
   "cell_type": "code",
   "execution_count": 132,
   "metadata": {
    "collapsed": true
   },
   "outputs": [],
   "source": [
    "df = pd.read_excel(u'D:/Data/list/板块指数.xlsx', index_col=0)"
   ]
  },
  {
   "cell_type": "code",
   "execution_count": 133,
   "metadata": {
    "collapsed": true
   },
   "outputs": [],
   "source": [
    "df[u'收益率'] = 0"
   ]
  },
  {
   "cell_type": "code",
   "execution_count": 134,
   "metadata": {
    "collapsed": true
   },
   "outputs": [],
   "source": [
    "for wind_code in df.index:\n",
    "    fname = '%s/%s.xlsx'%(DATA_DIR, wind_code)\n",
    "    nav = pd.read_excel(fname, index_col=0)\n",
    "    ret = nav.pct_change()\n",
    "    ret = ret[(ret.index >= start_date) & (ret.index <= end_date)]\n",
    "    df.loc[wind_code, u'收益率'] = empyrical.cum_returns_final(ret['close'])"
   ]
  },
  {
   "cell_type": "code",
   "execution_count": 135,
   "metadata": {},
   "outputs": [
    {
     "data": {
      "text/html": [
       "<div>\n",
       "<style scoped>\n",
       "    .dataframe tbody tr th:only-of-type {\n",
       "        vertical-align: middle;\n",
       "    }\n",
       "\n",
       "    .dataframe tbody tr th {\n",
       "        vertical-align: top;\n",
       "    }\n",
       "\n",
       "    .dataframe thead th {\n",
       "        text-align: right;\n",
       "    }\n",
       "</style>\n",
       "<table border=\"1\" class=\"dataframe\">\n",
       "  <thead>\n",
       "    <tr style=\"text-align: right;\">\n",
       "      <th></th>\n",
       "      <th>名称</th>\n",
       "      <th>收益率</th>\n",
       "    </tr>\n",
       "    <tr>\n",
       "      <th>代码</th>\n",
       "      <th></th>\n",
       "      <th></th>\n",
       "    </tr>\n",
       "  </thead>\n",
       "  <tbody>\n",
       "    <tr>\n",
       "      <th>000016.SH</th>\n",
       "      <td>上证50</td>\n",
       "      <td>0.074872</td>\n",
       "    </tr>\n",
       "    <tr>\n",
       "      <th>000903.SH</th>\n",
       "      <td>中证100</td>\n",
       "      <td>0.070057</td>\n",
       "    </tr>\n",
       "    <tr>\n",
       "      <th>000001.SH</th>\n",
       "      <td>上证综指</td>\n",
       "      <td>0.067676</td>\n",
       "    </tr>\n",
       "    <tr>\n",
       "      <th>399102.SZ</th>\n",
       "      <td>创业板综</td>\n",
       "      <td>0.066653</td>\n",
       "    </tr>\n",
       "    <tr>\n",
       "      <th>000300.SH</th>\n",
       "      <td>沪深300</td>\n",
       "      <td>0.065224</td>\n",
       "    </tr>\n",
       "    <tr>\n",
       "      <th>000906.SH</th>\n",
       "      <td>中证800</td>\n",
       "      <td>0.064139</td>\n",
       "    </tr>\n",
       "    <tr>\n",
       "      <th>881001.WI</th>\n",
       "      <td>万得全A</td>\n",
       "      <td>0.063176</td>\n",
       "    </tr>\n",
       "    <tr>\n",
       "      <th>000905.SH</th>\n",
       "      <td>中证500</td>\n",
       "      <td>0.060689</td>\n",
       "    </tr>\n",
       "    <tr>\n",
       "      <th>000852.SH</th>\n",
       "      <td>中证1000</td>\n",
       "      <td>0.060254</td>\n",
       "    </tr>\n",
       "    <tr>\n",
       "      <th>399106.SZ</th>\n",
       "      <td>深证综指</td>\n",
       "      <td>0.059294</td>\n",
       "    </tr>\n",
       "    <tr>\n",
       "      <th>399101.SZ</th>\n",
       "      <td>中小板综</td>\n",
       "      <td>0.047758</td>\n",
       "    </tr>\n",
       "  </tbody>\n",
       "</table>\n",
       "</div>"
      ],
      "text/plain": [
       "               名称       收益率\n",
       "代码                         \n",
       "000016.SH    上证50  0.074872\n",
       "000903.SH   中证100  0.070057\n",
       "000001.SH    上证综指  0.067676\n",
       "399102.SZ    创业板综  0.066653\n",
       "000300.SH   沪深300  0.065224\n",
       "000906.SH   中证800  0.064139\n",
       "881001.WI    万得全A  0.063176\n",
       "000905.SH   中证500  0.060689\n",
       "000852.SH  中证1000  0.060254\n",
       "399106.SZ    深证综指  0.059294\n",
       "399101.SZ    中小板综  0.047758"
      ]
     },
     "execution_count": 135,
     "metadata": {},
     "output_type": "execute_result"
    }
   ],
   "source": [
    "df.sort_values(u'收益率', ascending=False)"
   ]
  },
  {
   "cell_type": "code",
   "execution_count": 136,
   "metadata": {
    "collapsed": true
   },
   "outputs": [],
   "source": [
    "df.sort_values(u'收益率', ascending=False).to_excel(u'../data/板块.xlsx')"
   ]
  },
  {
   "cell_type": "markdown",
   "metadata": {},
   "source": [
    "# 基金公司排名"
   ]
  },
  {
   "cell_type": "code",
   "execution_count": 137,
   "metadata": {
    "collapsed": true
   },
   "outputs": [],
   "source": [
    "nav_fname = u'D:/workspace/data/FOF/comp_ret.xlsx'\n",
    "df = pd.read_excel(nav_fname)\n",
    "fund_comp = pd.read_excel(u'D:/Data/list/基金公司.xlsx')\n",
    "df = df[fund_comp[u'名称']]\n",
    "df.columns = [col.replace(u'基金管理有限公司', '').replace(u'基金管理股份', '').replace(u'基金管理有限责任', '').replace(u'有限公司', '').replace(u'公司', '')\n",
    "              for col in df.columns]"
   ]
  },
  {
   "cell_type": "code",
   "execution_count": 138,
   "metadata": {
    "collapsed": true
   },
   "outputs": [],
   "source": [
    "ret_df = pd.DataFrame({u'名称': df.columns, \n",
    "                       u'WTD': 0,\n",
    "                       u'MTD': 0,\n",
    "                       u'YTD': 0}, index=df.columns)"
   ]
  },
  {
   "cell_type": "markdown",
   "metadata": {},
   "source": [
    "### 近一周收益率"
   ]
  },
  {
   "cell_type": "code",
   "execution_count": 139,
   "metadata": {
    "collapsed": true
   },
   "outputs": [],
   "source": [
    "week_df = df[(df.index >= start_date) & (df.index <= end_date)]"
   ]
  },
  {
   "cell_type": "code",
   "execution_count": 140,
   "metadata": {
    "collapsed": true
   },
   "outputs": [],
   "source": [
    "for col in df.columns:\n",
    "    ret_df.loc[col, u'WTD'] = empyrical.cum_returns_final(week_df[col])"
   ]
  },
  {
   "cell_type": "markdown",
   "metadata": {},
   "source": [
    "### 近一月收益率"
   ]
  },
  {
   "cell_type": "code",
   "execution_count": 141,
   "metadata": {},
   "outputs": [],
   "source": [
    "month_df = df[(df.index >= '-'.join(start_date.split('-')[:2]) + '-01') & (df.index <= end_date)]"
   ]
  },
  {
   "cell_type": "code",
   "execution_count": 142,
   "metadata": {},
   "outputs": [],
   "source": [
    "for col in df.columns:\n",
    "    ret_df.loc[col, u'MTD'] = empyrical.cum_returns_final(month_df[col])"
   ]
  },
  {
   "cell_type": "markdown",
   "metadata": {},
   "source": [
    "### 近一年收益率"
   ]
  },
  {
   "cell_type": "code",
   "execution_count": 143,
   "metadata": {},
   "outputs": [],
   "source": [
    "year_df = df[(df.index >= start_date.split('-')[0] + '-01-01') & (df.index <= end_date)]"
   ]
  },
  {
   "cell_type": "code",
   "execution_count": 144,
   "metadata": {},
   "outputs": [],
   "source": [
    "for col in df.columns:\n",
    "    ret_df.loc[col, u'YTD'] = empyrical.cum_returns_final(year_df[col])"
   ]
  },
  {
   "cell_type": "code",
   "execution_count": 145,
   "metadata": {},
   "outputs": [
    {
     "data": {
      "text/html": [
       "<div>\n",
       "<style scoped>\n",
       "    .dataframe tbody tr th:only-of-type {\n",
       "        vertical-align: middle;\n",
       "    }\n",
       "\n",
       "    .dataframe tbody tr th {\n",
       "        vertical-align: top;\n",
       "    }\n",
       "\n",
       "    .dataframe thead th {\n",
       "        text-align: right;\n",
       "    }\n",
       "</style>\n",
       "<table border=\"1\" class=\"dataframe\">\n",
       "  <thead>\n",
       "    <tr style=\"text-align: right;\">\n",
       "      <th></th>\n",
       "      <th>MTD</th>\n",
       "      <th>WTD</th>\n",
       "      <th>YTD</th>\n",
       "      <th>名称</th>\n",
       "    </tr>\n",
       "  </thead>\n",
       "  <tbody>\n",
       "    <tr>\n",
       "      <th>招商</th>\n",
       "      <td>0.204185</td>\n",
       "      <td>0.061495</td>\n",
       "      <td>0.275283</td>\n",
       "      <td>招商</td>\n",
       "    </tr>\n",
       "    <tr>\n",
       "      <th>海富通</th>\n",
       "      <td>0.180309</td>\n",
       "      <td>0.057725</td>\n",
       "      <td>0.220010</td>\n",
       "      <td>海富通</td>\n",
       "    </tr>\n",
       "    <tr>\n",
       "      <th>鹏华</th>\n",
       "      <td>0.157156</td>\n",
       "      <td>0.054971</td>\n",
       "      <td>0.198648</td>\n",
       "      <td>鹏华</td>\n",
       "    </tr>\n",
       "    <tr>\n",
       "      <th>华安</th>\n",
       "      <td>0.154778</td>\n",
       "      <td>0.054666</td>\n",
       "      <td>0.223383</td>\n",
       "      <td>华安</td>\n",
       "    </tr>\n",
       "    <tr>\n",
       "      <th>天弘</th>\n",
       "      <td>0.167032</td>\n",
       "      <td>0.054420</td>\n",
       "      <td>0.212671</td>\n",
       "      <td>天弘</td>\n",
       "    </tr>\n",
       "  </tbody>\n",
       "</table>\n",
       "</div>"
      ],
      "text/plain": [
       "          MTD       WTD       YTD   名称\n",
       "招商   0.204185  0.061495  0.275283   招商\n",
       "海富通  0.180309  0.057725  0.220010  海富通\n",
       "鹏华   0.157156  0.054971  0.198648   鹏华\n",
       "华安   0.154778  0.054666  0.223383   华安\n",
       "天弘   0.167032  0.054420  0.212671   天弘"
      ]
     },
     "execution_count": 145,
     "metadata": {},
     "output_type": "execute_result"
    }
   ],
   "source": [
    "ret_df.sort_values(u'WTD', ascending=False).head()"
   ]
  },
  {
   "cell_type": "code",
   "execution_count": 146,
   "metadata": {
    "collapsed": true
   },
   "outputs": [],
   "source": [
    "ret_df.sort_values(u'WTD', ascending=False).to_excel(u'../data/基金公司.xlsx')"
   ]
  },
  {
   "cell_type": "markdown",
   "metadata": {},
   "source": [
    "# 基金公司与主题指数相关性"
   ]
  },
  {
   "cell_type": "code",
   "execution_count": 147,
   "metadata": {
    "collapsed": true
   },
   "outputs": [],
   "source": [
    "nav_fname = u'D:/workspace/data/FOF/comp_ret.xlsx'\n",
    "df = pd.read_excel(nav_fname)\n",
    "fund_comp = pd.read_excel(u'D:/Data/list/基金公司.xlsx')\n",
    "df = df[fund_comp[u'名称']]\n",
    "df.columns = [col.replace(u'基金管理有限公司', '').replace(u'基金管理股份', '').replace(u'基金管理有限责任', '').replace(u'有限公司', '').replace(u'公司', '') \n",
    "              for col in df.columns]"
   ]
  },
  {
   "cell_type": "code",
   "execution_count": 148,
   "metadata": {
    "collapsed": true
   },
   "outputs": [],
   "source": [
    "fund_comp = pd.read_excel(u'../data/基金公司.xlsx')\n",
    "df = df[fund_comp[u'名称']]"
   ]
  },
  {
   "cell_type": "code",
   "execution_count": 149,
   "metadata": {
    "collapsed": true
   },
   "outputs": [],
   "source": [
    "df = df[(df.index >= start_date) & (df.index <= end_date)]"
   ]
  },
  {
   "cell_type": "code",
   "execution_count": 150,
   "metadata": {
    "collapsed": true
   },
   "outputs": [],
   "source": [
    "theme = pd.read_excel(u'../data/主题.xlsx', index_col=0)"
   ]
  },
  {
   "cell_type": "code",
   "execution_count": 151,
   "metadata": {
    "collapsed": true
   },
   "outputs": [],
   "source": [
    "cor_df = pd.DataFrame(index=theme[u'名称'], columns=df.columns)"
   ]
  },
  {
   "cell_type": "code",
   "execution_count": 152,
   "metadata": {},
   "outputs": [
    {
     "name": "stdout",
     "output_type": "stream",
     "text": [
      "多元金融指数\n",
      "海运指数\n",
      "银行指数\n",
      "保险指数\n",
      "钢铁指数\n",
      "酒类指数\n",
      "环保指数\n",
      "互联网指数\n",
      "软件指数\n",
      "券商指数\n",
      "基本金属指数\n",
      "建材指数\n",
      "生物科技指数\n",
      "重型机械指数\n",
      "煤炭指数\n",
      "化工原料指数\n",
      "制药指数\n",
      "电信指数\n",
      "建筑指数\n",
      "医疗保健指数\n",
      "林木指数\n",
      "休闲用品指数\n",
      "航天军工指数\n",
      "食品指数\n",
      "精细化工指数\n",
      "燃气指数\n",
      "商业服务指数\n",
      "房地产指数\n",
      "航空指数\n",
      "造纸指数\n",
      "贸易指数\n",
      "水务指数\n",
      "工业机械指数\n",
      "日用化工指数\n",
      "港口指数\n",
      "公路指数\n",
      "零售指数\n",
      "家用电器指数\n",
      "化纤指数\n",
      "纺织服装指数\n",
      "化肥农药指数\n",
      "综合类指数\n",
      "发电设备指数\n",
      "电脑硬件指数\n",
      "办公用品指数\n",
      "文化传媒指数\n",
      "汽车零部件指数\n",
      "能源设备指数\n",
      "家居用品指数\n",
      "石油天然气指数\n",
      "工程机械指数\n",
      "餐饮旅游指数\n",
      "石油化工指数\n",
      "电力指数\n",
      "电工电网指数\n",
      "陆路运输指数\n",
      "电子元器件指数\n",
      "教育指数\n",
      "汽车指数\n",
      "通信设备指数\n",
      "机场指数\n",
      "摩托车指数\n",
      "农业指数\n",
      "贵金属指数\n",
      "软饮料指数\n",
      "包装指数\n",
      "半导体指数\n"
     ]
    }
   ],
   "source": [
    "for wind_code in theme.index:\n",
    "    fname = '%s/%s.xlsx'%(DATA_DIR, wind_code)\n",
    "    nav = pd.read_excel(fname, index_col=0)\n",
    "    ret = nav.pct_change()\n",
    "    ret = ret[(ret.index >= start_date) & (ret.index <= end_date)]['close']\n",
    "    for col in df.columns:\n",
    "        series = df[col]\n",
    "        cor_df.loc[theme.loc[wind_code, u'名称'], col] = (1+ret).cumprod().corr((1+series).cumprod())\n",
    "    print theme.loc[wind_code, u'名称']"
   ]
  },
  {
   "cell_type": "code",
   "execution_count": 153,
   "metadata": {
    "collapsed": true
   },
   "outputs": [],
   "source": [
    "cor_df.to_excel(u'../data/基金公司-主题.xlsx')"
   ]
  },
  {
   "cell_type": "code",
   "execution_count": 154,
   "metadata": {
    "collapsed": true
   },
   "outputs": [],
   "source": [
    "beta_df = pd.DataFrame(index=theme[u'名称'], columns=df.columns)"
   ]
  },
  {
   "cell_type": "code",
   "execution_count": 155,
   "metadata": {},
   "outputs": [
    {
     "name": "stdout",
     "output_type": "stream",
     "text": [
      "多元金融指数\n",
      "海运指数\n",
      "银行指数\n",
      "保险指数\n",
      "钢铁指数\n",
      "酒类指数\n",
      "环保指数\n",
      "互联网指数\n",
      "软件指数\n",
      "券商指数\n",
      "基本金属指数\n",
      "建材指数\n",
      "生物科技指数\n",
      "重型机械指数\n",
      "煤炭指数\n",
      "化工原料指数\n",
      "制药指数\n",
      "电信指数\n",
      "建筑指数\n",
      "医疗保健指数\n",
      "林木指数\n",
      "休闲用品指数\n",
      "航天军工指数\n",
      "食品指数\n",
      "精细化工指数\n",
      "燃气指数\n",
      "商业服务指数\n",
      "房地产指数\n",
      "航空指数\n",
      "造纸指数\n",
      "贸易指数\n",
      "水务指数\n",
      "工业机械指数\n",
      "日用化工指数\n",
      "港口指数\n",
      "公路指数\n",
      "零售指数\n",
      "家用电器指数\n",
      "化纤指数\n",
      "纺织服装指数\n",
      "化肥农药指数\n",
      "综合类指数\n",
      "发电设备指数\n",
      "电脑硬件指数\n",
      "办公用品指数\n",
      "文化传媒指数\n",
      "汽车零部件指数\n",
      "能源设备指数\n",
      "家居用品指数\n",
      "石油天然气指数\n",
      "工程机械指数\n",
      "餐饮旅游指数\n",
      "石油化工指数\n",
      "电力指数\n",
      "电工电网指数\n",
      "陆路运输指数\n",
      "电子元器件指数\n",
      "教育指数\n",
      "汽车指数\n",
      "通信设备指数\n",
      "机场指数\n",
      "摩托车指数\n",
      "农业指数\n",
      "贵金属指数\n",
      "软饮料指数\n",
      "包装指数\n",
      "半导体指数\n"
     ]
    }
   ],
   "source": [
    "for wind_code in theme.index:\n",
    "    fname = '%s/%s.xlsx'%(DATA_DIR, wind_code)\n",
    "    nav = pd.read_excel(fname, index_col=0)\n",
    "    ret = nav.pct_change()\n",
    "    ret = ret[(ret.index >= start_date) & (ret.index <= end_date)]['close']\n",
    "    for col in df.columns:\n",
    "        series = df[col]\n",
    "        beta_df.loc[theme.loc[wind_code, u'名称'], col] = empyrical.beta(series, ret)\n",
    "    print theme.loc[wind_code, u'名称']"
   ]
  },
  {
   "cell_type": "code",
   "execution_count": 156,
   "metadata": {
    "collapsed": true
   },
   "outputs": [],
   "source": [
    "beta_df.to_excel(u'../data/基金公司-主题-beta.xlsx')"
   ]
  },
  {
   "cell_type": "markdown",
   "metadata": {},
   "source": [
    "# 基金公司与概念指数相关性"
   ]
  },
  {
   "cell_type": "code",
   "execution_count": 157,
   "metadata": {
    "collapsed": true
   },
   "outputs": [],
   "source": [
    "nav_fname = u'D:/workspace/data/FOF/comp_ret.xlsx'\n",
    "df = pd.read_excel(nav_fname)\n",
    "fund_comp = pd.read_excel(u'D:/Data/list/基金公司.xlsx')\n",
    "df = df[fund_comp[u'名称']]\n",
    "df.columns = [col.replace(u'基金管理有限公司', '').replace(u'基金管理股份', '').replace(u'基金管理有限责任', '').replace(u'有限公司', '').replace(u'公司', '')\n",
    "              for col in df.columns]"
   ]
  },
  {
   "cell_type": "code",
   "execution_count": 158,
   "metadata": {
    "collapsed": true
   },
   "outputs": [],
   "source": [
    "fund_comp = pd.read_excel(u'../data/基金公司.xlsx')\n",
    "df = df[fund_comp[u'名称']]"
   ]
  },
  {
   "cell_type": "code",
   "execution_count": 159,
   "metadata": {
    "collapsed": true
   },
   "outputs": [],
   "source": [
    "df = df[(df.index >= start_date) & (df.index <= end_date)]"
   ]
  },
  {
   "cell_type": "code",
   "execution_count": 160,
   "metadata": {
    "collapsed": true
   },
   "outputs": [],
   "source": [
    "concept = pd.read_excel(u'../data/概念.xlsx', index_col=0)"
   ]
  },
  {
   "cell_type": "code",
   "execution_count": 161,
   "metadata": {
    "collapsed": true
   },
   "outputs": [],
   "source": [
    "cor_df = pd.DataFrame(index=concept[u'名称'], columns=df.columns)"
   ]
  },
  {
   "cell_type": "code",
   "execution_count": 162,
   "metadata": {},
   "outputs": [
    {
     "name": "stdout",
     "output_type": "stream",
     "text": [
      "金控平台指数\n",
      "高送转概念指数\n",
      "打板指数\n",
      "互联网金融指数\n",
      "征信指数\n",
      "基因检测指数\n",
      "抗癌指数\n",
      "汽车后市场指数\n",
      "垃圾发电指数\n",
      "移动互联网指数\n",
      "PM2.5指数\n",
      "赛马指数\n",
      "新疆区域振兴指数\n",
      "生物疫苗指数\n",
      "区块链指数\n",
      "扶贫指数\n",
      "高端装备制造指数\n",
      "航母指数\n",
      "移动支付指数\n",
      "IP流量变现指数\n",
      "PPP指数\n",
      "电子竞技指数\n",
      "在线旅游指数\n",
      "北部湾自贸区指数\n",
      "污水处理指数\n",
      "网络彩票指数\n",
      "第三方支付指数\n",
      "雄安新区指数\n",
      "小金属指数\n",
      "美丽中国指数\n",
      "一带一路指数\n",
      "乙醇汽油指数\n",
      "共享汽车指数\n",
      "房屋租赁指数\n",
      "次新股指数\n",
      "参股金融指数\n",
      "环保概念指数\n",
      "电子商务指数\n",
      "民营医院指数\n",
      "智能电视指数\n",
      "养老产业指数\n",
      "高铁指数\n",
      "丝绸之路指数\n",
      "建筑节能指数\n",
      "ST概念指数\n",
      "二胎政策指数\n",
      "O2O指数\n",
      "智能IC卡指数\n",
      "债转股指数\n",
      "智慧医疗指数\n",
      "互联网营销指数\n",
      "网络游戏指数\n",
      "稀土永磁指数\n",
      "禽流感指数\n",
      "医药电商指数\n",
      "网红经济指数\n",
      "京津冀一体化指数\n",
      "核能核电指数\n",
      "装配式建筑指数\n",
      "质押式回购指数\n",
      "新零售指数\n",
      "水利水电建设指数\n",
      "西藏振兴指数\n",
      "装饰园林指数\n",
      "福建自贸区指数\n",
      "天津自贸区指数\n",
      "国资改革指数\n",
      "重组指数\n",
      "融资融券指数\n",
      "股权转让指数\n",
      "大央企重组指数\n",
      "军民融合指数\n",
      "国家队指数\n",
      "跨境电商指数\n",
      "特色小镇指数\n",
      "冷链物流指数\n",
      "国企混改指数\n",
      "人工智能指数\n",
      "证金概念指数\n",
      "一线龙头指数\n",
      "上海自贸区指数\n",
      "三网融合指数\n",
      "动漫指数\n",
      "智能汽车指数\n",
      "特斯拉指数\n",
      "通用航空指数\n",
      "MSCI概念指数\n",
      "上海本地重组指数\n",
      "健康中国指数\n",
      "沪股通50指数\n",
      "智慧城市指数\n",
      "职业教育指数\n",
      "大数据指数\n",
      "浦东新区指数\n",
      "维生素指数\n",
      "锂电池指数\n",
      "LNG指数\n",
      "工业4.0指数\n",
      "钛白粉指数\n",
      "中小创蓝筹指数\n",
      "员工持股指数\n",
      "智能物流指数\n",
      "鸡指数\n",
      "海南旅游岛指数\n",
      "新能源汽车指数\n",
      "云计算指数\n",
      "创投指数\n",
      "土地流转指数\n",
      "小盘成长指数\n",
      "可燃冰指数\n",
      "合同能源管理指数\n",
      "页岩气和煤层气指数\n",
      "行业龙头指数\n",
      "金融改革指数\n",
      "煤电重组指数\n",
      "风力发电指数\n",
      "物联网指数\n",
      "举牌指数\n",
      "文化传媒概念指数\n",
      "体育指数\n",
      "无人机指数\n",
      "安防监控指数\n",
      "机器人指数\n",
      "虚拟现实指数\n",
      "最小市值指数\n",
      "海绵城市指数\n",
      "在线教育指数\n",
      "上海国资改革指数\n",
      "增持指数\n",
      "二线龙头指数\n",
      "新材料指数\n",
      "白马股指数\n",
      "移动转售指数\n",
      "粤港澳大湾区指数\n",
      "染料指数\n",
      "保底增持指数\n",
      "生物育种指数\n",
      "新三板指数\n",
      "3D打印指数\n",
      "民营银行指数\n",
      "智能交通指数\n",
      "网络安全指数\n",
      "燃料电池指数\n",
      "石墨烯指数\n",
      "食品安全指数\n",
      "长江经济带指数\n",
      "智能家居指数\n",
      "生物识别指数\n",
      "卫星导航指数\n",
      "共享单车指数\n",
      "高校指数\n",
      "去IOE指数\n",
      "智能电网指数\n",
      "迪士尼指数\n",
      "智能穿戴指数\n",
      "充电桩指数\n",
      "中日韩自贸区指数\n",
      "量子通信指数\n",
      "粤港澳自贸区指数\n",
      "油气改革指数\n",
      "芯片国产化指数\n",
      "3D传感指数\n",
      "智慧农业指数\n",
      "能源互联网指数\n",
      "苹果指数\n",
      "绿色节能照明指数\n",
      "超级电容指数\n",
      "黄金珠宝指数\n",
      "无线充电指数\n",
      "传感器指数\n",
      "蓝宝石指数\n",
      "OLED指数\n",
      "IPV6指数\n",
      "新能源指数\n",
      "猪指数\n",
      "宽带提速指数\n",
      "特高压指数\n",
      "5G指数\n",
      "太阳能发电指数\n",
      "广东国资改革指数\n",
      "4G指数\n",
      "小程序指数\n"
     ]
    }
   ],
   "source": [
    "for wind_code in concept.index:\n",
    "    fname = '%s/%s.xlsx'%(DATA_DIR, wind_code)\n",
    "    nav = pd.read_excel(fname, index_col=0)\n",
    "    ret = nav.pct_change()\n",
    "    ret = ret[(ret.index >= start_date) & (ret.index <= end_date)]['close']\n",
    "    for col in df.columns:\n",
    "        series = df[col]\n",
    "        cor_df.loc[concept.loc[wind_code, u'名称'], col] = (1+ret).cumprod().corr((1+series).cumprod())\n",
    "    print concept.loc[wind_code, u'名称']"
   ]
  },
  {
   "cell_type": "code",
   "execution_count": 163,
   "metadata": {
    "collapsed": true
   },
   "outputs": [],
   "source": [
    "cor_df.to_excel(u'../data/基金公司-概念.xlsx')"
   ]
  },
  {
   "cell_type": "code",
   "execution_count": 164,
   "metadata": {
    "collapsed": true
   },
   "outputs": [],
   "source": [
    "beta_df = pd.DataFrame(index=concept[u'名称'], columns=df.columns)"
   ]
  },
  {
   "cell_type": "code",
   "execution_count": 165,
   "metadata": {},
   "outputs": [
    {
     "name": "stdout",
     "output_type": "stream",
     "text": [
      "金控平台指数\n",
      "高送转概念指数\n",
      "打板指数\n",
      "互联网金融指数\n",
      "征信指数\n",
      "基因检测指数\n",
      "抗癌指数\n",
      "汽车后市场指数\n",
      "垃圾发电指数\n",
      "移动互联网指数\n",
      "PM2.5指数\n",
      "赛马指数\n",
      "新疆区域振兴指数\n",
      "生物疫苗指数\n",
      "区块链指数\n",
      "扶贫指数\n",
      "高端装备制造指数\n",
      "航母指数\n",
      "移动支付指数\n",
      "IP流量变现指数\n",
      "PPP指数\n",
      "电子竞技指数\n",
      "在线旅游指数\n",
      "北部湾自贸区指数\n",
      "污水处理指数\n",
      "网络彩票指数\n",
      "第三方支付指数\n",
      "雄安新区指数\n",
      "小金属指数\n",
      "美丽中国指数\n",
      "一带一路指数\n",
      "乙醇汽油指数\n",
      "共享汽车指数\n",
      "房屋租赁指数\n",
      "次新股指数\n",
      "参股金融指数\n",
      "环保概念指数\n",
      "电子商务指数\n",
      "民营医院指数\n",
      "智能电视指数\n",
      "养老产业指数\n",
      "高铁指数\n",
      "丝绸之路指数\n",
      "建筑节能指数\n",
      "ST概念指数\n",
      "二胎政策指数\n",
      "O2O指数\n",
      "智能IC卡指数\n",
      "债转股指数\n",
      "智慧医疗指数\n",
      "互联网营销指数\n",
      "网络游戏指数\n",
      "稀土永磁指数\n",
      "禽流感指数\n",
      "医药电商指数\n",
      "网红经济指数\n",
      "京津冀一体化指数\n",
      "核能核电指数\n",
      "装配式建筑指数\n",
      "质押式回购指数\n",
      "新零售指数\n",
      "水利水电建设指数\n",
      "西藏振兴指数\n",
      "装饰园林指数\n",
      "福建自贸区指数\n",
      "天津自贸区指数\n",
      "国资改革指数\n",
      "重组指数\n",
      "融资融券指数\n",
      "股权转让指数\n",
      "大央企重组指数\n",
      "军民融合指数\n",
      "国家队指数\n",
      "跨境电商指数\n",
      "特色小镇指数\n",
      "冷链物流指数\n",
      "国企混改指数\n",
      "人工智能指数\n",
      "证金概念指数\n",
      "一线龙头指数\n",
      "上海自贸区指数\n",
      "三网融合指数\n",
      "动漫指数\n",
      "智能汽车指数\n",
      "特斯拉指数\n",
      "通用航空指数\n",
      "MSCI概念指数\n",
      "上海本地重组指数\n",
      "健康中国指数\n",
      "沪股通50指数\n",
      "智慧城市指数\n",
      "职业教育指数\n",
      "大数据指数\n",
      "浦东新区指数\n",
      "维生素指数\n",
      "锂电池指数\n",
      "LNG指数\n",
      "工业4.0指数\n",
      "钛白粉指数\n",
      "中小创蓝筹指数\n",
      "员工持股指数\n",
      "智能物流指数\n",
      "鸡指数\n",
      "海南旅游岛指数\n",
      "新能源汽车指数\n",
      "云计算指数\n",
      "创投指数\n",
      "土地流转指数\n",
      "小盘成长指数\n",
      "可燃冰指数\n",
      "合同能源管理指数\n",
      "页岩气和煤层气指数\n",
      "行业龙头指数\n",
      "金融改革指数\n",
      "煤电重组指数\n",
      "风力发电指数\n",
      "物联网指数\n",
      "举牌指数\n",
      "文化传媒概念指数\n",
      "体育指数\n",
      "无人机指数\n",
      "安防监控指数\n",
      "机器人指数\n",
      "虚拟现实指数\n",
      "最小市值指数\n",
      "海绵城市指数\n",
      "在线教育指数\n",
      "上海国资改革指数\n",
      "增持指数\n",
      "二线龙头指数\n",
      "新材料指数\n",
      "白马股指数\n",
      "移动转售指数\n",
      "粤港澳大湾区指数\n",
      "染料指数\n",
      "保底增持指数\n",
      "生物育种指数\n",
      "新三板指数\n",
      "3D打印指数\n",
      "民营银行指数\n",
      "智能交通指数\n",
      "网络安全指数\n",
      "燃料电池指数\n",
      "石墨烯指数\n",
      "食品安全指数\n",
      "长江经济带指数\n",
      "智能家居指数\n",
      "生物识别指数\n",
      "卫星导航指数\n",
      "共享单车指数\n",
      "高校指数\n",
      "去IOE指数\n",
      "智能电网指数\n",
      "迪士尼指数\n",
      "智能穿戴指数\n",
      "充电桩指数\n",
      "中日韩自贸区指数\n",
      "量子通信指数\n",
      "粤港澳自贸区指数\n",
      "油气改革指数\n",
      "芯片国产化指数\n",
      "3D传感指数\n",
      "智慧农业指数\n",
      "能源互联网指数\n",
      "苹果指数\n",
      "绿色节能照明指数\n",
      "超级电容指数\n",
      "黄金珠宝指数\n",
      "无线充电指数\n",
      "传感器指数\n",
      "蓝宝石指数\n",
      "OLED指数\n",
      "IPV6指数\n",
      "新能源指数\n",
      "猪指数\n",
      "宽带提速指数\n",
      "特高压指数\n",
      "5G指数\n",
      "太阳能发电指数\n",
      "广东国资改革指数\n",
      "4G指数\n",
      "小程序指数\n"
     ]
    }
   ],
   "source": [
    "for wind_code in concept.index:\n",
    "    fname = '%s/%s.xlsx'%(DATA_DIR, wind_code)\n",
    "    nav = pd.read_excel(fname, index_col=0)\n",
    "    ret = nav.pct_change()\n",
    "    ret = ret[(ret.index >= start_date) & (ret.index <= end_date)]['close']\n",
    "    for col in df.columns:\n",
    "        series = df[col]\n",
    "        beta_df.loc[concept.loc[wind_code, u'名称'], col] = empyrical.beta(series, ret)\n",
    "    print concept.loc[wind_code, u'名称']"
   ]
  },
  {
   "cell_type": "code",
   "execution_count": 166,
   "metadata": {
    "collapsed": true
   },
   "outputs": [],
   "source": [
    "beta_df.to_excel(u'../data/基金公司-概念-beta.xlsx')"
   ]
  },
  {
   "cell_type": "markdown",
   "metadata": {},
   "source": [
    "# 基金公司与板块指数相关性"
   ]
  },
  {
   "cell_type": "code",
   "execution_count": 167,
   "metadata": {
    "collapsed": true
   },
   "outputs": [],
   "source": [
    "nav_fname = u'D:/workspace/data/FOF/comp_ret.xlsx'\n",
    "df = pd.read_excel(nav_fname)\n",
    "fund_comp = pd.read_excel(u'D:/Data/list/基金公司.xlsx')\n",
    "df = df[fund_comp[u'名称']]\n",
    "df.columns = [col.replace(u'基金管理有限公司', '').replace(u'基金管理股份', '').replace(u'基金管理有限责任', '').replace(u'有限公司', '').replace(u'公司', '')\n",
    "              for col in df.columns]"
   ]
  },
  {
   "cell_type": "code",
   "execution_count": 168,
   "metadata": {
    "collapsed": true
   },
   "outputs": [],
   "source": [
    "fund_comp = pd.read_excel(u'../data/基金公司.xlsx')\n",
    "df = df[fund_comp[u'名称']]"
   ]
  },
  {
   "cell_type": "code",
   "execution_count": 169,
   "metadata": {
    "collapsed": true
   },
   "outputs": [],
   "source": [
    "df = df[(df.index >= start_date) & (df.index <= end_date)]"
   ]
  },
  {
   "cell_type": "code",
   "execution_count": 170,
   "metadata": {
    "collapsed": true
   },
   "outputs": [],
   "source": [
    "sector = pd.read_excel(u'../data/板块.xlsx', index_col=0)"
   ]
  },
  {
   "cell_type": "code",
   "execution_count": 171,
   "metadata": {
    "collapsed": true
   },
   "outputs": [],
   "source": [
    "cor_df = pd.DataFrame(index=sector[u'名称'], columns=df.columns)"
   ]
  },
  {
   "cell_type": "code",
   "execution_count": 172,
   "metadata": {},
   "outputs": [
    {
     "name": "stdout",
     "output_type": "stream",
     "text": [
      "上证50\n",
      "中证100\n",
      "上证综指\n",
      "创业板综\n",
      "沪深300\n",
      "中证800\n",
      "万得全A\n",
      "中证500\n",
      "中证1000\n",
      "深证综指\n",
      "中小板综\n"
     ]
    }
   ],
   "source": [
    "for wind_code in sector.index:\n",
    "    fname = '%s/%s.xlsx'%(DATA_DIR, wind_code)\n",
    "    nav = pd.read_excel(fname, index_col=0)\n",
    "    ret = nav.pct_change()\n",
    "    ret = ret[(ret.index >= start_date) & (ret.index <= end_date)]['close']\n",
    "    for col in df.columns:\n",
    "        series = df[col]\n",
    "        cor_df.loc[sector.loc[wind_code, u'名称'], col] = (1+ret).cumprod().corr((1+series).cumprod())\n",
    "    print sector.loc[wind_code, u'名称']"
   ]
  },
  {
   "cell_type": "code",
   "execution_count": 173,
   "metadata": {
    "collapsed": true
   },
   "outputs": [],
   "source": [
    "cor_df.to_excel(u'../data/基金公司-板块.xlsx')"
   ]
  },
  {
   "cell_type": "code",
   "execution_count": 174,
   "metadata": {
    "collapsed": true
   },
   "outputs": [],
   "source": [
    "beta_df = pd.DataFrame(index=sector[u'名称'], columns=df.columns)"
   ]
  },
  {
   "cell_type": "code",
   "execution_count": 175,
   "metadata": {},
   "outputs": [
    {
     "name": "stdout",
     "output_type": "stream",
     "text": [
      "上证50\n",
      "中证100\n",
      "上证综指\n",
      "创业板综\n",
      "沪深300\n",
      "中证800\n",
      "万得全A\n",
      "中证500\n",
      "中证1000\n",
      "深证综指\n",
      "中小板综\n"
     ]
    }
   ],
   "source": [
    "for wind_code in sector.index:\n",
    "    fname = '%s/%s.xlsx'%(DATA_DIR, wind_code)\n",
    "    nav = pd.read_excel(fname, index_col=0)\n",
    "    ret = nav.pct_change()\n",
    "    ret = ret[(ret.index >= start_date) & (ret.index <= end_date)]['close']\n",
    "    for col in df.columns:\n",
    "        series = df[col]\n",
    "        beta_df.loc[sector.loc[wind_code, u'名称'], col] = empyrical.beta(series, ret)\n",
    "    print sector.loc[wind_code, u'名称']"
   ]
  },
  {
   "cell_type": "code",
   "execution_count": 176,
   "metadata": {
    "collapsed": true
   },
   "outputs": [],
   "source": [
    "beta_df.to_excel(u'../data/基金公司-板块-beta.xlsx')"
   ]
  },
  {
   "cell_type": "code",
   "execution_count": null,
   "metadata": {
    "collapsed": true
   },
   "outputs": [],
   "source": []
  },
  {
   "cell_type": "code",
   "execution_count": null,
   "metadata": {
    "collapsed": true
   },
   "outputs": [],
   "source": []
  },
  {
   "cell_type": "code",
   "execution_count": null,
   "metadata": {},
   "outputs": [],
   "source": []
  }
 ],
 "metadata": {
  "anaconda-cloud": {},
  "kernelspec": {
   "display_name": "Python 2",
   "language": "python",
   "name": "python2"
  },
  "language_info": {
   "codemirror_mode": {
    "name": "ipython",
    "version": 2
   },
   "file_extension": ".py",
   "mimetype": "text/x-python",
   "name": "python",
   "nbconvert_exporter": "python",
   "pygments_lexer": "ipython2",
   "version": "2.7.14"
  }
 },
 "nbformat": 4,
 "nbformat_minor": 2
}
