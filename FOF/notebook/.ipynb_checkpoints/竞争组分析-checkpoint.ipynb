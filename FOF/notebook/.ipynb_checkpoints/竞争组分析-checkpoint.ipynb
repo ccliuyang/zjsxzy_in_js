{
 "cells": [
  {
   "cell_type": "code",
   "execution_count": 159,
   "metadata": {
    "collapsed": true
   },
   "outputs": [],
   "source": [
    "import pandas as pd\n",
    "import numpy as np\n",
    "import empyrical\n",
    "import matplotlib.pyplot as plt\n",
    "%matplotlib inline"
   ]
  },
  {
   "cell_type": "code",
   "execution_count": 165,
   "metadata": {
    "collapsed": true
   },
   "outputs": [],
   "source": [
    "start_date = '2019-01-02'\n",
    "end_date = '2019-01-07'"
   ]
  },
  {
   "cell_type": "code",
   "execution_count": 166,
   "metadata": {
    "collapsed": true
   },
   "outputs": [],
   "source": [
    "DATA_DIR = 'D:/Data/index'"
   ]
  },
  {
   "cell_type": "markdown",
   "metadata": {},
   "source": [
    "# 主题收益率"
   ]
  },
  {
   "cell_type": "code",
   "execution_count": 167,
   "metadata": {
    "collapsed": true
   },
   "outputs": [],
   "source": [
    "df = pd.read_excel(u'D:/Data/list/主题行业.xlsx', index_col=0)"
   ]
  },
  {
   "cell_type": "code",
   "execution_count": 168,
   "metadata": {
    "collapsed": true
   },
   "outputs": [],
   "source": [
    "df[u'收益率'] = 0"
   ]
  },
  {
   "cell_type": "code",
   "execution_count": 169,
   "metadata": {
    "collapsed": true
   },
   "outputs": [],
   "source": [
    "for wind_code in df.index:\n",
    "    fname = '%s/%s.xlsx'%(DATA_DIR, wind_code)\n",
    "    nav = pd.read_excel(fname, index_col=0)\n",
    "    ret = nav.pct_change()\n",
    "    ret = ret[(ret.index >= start_date) & (ret.index <= end_date)]\n",
    "    df.loc[wind_code, u'收益率'] = empyrical.cum_returns_final(ret['close'])"
   ]
  },
  {
   "cell_type": "code",
   "execution_count": 170,
   "metadata": {},
   "outputs": [
    {
     "data": {
      "text/html": [
       "<div>\n",
       "<style scoped>\n",
       "    .dataframe tbody tr th:only-of-type {\n",
       "        vertical-align: middle;\n",
       "    }\n",
       "\n",
       "    .dataframe tbody tr th {\n",
       "        vertical-align: top;\n",
       "    }\n",
       "\n",
       "    .dataframe thead th {\n",
       "        text-align: right;\n",
       "    }\n",
       "</style>\n",
       "<table border=\"1\" class=\"dataframe\">\n",
       "  <thead>\n",
       "    <tr style=\"text-align: right;\">\n",
       "      <th></th>\n",
       "      <th>名称</th>\n",
       "      <th>收益率</th>\n",
       "    </tr>\n",
       "    <tr>\n",
       "      <th>代码</th>\n",
       "      <th></th>\n",
       "      <th></th>\n",
       "    </tr>\n",
       "  </thead>\n",
       "  <tbody>\n",
       "    <tr>\n",
       "      <th>886029.WI</th>\n",
       "      <td>机场指数</td>\n",
       "      <td>-0.010610</td>\n",
       "    </tr>\n",
       "    <tr>\n",
       "      <th>886025.WI</th>\n",
       "      <td>办公用品指数</td>\n",
       "      <td>-0.064279</td>\n",
       "    </tr>\n",
       "    <tr>\n",
       "      <th>886052.WI</th>\n",
       "      <td>银行指数</td>\n",
       "      <td>-0.101284</td>\n",
       "    </tr>\n",
       "    <tr>\n",
       "      <th>886039.WI</th>\n",
       "      <td>餐饮旅游指数</td>\n",
       "      <td>-0.121321</td>\n",
       "    </tr>\n",
       "    <tr>\n",
       "      <th>886045.WI</th>\n",
       "      <td>农业指数</td>\n",
       "      <td>-0.134207</td>\n",
       "    </tr>\n",
       "  </tbody>\n",
       "</table>\n",
       "</div>"
      ],
      "text/plain": [
       "               名称       收益率\n",
       "代码                         \n",
       "886029.WI    机场指数 -0.010610\n",
       "886025.WI  办公用品指数 -0.064279\n",
       "886052.WI    银行指数 -0.101284\n",
       "886039.WI  餐饮旅游指数 -0.121321\n",
       "886045.WI    农业指数 -0.134207"
      ]
     },
     "execution_count": 170,
     "metadata": {},
     "output_type": "execute_result"
    }
   ],
   "source": [
    "df.sort_values(u'收益率', ascending=False).head()"
   ]
  },
  {
   "cell_type": "code",
   "execution_count": 171,
   "metadata": {
    "collapsed": true
   },
   "outputs": [],
   "source": [
    "df.sort_values(u'收益率', ascending=False).to_excel(u'../data/主题.xlsx')"
   ]
  },
  {
   "cell_type": "markdown",
   "metadata": {},
   "source": [
    "# 概念指数"
   ]
  },
  {
   "cell_type": "code",
   "execution_count": 172,
   "metadata": {
    "collapsed": true
   },
   "outputs": [],
   "source": [
    "df = pd.read_excel(u'D:/Data/list/概念板块.xlsx', index_col=0)"
   ]
  },
  {
   "cell_type": "code",
   "execution_count": 173,
   "metadata": {
    "collapsed": true
   },
   "outputs": [],
   "source": [
    "df[u'收益率'] = 0"
   ]
  },
  {
   "cell_type": "code",
   "execution_count": 174,
   "metadata": {
    "collapsed": true
   },
   "outputs": [],
   "source": [
    "for wind_code in df.index:\n",
    "    fname = '%s/%s.xlsx'%(DATA_DIR, wind_code)\n",
    "    nav = pd.read_excel(fname, index_col=0)\n",
    "#     print fname\n",
    "    ret = nav.pct_change()\n",
    "    ret = ret[(ret.index >= start_date) & (ret.index <= end_date)]\n",
    "    df.loc[wind_code, u'收益率'] = empyrical.cum_returns_final(ret['close'])"
   ]
  },
  {
   "cell_type": "code",
   "execution_count": 175,
   "metadata": {},
   "outputs": [
    {
     "data": {
      "text/html": [
       "<div>\n",
       "<style scoped>\n",
       "    .dataframe tbody tr th:only-of-type {\n",
       "        vertical-align: middle;\n",
       "    }\n",
       "\n",
       "    .dataframe tbody tr th {\n",
       "        vertical-align: top;\n",
       "    }\n",
       "\n",
       "    .dataframe thead th {\n",
       "        text-align: right;\n",
       "    }\n",
       "</style>\n",
       "<table border=\"1\" class=\"dataframe\">\n",
       "  <thead>\n",
       "    <tr style=\"text-align: right;\">\n",
       "      <th></th>\n",
       "      <th>名称</th>\n",
       "      <th>收益率</th>\n",
       "    </tr>\n",
       "    <tr>\n",
       "      <th>代码</th>\n",
       "      <th></th>\n",
       "      <th></th>\n",
       "    </tr>\n",
       "  </thead>\n",
       "  <tbody>\n",
       "    <tr>\n",
       "      <th>884223.WI</th>\n",
       "      <td>小程序指数</td>\n",
       "      <td>0.068813</td>\n",
       "    </tr>\n",
       "    <tr>\n",
       "      <th>884100.WI</th>\n",
       "      <td>新三板指数</td>\n",
       "      <td>-0.046370</td>\n",
       "    </tr>\n",
       "    <tr>\n",
       "      <th>884151.WI</th>\n",
       "      <td>创投指数</td>\n",
       "      <td>-0.072036</td>\n",
       "    </tr>\n",
       "    <tr>\n",
       "      <th>884123.WI</th>\n",
       "      <td>智能IC卡指数</td>\n",
       "      <td>-0.101632</td>\n",
       "    </tr>\n",
       "    <tr>\n",
       "      <th>884252.WI</th>\n",
       "      <td>鸡指数</td>\n",
       "      <td>-0.133099</td>\n",
       "    </tr>\n",
       "  </tbody>\n",
       "</table>\n",
       "</div>"
      ],
      "text/plain": [
       "                名称       收益率\n",
       "代码                          \n",
       "884223.WI    小程序指数  0.068813\n",
       "884100.WI    新三板指数 -0.046370\n",
       "884151.WI     创投指数 -0.072036\n",
       "884123.WI  智能IC卡指数 -0.101632\n",
       "884252.WI      鸡指数 -0.133099"
      ]
     },
     "execution_count": 175,
     "metadata": {},
     "output_type": "execute_result"
    }
   ],
   "source": [
    "df.sort_values(u'收益率', ascending=False).head()"
   ]
  },
  {
   "cell_type": "code",
   "execution_count": 176,
   "metadata": {
    "collapsed": true
   },
   "outputs": [],
   "source": [
    "df.sort_values(u'收益率', ascending=False).to_excel(u'../data/概念.xlsx')"
   ]
  },
  {
   "cell_type": "markdown",
   "metadata": {},
   "source": [
    "# 版块指数"
   ]
  },
  {
   "cell_type": "code",
   "execution_count": 177,
   "metadata": {
    "collapsed": true
   },
   "outputs": [],
   "source": [
    "df = pd.read_excel(u'D:/Data/list/板块指数.xlsx', index_col=0)"
   ]
  },
  {
   "cell_type": "code",
   "execution_count": 178,
   "metadata": {
    "collapsed": true
   },
   "outputs": [],
   "source": [
    "df[u'收益率'] = 0"
   ]
  },
  {
   "cell_type": "code",
   "execution_count": 179,
   "metadata": {
    "collapsed": true
   },
   "outputs": [],
   "source": [
    "for wind_code in df.index:\n",
    "    fname = '%s/%s.xlsx'%(DATA_DIR, wind_code)\n",
    "    nav = pd.read_excel(fname, index_col=0)\n",
    "    ret = nav.pct_change()\n",
    "    ret = ret[(ret.index >= start_date) & (ret.index <= end_date)]\n",
    "    df.loc[wind_code, u'收益率'] = empyrical.cum_returns_final(ret['close'])"
   ]
  },
  {
   "cell_type": "code",
   "execution_count": 180,
   "metadata": {},
   "outputs": [
    {
     "data": {
      "text/html": [
       "<div>\n",
       "<style scoped>\n",
       "    .dataframe tbody tr th:only-of-type {\n",
       "        vertical-align: middle;\n",
       "    }\n",
       "\n",
       "    .dataframe tbody tr th {\n",
       "        vertical-align: top;\n",
       "    }\n",
       "\n",
       "    .dataframe thead th {\n",
       "        text-align: right;\n",
       "    }\n",
       "</style>\n",
       "<table border=\"1\" class=\"dataframe\">\n",
       "  <thead>\n",
       "    <tr style=\"text-align: right;\">\n",
       "      <th></th>\n",
       "      <th>名称</th>\n",
       "      <th>收益率</th>\n",
       "    </tr>\n",
       "    <tr>\n",
       "      <th>代码</th>\n",
       "      <th></th>\n",
       "      <th></th>\n",
       "    </tr>\n",
       "  </thead>\n",
       "  <tbody>\n",
       "    <tr>\n",
       "      <th>000016.SH</th>\n",
       "      <td>上证50</td>\n",
       "      <td>-0.190806</td>\n",
       "    </tr>\n",
       "    <tr>\n",
       "      <th>000903.SH</th>\n",
       "      <td>中证100</td>\n",
       "      <td>-0.212737</td>\n",
       "    </tr>\n",
       "    <tr>\n",
       "      <th>000001.SH</th>\n",
       "      <td>上证综指</td>\n",
       "      <td>-0.239571</td>\n",
       "    </tr>\n",
       "    <tr>\n",
       "      <th>000300.SH</th>\n",
       "      <td>沪深300</td>\n",
       "      <td>-0.246841</td>\n",
       "    </tr>\n",
       "    <tr>\n",
       "      <th>000906.SH</th>\n",
       "      <td>中证800</td>\n",
       "      <td>-0.267416</td>\n",
       "    </tr>\n",
       "    <tr>\n",
       "      <th>881001.WI</th>\n",
       "      <td>万得全A</td>\n",
       "      <td>-0.274268</td>\n",
       "    </tr>\n",
       "    <tr>\n",
       "      <th>399102.SZ</th>\n",
       "      <td>创业板综</td>\n",
       "      <td>-0.306287</td>\n",
       "    </tr>\n",
       "    <tr>\n",
       "      <th>000905.SH</th>\n",
       "      <td>中证500</td>\n",
       "      <td>-0.326348</td>\n",
       "    </tr>\n",
       "    <tr>\n",
       "      <th>399106.SZ</th>\n",
       "      <td>深证综指</td>\n",
       "      <td>-0.326352</td>\n",
       "    </tr>\n",
       "    <tr>\n",
       "      <th>399101.SZ</th>\n",
       "      <td>中小板综</td>\n",
       "      <td>-0.348481</td>\n",
       "    </tr>\n",
       "    <tr>\n",
       "      <th>000852.SH</th>\n",
       "      <td>中证1000</td>\n",
       "      <td>-0.359033</td>\n",
       "    </tr>\n",
       "  </tbody>\n",
       "</table>\n",
       "</div>"
      ],
      "text/plain": [
       "               名称       收益率\n",
       "代码                         \n",
       "000016.SH    上证50 -0.190806\n",
       "000903.SH   中证100 -0.212737\n",
       "000001.SH    上证综指 -0.239571\n",
       "000300.SH   沪深300 -0.246841\n",
       "000906.SH   中证800 -0.267416\n",
       "881001.WI    万得全A -0.274268\n",
       "399102.SZ    创业板综 -0.306287\n",
       "000905.SH   中证500 -0.326348\n",
       "399106.SZ    深证综指 -0.326352\n",
       "399101.SZ    中小板综 -0.348481\n",
       "000852.SH  中证1000 -0.359033"
      ]
     },
     "execution_count": 180,
     "metadata": {},
     "output_type": "execute_result"
    }
   ],
   "source": [
    "df.sort_values(u'收益率', ascending=False)"
   ]
  },
  {
   "cell_type": "code",
   "execution_count": 181,
   "metadata": {
    "collapsed": true
   },
   "outputs": [],
   "source": [
    "df.sort_values(u'收益率', ascending=False).to_excel(u'../data/板块.xlsx')"
   ]
  },
  {
   "cell_type": "markdown",
   "metadata": {},
   "source": [
    "# 基金公司排名"
   ]
  },
  {
   "cell_type": "code",
   "execution_count": 182,
   "metadata": {
    "collapsed": true
   },
   "outputs": [],
   "source": [
    "nav_fname = u'D:/workspace/data/FOF/comp_ret.xlsx'\n",
    "df = pd.read_excel(nav_fname)\n",
    "fund_comp = pd.read_excel(u'D:/Data/list/基金公司.xlsx')\n",
    "df = df[fund_comp[u'名称']]\n",
    "df.columns = [col.replace(u'基金管理有限公司', '').replace(u'基金管理股份', '').replace(u'基金管理有限责任', '').replace(u'有限公司', '').replace(u'公司', '')\n",
    "              for col in df.columns]"
   ]
  },
  {
   "cell_type": "code",
   "execution_count": 183,
   "metadata": {
    "collapsed": true
   },
   "outputs": [],
   "source": [
    "ret_df = pd.DataFrame({u'名称': df.columns, \n",
    "                       u'WTD': 0,\n",
    "                       u'MTD': 0,\n",
    "                       u'YTD': 0}, index=df.columns)"
   ]
  },
  {
   "cell_type": "markdown",
   "metadata": {},
   "source": [
    "### 近一周收益率"
   ]
  },
  {
   "cell_type": "code",
   "execution_count": 184,
   "metadata": {
    "collapsed": true
   },
   "outputs": [],
   "source": [
    "week_df = df[(df.index >= start_date) & (df.index <= end_date)]"
   ]
  },
  {
   "cell_type": "code",
   "execution_count": 185,
   "metadata": {
    "collapsed": true
   },
   "outputs": [],
   "source": [
    "for col in df.columns:\n",
    "    ret_df.loc[col, u'WTD'] = empyrical.cum_returns_final(week_df[col])"
   ]
  },
  {
   "cell_type": "markdown",
   "metadata": {},
   "source": [
    "### 近一月收益率"
   ]
  },
  {
   "cell_type": "code",
   "execution_count": 186,
   "metadata": {},
   "outputs": [],
   "source": [
    "month_df = df[(df.index >= '-'.join(start_date.split('-')[:2]) + '-01') & (df.index <= end_date)]"
   ]
  },
  {
   "cell_type": "code",
   "execution_count": 187,
   "metadata": {},
   "outputs": [],
   "source": [
    "for col in df.columns:\n",
    "    ret_df.loc[col, u'MTD'] = empyrical.cum_returns_final(month_df[col])"
   ]
  },
  {
   "cell_type": "markdown",
   "metadata": {},
   "source": [
    "### 近一年收益率"
   ]
  },
  {
   "cell_type": "code",
   "execution_count": 188,
   "metadata": {},
   "outputs": [],
   "source": [
    "year_df = df[(df.index >= start_date.split('-')[0] + '-01-01') & (df.index <= end_date)]"
   ]
  },
  {
   "cell_type": "code",
   "execution_count": 189,
   "metadata": {},
   "outputs": [],
   "source": [
    "for col in df.columns:\n",
    "    ret_df.loc[col, u'YTD'] = empyrical.cum_returns_final(year_df[col])"
   ]
  },
  {
   "cell_type": "code",
   "execution_count": 190,
   "metadata": {},
   "outputs": [
    {
     "data": {
      "text/html": [
       "<div>\n",
       "<style scoped>\n",
       "    .dataframe tbody tr th:only-of-type {\n",
       "        vertical-align: middle;\n",
       "    }\n",
       "\n",
       "    .dataframe tbody tr th {\n",
       "        vertical-align: top;\n",
       "    }\n",
       "\n",
       "    .dataframe thead th {\n",
       "        text-align: right;\n",
       "    }\n",
       "</style>\n",
       "<table border=\"1\" class=\"dataframe\">\n",
       "  <thead>\n",
       "    <tr style=\"text-align: right;\">\n",
       "      <th></th>\n",
       "      <th>MTD</th>\n",
       "      <th>WTD</th>\n",
       "      <th>YTD</th>\n",
       "      <th>名称</th>\n",
       "    </tr>\n",
       "  </thead>\n",
       "  <tbody>\n",
       "    <tr>\n",
       "      <th>交银施罗德</th>\n",
       "      <td>-0.178469</td>\n",
       "      <td>-0.178469</td>\n",
       "      <td>-0.178469</td>\n",
       "      <td>交银施罗德</td>\n",
       "    </tr>\n",
       "    <tr>\n",
       "      <th>诺安</th>\n",
       "      <td>-0.194221</td>\n",
       "      <td>-0.194221</td>\n",
       "      <td>-0.194221</td>\n",
       "      <td>诺安</td>\n",
       "    </tr>\n",
       "    <tr>\n",
       "      <th>兴业</th>\n",
       "      <td>-0.197973</td>\n",
       "      <td>-0.197973</td>\n",
       "      <td>-0.197973</td>\n",
       "      <td>兴业</td>\n",
       "    </tr>\n",
       "    <tr>\n",
       "      <th>民生加银</th>\n",
       "      <td>-0.202547</td>\n",
       "      <td>-0.202547</td>\n",
       "      <td>-0.202547</td>\n",
       "      <td>民生加银</td>\n",
       "    </tr>\n",
       "    <tr>\n",
       "      <th>华夏</th>\n",
       "      <td>-0.207460</td>\n",
       "      <td>-0.207460</td>\n",
       "      <td>-0.207460</td>\n",
       "      <td>华夏</td>\n",
       "    </tr>\n",
       "  </tbody>\n",
       "</table>\n",
       "</div>"
      ],
      "text/plain": [
       "            MTD       WTD       YTD     名称\n",
       "交银施罗德 -0.178469 -0.178469 -0.178469  交银施罗德\n",
       "诺安    -0.194221 -0.194221 -0.194221     诺安\n",
       "兴业    -0.197973 -0.197973 -0.197973     兴业\n",
       "民生加银  -0.202547 -0.202547 -0.202547   民生加银\n",
       "华夏    -0.207460 -0.207460 -0.207460     华夏"
      ]
     },
     "execution_count": 190,
     "metadata": {},
     "output_type": "execute_result"
    }
   ],
   "source": [
    "ret_df.sort_values(u'WTD', ascending=False).head()"
   ]
  },
  {
   "cell_type": "code",
   "execution_count": 191,
   "metadata": {
    "collapsed": true
   },
   "outputs": [],
   "source": [
    "ret_df.sort_values(u'WTD', ascending=False).to_excel(u'../data/基金公司.xlsx')"
   ]
  },
  {
   "cell_type": "markdown",
   "metadata": {},
   "source": [
    "# 基金公司与主题指数相关性"
   ]
  },
  {
   "cell_type": "code",
   "execution_count": 192,
   "metadata": {
    "collapsed": true
   },
   "outputs": [],
   "source": [
    "nav_fname = u'D:/workspace/data/FOF/comp_ret.xlsx'\n",
    "df = pd.read_excel(nav_fname)\n",
    "fund_comp = pd.read_excel(u'D:/Data/list/基金公司.xlsx')\n",
    "df = df[fund_comp[u'名称']]\n",
    "df.columns = [col.replace(u'基金管理有限公司', '').replace(u'基金管理股份', '').replace(u'基金管理有限责任', '').replace(u'有限公司', '').replace(u'公司', '') \n",
    "              for col in df.columns]"
   ]
  },
  {
   "cell_type": "code",
   "execution_count": 193,
   "metadata": {
    "collapsed": true
   },
   "outputs": [],
   "source": [
    "fund_comp = pd.read_excel(u'../data/基金公司.xlsx')\n",
    "df = df[fund_comp[u'名称']]"
   ]
  },
  {
   "cell_type": "code",
   "execution_count": 194,
   "metadata": {
    "collapsed": true
   },
   "outputs": [],
   "source": [
    "df = df[(df.index >= start_date) & (df.index <= end_date)]"
   ]
  },
  {
   "cell_type": "code",
   "execution_count": 195,
   "metadata": {
    "collapsed": true
   },
   "outputs": [],
   "source": [
    "theme = pd.read_excel(u'../data/主题.xlsx', index_col=0)"
   ]
  },
  {
   "cell_type": "code",
   "execution_count": 196,
   "metadata": {
    "collapsed": true
   },
   "outputs": [],
   "source": [
    "cor_df = pd.DataFrame(index=theme[u'名称'], columns=df.columns)"
   ]
  },
  {
   "cell_type": "code",
   "execution_count": 197,
   "metadata": {},
   "outputs": [
    {
     "name": "stdout",
     "output_type": "stream",
     "text": [
      "机场指数\n",
      "办公用品指数\n",
      "银行指数\n",
      "餐饮旅游指数\n",
      "农业指数\n",
      "电力指数\n",
      "券商指数\n",
      "工程机械指数\n",
      "食品指数\n",
      "软件指数\n",
      "石油天然气指数\n",
      "商业服务指数\n",
      "保险指数\n",
      "贵金属指数\n",
      "公路指数\n",
      "包装指数\n",
      "陆路运输指数\n",
      "燃气指数\n",
      "酒类指数\n",
      "电脑硬件指数\n",
      "航天军工指数\n",
      "化纤指数\n",
      "医疗保健指数\n",
      "重型机械指数\n",
      "房地产指数\n",
      "建筑指数\n",
      "软饮料指数\n",
      "石油化工指数\n",
      "制药指数\n",
      "生物科技指数\n",
      "能源设备指数\n",
      "钢铁指数\n",
      "建材指数\n",
      "煤炭指数\n",
      "水务指数\n",
      "精细化工指数\n",
      "电工电网指数\n",
      "零售指数\n",
      "家用电器指数\n",
      "港口指数\n",
      "化肥农药指数\n",
      "通信设备指数\n",
      "海运指数\n",
      "电信指数\n",
      "多元金融指数\n",
      "贸易指数\n",
      "日用化工指数\n",
      "汽车指数\n",
      "汽车零部件指数\n",
      "纺织服装指数\n",
      "工业机械指数\n",
      "化工原料指数\n",
      "半导体指数\n",
      "综合类指数\n",
      "造纸指数\n",
      "航空指数\n",
      "电子元器件指数\n",
      "互联网指数\n",
      "摩托车指数\n",
      "文化传媒指数\n",
      "休闲用品指数\n",
      "教育指数\n",
      "林木指数\n",
      "基本金属指数\n",
      "家居用品指数\n",
      "发电设备指数\n",
      "环保指数\n"
     ]
    }
   ],
   "source": [
    "for wind_code in theme.index:\n",
    "    fname = '%s/%s.xlsx'%(DATA_DIR, wind_code)\n",
    "    nav = pd.read_excel(fname, index_col=0)\n",
    "    ret = nav.pct_change()\n",
    "    ret = ret[(ret.index >= start_date) & (ret.index <= end_date)]['close']\n",
    "    for col in df.columns:\n",
    "        series = df[col]\n",
    "        cor_df.loc[theme.loc[wind_code, u'名称'], col] = (1+ret).cumprod().corr((1+series).cumprod())\n",
    "    print theme.loc[wind_code, u'名称']"
   ]
  },
  {
   "cell_type": "code",
   "execution_count": 198,
   "metadata": {
    "collapsed": true
   },
   "outputs": [],
   "source": [
    "cor_df.to_excel(u'../data/基金公司-主题.xlsx')"
   ]
  },
  {
   "cell_type": "code",
   "execution_count": 199,
   "metadata": {
    "collapsed": true
   },
   "outputs": [],
   "source": [
    "beta_df = pd.DataFrame(index=theme[u'名称'], columns=df.columns)"
   ]
  },
  {
   "cell_type": "code",
   "execution_count": 200,
   "metadata": {},
   "outputs": [
    {
     "name": "stdout",
     "output_type": "stream",
     "text": [
      "机场指数\n",
      "办公用品指数\n",
      "银行指数\n",
      "餐饮旅游指数\n",
      "农业指数\n",
      "电力指数\n",
      "券商指数\n",
      "工程机械指数\n",
      "食品指数\n",
      "软件指数\n",
      "石油天然气指数\n",
      "商业服务指数\n",
      "保险指数\n",
      "贵金属指数\n",
      "公路指数\n",
      "包装指数\n",
      "陆路运输指数\n",
      "燃气指数\n",
      "酒类指数\n",
      "电脑硬件指数\n",
      "航天军工指数\n",
      "化纤指数\n",
      "医疗保健指数\n",
      "重型机械指数\n",
      "房地产指数\n",
      "建筑指数\n",
      "软饮料指数\n",
      "石油化工指数\n",
      "制药指数\n",
      "生物科技指数\n",
      "能源设备指数\n",
      "钢铁指数\n",
      "建材指数\n",
      "煤炭指数\n",
      "水务指数\n",
      "精细化工指数\n",
      "电工电网指数\n",
      "零售指数\n",
      "家用电器指数\n",
      "港口指数\n",
      "化肥农药指数\n",
      "通信设备指数\n",
      "海运指数\n",
      "电信指数\n",
      "多元金融指数\n",
      "贸易指数\n",
      "日用化工指数\n",
      "汽车指数\n",
      "汽车零部件指数\n",
      "纺织服装指数\n",
      "工业机械指数\n",
      "化工原料指数\n",
      "半导体指数\n",
      "综合类指数\n",
      "造纸指数\n",
      "航空指数\n",
      "电子元器件指数\n",
      "互联网指数\n",
      "摩托车指数\n",
      "文化传媒指数\n",
      "休闲用品指数\n",
      "教育指数\n",
      "林木指数\n",
      "基本金属指数\n",
      "家居用品指数\n",
      "发电设备指数\n",
      "环保指数\n"
     ]
    }
   ],
   "source": [
    "for wind_code in theme.index:\n",
    "    fname = '%s/%s.xlsx'%(DATA_DIR, wind_code)\n",
    "    nav = pd.read_excel(fname, index_col=0)\n",
    "    ret = nav.pct_change()\n",
    "    ret = ret[(ret.index >= start_date) & (ret.index <= end_date)]['close']\n",
    "    for col in df.columns:\n",
    "        series = df[col]\n",
    "        beta_df.loc[theme.loc[wind_code, u'名称'], col] = empyrical.beta(series, ret)\n",
    "    print theme.loc[wind_code, u'名称']"
   ]
  },
  {
   "cell_type": "code",
   "execution_count": 201,
   "metadata": {
    "collapsed": true
   },
   "outputs": [],
   "source": [
    "beta_df.to_excel(u'../data/基金公司-主题-beta.xlsx')"
   ]
  },
  {
   "cell_type": "markdown",
   "metadata": {},
   "source": [
    "# 基金公司与概念指数相关性"
   ]
  },
  {
   "cell_type": "code",
   "execution_count": 202,
   "metadata": {
    "collapsed": true
   },
   "outputs": [],
   "source": [
    "nav_fname = u'D:/workspace/data/FOF/comp_ret.xlsx'\n",
    "df = pd.read_excel(nav_fname)\n",
    "fund_comp = pd.read_excel(u'D:/Data/list/基金公司.xlsx')\n",
    "df = df[fund_comp[u'名称']]\n",
    "df.columns = [col.replace(u'基金管理有限公司', '').replace(u'基金管理股份', '').replace(u'基金管理有限责任', '').replace(u'有限公司', '').replace(u'公司', '')\n",
    "              for col in df.columns]"
   ]
  },
  {
   "cell_type": "code",
   "execution_count": 203,
   "metadata": {
    "collapsed": true
   },
   "outputs": [],
   "source": [
    "fund_comp = pd.read_excel(u'../data/基金公司.xlsx')\n",
    "df = df[fund_comp[u'名称']]"
   ]
  },
  {
   "cell_type": "code",
   "execution_count": 204,
   "metadata": {
    "collapsed": true
   },
   "outputs": [],
   "source": [
    "df = df[(df.index >= start_date) & (df.index <= end_date)]"
   ]
  },
  {
   "cell_type": "code",
   "execution_count": 205,
   "metadata": {
    "collapsed": true
   },
   "outputs": [],
   "source": [
    "concept = pd.read_excel(u'../data/概念.xlsx', index_col=0)"
   ]
  },
  {
   "cell_type": "code",
   "execution_count": 206,
   "metadata": {
    "collapsed": true
   },
   "outputs": [],
   "source": [
    "cor_df = pd.DataFrame(index=concept[u'名称'], columns=df.columns)"
   ]
  },
  {
   "cell_type": "code",
   "execution_count": null,
   "metadata": {},
   "outputs": [
    {
     "name": "stdout",
     "output_type": "stream",
     "text": [
      "小程序指数\n",
      "新三板指数\n",
      "创投指数\n",
      "智能IC卡指数\n",
      "鸡指数\n",
      "沪股通50指数\n",
      "4G指数\n",
      "去IOE指数\n",
      "最小市值指数\n",
      "猪指数\n",
      "煤电重组指数\n",
      "网络安全指数\n",
      "超级电容指数\n",
      "染料指数\n",
      "网络彩票指数\n",
      "IPV6指数\n",
      "证金概念指数\n",
      "大央企重组指数\n",
      "云计算指数\n",
      "卫星导航指数\n",
      "5G指数\n",
      "征信指数\n",
      "国家队指数\n",
      "粤港澳自贸区指数\n",
      "民营银行指数\n",
      "福建自贸区指数\n",
      "MSCI概念指数\n",
      "智能电网指数\n",
      "移动转售指数\n",
      "国资改革指数\n",
      "上海自贸区指数\n",
      "人工智能指数\n",
      "食品安全指数\n",
      "上海国资改革指数\n"
     ]
    }
   ],
   "source": [
    "for wind_code in concept.index:\n",
    "    fname = '%s/%s.xlsx'%(DATA_DIR, wind_code)\n",
    "    nav = pd.read_excel(fname, index_col=0)\n",
    "    ret = nav.pct_change()\n",
    "    ret = ret[(ret.index >= start_date) & (ret.index <= end_date)]['close']\n",
    "    for col in df.columns:\n",
    "        series = df[col]\n",
    "        cor_df.loc[concept.loc[wind_code, u'名称'], col] = (1+ret).cumprod().corr((1+series).cumprod())\n",
    "    print concept.loc[wind_code, u'名称']"
   ]
  },
  {
   "cell_type": "code",
   "execution_count": null,
   "metadata": {
    "collapsed": true
   },
   "outputs": [],
   "source": [
    "cor_df.to_excel(u'../data/基金公司-概念.xlsx')"
   ]
  },
  {
   "cell_type": "code",
   "execution_count": null,
   "metadata": {
    "collapsed": true
   },
   "outputs": [],
   "source": [
    "beta_df = pd.DataFrame(index=concept[u'名称'], columns=df.columns)"
   ]
  },
  {
   "cell_type": "code",
   "execution_count": null,
   "metadata": {},
   "outputs": [],
   "source": [
    "for wind_code in concept.index:\n",
    "    fname = '%s/%s.xlsx'%(DATA_DIR, wind_code)\n",
    "    nav = pd.read_excel(fname, index_col=0)\n",
    "    ret = nav.pct_change()\n",
    "    ret = ret[(ret.index >= start_date) & (ret.index <= end_date)]['close']\n",
    "    for col in df.columns:\n",
    "        series = df[col]\n",
    "        beta_df.loc[concept.loc[wind_code, u'名称'], col] = empyrical.beta(series, ret)\n",
    "    print concept.loc[wind_code, u'名称']"
   ]
  },
  {
   "cell_type": "code",
   "execution_count": null,
   "metadata": {
    "collapsed": true
   },
   "outputs": [],
   "source": [
    "beta_df.to_excel(u'../data/基金公司-概念-beta.xlsx')"
   ]
  },
  {
   "cell_type": "markdown",
   "metadata": {},
   "source": [
    "# 基金公司与板块指数相关性"
   ]
  },
  {
   "cell_type": "code",
   "execution_count": null,
   "metadata": {
    "collapsed": true
   },
   "outputs": [],
   "source": [
    "nav_fname = u'D:/workspace/data/FOF/comp_ret.xlsx'\n",
    "df = pd.read_excel(nav_fname)\n",
    "fund_comp = pd.read_excel(u'D:/Data/list/基金公司.xlsx')\n",
    "df = df[fund_comp[u'名称']]\n",
    "df.columns = [col.replace(u'基金管理有限公司', '').replace(u'基金管理股份', '').replace(u'基金管理有限责任', '').replace(u'有限公司', '').replace(u'公司', '')\n",
    "              for col in df.columns]"
   ]
  },
  {
   "cell_type": "code",
   "execution_count": null,
   "metadata": {
    "collapsed": true
   },
   "outputs": [],
   "source": [
    "fund_comp = pd.read_excel(u'../data/基金公司.xlsx')\n",
    "df = df[fund_comp[u'名称']]"
   ]
  },
  {
   "cell_type": "code",
   "execution_count": null,
   "metadata": {
    "collapsed": true
   },
   "outputs": [],
   "source": [
    "df = df[(df.index >= start_date) & (df.index <= end_date)]"
   ]
  },
  {
   "cell_type": "code",
   "execution_count": null,
   "metadata": {
    "collapsed": true
   },
   "outputs": [],
   "source": [
    "sector = pd.read_excel(u'../data/板块.xlsx', index_col=0)"
   ]
  },
  {
   "cell_type": "code",
   "execution_count": null,
   "metadata": {
    "collapsed": true
   },
   "outputs": [],
   "source": [
    "cor_df = pd.DataFrame(index=sector[u'名称'], columns=df.columns)"
   ]
  },
  {
   "cell_type": "code",
   "execution_count": null,
   "metadata": {},
   "outputs": [],
   "source": [
    "for wind_code in sector.index:\n",
    "    fname = '%s/%s.xlsx'%(DATA_DIR, wind_code)\n",
    "    nav = pd.read_excel(fname, index_col=0)\n",
    "    ret = nav.pct_change()\n",
    "    ret = ret[(ret.index >= start_date) & (ret.index <= end_date)]['close']\n",
    "    for col in df.columns:\n",
    "        series = df[col]\n",
    "        cor_df.loc[sector.loc[wind_code, u'名称'], col] = (1+ret).cumprod().corr((1+series).cumprod())\n",
    "    print sector.loc[wind_code, u'名称']"
   ]
  },
  {
   "cell_type": "code",
   "execution_count": null,
   "metadata": {
    "collapsed": true
   },
   "outputs": [],
   "source": [
    "cor_df.to_excel(u'../data/基金公司-板块.xlsx')"
   ]
  },
  {
   "cell_type": "code",
   "execution_count": null,
   "metadata": {
    "collapsed": true
   },
   "outputs": [],
   "source": [
    "beta_df = pd.DataFrame(index=sector[u'名称'], columns=df.columns)"
   ]
  },
  {
   "cell_type": "code",
   "execution_count": null,
   "metadata": {},
   "outputs": [],
   "source": [
    "for wind_code in sector.index:\n",
    "    fname = '%s/%s.xlsx'%(DATA_DIR, wind_code)\n",
    "    nav = pd.read_excel(fname, index_col=0)\n",
    "    ret = nav.pct_change()\n",
    "    ret = ret[(ret.index >= start_date) & (ret.index <= end_date)]['close']\n",
    "    for col in df.columns:\n",
    "        series = df[col]\n",
    "        beta_df.loc[sector.loc[wind_code, u'名称'], col] = empyrical.beta(series, ret)\n",
    "    print sector.loc[wind_code, u'名称']"
   ]
  },
  {
   "cell_type": "code",
   "execution_count": null,
   "metadata": {
    "collapsed": true
   },
   "outputs": [],
   "source": [
    "beta_df.to_excel(u'../data/基金公司-板块-beta.xlsx')"
   ]
  },
  {
   "cell_type": "code",
   "execution_count": null,
   "metadata": {
    "collapsed": true
   },
   "outputs": [],
   "source": []
  },
  {
   "cell_type": "code",
   "execution_count": null,
   "metadata": {
    "collapsed": true
   },
   "outputs": [],
   "source": []
  },
  {
   "cell_type": "code",
   "execution_count": null,
   "metadata": {},
   "outputs": [],
   "source": []
  }
 ],
 "metadata": {
  "anaconda-cloud": {},
  "kernelspec": {
   "display_name": "Python 2",
   "language": "python",
   "name": "python2"
  },
  "language_info": {
   "codemirror_mode": {
    "name": "ipython",
    "version": 2
   },
   "file_extension": ".py",
   "mimetype": "text/x-python",
   "name": "python",
   "nbconvert_exporter": "python",
   "pygments_lexer": "ipython2",
   "version": "2.7.14"
  }
 },
 "nbformat": 4,
 "nbformat_minor": 2
}
